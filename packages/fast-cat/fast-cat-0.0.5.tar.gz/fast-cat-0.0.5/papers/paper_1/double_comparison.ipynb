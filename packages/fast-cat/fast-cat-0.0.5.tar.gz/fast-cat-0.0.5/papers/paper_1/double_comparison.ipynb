{
 "cells": [
  {
   "cell_type": "code",
   "execution_count": 4,
   "id": "every-banks",
   "metadata": {},
   "outputs": [
    {
     "name": "stdout",
     "output_type": "stream",
     "text": [
      "Populating the interactive namespace from numpy and matplotlib\n",
      "The autoreload extension is already loaded. To reload it, use:\n",
      "  %reload_ext autoreload\n",
      "The memory_profiler extension is already loaded. To reload it, use:\n",
      "  %reload_ext memory_profiler\n"
     ]
    }
   ],
   "source": [
    "%pylab widget\n",
    "%load_ext autoreload\n",
    "%autoreload 2\n",
    "%load_ext memory_profiler"
   ]
  },
  {
   "cell_type": "code",
   "execution_count": 5,
   "id": "relevant-identity",
   "metadata": {},
   "outputs": [],
   "source": [
    "import fastcat.fastcat as fc\n",
    "from glob import glob"
   ]
  },
  {
   "cell_type": "markdown",
   "id": "unlike-award",
   "metadata": {},
   "source": [
    "## First I'll look at the detector MTF"
   ]
  },
  {
   "cell_type": "markdown",
   "id": "following-cleveland",
   "metadata": {},
   "source": [
    "### I'll load all of the kernels "
   ]
  },
  {
   "cell_type": "code",
   "execution_count": 61,
   "id": "occupational-unemployment",
   "metadata": {},
   "outputs": [
    {
     "data": {
      "text/plain": [
       "['../../fastcat/data/Detectors/CWO-261-micrometer',\n",
       " '../../fastcat/data/Detectors/CWO-392-micrometer',\n",
       " '../../fastcat/data/Detectors/CWO-784-micrometer',\n",
       " '../../fastcat/data/Detectors/CsI-010-micrometer',\n",
       " '../../fastcat/data/Detectors/CsI-150-micrometer',\n",
       " '../../fastcat/data/Detectors/CsI-336-micrometer',\n",
       " '../../fastcat/data/Detectors/CsI-392-micrometer',\n",
       " '../../fastcat/data/Detectors/CsI-784-micrometer',\n",
       " '../../fastcat/data/Detectors/CuGOS-336-micrometer',\n",
       " '../../fastcat/data/Detectors/CuGOS-392-micrometer',\n",
       " '../../fastcat/data/Detectors/CuGOS-784-micrometer']"
      ]
     },
     "execution_count": 61,
     "metadata": {},
     "output_type": "execute_result"
    }
   ],
   "source": [
    "sorted(MV_detectors)"
   ]
  },
  {
   "cell_type": "code",
   "execution_count": 6,
   "id": "outstanding-response",
   "metadata": {},
   "outputs": [],
   "source": [
    "spectra = glob('../../fastcat/data/MV_spectra/*.txt')\n",
    "phantoms = ['XCAT','XCAT2','Catphan_515','Catphan_MTF']\n",
    "MV_detectors = glob('../../fastcat/data/Detectors/*')\n",
    "\n",
    "dispatcher={'Catphan_515':fc.Catphan_515,\n",
    "            'XCAT':fc.XCAT2,\n",
    "            'XCAT2':fc.XCAT,\n",
    "            'Catphan_MTF':fc.Catphan_MTF}"
   ]
  },
  {
   "cell_type": "code",
   "execution_count": null,
   "id": "cooked-screen",
   "metadata": {},
   "outputs": [],
   "source": [
    "s."
   ]
  },
  {
   "cell_type": "code",
   "execution_count": 91,
   "id": "short-geometry",
   "metadata": {},
   "outputs": [
    {
     "name": "stdout",
     "output_type": "stream",
     "text": [
      "Varian_truebeam ../../fastcat/data/Detectors/CWO-784-micrometer\n",
      "(17, 25, 25) 17\n",
      "bowtie is off False\n",
      "This is a small edep file starting at 30\n",
      "really doing it!\n",
      "ratio is 96.70311643102683 number of photons 0.5881372951356504\n",
      "Varian_truebeam ../../fastcat/data/Detectors/CuGOS-784-micrometer\n",
      "(19, 41, 41) 19\n",
      "bowtie is off False\n",
      "really doing it!\n",
      "ratio is 91.8386393491385 number of photons 0.02636808212587352\n"
     ]
    }
   ],
   "source": [
    "s = fc.Spectrum()\n",
    "\n",
    "contrasts = []\n",
    "mtfs = []\n",
    "label = []\n",
    "\n",
    "nviews = 487\n",
    "\n",
    "for phan in phantoms[:1]:\n",
    "    phantom = dispatcher[phan]()\n",
    "    for jj in [-1]:\n",
    "        for kk in [2,-1]:\n",
    "            spectrum = 'Varian_truebeam' #sorted(spectra)[jj]\n",
    "            det = sorted(MV_detectors)[kk]\n",
    "            print(spectrum, det)\n",
    "            if jj == 1:\n",
    "                s = fc.calculate_spectrum(80, 14, 3, 50)\n",
    "                s.attenuate(2.2,fc.get_mu(z=13))\n",
    "#             if jj == 2:\n",
    "#                 s = fc.calculate_spectrum(100, 14, 3, 50)\n",
    "#                 s.attenuate(2.2,fc.get_mu(z=13))\n",
    "#             if jj == 3:\n",
    "#                 s = fc.calculate_spectrum(120, 14, 3, 50)\n",
    "#                 s.attenuate(2.2,fc.get_mu(z=2))\n",
    "            else:\n",
    "                s.load(spectrum.split('/')[-1].split('.')[0])\n",
    "                \n",
    "            kernel = fc.Kernel(s, det.split('/')[-1].split('.')[0])\n",
    "            angles = np.linspace(0,np.pi*2,nviews)#480)        \n",
    "\n",
    "            phantom.return_projs(kernel,s,angles,det_on=True,scat_on=True,mgy=18/nviews)\n",
    "            phantom.reconstruct('FDK')\n",
    "#             phantom.reconstruct('CGLS')\n",
    "            contrasts.append(phantom.img.T)\n",
    "            label.append([phan,spectrum,det])\n",
    "            \n",
    "#             break\n",
    "#         break\n",
    "#     break\n",
    "    "
   ]
  },
  {
   "cell_type": "code",
   "execution_count": 105,
   "id": "bright-title",
   "metadata": {},
   "outputs": [
    {
     "data": {
      "application/vnd.jupyter.widget-view+json": {
       "model_id": "2e7351e5c4e8435391f107c6afa29691",
       "version_major": 2,
       "version_minor": 0
      },
      "text/plain": [
       "Canvas(toolbar=Toolbar(toolitems=[('Home', 'Reset original view', 'home', 'home'), ('Back', 'Back to previous …"
      ]
     },
     "metadata": {},
     "output_type": "display_data"
    }
   ],
   "source": [
    "plt.figure(figsize=[8,4],dpi=300)\n",
    "import matplotlib.patches as mpatches\n",
    "# scans = glob('XCATs/scan*')\n",
    "index = 7\n",
    "\n",
    "small_titles = ['6 MV CWO','6 MV GOS']\n",
    "alph = ['(a)','(b)','(c)','(d)','(e)','(f)']\n",
    "\n",
    "h,w = np.rot90(contrasts[0][:,:,index],3)[270:-310,320:-320].shape\n",
    "\n",
    "X, Y = np.ogrid[:h, :w]\n",
    "x, y = h//2,w//2\n",
    "\n",
    "center = [x,y]\n",
    "\n",
    "dist = np.sqrt((X - center[0])**2 + (Y-center[1])**2)\n",
    "\n",
    "values = [0.00708,0.008,0.01]\n",
    "labs = ['Body','Muscle','Skull']\n",
    "\n",
    "for ii, sc in enumerate(contrasts):\n",
    "    \n",
    "    plt.subplot(1,2,ii+1)\n",
    "    plt.title(small_titles[ii])#scan.split('/')[-1].split('.')[0].split('scan_')[1])\n",
    "\n",
    "    if ii == 10:\n",
    "        im = np.fliplr(np.load('../../XCAT_phantom/head_gt.npy'))\n",
    "        plt.imshow(im,cmap='gray')\n",
    "        plt.text(-70,-20,alph[ii],color='cornflowerblue',fontsize=14)\n",
    "        \n",
    "        ax = plt.gca()\n",
    "        axins = ax.inset_axes([0.65, -0.25, 0.7, 0.9])\n",
    "\n",
    "        im2 = axins.imshow(im,cmap='gray')\n",
    "        x1, x2, y1, y2 = 60, 140, 110, 80\n",
    "        axins.set_xlim(x1, x2)\n",
    "        axins.set_ylim(y1, y2)\n",
    "        axins.set_xticklabels('')\n",
    "\n",
    "        axins.set_xticks([])\n",
    "        axins.set_yticks([])\n",
    "\n",
    "        ax.indicate_inset_zoom(axins,ec='red')\n",
    "        plt.axis('off')\n",
    "        \n",
    "        # get the colors of the values, according to the \n",
    "        # colormap used by imshow\n",
    "        colors = [ im2.cmap(im2.norm(value)) for value in values]\n",
    "        # create a patch (proxy artist) for every color \n",
    "        patches = [ mpatches.Patch(color=colors[i], label=\"{l}\".format(l=labs[i]) ) for i in range(len(values)) ]\n",
    "        # put those patched as legend-handles into the legend\n",
    "        plt.legend(handles=patches, bbox_to_anchor=(0.65, 1), loc=2, borderaxespad=0. )\n",
    "    else:\n",
    "    \n",
    "        mm = np.mean(sc[375:390,395:420,index])\n",
    "        mm_air = np.mean(sc[-200:,-200:,index])\n",
    "\n",
    "        im_HU = (sc[:,:,index] - mm)/(mm_air - mm)*-1000\n",
    "\n",
    "        im = np.rot90(im_HU,3)[230:-250,250:-250]#[270:-310,320:-320]\n",
    "\n",
    "#         im[dist > 245] = -1000\n",
    "\n",
    "    #     plt.imshow(sc[:,:,15],cmap='gray',vmax=mm+3*ss,vmin=mm-3*ss)\n",
    "        plt.imshow(im,cmap='gray',vmax=500,vmin=-500)\n",
    "        plt.text(-70,-20,alph[ii],color='w',fontsize=14)\n",
    "        plt.axis('off')\n",
    "\n",
    "plt.tight_layout()\n",
    "plt.savefig('/home/xcite/fastcat_paper/figures/XCATs.pdf') #"
   ]
  },
  {
   "cell_type": "code",
   "execution_count": 104,
   "id": "surgical-combat",
   "metadata": {},
   "outputs": [
    {
     "data": {
      "application/vnd.jupyter.widget-view+json": {
       "model_id": "690890c9d69b4e64933a8b06ec64f035",
       "version_major": 2,
       "version_minor": 0
      },
      "text/plain": [
       "Canvas(toolbar=Toolbar(toolitems=[('Home', 'Reset original view', 'home', 'home'), ('Back', 'Back to previous …"
      ]
     },
     "metadata": {},
     "output_type": "display_data"
    },
    {
     "data": {
      "text/plain": [
       "<matplotlib.image.AxesImage at 0x7f525d7e8f90>"
      ]
     },
     "execution_count": 104,
     "metadata": {},
     "output_type": "execute_result"
    }
   ],
   "source": [
    "plt.figure()\n",
    "plt.imshow(sc[:,:,index])"
   ]
  },
  {
   "cell_type": "code",
   "execution_count": null,
   "id": "unexpected-curtis",
   "metadata": {},
   "outputs": [],
   "source": []
  }
 ],
 "metadata": {
  "kernelspec": {
   "display_name": "Python 3",
   "language": "python",
   "name": "python3"
  },
  "language_info": {
   "codemirror_mode": {
    "name": "ipython",
    "version": 3
   },
   "file_extension": ".py",
   "mimetype": "text/x-python",
   "name": "python",
   "nbconvert_exporter": "python",
   "pygments_lexer": "ipython3",
   "version": "3.7.6"
  }
 },
 "nbformat": 4,
 "nbformat_minor": 5
}
