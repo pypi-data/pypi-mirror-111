{
 "cells": [
  {
   "cell_type": "code",
   "execution_count": 1,
   "metadata": {},
   "outputs": [
    {
     "name": "stdout",
     "output_type": "stream",
     "text": [
      "Populating the interactive namespace from numpy and matplotlib\n"
     ]
    }
   ],
   "source": [
    "%pylab widget\n",
    "%load_ext autoreload\n",
    "\n",
    "%autoreload 2"
   ]
  },
  {
   "cell_type": "markdown",
   "metadata": {},
   "source": [
    "### Now what would fastCat think of this?"
   ]
  },
  {
   "cell_type": "markdown",
   "metadata": {},
   "source": [
    "#### We can loop through this"
   ]
  },
  {
   "cell_type": "markdown",
   "metadata": {},
   "source": [
    "This runs off of a modified xpecgen that returns only the doses and "
   ]
  },
  {
   "cell_type": "code",
   "execution_count": 39,
   "metadata": {},
   "outputs": [
    {
     "name": "stdout",
     "output_type": "stream",
     "text": [
      "[2021-05-10 11:35:47,809] {fastcat.py:572} INFO - Interpolating from 512 scatter\n",
      "[2021-05-10 11:35:47,810] {fastcat.py:572} INFO - Interpolating from 512 scatter\n",
      "[2021-05-10 11:35:47,860] {fastcat.py:620} INFO - Running Simulations\n",
      "[2021-05-10 11:35:47,860] {fastcat.py:628} INFO -     Simulating 20 keV\n",
      "[2021-05-10 11:35:47,979] {fastcat.py:628} INFO -     Simulating 30 keV\n",
      "[2021-05-10 11:35:48,077] {fastcat.py:628} INFO -     Simulating 40 keV\n",
      "[2021-05-10 11:35:48,174] {fastcat.py:628} INFO -     Simulating 50 keV\n",
      "[2021-05-10 11:35:48,276] {fastcat.py:628} INFO -     Simulating 60 keV\n",
      "[2021-05-10 11:35:48,375] {fastcat.py:628} INFO -     Simulating 70 keV\n",
      "[2021-05-10 11:35:48,475] {fastcat.py:628} INFO -     Simulating 80 keV\n",
      "[2021-05-10 11:35:48,575] {fastcat.py:628} INFO -     Simulating 90 keV\n",
      "[2021-05-10 11:35:48,679] {fastcat.py:628} INFO -     Simulating 100 keV\n",
      "[2021-05-10 11:35:48,777] {fastcat.py:687} INFO - Weighting simulations\n",
      "[2021-05-10 11:35:48,821] {fastcat.py:572} INFO - Interpolating from 512 scatter\n",
      "[2021-05-10 11:35:48,821] {fastcat.py:572} INFO - Interpolating from 512 scatter\n",
      "[2021-05-10 11:35:48,870] {fastcat.py:620} INFO - Running Simulations\n",
      "[2021-05-10 11:35:48,871] {fastcat.py:628} INFO -     Simulating 20 keV\n",
      "[2021-05-10 11:35:48,973] {fastcat.py:628} INFO -     Simulating 30 keV\n",
      "[2021-05-10 11:35:49,072] {fastcat.py:628} INFO -     Simulating 40 keV\n",
      "[2021-05-10 11:35:49,171] {fastcat.py:628} INFO -     Simulating 50 keV\n",
      "[2021-05-10 11:35:49,276] {fastcat.py:628} INFO -     Simulating 60 keV\n",
      "[2021-05-10 11:35:49,374] {fastcat.py:628} INFO -     Simulating 70 keV\n",
      "[2021-05-10 11:35:49,476] {fastcat.py:628} INFO -     Simulating 80 keV\n",
      "[2021-05-10 11:35:49,576] {fastcat.py:628} INFO -     Simulating 90 keV\n",
      "[2021-05-10 11:35:49,681] {fastcat.py:628} INFO -     Simulating 100 keV\n",
      "[2021-05-10 11:35:49,778] {fastcat.py:628} INFO -     Simulating 300 keV\n",
      "[2021-05-10 11:35:49,878] {fastcat.py:628} INFO -     Simulating 500 keV\n",
      "[2021-05-10 11:35:49,977] {fastcat.py:628} INFO -     Simulating 700 keV\n",
      "[2021-05-10 11:35:50,082] {fastcat.py:628} INFO -     Simulating 900 keV\n",
      "[2021-05-10 11:35:50,180] {fastcat.py:628} INFO -     Simulating 1000 keV\n",
      "[2021-05-10 11:35:50,278] {fastcat.py:628} INFO -     Simulating 2000 keV\n",
      "[2021-05-10 11:35:50,377] {fastcat.py:687} INFO - Weighting simulations\n",
      "[2021-05-10 11:35:50,420] {fastcat.py:572} INFO - Interpolating from 512 scatter\n",
      "[2021-05-10 11:35:50,421] {fastcat.py:572} INFO - Interpolating from 512 scatter\n",
      "[2021-05-10 11:35:50,468] {fastcat.py:620} INFO - Running Simulations\n",
      "[2021-05-10 11:35:50,468] {fastcat.py:628} INFO -     Simulating 20 keV\n",
      "[2021-05-10 11:35:50,568] {fastcat.py:628} INFO -     Simulating 30 keV\n",
      "[2021-05-10 11:35:50,667] {fastcat.py:628} INFO -     Simulating 40 keV\n",
      "[2021-05-10 11:35:50,763] {fastcat.py:628} INFO -     Simulating 50 keV\n",
      "[2021-05-10 11:35:50,862] {fastcat.py:628} INFO -     Simulating 60 keV\n",
      "[2021-05-10 11:35:50,961] {fastcat.py:628} INFO -     Simulating 70 keV\n",
      "[2021-05-10 11:35:51,069] {fastcat.py:628} INFO -     Simulating 80 keV\n",
      "[2021-05-10 11:35:51,168] {fastcat.py:628} INFO -     Simulating 90 keV\n",
      "[2021-05-10 11:35:51,268] {fastcat.py:628} INFO -     Simulating 100 keV\n",
      "[2021-05-10 11:35:51,365] {fastcat.py:628} INFO -     Simulating 300 keV\n",
      "[2021-05-10 11:35:51,469] {fastcat.py:628} INFO -     Simulating 500 keV\n",
      "[2021-05-10 11:35:51,567] {fastcat.py:628} INFO -     Simulating 700 keV\n",
      "[2021-05-10 11:35:51,671] {fastcat.py:628} INFO -     Simulating 900 keV\n",
      "[2021-05-10 11:35:51,768] {fastcat.py:628} INFO -     Simulating 1000 keV\n",
      "[2021-05-10 11:35:51,866] {fastcat.py:628} INFO -     Simulating 2000 keV\n",
      "[2021-05-10 11:35:51,966] {fastcat.py:628} INFO -     Simulating 4000 keV\n",
      "[2021-05-10 11:35:52,071] {fastcat.py:628} INFO -     Simulating 6000 keV\n",
      "[2021-05-10 11:35:52,168] {fastcat.py:687} INFO - Weighting simulations\n",
      "[2021-05-10 11:35:52,212] {fastcat.py:572} INFO - Interpolating from 512 scatter\n",
      "[2021-05-10 11:35:52,212] {fastcat.py:572} INFO - Interpolating from 512 scatter\n",
      "[2021-05-10 11:35:52,259] {fastcat.py:620} INFO - Running Simulations\n",
      "[2021-05-10 11:35:52,259] {fastcat.py:628} INFO -     Simulating 20 keV\n",
      "[2021-05-10 11:35:52,357] {fastcat.py:628} INFO -     Simulating 30 keV\n",
      "[2021-05-10 11:35:52,458] {fastcat.py:628} INFO -     Simulating 40 keV\n",
      "[2021-05-10 11:35:52,556] {fastcat.py:628} INFO -     Simulating 50 keV\n",
      "[2021-05-10 11:35:52,654] {fastcat.py:628} INFO -     Simulating 60 keV\n",
      "[2021-05-10 11:35:52,755] {fastcat.py:628} INFO -     Simulating 70 keV\n",
      "[2021-05-10 11:35:52,854] {fastcat.py:628} INFO -     Simulating 80 keV\n",
      "[2021-05-10 11:35:52,955] {fastcat.py:628} INFO -     Simulating 90 keV\n",
      "[2021-05-10 11:35:53,062] {fastcat.py:628} INFO -     Simulating 100 keV\n",
      "[2021-05-10 11:35:53,161] {fastcat.py:628} INFO -     Simulating 300 keV\n",
      "[2021-05-10 11:35:53,258] {fastcat.py:628} INFO -     Simulating 500 keV\n",
      "[2021-05-10 11:35:53,357] {fastcat.py:628} INFO -     Simulating 700 keV\n",
      "[2021-05-10 11:35:53,456] {fastcat.py:628} INFO -     Simulating 900 keV\n",
      "[2021-05-10 11:35:53,553] {fastcat.py:628} INFO -     Simulating 1000 keV\n",
      "[2021-05-10 11:35:53,650] {fastcat.py:628} INFO -     Simulating 2000 keV\n",
      "[2021-05-10 11:35:53,750] {fastcat.py:687} INFO - Weighting simulations\n",
      "[2021-05-10 11:35:53,795] {fastcat.py:572} INFO - Interpolating from 512 scatter\n",
      "[2021-05-10 11:35:53,795] {fastcat.py:572} INFO - Interpolating from 512 scatter\n",
      "[2021-05-10 11:35:53,842] {fastcat.py:620} INFO - Running Simulations\n",
      "[2021-05-10 11:35:53,842] {fastcat.py:628} INFO -     Simulating 20 keV\n",
      "[2021-05-10 11:35:53,941] {fastcat.py:628} INFO -     Simulating 30 keV\n",
      "[2021-05-10 11:35:54,036] {fastcat.py:628} INFO -     Simulating 40 keV\n",
      "[2021-05-10 11:35:54,133] {fastcat.py:628} INFO -     Simulating 50 keV\n",
      "[2021-05-10 11:35:54,231] {fastcat.py:628} INFO -     Simulating 60 keV\n",
      "[2021-05-10 11:35:54,331] {fastcat.py:628} INFO -     Simulating 70 keV\n",
      "[2021-05-10 11:35:54,428] {fastcat.py:628} INFO -     Simulating 80 keV\n",
      "[2021-05-10 11:35:54,526] {fastcat.py:628} INFO -     Simulating 90 keV\n",
      "[2021-05-10 11:35:54,626] {fastcat.py:628} INFO -     Simulating 100 keV\n",
      "[2021-05-10 11:35:54,724] {fastcat.py:628} INFO -     Simulating 300 keV\n",
      "[2021-05-10 11:35:54,821] {fastcat.py:628} INFO -     Simulating 500 keV\n",
      "[2021-05-10 11:35:54,920] {fastcat.py:628} INFO -     Simulating 700 keV\n",
      "[2021-05-10 11:35:55,019] {fastcat.py:628} INFO -     Simulating 900 keV\n",
      "[2021-05-10 11:35:55,125] {fastcat.py:628} INFO -     Simulating 1000 keV\n",
      "[2021-05-10 11:35:55,224] {fastcat.py:628} INFO -     Simulating 2000 keV\n",
      "[2021-05-10 11:35:55,329] {fastcat.py:628} INFO -     Simulating 4000 keV\n",
      "[2021-05-10 11:35:55,427] {fastcat.py:628} INFO -     Simulating 6000 keV\n",
      "[2021-05-10 11:35:55,522] {fastcat.py:687} INFO - Weighting simulations\n",
      "[2021-05-10 11:35:55,566] {fastcat.py:572} INFO - Interpolating from 512 scatter\n",
      "[2021-05-10 11:35:55,566] {fastcat.py:572} INFO - Interpolating from 512 scatter\n",
      "[2021-05-10 11:35:55,612] {fastcat.py:620} INFO - Running Simulations\n",
      "[2021-05-10 11:35:55,613] {fastcat.py:628} INFO -     Simulating 20 keV\n",
      "[2021-05-10 11:35:55,710] {fastcat.py:628} INFO -     Simulating 30 keV\n",
      "[2021-05-10 11:35:55,805] {fastcat.py:628} INFO -     Simulating 40 keV\n",
      "[2021-05-10 11:35:55,907] {fastcat.py:628} INFO -     Simulating 50 keV\n",
      "[2021-05-10 11:35:56,013] {fastcat.py:628} INFO -     Simulating 60 keV\n",
      "[2021-05-10 11:35:56,118] {fastcat.py:628} INFO -     Simulating 70 keV\n",
      "[2021-05-10 11:35:56,229] {fastcat.py:628} INFO -     Simulating 80 keV\n",
      "[2021-05-10 11:35:56,328] {fastcat.py:628} INFO -     Simulating 90 keV\n",
      "[2021-05-10 11:35:56,428] {fastcat.py:628} INFO -     Simulating 100 keV\n",
      "[2021-05-10 11:35:56,542] {fastcat.py:628} INFO -     Simulating 300 keV\n",
      "[2021-05-10 11:35:56,642] {fastcat.py:628} INFO -     Simulating 500 keV\n",
      "[2021-05-10 11:35:56,744] {fastcat.py:628} INFO -     Simulating 700 keV\n",
      "[2021-05-10 11:35:56,856] {fastcat.py:628} INFO -     Simulating 900 keV\n",
      "[2021-05-10 11:35:56,964] {fastcat.py:628} INFO -     Simulating 1000 keV\n",
      "[2021-05-10 11:35:57,064] {fastcat.py:628} INFO -     Simulating 2000 keV\n",
      "[2021-05-10 11:35:57,178] {fastcat.py:687} INFO - Weighting simulations\n",
      "[2021-05-10 11:35:57,225] {fastcat.py:572} INFO - Interpolating from 512 scatter\n",
      "[2021-05-10 11:35:57,225] {fastcat.py:572} INFO - Interpolating from 512 scatter\n",
      "[2021-05-10 11:35:57,275] {fastcat.py:620} INFO - Running Simulations\n",
      "[2021-05-10 11:35:57,275] {fastcat.py:628} INFO -     Simulating 20 keV\n",
      "[2021-05-10 11:35:57,383] {fastcat.py:628} INFO -     Simulating 30 keV\n",
      "[2021-05-10 11:35:57,483] {fastcat.py:628} INFO -     Simulating 40 keV\n",
      "[2021-05-10 11:35:57,579] {fastcat.py:628} INFO -     Simulating 50 keV\n",
      "[2021-05-10 11:35:57,681] {fastcat.py:628} INFO -     Simulating 60 keV\n",
      "[2021-05-10 11:35:57,777] {fastcat.py:628} INFO -     Simulating 70 keV\n",
      "[2021-05-10 11:35:57,887] {fastcat.py:628} INFO -     Simulating 80 keV\n",
      "[2021-05-10 11:35:57,995] {fastcat.py:628} INFO -     Simulating 90 keV\n",
      "[2021-05-10 11:35:58,100] {fastcat.py:628} INFO -     Simulating 100 keV\n",
      "[2021-05-10 11:35:58,199] {fastcat.py:628} INFO -     Simulating 300 keV\n",
      "[2021-05-10 11:35:58,301] {fastcat.py:628} INFO -     Simulating 500 keV\n",
      "[2021-05-10 11:35:58,399] {fastcat.py:628} INFO -     Simulating 700 keV\n",
      "[2021-05-10 11:35:58,501] {fastcat.py:628} INFO -     Simulating 900 keV\n",
      "[2021-05-10 11:35:58,600] {fastcat.py:628} INFO -     Simulating 1000 keV\n",
      "[2021-05-10 11:35:58,703] {fastcat.py:628} INFO -     Simulating 2000 keV\n",
      "[2021-05-10 11:35:58,800] {fastcat.py:628} INFO -     Simulating 4000 keV\n",
      "[2021-05-10 11:35:58,903] {fastcat.py:628} INFO -     Simulating 6000 keV\n",
      "[2021-05-10 11:35:59,002] {fastcat.py:687} INFO - Weighting simulations\n"
     ]
    }
   ],
   "source": [
    "import sys\n",
    "import os\n",
    "import tigre\n",
    "from scipy.signal import fftconvolve\n",
    "\n",
    "import fastcat.fastcat as fc\n",
    "\n",
    "dose = 0\n",
    "\n",
    "# phan_map_hard =  ['air','water','Spongiosa_Bone_ICRP','G4_BONE_COMPACT_ICRU',\n",
    "#              'G4_BONE_CORTICAL_ICRP','C4_Vertebra_ICRP','D6_Vertebra_ICRP','G4_B-100_BONE']\n",
    "\n",
    "phan_map_hard =  ['air','water','water','water',\n",
    "             'water','water','water','water']\n",
    "\n",
    "\n",
    "phan_map_g4 = ['air','water','G4_LUNG_ICRP',\"G4_BONE_COMPACT_ICRU\",\"G4_BONE_CORTICAL_ICRP\",\"G4_ADIPOSE_TISSUE_ICRP\",\"G4_BRAIN_ICRP\",\"G4_B-100_BONE\"] \n",
    "\n",
    "spectrum_files = sorted(['120_kVp','Al_spectrum_25', 'C_spectrum_6', 'Al_spectrum_6', 'C_spectrum_25', 'W_spectrum_6', 'W_spectrum_25'])\n",
    "# spectrum_files = sorted(['Al_spectrum_25', 'C_spectrum_6', 'Al_spectrum_6', 'C_spectrum_25', 'W_spectrum_6', 'W_spectrum_25'])\n",
    "\n",
    "dets = ['CuGOS-784-micrometer']\n",
    "\n",
    "phan_maps = [phan_map_hard]#,phan_map_soft]\n",
    "\n",
    "angles = np.linspace(0,2*np.pi,2)\n",
    "\n",
    "res = []\n",
    "\n",
    "original_energies_keV = np.array([30, 40, 50 ,60, 70, 80 ,90 ,100 ,300 ,500 ,700, 900, 1000 ,2000 ,4000 ,6000])\n",
    "\n",
    "\n",
    "angles = np.linspace(0,2*pi,2)\n",
    "\n",
    "geo = 'catphan_low_contrast_512'\n",
    "\n",
    "phantom = fc.Catphan_515()\n",
    "\n",
    "for phan_map in phan_maps:\n",
    "    for spectrum_file in spectrum_files[:]:\n",
    "        for det in dets:\n",
    "            \n",
    "            if spectrum_file == '120_kVp':\n",
    "                s = fc.calculate_spectrum(120, 12, 3, 50,monitor=None)\n",
    "                s.attenuate(0.1,fc.get_mu(z=13))\n",
    "            else:\n",
    "                s = fc.Spectrum()\n",
    "                s.load(spectrum_file)\n",
    "        \n",
    "            kernel = fc.Kernel(s, det)\n",
    "            \n",
    "#             kernel.add_focal_spot(0.1)\n",
    "\n",
    "            energy_deposition_file = os.path.join(\n",
    "                fc.data_path, \"Detectors\", det, 'EnergyDeposition.npy')\n",
    "            energies = s.x\n",
    "            fluence = s.y\n",
    "            deposition_efficiency_file = energy_deposition_file\n",
    "\n",
    "            res.append(phantom.return_projs(kernel,s,angles,\n",
    "                                       nphoton=2e7,\n",
    "                                      mgy=dose,return_dose=True,verbose=0))\n",
    "\n",
    "#             img_fc = tigre.algorithms.FDK(\n",
    "#                 np.transpose(np.array(projs_fc[0]),[0,2,1]), phantom.geomet,angles)\n",
    "\n",
    "#             res.append([[phan_map,spectrum_file,det],phantom.analyse_515(img_fc[5])])"
   ]
  },
  {
   "cell_type": "code",
   "execution_count": 40,
   "metadata": {},
   "outputs": [
    {
     "data": {
      "text/plain": [
       "array([0.        , 8.21124554, 7.33638763, 5.92958546, 5.19418621,\n",
       "       5.08891344, 5.42196035, 6.02362251, 6.83410168, 7.78608179,\n",
       "       0.        , 0.        , 0.        , 0.        , 0.        ,\n",
       "       0.        , 0.        , 0.        ])"
      ]
     },
     "execution_count": 40,
     "metadata": {},
     "output_type": "execute_result"
    }
   ],
   "source": [
    "res[0][0]"
   ]
  },
  {
   "cell_type": "markdown",
   "metadata": {},
   "source": [
    "## Working attempt"
   ]
  },
  {
   "cell_type": "code",
   "execution_count": 41,
   "metadata": {},
   "outputs": [
    {
     "data": {
      "application/vnd.jupyter.widget-view+json": {
       "model_id": "451d4c1a79d44f71acda7a842a731224",
       "version_major": 2,
       "version_minor": 0
      },
      "text/plain": [
       "Canvas(toolbar=Toolbar(toolitems=[('Home', 'Reset original view', 'home', 'home'), ('Back', 'Back to previous …"
      ]
     },
     "metadata": {},
     "output_type": "display_data"
    }
   ],
   "source": [
    "spectrum_files = sorted(['120_kVp','Al_spectrum_25', 'C_spectrum_6', 'Al_spectrum_6', 'C_spectrum_25', 'W_spectrum_6', 'W_spectrum_25'])\n",
    "\n",
    "plt.figure()\n",
    "\n",
    "doses = res[0][0]\n",
    "doses_fc = []\n",
    "\n",
    "# Loading the file from the monte carlo\n",
    "deposition = np.load(deposition_efficiency_file,allow_pickle=True)\n",
    "\n",
    "for jj,spectrum_file in enumerate(spectrum_files):\n",
    "    if spectrum_file == '120_kVp':\n",
    "        s = fc.calculate_spectrum(120, 12, 3, 50,monitor=None)\n",
    "        s.attenuate(0.1,fc.get_mu(z=13))\n",
    "    else:\n",
    "        s = fc.Spectrum()\n",
    "        s.load(spectrum_file)\n",
    "        \n",
    "    kernel = fc.Kernel(s, det)\n",
    "    energy_deposition_file = os.path.join(\n",
    "        fc.data_path, \"Detectors\", det, 'EnergyDeposition.npy')\n",
    "    energies = s.x\n",
    "    fluence = s.y\n",
    "\n",
    "    # These are what I used in the Monte Carlo\n",
    "    original_energies_keV = np.array([10,20,30, 40, 50 ,60, 70, 80 ,90 ,100 ,300 ,500 ,700, 900, 1000 ,2000 ,4000 ,6000])\n",
    "\n",
    "    # This is a scaling factor that I found to work to convert energy deposition to photon probability eta\n",
    "    deposition_summed = deposition[0]/(original_energies_keV/1000)/1000000\n",
    "    fluence_norm = fluence/np.sum(fluence)\n",
    "    deposition_long = np.interp(energies,original_energies_keV/1000,deposition_summed)\n",
    "    nphotons_at_energy = fluence_norm*deposition_long\n",
    "    nphotons_av = np.sum(nphotons_at_energy)\n",
    "    \n",
    "    # Binning to get the fluence per energy\n",
    "    large_energies = np.linspace(0,6000,3001) #keV\n",
    "    fluence_large = np.interp(large_energies,np.array(energies), fluence)\n",
    "    fluence_small = np.zeros(len(original_energies_keV))\n",
    "    \n",
    "    inds = []\n",
    "    # Still binning\n",
    "    for ii, val in enumerate(large_energies):\n",
    "\n",
    "        index = np.argmin(np.abs(original_energies_keV-val))\n",
    "        fluence_small[index] += fluence_large[ii] \n",
    "        inds.append(index)\n",
    "\n",
    "    # Normalize\n",
    "    fluence_small /= np.sum(fluence_small)\n",
    "\n",
    "    # Sum over the image dimesions to get the energy intensity and multiply by fluence\n",
    "    doses_fc.append((doses/1000)@((fluence_small)))\n",
    "\n",
    "plt.plot(doses_fc,'x')    \n",
    "plt.xticks(ticks=range(len(spectrum_files)),labels=spectrum_files,rotation=75)\n",
    "plt.tight_layout()"
   ]
  },
  {
   "cell_type": "code",
   "execution_count": 42,
   "metadata": {},
   "outputs": [
    {
     "data": {
      "text/plain": [
       "['120_kVp',\n",
       " 'Al_spectrum_25',\n",
       " 'Al_spectrum_6',\n",
       " 'C_spectrum_25',\n",
       " 'C_spectrum_6',\n",
       " 'W_spectrum_25',\n",
       " 'W_spectrum_6']"
      ]
     },
     "execution_count": 42,
     "metadata": {},
     "output_type": "execute_result"
    }
   ],
   "source": [
    "spectrum_files"
   ]
  },
  {
   "cell_type": "code",
   "execution_count": 43,
   "metadata": {},
   "outputs": [
    {
     "data": {
      "application/vnd.jupyter.widget-view+json": {
       "model_id": "48fa280d4ea04bd291cc084dd04981a3",
       "version_major": 2,
       "version_minor": 0
      },
      "text/plain": [
       "Canvas(toolbar=Toolbar(toolitems=[('Home', 'Reset original view', 'home', 'home'), ('Back', 'Back to previous …"
      ]
     },
     "metadata": {},
     "output_type": "display_data"
    },
    {
     "data": {
      "text/plain": [
       "[<matplotlib.lines.Line2D at 0x7f91d5e2d510>]"
      ]
     },
     "execution_count": 43,
     "metadata": {},
     "output_type": "execute_result"
    }
   ],
   "source": [
    "figure();plot(large_energies/1000,100*fluence_large/sum(fluence_large));bar(original_energies_keV/1000,fluence_small/10);plot(large_energies/1000,np.array(inds)/1000)"
   ]
  },
  {
   "cell_type": "code",
   "execution_count": 44,
   "metadata": {},
   "outputs": [],
   "source": [
    "doses = np.array([\n",
    "6.033596460814806e-08,\n",
    "1.613708349168519e-07,\n",
    "1.313530049174005e-07,\n",
    "6.200432949299284e-07,\n",
    "3.304057543118688e-07,\n",
    "2.999242099122057e-07,\n",
    "3.515523019359534e-07,\n",
    "])\n",
    "\n",
    "names = np.array([\n",
    "'Dose_120_kVp',\n",
    "'Dose_Al_spectrum_25'  ,\n",
    "'Dose_C_spectrum_25'  ,\n",
    "'Dose_W_spectrum_6',\n",
    "'Dose_Al_spectrum_6'  , \n",
    "'Dose_C_spectrum_6',\n",
    "'Dose_W_spectrum_25'])\n",
    "\n",
    "indeces = np.argsort(names)\n",
    "\n",
    "\n",
    "names = names[indeces]\n",
    "doses = doses[indeces]\n",
    "\n",
    "indeces = np.argsort(doses)\n",
    "\n",
    "names = names[indeces]\n",
    "doses = doses[indeces]\n"
   ]
  },
  {
   "cell_type": "code",
   "execution_count": 45,
   "metadata": {},
   "outputs": [
    {
     "data": {
      "text/plain": [
       "array([0.01882937, 0.04099205, 0.05035988, 0.09359899, 0.10311153,\n",
       "       0.10971085, 0.1935003 ])"
      ]
     },
     "execution_count": 45,
     "metadata": {},
     "output_type": "execute_result"
    }
   ],
   "source": [
    "doses/20000000/(1.6021766e-16 * 1000)"
   ]
  },
  {
   "cell_type": "code",
   "execution_count": 36,
   "metadata": {},
   "outputs": [
    {
     "name": "stdout",
     "output_type": "stream",
     "text": [
      "[2021-05-10 11:34:23,633] {fastcat.py:572} INFO - Interpolating from 512 scatter\n",
      "[2021-05-10 11:34:23,634] {fastcat.py:572} INFO - Interpolating from 512 scatter\n",
      "[2021-05-10 11:34:23,685] {fastcat.py:620} INFO - Running Simulations\n",
      "[2021-05-10 11:34:23,685] {fastcat.py:628} INFO -     Simulating 10 keV\n",
      "[2021-05-10 11:34:23,799] {fastcat.py:628} INFO -     Simulating 20 keV\n",
      "[2021-05-10 11:34:23,892] {fastcat.py:628} INFO -     Simulating 30 keV\n",
      "[2021-05-10 11:34:23,987] {fastcat.py:628} INFO -     Simulating 40 keV\n",
      "[2021-05-10 11:34:24,080] {fastcat.py:628} INFO -     Simulating 50 keV\n",
      "[2021-05-10 11:34:24,172] {fastcat.py:628} INFO -     Simulating 60 keV\n",
      "[2021-05-10 11:34:24,263] {fastcat.py:628} INFO -     Simulating 70 keV\n",
      "[2021-05-10 11:34:24,359] {fastcat.py:628} INFO -     Simulating 80 keV\n",
      "[2021-05-10 11:34:24,451] {fastcat.py:628} INFO -     Simulating 90 keV\n",
      "[2021-05-10 11:34:24,546] {fastcat.py:628} INFO -     Simulating 100 keV\n",
      "[2021-05-10 11:34:24,639] {fastcat.py:628} INFO -     Simulating 300 keV\n",
      "[2021-05-10 11:34:24,734] {fastcat.py:628} INFO -     Simulating 500 keV\n",
      "[2021-05-10 11:34:24,828] {fastcat.py:628} INFO -     Simulating 700 keV\n",
      "[2021-05-10 11:34:24,920] {fastcat.py:628} INFO -     Simulating 900 keV\n",
      "[2021-05-10 11:34:25,015] {fastcat.py:628} INFO -     Simulating 1000 keV\n",
      "[2021-05-10 11:34:25,116] {fastcat.py:628} INFO -     Simulating 2000 keV\n",
      "[2021-05-10 11:34:25,222] {fastcat.py:628} INFO -     Simulating 4000 keV\n",
      "[2021-05-10 11:34:25,319] {fastcat.py:628} INFO -     Simulating 6000 keV\n",
      "[2021-05-10 11:34:25,422] {fastcat.py:687} INFO - Weighting simulations\n",
      "[656.09315761 656.26450276 656.43537114 656.60576109 656.77567094\n",
      " 656.94509901 657.11404364 657.28250315 657.45047587 657.6179601\n",
      " 657.78495417 657.95145639 658.11746507 658.28297852 658.44799505\n",
      " 658.61251297 658.77653056 658.94004615 659.10305801 659.26556446\n",
      " 659.42756378 659.58905426 659.75003419 659.91050187 660.07045558\n",
      " 660.2298936  660.38881422 660.54721571 660.70509636 660.86245445\n",
      " 661.01928826 661.17559605 661.3313761  661.4866267  661.6413461\n",
      " 661.79553258 661.94918442 662.10229987 662.25487721 662.40691471\n",
      " 662.55841063 662.70936324 662.8597708  663.00963158 663.15894385\n",
      " 663.30770587 663.4559159  663.60357221 663.75067306 663.89721671\n",
      " 664.04320143 664.18862549 664.33348714 664.47778465 664.62151629\n",
      " 664.76468031 664.907275   665.0492986  665.1907494  665.33162565\n",
      " 665.47192562 665.61164759 665.75078983 665.8893506  666.02732817\n",
      " 666.16472083 666.30152684 666.43774449 666.57337204 666.70840778\n",
      " 666.84285    666.97669696 667.10994696 667.24259829 667.37464922\n",
      " 667.50609805 667.63694308 667.7671826  667.8968149  668.02583828\n",
      " 668.15425105 668.28205151 668.40923797 668.53580873 668.66176212\n",
      " 668.78709643 668.91181    669.03590115 669.15936819 669.28220946\n",
      " 669.40442329 669.52600802 669.64696197 669.7672835  669.88697095\n",
      " 670.00602267 670.12443701 670.24221233 670.359347   670.47583937\n",
      " 664.24305702 565.34396538 503.67800317 477.31953993 453.34094622\n",
      " 433.37894228 417.64157962 405.23419676 393.65985089 380.98393985\n",
      " 372.47378734 364.23931485 353.77934282 346.72383605 337.5281592\n",
      " 332.23180654 326.25296347 320.35678681 315.07845582 308.20224459\n",
      " 304.03555122 299.12418346 295.93352398 290.41274666 286.575274\n",
      " 283.56901862 279.85661472 274.74672122 272.52411828 268.41008759\n",
      " 265.06197545 262.96138326 258.94630043 257.00052165 253.76408516\n",
      " 252.52035312 249.362834   246.260496   245.0683541  241.4307112\n",
      " 239.66760511 237.32702369 235.60607795 233.90268194 231.64118634\n",
      " 229.55334152 227.77011432 226.14628627 224.53879953 223.49252156\n",
      " 221.37207952 219.28008295 217.74131367 216.21781396 206.46830609\n",
      " 202.26088376 198.06996559 195.56234083 190.29578531 187.20519927\n",
      " 186.12479463 183.52295365 179.59758271 179.27408027 176.84242936\n",
      " 179.0322706  179.60375877 184.37772038 183.76304914 183.32929423\n",
      " 183.24102109 181.38031603 182.65821909 182.22703932 183.58179307\n",
      " 184.07574323 188.5513267  188.32100678 182.82495046 180.33837774\n",
      " 180.25099587 178.8779667  177.46288472 176.39112846 175.3290916\n",
      " 174.27666954 174.15897994 169.94060126 166.86628309 164.38582792\n",
      " 163.08067459 162.43227631 161.76954716 162.21957792 164.36476478\n",
      " 164.00160784 163.03814796 162.46305958 161.81016009 159.00836435\n",
      " 154.66485293 153.4029746  151.42647041 150.20048957 149.54588936\n",
      " 148.12717964 147.59461678 147.07488846 146.79802453 146.76940535\n",
      " 146.30067934 146.87732492 146.82019308 147.58101844 148.43943692\n",
      " 149.79341818 151.42785499 156.03580879 155.73098726 156.26794982\n",
      " 156.49587609 157.00483619 157.57160089 158.04344736 159.17946419\n",
      " 160.56743958 163.43256118 162.3831155  161.23929775 160.05311413\n",
      " 159.14147833 157.94883618 157.67020078 157.39222747 156.79154168\n",
      " 156.80050962 156.48662765 156.77961232 156.78732865 156.08294676\n",
      " 155.42144203 155.54024852 155.23763978 156.53068956 156.99804401\n",
      " 160.22907344 159.94519548 159.88158439 159.86262734 159.84325001\n",
      " 160.13392569 160.15880909 160.48385207 160.68714785 161.2162758\n",
      " 162.17405217 162.13001192 164.38796322 164.27868794 164.21623403\n",
      " 160.70661783 159.5070848  158.34871532 157.85558206 157.42207641\n",
      " 157.25451678 156.96326491 156.99338322 156.30093239 155.7980052\n",
      " 155.08225541 155.5527997  155.45818872 155.86719452 157.01309736\n",
      " 158.451154   161.72673845 162.22873752 162.7212658  163.11765094\n",
      " 163.90011991 164.70587206 166.50072451 166.99883201 166.98704315\n",
      " 167.3324734  167.67855139 166.4302552  163.90692478 161.96007747\n",
      " 161.02466963 159.86285704 159.87427272 159.83259818 160.50627114\n",
      " 161.3425563  161.73812801 161.93677478 163.17982921 163.99500106\n",
      " 164.953188   167.95806976 172.32463479 173.01441874 172.99393563\n",
      " 173.68692798 173.56001441 174.13267846 174.33424542 174.50809595\n",
      " 172.60064344 171.61033049 170.61652365 170.29605137 170.30710086\n",
      " 170.69702035 171.4457421  171.44494426 172.57257014 174.06611931\n",
      " 175.14939895 176.94516628 181.32941542 182.11015169 182.81224948\n",
      " 182.67147445 180.41730068 180.05837989 179.51480555 179.65946676\n",
      " 180.43006503 181.19766474 181.93573016 183.11336602 185.03630702\n",
      " 187.41760177 188.27397509 187.94790498 188.34172357 188.1504598\n",
      " 188.83470332 190.50862506 191.07423262 190.62442738 194.30434253\n",
      " 194.26455212 195.08635063 195.10748231 198.93604488 201.15275722\n",
      " 204.3575612  205.28141657 206.2751121  207.73318773 209.75463826\n",
      " 210.34630043 212.43892324 213.94203869 214.94299226 216.48919134\n",
      " 217.50701833 219.06138975 221.33893385 223.37463644 224.48098686\n",
      " 226.20544803 228.50369527 230.29813335 232.78802155 234.47991987\n",
      " 236.78079387 238.51391791 240.26507048 242.90033691 245.06180253\n",
      " 248.14276828 250.63541924 252.51360646 255.72749874 257.65972265\n",
      " 260.28815453 264.33238496 267.05694875 269.82100675 273.34856857\n",
      " 277.67996329 280.12383384 284.32546874 287.34292853 292.7825651\n",
      " 295.9569329  300.76447199 305.71320456 312.51223595 316.22598202\n",
      " 323.07071541 327.60321507 336.04629109 341.81611237 348.73430162\n",
      " 357.94894072 364.23156477 374.16613499 386.45613297 397.05490134\n",
      " 408.05505066 425.54853946 443.7584061  466.19184756 494.48022768\n",
      " 524.77442819 596.98776101 670.59146218 670.47561247 670.35911884\n",
      " 670.24198293 670.12420636 670.00579077 669.88673781 669.76704912\n",
      " 669.64672635 669.52577116 669.40418521 669.28197015 669.15912765\n",
      " 669.03565939 668.91156703 668.78685224 668.66151672 668.53556213\n",
      " 668.40899016 668.2818025  668.15400084 668.02558688 667.8965623\n",
      " 667.76692882 667.63668812 667.50584191 667.37439189 667.24233979\n",
      " 667.10968729 666.97643612 666.84258799 666.70814462 666.57310772\n",
      " 666.43747901 666.30126022 666.16445306 666.02705925 665.88908054\n",
      " 665.75051863 665.61137526 665.47165216 665.33135106 665.19047369\n",
      " 665.04902177 664.90699705 664.76440125 664.62123611 664.47750337\n",
      " 664.33320475 664.188342   664.04291685 663.89693104 663.75038629\n",
      " 663.60328436 663.45562697 663.30741586 663.15865276 663.00933942\n",
      " 662.85947757 662.70906894 662.55811527 662.40661829 662.25457973\n",
      " 662.10200134 661.94888484 661.79523196 661.64104443 661.48632399\n",
      " 661.33107236 661.17529127 661.01898245 660.86214762 660.70478851\n",
      " 660.54690684 660.38850433 660.2295827  660.07014367 659.91018896\n",
      " 659.74972028 659.58873934 659.42724787 659.26524756 659.10274012\n",
      " 658.93972727 658.77621071 658.61219213 658.44767324 658.28265574\n",
      " 658.11714131 657.95113167 657.78462848 657.61763346 657.45014827\n",
      " 657.28217461 657.11371415 656.94476857 656.77533955 656.60542877\n",
      " 656.43503788 656.26416857]\n",
      "[2021-05-10 11:34:25,471] {fastcat.py:572} INFO - Interpolating from 512 scatter\n",
      "[2021-05-10 11:34:25,472] {fastcat.py:572} INFO - Interpolating from 512 scatter\n",
      "[2021-05-10 11:34:25,523] {fastcat.py:620} INFO - Running Simulations\n",
      "[2021-05-10 11:34:25,524] {fastcat.py:628} INFO -     Simulating 10 keV\n",
      "[2021-05-10 11:34:25,617] {fastcat.py:628} INFO -     Simulating 20 keV\n",
      "[2021-05-10 11:34:25,719] {fastcat.py:628} INFO -     Simulating 30 keV\n",
      "[2021-05-10 11:34:25,817] {fastcat.py:628} INFO -     Simulating 40 keV\n",
      "[2021-05-10 11:34:25,909] {fastcat.py:628} INFO -     Simulating 50 keV\n",
      "[2021-05-10 11:34:25,999] {fastcat.py:628} INFO -     Simulating 60 keV\n",
      "[2021-05-10 11:34:26,089] {fastcat.py:628} INFO -     Simulating 70 keV\n",
      "[2021-05-10 11:34:26,183] {fastcat.py:628} INFO -     Simulating 80 keV\n",
      "[2021-05-10 11:34:26,274] {fastcat.py:628} INFO -     Simulating 90 keV\n",
      "[2021-05-10 11:34:26,366] {fastcat.py:628} INFO -     Simulating 100 keV\n",
      "[2021-05-10 11:34:26,472] {fastcat.py:628} INFO -     Simulating 300 keV\n",
      "[2021-05-10 11:34:26,578] {fastcat.py:628} INFO -     Simulating 500 keV\n",
      "[2021-05-10 11:34:26,676] {fastcat.py:628} INFO -     Simulating 700 keV\n",
      "[2021-05-10 11:34:26,775] {fastcat.py:628} INFO -     Simulating 900 keV\n",
      "[2021-05-10 11:34:26,870] {fastcat.py:628} INFO -     Simulating 1000 keV\n",
      "[2021-05-10 11:34:26,966] {fastcat.py:628} INFO -     Simulating 2000 keV\n",
      "[2021-05-10 11:34:27,057] {fastcat.py:628} INFO -     Simulating 4000 keV\n",
      "[2021-05-10 11:34:27,152] {fastcat.py:628} INFO -     Simulating 6000 keV\n",
      "[2021-05-10 11:34:27,252] {fastcat.py:687} INFO - Weighting simulations\n",
      "[659.44660557 659.6361287  659.82519571 660.01380431 660.20195224\n",
      " 660.3896372  660.5768569  660.76360905 660.94989133 661.13570142\n",
      " 661.32103701 661.50589577 661.69027536 661.87417344 662.05758766\n",
      " 662.24051567 662.42295511 662.60490361 662.78635879 662.96731827\n",
      " 663.14777968 663.32774061 663.50719867 663.68615146 663.86459658\n",
      " 664.04253159 664.21995409 664.39686166 664.57325185 664.74912224\n",
      " 664.92447039 665.09929385 665.27359017 665.4473569  665.62059158\n",
      " 665.79329175 665.96545493 666.13707866 666.30816046 666.47869786\n",
      " 666.64868836 666.81812949 666.98701875 667.15535364 667.32313167\n",
      " 667.49035034 667.65700714 667.82309957 667.98862512 668.15358127\n",
      " 668.31796552 668.48177533 668.64500819 668.80766159 668.96973299\n",
      " 669.13121987 669.29211969 669.45242994 669.61214808 669.77127158\n",
      " 669.92979789 670.0877245  670.24504885 670.40176841 670.55788066\n",
      " 670.71338303 670.86827301 671.02254804 671.17620559 671.32924312\n",
      " 671.48165809 671.63344796 671.78461018 671.93514224 672.08504157\n",
      " 672.23430566 672.38293195 672.53091793 672.67826104 672.82495877\n",
      " 672.97100859 673.11640795 673.26115434 673.40524523 673.5486781\n",
      " 673.69145043 673.8335597  673.97500339 674.115779   674.25588401\n",
      " 674.39531592 674.53407223 674.67215042 674.80954802 674.94626253\n",
      " 675.08229145 675.21763231 675.35228262 675.48623992 675.61950172\n",
      " 672.50275834 614.56938309 574.1008446  555.78986251 538.54767605\n",
      " 523.74847139 511.78476958 502.1623927  493.02357502 482.82074314\n",
      " 475.86877895 469.05151173 460.24718742 454.23350486 446.27523939\n",
      " 441.64912242 436.37001167 431.10891138 426.35478257 420.08226553\n",
      " 416.25492212 411.69901326 408.72697429 403.5188632  399.87467437\n",
      " 397.006566   393.43409987 388.46274948 386.29947911 382.24620726\n",
      " 378.92685279 376.84172739 372.80732224 370.8522728  367.56604537\n",
      " 366.31139168 363.0746004  359.87294023 358.65032129 354.85415174\n",
      " 353.01402652 350.55271559 348.73992039 346.9385487  344.52925797\n",
      " 342.29514997 340.38100752 338.63247102 336.89490313 335.76654775\n",
      " 333.45239098 331.15790825 329.46722281 327.78708556 317.88011089\n",
      " 313.40039606 308.7552403  305.97059176 300.0718809  296.46495926\n",
      " 295.22281193 292.16597392 287.59060172 287.11940516 284.19239663\n",
      " 286.68223501 287.28089226 292.6491916  291.84535064 291.28696297\n",
      " 291.1170375  288.90532198 290.27653644 289.72016399 291.20728782\n",
      " 291.63571736 296.39804197 296.16445978 290.01565791 287.16104006\n",
      " 286.98912554 285.41146183 283.73519857 282.44352848 281.15894702\n",
      " 279.88139106 279.71788872 274.91584218 271.36010073 268.41550392\n",
      " 266.81239699 266.04821171 265.26356395 265.78372785 268.40223983\n",
      " 267.95167822 266.73669866 266.06521895 265.21272946 261.73105392\n",
      " 256.22498549 254.6205208  252.03444205 250.42934119 249.55128676\n",
      " 247.65912582 246.93579932 246.22873517 245.82982765 245.76873121\n",
      " 245.12829559 245.82341152 245.7212295  246.66118755 247.72648892\n",
      " 249.41091805 251.44489558 256.98372451 256.58287953 257.25142242\n",
      " 257.50897791 258.11229095 258.81350779 259.33701619 260.72623533\n",
      " 262.37881974 265.77119035 264.76027846 263.4111018  262.03850401\n",
      " 260.92969823 259.48383043 259.15771545 258.83151657 258.07712402\n",
      " 258.09095397 257.67690316 258.02880215 258.04069663 257.16072809\n",
      " 256.3710697  256.510098   256.10632812 257.65482391 258.17385231\n",
      " 261.95323818 261.6269723  261.54641315 261.5230088  261.49896341\n",
      " 261.83596486 261.86843195 262.24819625 262.48991314 263.10389518\n",
      " 264.20154863 264.0985311  266.68406815 266.54928878 266.47306489\n",
      " 262.49242028 261.10641107 259.75756281 259.1851138  258.68540619\n",
      " 258.49725581 258.15107647 258.18749774 257.36347654 256.80419612\n",
      " 255.94159391 256.53479056 256.40975918 256.88626609 258.28979077\n",
      " 259.98512665 263.77876423 264.40327852 265.01435908 265.48160003\n",
      " 266.38334623 267.28828384 269.39594362 269.94316473 269.92516945\n",
      " 270.35962019 270.79434072 269.46676819 266.60933207 264.36832108\n",
      " 263.36805084 261.99559405 262.03836386 262.04448049 262.88056129\n",
      " 263.90580898 264.41402747 264.64552821 266.18911671 267.1304134\n",
      " 268.27290667 271.71242948 276.55020606 277.40882545 277.37770097\n",
      " 278.23850905 278.08026794 278.7936485  279.04996103 279.27425813\n",
      " 277.25825513 276.28389071 275.23280908 274.92246523 274.98059794\n",
      " 275.51892069 276.46043033 276.45223244 277.81742269 279.58201067\n",
      " 280.82151117 282.88118138 287.57809093 288.52001324 289.36649581\n",
      " 289.18970769 287.01612509 286.7494983  286.1897533  286.41887031\n",
      " 287.42103211 288.35845281 289.19732672 290.57036125 292.71658239\n",
      " 295.32044161 296.3397877  296.14214382 296.74297807 296.57278862\n",
      " 297.39072115 299.30291889 299.92688439 299.5849757  303.6120589\n",
      " 303.62727379 304.66477284 304.82344918 308.78871439 311.19554145\n",
      " 314.53454326 315.58022795 316.70130104 318.34949804 320.62908098\n",
      " 321.28006176 323.6235928  325.29691806 326.40210972 328.11229321\n",
      " 329.22890335 330.93761131 333.43616896 335.65695452 336.84975425\n",
      " 338.71183678 341.18898005 343.10770293 345.76258399 347.55654035\n",
      " 349.99203844 351.81297911 353.64555739 356.40016736 358.64343754\n",
      " 361.8316636  364.39100633 366.30441586 369.57677524 371.52368221\n",
      " 374.16757329 378.22012565 380.92273784 383.64905299 387.11295858\n",
      " 391.33832268 393.69407941 397.73697188 400.61160768 405.77392014\n",
      " 408.74901397 413.23555165 417.81222479 424.04341564 427.39937275\n",
      " 433.55301983 437.5748859  445.01089661 450.01868702 455.96501501\n",
      " 463.79031326 469.04494292 477.26683899 487.26818291 495.73370352\n",
      " 504.37596136 517.85358042 531.5213873  547.88712    567.82040563\n",
      " 588.33746782 634.12738582 675.75180733 675.61924212 675.48597896\n",
      " 675.35202031 675.21736865 675.08202644 674.94599618 674.80928033\n",
      " 674.6718814  674.53380188 674.39504425 674.25561102 674.1155047\n",
      " 673.97472779 673.83328279 673.69117222 673.5483986  673.40496444\n",
      " 673.26087227 673.1161246  672.97072396 672.82467289 672.67797389\n",
      " 672.53062952 672.38264229 672.23401475 672.08474942 671.93484884\n",
      " 671.78431556 671.6331521  671.48136101 671.32894482 671.17590608\n",
      " 671.02224732 670.86797109 670.71307991 670.55757634 670.40146291\n",
      " 670.24474216 670.08741663 669.92948885 669.77096137 669.61183671\n",
      " 669.45211741 669.29180601 669.13090503 668.96941701 668.80734447\n",
      " 668.64468994 668.48145595 668.31764501 668.15325965 667.98830238\n",
      " 667.82277573 667.65668219 667.49002429 667.32280452 667.1550254\n",
      " 666.98668942 666.81779909 666.64835689 666.47836531 666.30782685\n",
      " 666.13674399 665.9651192  665.79295496 665.62025375 665.44701803\n",
      " 665.27325027 665.09895291 664.92412843 664.74877926 664.57290785\n",
      " 664.39651664 664.21960807 664.04218456 663.86424855 663.68580244\n",
      " 663.50684866 663.32738961 663.1474277  662.96696532 662.78600486\n",
      " 662.60454872 662.42259926 662.24015887 662.05722991 661.87381474\n",
      " 661.68991571 661.50553518 661.32067549 661.13533897 660.94952795\n",
      " 660.76324476 660.5764917  660.38927108 660.20158521 660.01343638\n",
      " 659.82482688 659.63575899]\n",
      "[2021-05-10 11:34:27,297] {fastcat.py:572} INFO - Interpolating from 512 scatter\n",
      "[2021-05-10 11:34:27,298] {fastcat.py:572} INFO - Interpolating from 512 scatter\n",
      "[2021-05-10 11:34:27,348] {fastcat.py:620} INFO - Running Simulations\n",
      "[2021-05-10 11:34:27,349] {fastcat.py:628} INFO -     Simulating 10 keV\n",
      "[2021-05-10 11:34:27,444] {fastcat.py:628} INFO -     Simulating 20 keV\n",
      "[2021-05-10 11:34:27,540] {fastcat.py:628} INFO -     Simulating 30 keV\n",
      "[2021-05-10 11:34:27,635] {fastcat.py:628} INFO -     Simulating 40 keV\n",
      "[2021-05-10 11:34:27,740] {fastcat.py:628} INFO -     Simulating 50 keV\n",
      "[2021-05-10 11:34:27,842] {fastcat.py:628} INFO -     Simulating 60 keV\n",
      "[2021-05-10 11:34:27,936] {fastcat.py:628} INFO -     Simulating 70 keV\n",
      "[2021-05-10 11:34:28,037] {fastcat.py:628} INFO -     Simulating 80 keV\n",
      "[2021-05-10 11:34:28,137] {fastcat.py:628} INFO -     Simulating 90 keV\n",
      "[2021-05-10 11:34:28,249] {fastcat.py:628} INFO -     Simulating 100 keV\n",
      "[2021-05-10 11:34:28,346] {fastcat.py:687} INFO - Weighting simulations\n",
      "[648.33650429 648.47951663 648.62205832 648.76412844 648.90572609\n",
      " 649.04685033 649.18750027 649.327675   649.46737359 649.60659516\n",
      " 649.74533878 649.88360356 650.02138859 650.15869298 650.29551583\n",
      " 650.43185624 650.56771331 650.70308616 650.83797389 650.97237562\n",
      " 651.10629045 651.2397175  651.37265589 651.50510474 651.63706316\n",
      " 651.76853028 651.89950523 652.02998712 652.15997508 652.28946825\n",
      " 652.41846576 652.54696674 652.67497032 652.80247565 652.92948186\n",
      " 653.05598809 653.18199348 653.30749719 653.43249836 653.55699614\n",
      " 653.68098968 653.80447813 653.92746064 654.04993639 654.17190452\n",
      " 654.2933642  654.41431459 654.53475485 654.65468416 654.77410169\n",
      " 654.89300661 655.01139808 655.1292753  655.24663744 655.36348367\n",
      " 655.47981319 655.59562518 655.71091883 655.82569332 655.93994786\n",
      " 656.05368163 656.16689384 656.27958368 656.39175035 656.50339306\n",
      " 656.61451103 656.72510345 656.83516953 656.94470851 657.05371958\n",
      " 657.16220197 657.27015491 657.37757761 657.4844693  657.59082922\n",
      " 657.6966566  657.80195066 657.90671066 658.01093582 658.1146254\n",
      " 658.21777863 658.32039477 658.42247307 658.52401278 658.62501315\n",
      " 658.72547346 658.82539295 658.9247709  659.02360658 659.12189925\n",
      " 659.21964818 659.31685267 659.41351197 659.50962539 659.6051922\n",
      " 659.70021169 659.79468315 659.88860588 659.98197918 660.07480235\n",
      " 645.59840859 440.86687337 337.55572518 298.40861854 265.22956644\n",
      " 239.29625844 219.8934594  205.22643594 192.04407372 178.16238684\n",
      " 169.14593006 160.6633478  150.24244586 143.41440386 134.78645299\n",
      " 129.93360043 124.57704036 119.41492755 114.89195382 109.15309077\n",
      " 105.74256986 101.8047189   99.28125313  95.01790625  92.10813783\n",
      "  89.85882142  87.13017632  83.46060084  81.87984608  79.01778663\n",
      "  76.7276338   75.30316885  72.64102188  71.3612489   69.27406088\n",
      "  68.47082965  66.48286962  64.56283662  63.82412139  61.63304319\n",
      "  60.57980949  59.20326577  58.19966299  57.21651302  55.93134211\n",
      "  54.75971227  53.76929091  52.87610702  52.00099569  51.43241333\n",
      "  50.30350254  49.20490575  48.4038681   47.61894456  39.3162495\n",
      "  36.45244997  34.10454241  32.71077593  29.85387502  28.51986349\n",
      "  28.019462    26.91872071  25.13880714  25.2115579   24.29244288\n",
      "  25.47774829  25.91859203  28.66796791  28.61537121  28.56202951\n",
      "  28.71046806  27.93346254  28.88120998  28.82927755  29.76456231\n",
      "  30.4312529   34.0156543   33.82179709  30.31635248  28.9431252\n",
      "  29.10688132  28.3533189   27.70304678  27.26697119  26.841555\n",
      "  26.42649458  26.44743907  23.93967474  22.2815495   21.1200603\n",
      "  20.62232999  20.3178038   20.01392491  20.26251687  21.14389046\n",
      "  21.0223519   20.7173994   20.43408172  20.28437498  19.25829632\n",
      "  17.83626532  17.43234951  16.91037799  16.5858333   16.44804229\n",
      "  16.11839914  16.01768392  15.92009771  15.90562128  15.94080772\n",
      "  15.85537813  16.1229988   16.15692391  16.47382184  16.82475145\n",
      "  17.37284296  18.03847677  20.32488765  20.25088343  20.48072314\n",
      "  20.6384424   20.92276741  21.17512365  21.52146155  22.05987305\n",
      "  22.82311466  24.45605637  23.28483295  22.64502669  21.9266126\n",
      "  21.50153712  20.93386216  20.78007779  20.62875037  20.40128955\n",
      "  20.40349626  20.32754969  20.47882168  20.48072021  20.20318907\n",
      "  19.86646793  19.93877089  19.87383734  20.5406803   20.87399895\n",
      "  22.79184328  22.610225    22.58948847  22.58314979  22.5767036\n",
      "  22.75960072  22.76752043  22.96481443  23.0781522   23.41294972\n",
      "  24.05618141  24.16180868  25.71891996  25.66882958  25.63694308\n",
      "  23.12896089  22.36304904  21.65826357  21.35765053  21.08755009\n",
      "  20.97178595  20.81275555  20.82617208  20.45608966  20.10706257\n",
      "  19.75198732  19.92797649  19.90172081  20.13337736  20.65183629\n",
      "  21.45078144  23.48187372  23.68612928  23.88945041  24.11793178\n",
      "  24.61990115  25.20393803  26.27529695  26.67547805  26.67238501\n",
      "  26.79100406  26.91030229  25.77350923  24.01248553  22.77618951\n",
      "  22.01482594  21.3787768   21.31136024  21.16687445  21.4317359\n",
      "  21.78774576  21.90085946  22.00490678  22.48953479  22.96283007\n",
      "  23.44022049  25.32070523  28.60359273  28.8417753   28.8363259\n",
      "  29.07708004  29.01642912  29.20472284  29.24213322  29.26113479\n",
      "  27.53525763  26.46995333  25.62026788  25.27001733  25.15076134\n",
      "  25.14658145  25.37340058  25.37545577  25.84793787  26.58167056\n",
      "  27.21083184  28.25462591  31.82157792  32.12792694  32.39978054\n",
      "  32.34045909  29.77717022  29.150823    28.64887582  28.54395909\n",
      "  28.64768386  28.90613229  29.31542221  29.88651963  31.08964315\n",
      "  32.74499991  33.07891887  32.36115779  32.12337549  31.85899578\n",
      "  32.10405743  32.98016909  33.31925102  32.56536301  34.98594892\n",
      "  34.75491473  34.86044918  34.45034619  37.58967386  39.06446168\n",
      "  41.67485364  42.11265087  42.59208283  43.2927803   44.27701095\n",
      "  44.58419136  45.62612772  46.38022662  46.89058967  47.68170966\n",
      "  48.21005535  49.01792338  50.21694697  51.30193203  51.90739644\n",
      "  52.856185    54.12875837  55.14479101  56.57421032  57.54397599\n",
      "  58.87406468  59.8916707   60.93051285  62.50662914  63.82019157\n",
      "  65.71386388  67.27313335  68.4666205   70.52499944  71.78706218\n",
      "  73.51821635  76.21804708  78.07525744  79.98552666  82.45599665\n",
      "  85.54292003  87.32332756  90.415658    92.68108377  96.82376408\n",
      "  99.29949466 103.10110342 107.09653315 112.71149224 115.86005854\n",
      " 121.76033171 125.76798687 133.39170961 138.75513962 145.33074488\n",
      " 154.3335301  160.65561506 170.90901666 184.06276512 195.84473998\n",
      " 208.49853062 229.49506138 252.5549348  282.68725592 323.50983896\n",
      " 370.93193856 500.87257829 660.166895   660.07462159 659.98179735\n",
      " 659.88842297 659.79449917 659.70002664 659.60500608 659.5094382\n",
      " 659.41332372 659.31666334 659.2194578  659.1217078  659.02341407\n",
      " 658.92457733 658.82519833 658.72527777 658.62481641 658.52381498\n",
      " 658.42227422 658.32019487 658.21757768 658.1144234  658.01073278\n",
      " 657.90650657 657.80174553 657.69645042 657.59062201 657.48426105\n",
      " 657.37736831 657.26994458 657.16199061 657.05350718 656.94449508\n",
      " 656.83495508 656.72488796 656.61429451 656.50317552 656.39153178\n",
      " 656.27936409 656.16667323 656.05346    655.93972521 655.82546966\n",
      " 655.71069415 655.59539949 655.47958649 655.36325596 655.24640872\n",
      " 655.12904557 655.01116735 654.89277487 654.77386895 654.65445042\n",
      " 654.53452011 654.41407885 654.29312747 654.1716668  654.04969767\n",
      " 653.92722094 653.80423743 653.68074799 653.55675347 653.43225471\n",
      " 653.30725256 653.18174787 653.05574149 652.92923428 652.8022271\n",
      " 652.6747208  652.54671624 652.4182143  652.28921582 652.15972168\n",
      " 652.02973275 651.8992499  651.76827399 651.63680591 651.50484653\n",
      " 651.37239673 651.23945738 651.10602937 650.97211359 650.83771091\n",
      " 650.70282223 650.56744844 650.43159042 650.29524907 650.15842528\n",
      " 650.02111995 649.88333398 649.74506826 649.6063237  649.46710121\n",
      " 649.32740168 649.18722603 649.04657516 648.90544999 648.76385142\n",
      " 648.62178037 648.47923777]\n"
     ]
    }
   ],
   "source": [
    "s2 = fc.calculate_spectrum(120, 12, 3, 50,monitor=None)\n",
    "s2.attenuate(0.1,fc.get_mu(z=13))\n",
    "\n",
    "spectra = ['Al_spectrum_6',\n",
    "           'W_spectrum_6',\n",
    "           'kV']\n",
    "scats = []\n",
    "\n",
    "angles = np.linspace(0,np.pi*2,2)        \n",
    "phantom = fc.Catphan_515()\n",
    "s = fc.Spectrum()\n",
    "\n",
    "for spectrum in spectra:\n",
    "    \n",
    "    if spectrum == 'kV':\n",
    "        s = s2\n",
    "    else:\n",
    "        s.load(spectrum)\n",
    "        \n",
    "    kernel = fc.Kernel(s, 'CuGOS-784-micrometer')\n",
    "    scats.append(np.mean(phantom.return_projs(kernel,s,angles,det_on=False,mgy = 0.0)[0],0))\n",
    "#     print(scats[-1])"
   ]
  },
  {
   "cell_type": "code",
   "execution_count": 52,
   "metadata": {},
   "outputs": [
    {
     "data": {
      "application/vnd.jupyter.widget-view+json": {
       "model_id": "a0b128a0985043f88369d8646d4e3e64",
       "version_major": 2,
       "version_minor": 0
      },
      "text/plain": [
       "Canvas(toolbar=Toolbar(toolitems=[('Home', 'Reset original view', 'home', 'home'), ('Back', 'Back to previous …"
      ]
     },
     "metadata": {},
     "output_type": "display_data"
    }
   ],
   "source": [
    "import pandas as pd\n",
    "import scipy as sp\n",
    "d_norm = doses#/sum(doses)\n",
    "doses_fc2 = np.array(doses_fc)\n",
    "doses_fc2 = doses_fc2[indeces]\n",
    "shorts = ['120 kVp', 'C 2.5 MV', 'Al 2.5 MV', 'C 6 MV',\n",
    "       'Al 6 MV', 'W 2.5 MV', 'W 6 MV']\n",
    "fig = plt.figure(figsize=[8,4])#,dpi=300)\n",
    "ax1 = fig.add_subplot(121)\n",
    "# scats = np.load('../data_second_paper/curves_all.npy')\n",
    "real_spec = np.load('../data/w_spec_profile.npy')\n",
    "real_spec_CT = np.load('/home/xcite/scintillators/Catphan_dose/batch_submission_W/analysis/Readout_0000.phsp.npy')\n",
    "real_spec_kV = np.load('/home/xcite/scintillators/topas_sim_cugos/kV_averaged_slice.npy')\n",
    "dist = np.linspace(-256*0.0784 - 0.0392,256*0.0784 - 0.0392, 512)\n",
    "plt.plot(dist,scats[0],linewidth = 1.0,color = 'cornflowerblue')\n",
    "plt.plot(dist,scats[1],linewidth = 1.0,color = 'darkorange')\n",
    "plt.plot(dist,scats[2],linewidth = 1.0,color = 'gray')\n",
    "plt.plot(dist,real_spec,'k-',linewidth = 0.4)\n",
    "plt.plot(dist,np.mean(real_spec_CT,0),'k-.',linewidth = 0.4,markersize=0.4)\n",
    "dist2 = dist*1.04\n",
    "plt.plot(dist2,real_spec_kV,'k--',linewidth = 0.6)\n",
    "plt.plot(dist,scats[2],linewidth = 1.0,color = 'gray')\n",
    "# plt.grid('on')\n",
    "plt.xlim([-20,20])\n",
    "plt.ylim([0,1000])\n",
    "fig.legend(['fastCAT 6 MV Al', 'fastCAT 6 MV W',\n",
    "            'fastCAT 120 kVp','Topas 6 MV Al', 'Topas 6 MV W', 'Topas 120 kVp'],\n",
    "           loc='upper right', bbox_to_anchor=(0.55,1.00),prop={\"size\":'small'})\n",
    "plt.xlabel('[cm]')\n",
    "plt.ylabel('Counts')\n",
    "\n",
    "axins = ax1.inset_axes([0.26, 0.45, 0.44, 0.54])\n",
    "axins.plot(dist,scats[0],linewidth = 1.0,color = 'cornflowerblue')\n",
    "axins.plot(dist,scats[1],linewidth = 1.0,color = 'darkorange')\n",
    "axins.plot(dist,scats[2],linewidth = 1.0,color = 'gray')\n",
    "axins.plot(dist,real_spec,'k-',linewidth = 0.4)\n",
    "axins.plot(dist,np.mean(real_spec_CT,0),'k-.',linewidth = 0.4,markersize=0.4)\n",
    "axins.plot(dist2,real_spec_kV,'k--',linewidth = 0.6)\n",
    "\n",
    "np.save('../scripts/test_data/MC_kV_120_counts',np.interp(dist,dist2,real_spec_kV))\n",
    "np.save('../scripts/test_data/MC_MV_6xW_counts',np.mean(real_spec_CT,0))\n",
    "np.save('../scripts/test_data/MC_MV_6Al_counts',real_spec)\n",
    "# # axins.plot(dist,scats[2],linewidth = 1.0,color = 'gray')\n",
    "x1, x2, y1, y2 = -8, 8, 10, 55\n",
    "axins.set_xlim(x1, x2)\n",
    "axins.set_ylim(y1, y2)\n",
    "axins.set_xticklabels('')\n",
    "axins.set_yticklabels('')\n",
    "ax1.indicate_inset_zoom(axins)\n",
    "\n",
    "topas = np.load('/home/xcite/scintillators/Catphan_dose/batch_submission/projs_new_npys.npy')\n",
    "fastCat = np.load('/home/xcite/fastcat-0.0.1/fastcat/data/projs/similar_noise8.npy')#fastCat_topas_equiv_8cm_W.npy')\n",
    "ax = fig.add_subplot(122)#,box_aspect=1.5)\n",
    "plt.fill_between(np.linspace(-20,20,512),np.mean(fastCat.T[:,:,0],1)/10-np.std(fastCat.T[:,:,0],1)/10, \n",
    "                 np.mean(fastCat.T[:,:,0],1)/10+np.std(fastCat.T[:,:,0],1)/10 ,alpha=0.3, facecolor='cornflowerblue')\n",
    "plt.fill_between(np.linspace(-20,20,512),np.mean(topas.T[:,:64,0],1)-np.std(topas.T[:,:64,0],1),\n",
    "                 np.mean(topas.T[:,:64,0],1)+np.std(topas.T[:,:64,0],1),alpha=0.3, facecolor='k')\n",
    "plt.plot(np.linspace(-20,20,512),np.mean(fastCat.T[:,:,0],1)/10,lineWidth= .5,color='b')\n",
    "plt.plot(np.linspace(-20,20,512),np.mean(topas.T[:,:64,0],1),lineWidth= .5,color='k')\n",
    "plt.plot(np.linspace(-20,20,512),np.mean(topas.T[:,:64,0],1)+np.std(topas.T[:,:64,0],1),'k--',lineWidth= .5)\n",
    "plt.plot(np.linspace(-20,20,512),np.mean(fastCat.T[:,:,0],1)/10+np.std(fastCat.T[:,:,0],1)/10,'--',lineWidth= .5,color='cornflowerblue',alpha=0.8)\n",
    "plt.plot(np.linspace(-20,20,512),np.mean(topas.T[:,:64,0],1)-np.std(topas.T[:,:64,0],1),'k--',lineWidth= .5)\n",
    "plt.plot(np.linspace(-20,20,512),np.mean(fastCat.T[:,:,0],1)/10-np.std(fastCat.T[:,:,0],1)/10,'--',lineWidth= .5,color='cornflowerblue',alpha=0.8)\n",
    "plt.legend(['$\\hat{\\mu}$ fastCAT', '$\\hat{\\mu}$ Topas', '$\\hat{\\sigma}$ Topas', '$\\hat{\\sigma}$ fastCAT'],\n",
    "           loc='upper right',prop={\"size\":'small'},bbox_to_anchor=(1.05,1.05))\n",
    "# inset axes....\n",
    "axins = ax.inset_axes([0.3, 0.05, 0.4, 0.4])\n",
    "axins.fill_between(np.linspace(-20,20,512),np.mean(fastCat.T[:,:,0],1)/10-np.std(fastCat.T[:,:,0],1)/10, \n",
    "                 np.mean(fastCat.T[:,:,0],1)/10+np.std(fastCat.T[:,:,0],1)/10 ,alpha=0.3, facecolor='cornflowerblue')\n",
    "axins.fill_between(np.linspace(-20,20,512),np.mean(topas.T[:,:64,0],1)-np.std(topas.T[:,:64,0],1),\n",
    "                 np.mean(topas.T[:,:64,0],1)+np.std(topas.T[:,:64,0],1),alpha=0.3, facecolor='k')\n",
    "axins.plot(np.linspace(-20,20,512),np.mean(topas.T[:,:64,0],1)+np.std(topas.T[:,:64,0],1),'k--',lineWidth= .5)\n",
    "axins.plot(np.linspace(-20,20,512),np.mean(fastCat.T[:,:,0],1)/10+np.std(fastCat.T[:,:,0],1)/10,'--',lineWidth= .5,color='cornflowerblue',alpha=0.8)\n",
    "axins.plot(np.linspace(-20,20,512),np.mean(topas.T[:,:64,0],1)-np.std(topas.T[:,:64,0],1),'k--',lineWidth= .5)\n",
    "axins.plot(np.linspace(-20,20,512),np.mean(fastCat.T[:,:,0],1)/10-np.std(fastCat.T[:,:,0],1)/10,'--',lineWidth= .5,color='cornflowerblue',alpha=0.8)\n",
    "axins.plot(np.linspace(-20,20,512),np.mean(fastCat.T[:,:,0],1)/10,lineWidth= .5,color='b')\n",
    "axins.plot(np.linspace(-20,20,512),np.mean(topas.T[:,:64,0],1),lineWidth= .5,color='k')\n",
    "\n",
    "plt.xlim([-20,20])\n",
    "plt.ylim([-0.5,1.5])\n",
    "# plt.grid()\n",
    "# sub region of the original image\n",
    "x1, x2, y1, y2 = -5, 5, 0.8, 1.1\n",
    "axins.set_xlim(x1, x2)\n",
    "axins.set_ylim(y1, y2)\n",
    "axins.set_xticklabels('')\n",
    "axins.set_yticklabels('')\n",
    "plt.ylabel('$\\mu x$')\n",
    "plt.xlabel('[cm]')\n",
    "plt.tight_layout()\n",
    "ax.indicate_inset_zoom(axins)\n",
    "# plt.subplot(223)\n",
    "# # plt.plot(doses_fc2,d_norm/20000000/(1.6021766e-16 * 1000),'kx')\n",
    "# pp = np.polyfit(doses_fc2,d_norm/20000000/(1.6021766e-16 * 1000),1)\n",
    "# xx = np.linspace(0.040,0.2,100)\n",
    "# yy = np.polyval(pp,xx)\n",
    "# # plt.plot(xx,yy,':',color='cornflowerblue')\n",
    "# # plt.ylabel('fastCAT')\n",
    "# # plt.xlabel('Topas')\n",
    "# slope, intercept, r_value, p_value, std_err = sp.stats.linregress(doses_fc2,d_norm/20000000/(1.6021766e-16 * 1000),)\n",
    "# # plt.legend(['Simulations',f'linear fit: y = {np.round(pp[0],3)}x + {np.round(pp[1],3)}, \\n $r^2$= {np.round(r_value,4)}'])\n",
    "# plt.plot(doses_fc2*pp[0] + pp[1],'*',color='cornflowerblue')\n",
    "# plt.plot(dat,'k+')\n",
    "# # plt.plot(doses_fc/sum(doses_fc),'x')\n",
    "# plt.xticks(rotation=75)\n",
    "# plt.ylabel('MeV/photon')\n",
    "# plt.legend(['fastCAT','Topas'])\n",
    "plt.tight_layout()\n",
    "# plt.savefig('/home/xcite/fastcat_paper/figures/one_slice_comparison_2panel.pdf')"
   ]
  },
  {
   "cell_type": "code",
   "execution_count": 35,
   "metadata": {},
   "outputs": [
    {
     "data": {
      "text/plain": [
       "{'phantom': array([[[0., 0., 0., ..., 0., 0., 0.],\n",
       "         [0., 0., 0., ..., 0., 0., 0.],\n",
       "         [0., 0., 0., ..., 0., 0., 0.],\n",
       "         ...,\n",
       "         [0., 0., 0., ..., 0., 0., 0.],\n",
       "         [0., 0., 0., ..., 0., 0., 0.],\n",
       "         [0., 0., 0., ..., 0., 0., 0.]],\n",
       " \n",
       "        [[0., 0., 0., ..., 0., 0., 0.],\n",
       "         [0., 0., 0., ..., 0., 0., 0.],\n",
       "         [0., 0., 0., ..., 0., 0., 0.],\n",
       "         ...,\n",
       "         [0., 0., 0., ..., 0., 0., 0.],\n",
       "         [0., 0., 0., ..., 0., 0., 0.],\n",
       "         [0., 0., 0., ..., 0., 0., 0.]],\n",
       " \n",
       "        [[0., 0., 0., ..., 0., 0., 0.],\n",
       "         [0., 0., 0., ..., 0., 0., 0.],\n",
       "         [0., 0., 0., ..., 0., 0., 0.],\n",
       "         ...,\n",
       "         [0., 0., 0., ..., 0., 0., 0.],\n",
       "         [0., 0., 0., ..., 0., 0., 0.],\n",
       "         [0., 0., 0., ..., 0., 0., 0.]],\n",
       " \n",
       "        ...,\n",
       " \n",
       "        [[0., 0., 0., ..., 0., 0., 0.],\n",
       "         [0., 0., 0., ..., 0., 0., 0.],\n",
       "         [0., 0., 0., ..., 0., 0., 0.],\n",
       "         ...,\n",
       "         [0., 0., 0., ..., 0., 0., 0.],\n",
       "         [0., 0., 0., ..., 0., 0., 0.],\n",
       "         [0., 0., 0., ..., 0., 0., 0.]],\n",
       " \n",
       "        [[0., 0., 0., ..., 0., 0., 0.],\n",
       "         [0., 0., 0., ..., 0., 0., 0.],\n",
       "         [0., 0., 0., ..., 0., 0., 0.],\n",
       "         ...,\n",
       "         [0., 0., 0., ..., 0., 0., 0.],\n",
       "         [0., 0., 0., ..., 0., 0., 0.],\n",
       "         [0., 0., 0., ..., 0., 0., 0.]],\n",
       " \n",
       "        [[0., 0., 0., ..., 0., 0., 0.],\n",
       "         [0., 0., 0., ..., 0., 0., 0.],\n",
       "         [0., 0., 0., ..., 0., 0., 0.],\n",
       "         ...,\n",
       "         [0., 0., 0., ..., 0., 0., 0.],\n",
       "         [0., 0., 0., ..., 0., 0., 0.],\n",
       "         [0., 0., 0., ..., 0., 0., 0.]]]),\n",
       " 'geomet': <tigre.utilities.geometry_default.ConeGeometryDefault at 0x7f91d641e310>,\n",
       " 'phan_map': ['air',\n",
       "  'water',\n",
       "  'G4_LUNG_ICRP',\n",
       "  'G4_BONE_COMPACT_ICRU',\n",
       "  'G4_BONE_CORTICAL_ICRP',\n",
       "  'G4_ADIPOSE_TISSUE_ICRP',\n",
       "  'G4_BRAIN_ICRP',\n",
       "  'G4_B-100_BONE'],\n",
       " 'tigre_works': True,\n",
       " 'angles': array([0.        , 6.28318531]),\n",
       " 'weights_small': array([0.00304636, 0.0907738 , 0.19288334, 0.19303975, 0.15819242,\n",
       "        0.12219271, 0.08390375, 0.06061803, 0.04493341, 0.05041644,\n",
       "        0.        , 0.        , 0.        , 0.        , 0.        ,\n",
       "        0.        , 0.        , 0.        ]),\n",
       " 'weights_small2': array([0.00304636, 0.0907738 , 0.19288334, 0.19303975, 0.15819242,\n",
       "        0.12219271, 0.08390375, 0.06061803, 0.04493341, 0.05041644,\n",
       "        0.        , 0.        , 0.        , 0.        , 0.        ,\n",
       "        0.        , 0.        , 0.        ]),\n",
       " 'weights_small3': nan,\n",
       " 'mc_scatter': array([[1.45581542e-02, 3.25048642e-01, 2.23797208e+00, ...,\n",
       "         1.77974256e+01, 1.73203587e+01, 3.49230909e+00],\n",
       "        [1.40878358e-02, 3.21917660e-01, 2.23673260e+00, ...,\n",
       "         1.78738408e+01, 1.74185275e+01, 3.51467568e+00],\n",
       "        [1.36344041e-02, 3.18828504e-01, 2.23549848e+00, ...,\n",
       "         1.79502934e+01, 1.75168784e+01, 3.53710015e+00],\n",
       "        ...,\n",
       "        [1.31980441e-02, 3.15786464e-01, 2.23427213e+00, ...,\n",
       "         1.80266315e+01, 1.76152155e+01, 3.55953778e+00],\n",
       "        [1.36352737e-02, 3.18834497e-01, 2.23550089e+00, ...,\n",
       "         1.79501440e+01, 1.75166861e+01, 3.53705630e+00],\n",
       "        [1.40887377e-02, 3.21923734e-01, 2.23673501e+00, ...,\n",
       "         1.78736915e+01, 1.74183356e+01, 3.51463194e+00]])}"
      ]
     },
     "execution_count": 35,
     "metadata": {},
     "output_type": "execute_result"
    }
   ],
   "source": [
    "phantom.__dict__"
   ]
  },
  {
   "cell_type": "code",
   "execution_count": 47,
   "metadata": {},
   "outputs": [
    {
     "data": {
      "application/vnd.jupyter.widget-view+json": {
       "model_id": "97866c0df1e44a7b9429235d2ae4e690",
       "version_major": 2,
       "version_minor": 0
      },
      "text/plain": [
       "Canvas(toolbar=Toolbar(toolitems=[('Home', 'Reset original view', 'home', 'home'), ('Back', 'Back to previous …"
      ]
     },
     "metadata": {},
     "output_type": "display_data"
    },
    {
     "name": "stdout",
     "output_type": "stream",
     "text": [
      "[2021-05-10 11:36:52,633] {ticker.py:2477} DEBUG - vmin 18.566967297413132 vmax 378306046.83504766\n",
      "[2021-05-10 11:36:52,633] {ticker.py:2528} DEBUG - ticklocs array([2.e+00, 3.e+00, 4.e+00, 5.e+00, 6.e+00, 7.e+00, 8.e+00, 9.e+00,\n",
      "       2.e+01, 3.e+01, 4.e+01, 5.e+01, 6.e+01, 7.e+01, 8.e+01, 9.e+01,\n",
      "       2.e+02, 3.e+02, 4.e+02, 5.e+02, 6.e+02, 7.e+02, 8.e+02, 9.e+02,\n",
      "       2.e+03, 3.e+03, 4.e+03, 5.e+03, 6.e+03, 7.e+03, 8.e+03, 9.e+03,\n",
      "       2.e+04, 3.e+04, 4.e+04, 5.e+04, 6.e+04, 7.e+04, 8.e+04, 9.e+04,\n",
      "       2.e+05, 3.e+05, 4.e+05, 5.e+05, 6.e+05, 7.e+05, 8.e+05, 9.e+05,\n",
      "       2.e+06, 3.e+06, 4.e+06, 5.e+06, 6.e+06, 7.e+06, 8.e+06, 9.e+06,\n",
      "       2.e+07, 3.e+07, 4.e+07, 5.e+07, 6.e+07, 7.e+07, 8.e+07, 9.e+07,\n",
      "       2.e+08, 3.e+08, 4.e+08, 5.e+08, 6.e+08, 7.e+08, 8.e+08, 9.e+08,\n",
      "       2.e+09, 3.e+09, 4.e+09, 5.e+09, 6.e+09, 7.e+09, 8.e+09, 9.e+09,\n",
      "       2.e+10, 3.e+10, 4.e+10, 5.e+10, 6.e+10, 7.e+10, 8.e+10, 9.e+10])\n",
      "[2021-05-10 11:36:52,706] {ticker.py:2477} DEBUG - vmin 18.566967297413132 vmax 378306046.83504766\n",
      "[2021-05-10 11:36:52,706] {ticker.py:2528} DEBUG - ticklocs array([2.e+00, 3.e+00, 4.e+00, 5.e+00, 6.e+00, 7.e+00, 8.e+00, 9.e+00,\n",
      "       2.e+01, 3.e+01, 4.e+01, 5.e+01, 6.e+01, 7.e+01, 8.e+01, 9.e+01,\n",
      "       2.e+02, 3.e+02, 4.e+02, 5.e+02, 6.e+02, 7.e+02, 8.e+02, 9.e+02,\n",
      "       2.e+03, 3.e+03, 4.e+03, 5.e+03, 6.e+03, 7.e+03, 8.e+03, 9.e+03,\n",
      "       2.e+04, 3.e+04, 4.e+04, 5.e+04, 6.e+04, 7.e+04, 8.e+04, 9.e+04,\n",
      "       2.e+05, 3.e+05, 4.e+05, 5.e+05, 6.e+05, 7.e+05, 8.e+05, 9.e+05,\n",
      "       2.e+06, 3.e+06, 4.e+06, 5.e+06, 6.e+06, 7.e+06, 8.e+06, 9.e+06,\n",
      "       2.e+07, 3.e+07, 4.e+07, 5.e+07, 6.e+07, 7.e+07, 8.e+07, 9.e+07,\n",
      "       2.e+08, 3.e+08, 4.e+08, 5.e+08, 6.e+08, 7.e+08, 8.e+08, 9.e+08,\n",
      "       2.e+09, 3.e+09, 4.e+09, 5.e+09, 6.e+09, 7.e+09, 8.e+09, 9.e+09,\n",
      "       2.e+10, 3.e+10, 4.e+10, 5.e+10, 6.e+10, 7.e+10, 8.e+10, 9.e+10])\n"
     ]
    }
   ],
   "source": [
    "plt.figure()#figsize=[8,4],dpi=300)\n",
    "\n",
    "plt.subplot(121)\n",
    "dat = pd.DataFrame(d_norm/20000000/(1.6021766e-16 * 1000),index=shorts)\n",
    "# plt.plot(doses_fc2,d_norm/20000000/(1.6021766e-16 * 1000),'kx')\n",
    "pp = np.polyfit(doses_fc2,d_norm/20000000/(1.6021766e-16 * 1000),1)\n",
    "xx = np.linspace(0.040,0.2,100)\n",
    "yy = np.polyval(pp,xx)\n",
    "# plt.plot(xx,yy,':',color='cornflowerblue')\n",
    "# plt.ylabel('fastCAT')\n",
    "# plt.xlabel('Topas')\n",
    "slope, intercept, r_value, p_value, std_err = sp.stats.linregress(doses_fc2,d_norm/20000000/(1.6021766e-16 * 1000),)\n",
    "# plt.legend(['Simulations',f'linear fit: y = {np.round(pp[0],3)}x + {np.round(pp[1],3)}, \\n $r^2$= {np.round(r_value,4)}'])\n",
    "# pp = np.array([0.88759883, 0.01035186])\n",
    "plt.plot(doses_fc2*pp[0] + pp[1],'*',color='cornflowerblue')\n",
    "plt.plot(dat,'k+')\n",
    "# plt.plot(doses_fc/sum(doses_fc),'x')\n",
    "plt.xticks(rotation=75)\n",
    "plt.ylabel('MeV/photon')\n",
    "plt.legend(['fastCAT','Topas'])\n",
    "plt.grid()\n",
    "plt.title('Dose Comparison')\n",
    "\n",
    "\n",
    "plt.subplot(122)\n",
    "\n",
    "nphot = 360*1e9\n",
    "\n",
    "dat2 = [489/1000000*nphot,27.86/1000000*nphot,61.1,39.9]\n",
    "\n",
    "plt.semilogy(dat2,'k*')\n",
    "plt.grid('on')\n",
    "plt.ylabel('log compute time [core s]')\n",
    "plt.xticks([0,1,2,3],labels=['Topas MC*','fastEPID*','fastCAT 1024$^2$x10','fastCAT 512$^2$x10'],rotation= 45)\n",
    "plt.yticks([60,60*60,60*60*24,60*60*24*30,60*60*24*365],['minute','hour','day','month','year'])\n",
    "plt.title('Compute Time')\n",
    "\n",
    "plt.tight_layout()\n",
    "# plt.savefig('/home/xcite/fastcat_paper/figures/misc.pdf')"
   ]
  },
  {
   "cell_type": "code",
   "execution_count": 11,
   "metadata": {},
   "outputs": [
    {
     "data": {
      "text/plain": [
       "array([0.85909993, 0.01181788])"
      ]
     },
     "execution_count": 11,
     "metadata": {},
     "output_type": "execute_result"
    }
   ],
   "source": [
    "pp"
   ]
  },
  {
   "cell_type": "markdown",
   "metadata": {},
   "source": [
    "Looking at the values"
   ]
  },
  {
   "cell_type": "code",
   "execution_count": 18,
   "metadata": {},
   "outputs": [],
   "source": [
    "plt.savefig('/home/xcite/fastcat_paper/figures/dose_one_slice_rework.pdf')"
   ]
  },
  {
   "cell_type": "code",
   "execution_count": 10,
   "metadata": {},
   "outputs": [
    {
     "data": {
      "text/plain": [
       "(array([0.04283553, 0.0504745 , 0.09154681, 0.10323796, 0.10859034,\n",
       "        0.19458845]),\n",
       "                   0\n",
       " C 2.5 MV   0.040992\n",
       " Al 2.5 MV  0.050360\n",
       " C 6 MV     0.093599\n",
       " Al 6 MV    0.103112\n",
       " W 2.5 MV   0.109711\n",
       " W 6 MV     0.193500)"
      ]
     },
     "execution_count": 10,
     "metadata": {},
     "output_type": "execute_result"
    }
   ],
   "source": [
    "doses_fc2*pp[0] + pp[1],dat"
   ]
  },
  {
   "cell_type": "code",
   "execution_count": 15,
   "metadata": {},
   "outputs": [
    {
     "data": {
      "text/plain": [
       "0.014372635750154142"
      ]
     },
     "execution_count": 15,
     "metadata": {},
     "output_type": "execute_result"
    }
   ],
   "source": [
    "np.mean(np.abs((doses_fc2*pp[0] + pp[1]) - d_norm/20000000/(1.6021766e-16 * 1000))/(d_norm/20000000/(1.6021766e-16 * 1000)))"
   ]
  },
  {
   "cell_type": "code",
   "execution_count": 20,
   "metadata": {},
   "outputs": [
    {
     "data": {
      "text/plain": [
       "array([ 0.04497158,  0.00227608, -0.0219252 ,  0.00122614, -0.01021328,\n",
       "        0.00562353])"
      ]
     },
     "execution_count": 20,
     "metadata": {},
     "output_type": "execute_result"
    }
   ],
   "source": [
    "((doses_fc2*pp[0] + pp[1]) - d_norm/20000000/(1.6021766e-16 * 1000))/(d_norm/20000000/(1.6021766e-16 * 1000))"
   ]
  },
  {
   "cell_type": "code",
   "execution_count": 52,
   "metadata": {},
   "outputs": [
    {
     "data": {
      "text/plain": [
       "0.0021329402210526808"
      ]
     },
     "execution_count": 52,
     "metadata": {},
     "output_type": "execute_result"
    }
   ],
   "source": [
    "(np.mean(np.std(topas.T[:,:64,0],1)) - np.mean(np.std(fastCat.T[:,:,0],1))/10)/np.mean(np.std(topas.T[:,:64,0],1))"
   ]
  },
  {
   "cell_type": "markdown",
   "metadata": {},
   "source": [
    "Saving the figure"
   ]
  },
  {
   "cell_type": "code",
   "execution_count": 48,
   "metadata": {},
   "outputs": [],
   "source": [
    "plt.savefig('/home/xcite/fastcat_paper/figures/Dose_comparison.pdf')"
   ]
  },
  {
   "cell_type": "code",
   "execution_count": 18,
   "metadata": {},
   "outputs": [
    {
     "data": {
      "text/plain": [
       "661.2578761631801"
      ]
     },
     "execution_count": 18,
     "metadata": {},
     "output_type": "execute_result"
    }
   ],
   "source": [
    "2e8/((np.pi*0.2402**2)/(0.000784**2))*0.975"
   ]
  },
  {
   "cell_type": "code",
   "execution_count": 37,
   "metadata": {},
   "outputs": [],
   "source": [
    "def get_dose_nphoton(nphot):\n",
    "    \n",
    "     return nphot/2e7\n",
    "\n",
    "def get_dose_mgy(mgy,doses,fluence_small):\n",
    "    \n",
    "    nphoton = mgy/(get_dose_per_photon(doses,fluence_small)*(1.6021766e-13))\n",
    "    \n",
    "    return get_dose_nphoton(nphoton)\n",
    "\n",
    "def get_dose_per_photon(doses,fluence_small):\n",
    "    \n",
    "    # linear fit of the data\n",
    "    pp = np.array([0.88759883, 0.01035186])\n",
    "    \n",
    "    return ((doses/1000)@((fluence_small)))*pp[0] + pp[1]"
   ]
  },
  {
   "cell_type": "code",
   "execution_count": 38,
   "metadata": {},
   "outputs": [
    {
     "data": {
      "text/plain": [
       "0.9944079327070916"
      ]
     },
     "execution_count": 38,
     "metadata": {},
     "output_type": "execute_result"
    }
   ],
   "source": [
    "get_dose_mgy(6.200432949299284e-07,res[0][0],fluence_small)"
   ]
  },
  {
   "cell_type": "code",
   "execution_count": 75,
   "metadata": {},
   "outputs": [
    {
     "data": {
      "text/plain": [
       "1.2400865898598567e-07"
      ]
     },
     "execution_count": 75,
     "metadata": {},
     "output_type": "execute_result"
    }
   ],
   "source": [
    "6.200432949299284e-07/5"
   ]
  },
  {
   "cell_type": "code",
   "execution_count": 33,
   "metadata": {},
   "outputs": [
    {
     "data": {
      "text/plain": [
       "207.56740311675884"
      ]
     },
     "execution_count": 33,
     "metadata": {},
     "output_type": "execute_result"
    }
   ],
   "source": [
    "res[0][0]@fluence_small"
   ]
  },
  {
   "cell_type": "code",
   "execution_count": 39,
   "metadata": {},
   "outputs": [
    {
     "data": {
      "text/plain": [
       "array([  7.322962 ,   5.8936324,   5.1525   ,   5.0460963,   5.3763123,\n",
       "         5.9740257,   6.777807 ,   7.722383 ,  36.739555 ,  70.566284 ,\n",
       "       104.3179   , 136.949    , 152.75479  , 290.1809   , 504.5699   ,\n",
       "       688.20984  ], dtype=float32)"
      ]
     },
     "execution_count": 39,
     "metadata": {},
     "output_type": "execute_result"
    }
   ],
   "source": [
    "res[0][0]"
   ]
  },
  {
   "cell_type": "code",
   "execution_count": 40,
   "metadata": {},
   "outputs": [
    {
     "data": {
      "text/plain": [
       "array([  7.322962 ,   5.8936324,   5.1525   ,   5.0460963,   5.3763123,\n",
       "         5.9740257,   6.777807 ,   7.722383 ,  36.739555 ,  70.566284 ,\n",
       "       104.3179   , 136.949    , 152.75479  , 290.1809   , 504.5699   ,\n",
       "       688.20984  ], dtype=float32)"
      ]
     },
     "execution_count": 40,
     "metadata": {},
     "output_type": "execute_result"
    }
   ],
   "source": [
    "res[0][0]"
   ]
  },
  {
   "cell_type": "code",
   "execution_count": 13,
   "metadata": {},
   "outputs": [
    {
     "ename": "FileNotFoundError",
     "evalue": "[Errno 2] No such file or directory: '/home/xcite/fastCAT/xpecgen/data/projs/similar_noise7.npy'",
     "output_type": "error",
     "traceback": [
      "\u001b[0;31m---------------------------------------------------------------------------\u001b[0m",
      "\u001b[0;31mFileNotFoundError\u001b[0m                         Traceback (most recent call last)",
      "\u001b[0;32m<ipython-input-13-bcfba69679bb>\u001b[0m in \u001b[0;36m<module>\u001b[0;34m\u001b[0m\n\u001b[1;32m      2\u001b[0m \u001b[0;34m\u001b[0m\u001b[0m\n\u001b[1;32m      3\u001b[0m \u001b[0;31m# for figures W25CWOcoh_working.npy\u001b[0m\u001b[0;34m\u001b[0m\u001b[0;34m\u001b[0m\u001b[0;34m\u001b[0m\u001b[0m\n\u001b[0;32m----> 4\u001b[0;31m \u001b[0mfastCat\u001b[0m \u001b[0;34m=\u001b[0m \u001b[0mnp\u001b[0m\u001b[0;34m.\u001b[0m\u001b[0mload\u001b[0m\u001b[0;34m(\u001b[0m\u001b[0;34m'/home/xcite/fastCAT/xpecgen/data/projs/similar_noise7.npy'\u001b[0m\u001b[0;34m)\u001b[0m\u001b[0;31m#fastCat_topas_equiv_8cm_W.npy')\u001b[0m\u001b[0;34m\u001b[0m\u001b[0;34m\u001b[0m\u001b[0m\n\u001b[0m\u001b[1;32m      5\u001b[0m \u001b[0;34m\u001b[0m\u001b[0m\n\u001b[1;32m      6\u001b[0m \u001b[0mfig\u001b[0m \u001b[0;34m=\u001b[0m \u001b[0mplt\u001b[0m\u001b[0;34m.\u001b[0m\u001b[0mfigure\u001b[0m\u001b[0;34m(\u001b[0m\u001b[0mfigsize\u001b[0m\u001b[0;34m=\u001b[0m\u001b[0;34m[\u001b[0m\u001b[0;36m6\u001b[0m\u001b[0;34m,\u001b[0m\u001b[0;36m4\u001b[0m\u001b[0;34m]\u001b[0m\u001b[0;34m,\u001b[0m\u001b[0mdpi\u001b[0m\u001b[0;34m=\u001b[0m\u001b[0;36m300\u001b[0m\u001b[0;34m)\u001b[0m\u001b[0;34m\u001b[0m\u001b[0;34m\u001b[0m\u001b[0m\n",
      "\u001b[0;32m~/anaconda3/lib/python3.7/site-packages/numpy/lib/npyio.py\u001b[0m in \u001b[0;36mload\u001b[0;34m(file, mmap_mode, allow_pickle, fix_imports, encoding)\u001b[0m\n\u001b[1;32m    414\u001b[0m             \u001b[0mown_fid\u001b[0m \u001b[0;34m=\u001b[0m \u001b[0;32mFalse\u001b[0m\u001b[0;34m\u001b[0m\u001b[0;34m\u001b[0m\u001b[0m\n\u001b[1;32m    415\u001b[0m         \u001b[0;32melse\u001b[0m\u001b[0;34m:\u001b[0m\u001b[0;34m\u001b[0m\u001b[0;34m\u001b[0m\u001b[0m\n\u001b[0;32m--> 416\u001b[0;31m             \u001b[0mfid\u001b[0m \u001b[0;34m=\u001b[0m \u001b[0mstack\u001b[0m\u001b[0;34m.\u001b[0m\u001b[0menter_context\u001b[0m\u001b[0;34m(\u001b[0m\u001b[0mopen\u001b[0m\u001b[0;34m(\u001b[0m\u001b[0mos_fspath\u001b[0m\u001b[0;34m(\u001b[0m\u001b[0mfile\u001b[0m\u001b[0;34m)\u001b[0m\u001b[0;34m,\u001b[0m \u001b[0;34m\"rb\"\u001b[0m\u001b[0;34m)\u001b[0m\u001b[0;34m)\u001b[0m\u001b[0;34m\u001b[0m\u001b[0;34m\u001b[0m\u001b[0m\n\u001b[0m\u001b[1;32m    417\u001b[0m             \u001b[0mown_fid\u001b[0m \u001b[0;34m=\u001b[0m \u001b[0;32mTrue\u001b[0m\u001b[0;34m\u001b[0m\u001b[0;34m\u001b[0m\u001b[0m\n\u001b[1;32m    418\u001b[0m \u001b[0;34m\u001b[0m\u001b[0m\n",
      "\u001b[0;31mFileNotFoundError\u001b[0m: [Errno 2] No such file or directory: '/home/xcite/fastCAT/xpecgen/data/projs/similar_noise7.npy'"
     ]
    }
   ],
   "source": [
    "topas = np.load('/home/xcite/scintillators/Catphan_dose/batch_submission/projs_new_npys.npy')\n",
    "\n",
    "# for figures W25CWOcoh_working.npy\n",
    "fastCat = np.load('/home/xcite/fastCAT/xpecgen/data/projs/similar_noise7.npy')#fastCat_topas_equiv_8cm_W.npy')\n",
    "\n",
    "fig = plt.figure(figsize=[6,4],dpi=300)\n",
    "\n",
    "ax = fig.add_subplot(111)\n",
    "\n",
    "plt.fill_between(np.linspace(-20,20,512),np.mean(fastCat.T[:,:,0],1)/10-np.std(fastCat.T[:,:,0],1)/10, \n",
    "                 np.mean(fastCat.T[:,:,0],1)/10+np.std(fastCat.T[:,:,0],1)/10 ,alpha=0.3, facecolor='cornflowerblue')\n",
    "\n",
    "plt.fill_between(np.linspace(-20,20,512),np.mean(topas.T[:,:64,0],1)-np.std(topas.T[:,:64,0],1),\n",
    "                 np.mean(topas.T[:,:64,0],1)+np.std(topas.T[:,:64,0],1),alpha=0.3, facecolor='k')\n",
    "plt.plot(np.linspace(-20,20,512),np.mean(fastCat.T[:,:,0],1)/10,lineWidth= .5,color='b')\n",
    "plt.plot(np.linspace(-20,20,512),np.mean(topas.T[:,:64,0],1),lineWidth= .5,color='k')\n",
    "    \n",
    "plt.plot(np.linspace(-20,20,512),np.mean(topas.T[:,:64,0],1)+np.std(topas.T[:,:64,0],1),'k--',lineWidth= .5)\n",
    "\n",
    "plt.plot(np.linspace(-20,20,512),np.mean(fastCat.T[:,:,0],1)/10+np.std(fastCat.T[:,:,0],1)/10,'--',lineWidth= .5,color='cornflowerblue',alpha=0.8)\n",
    "\n",
    "plt.plot(np.linspace(-20,20,512),np.mean(topas.T[:,:64,0],1)-np.std(topas.T[:,:64,0],1),'k--',lineWidth= .5)\n",
    "\n",
    "plt.plot(np.linspace(-20,20,512),np.mean(fastCat.T[:,:,0],1)/10-np.std(fastCat.T[:,:,0],1)/10,'--',lineWidth= .5,color='cornflowerblue',alpha=0.8)\n",
    "\n",
    "plt.legend(['$\\hat{\\mu}$ Topas','$\\hat{\\mu}$ fastCat', '$\\hat{\\sigma}$ Topas', '$\\hat{\\sigma}$ fastCAT'])\n",
    "            \n",
    "\n",
    "# inset axes....\n",
    "axins = ax.inset_axes([0.3, 0.05, 0.4, 0.4])\n",
    "\n",
    "axins.fill_between(np.linspace(-20,20,512),np.mean(fastCat.T[:,:,0],1)/10-np.std(fastCat.T[:,:,0],1)/10, \n",
    "                 np.mean(fastCat.T[:,:,0],1)/10+np.std(fastCat.T[:,:,0],1)/10 ,alpha=0.3, facecolor='cornflowerblue')\n",
    "\n",
    "axins.fill_between(np.linspace(-20,20,512),np.mean(topas.T[:,:64,0],1)-np.std(topas.T[:,:64,0],1),\n",
    "                 np.mean(topas.T[:,:64,0],1)+np.std(topas.T[:,:64,0],1),alpha=0.3, facecolor='k')\n",
    "\n",
    "axins.plot(np.linspace(-20,20,512),np.mean(topas.T[:,:64,0],1)+np.std(topas.T[:,:64,0],1),'k--',lineWidth= .5)\n",
    "\n",
    "axins.plot(np.linspace(-20,20,512),np.mean(fastCat.T[:,:,0],1)/10+np.std(fastCat.T[:,:,0],1)/10,'--',lineWidth= .5,color='cornflowerblue',alpha=0.8)\n",
    "\n",
    "axins.plot(np.linspace(-20,20,512),np.mean(topas.T[:,:64,0],1)-np.std(topas.T[:,:64,0],1),'k--',lineWidth= .5)\n",
    "\n",
    "axins.plot(np.linspace(-20,20,512),np.mean(fastCat.T[:,:,0],1)/10-np.std(fastCat.T[:,:,0],1)/10,'--',lineWidth= .5,color='cornflowerblue',alpha=0.8)\n",
    "\n",
    "axins.plot(np.linspace(-20,20,512),np.mean(fastCat.T[:,:,0],1)/10,lineWidth= .5,color='b')\n",
    "axins.plot(np.linspace(-20,20,512),np.mean(topas.T[:,:64,0],1),lineWidth= .5,color='k')\n",
    "\n",
    "plt.grid()\n",
    "# sub region of the original image\n",
    "x1, x2, y1, y2 = -5, 5, 0.8, 1.1\n",
    "axins.set_xlim(x1, x2)\n",
    "axins.set_ylim(y1, y2)\n",
    "axins.set_xticklabels('')\n",
    "axins.set_yticklabels('')\n",
    "\n",
    "plt.ylabel('$\\mu x$')\n",
    "plt.xlabel('[cm]')\n",
    "plt.tight_layout()\n",
    "\n",
    "ax.indicate_inset_zoom(axins)"
   ]
  },
  {
   "cell_type": "code",
   "execution_count": 50,
   "metadata": {},
   "outputs": [
    {
     "name": "stdout",
     "output_type": "stream",
     "text": [
      "{'commit_hash': '223e783c4',\n",
      " 'commit_source': 'installation',\n",
      " 'default_encoding': 'utf-8',\n",
      " 'ipython_path': '/home/xcite/anaconda3/lib/python3.7/site-packages/IPython',\n",
      " 'ipython_version': '7.19.0',\n",
      " 'os_name': 'posix',\n",
      " 'platform': 'Linux-5.8.0-50-generic-x86_64-with-debian-bullseye-sid',\n",
      " 'sys_executable': '/home/xcite/anaconda3/bin/python',\n",
      " 'sys_platform': 'linux',\n",
      " 'sys_version': '3.7.6 (default, Jan  8 2020, 19:59:22) \\n[GCC 7.3.0]'}\n"
     ]
    }
   ],
   "source": [
    "import IPython\n",
    "print(IPython.sys_info())"
   ]
  },
  {
   "cell_type": "code",
   "execution_count": null,
   "metadata": {},
   "outputs": [],
   "source": []
  }
 ],
 "metadata": {
  "kernelspec": {
   "display_name": "Python 3",
   "language": "python",
   "name": "python3"
  },
  "language_info": {
   "codemirror_mode": {
    "name": "ipython",
    "version": 3
   },
   "file_extension": ".py",
   "mimetype": "text/x-python",
   "name": "python",
   "nbconvert_exporter": "python",
   "pygments_lexer": "ipython3",
   "version": "3.7.6"
  },
  "toc": {
   "base_numbering": 1,
   "nav_menu": {},
   "number_sections": true,
   "sideBar": true,
   "skip_h1_title": false,
   "title_cell": "Table of Contents",
   "title_sidebar": "Contents",
   "toc_cell": false,
   "toc_position": {},
   "toc_section_display": true,
   "toc_window_display": false
  },
  "varInspector": {
   "cols": {
    "lenName": "16",
    "lenType": "3",
    "lenVar": "20"
   },
   "kernels_config": {
    "python": {
     "delete_cmd_postfix": "",
     "delete_cmd_prefix": "del ",
     "library": "var_list.py",
     "varRefreshCmd": "print(var_dic_list())"
    },
    "r": {
     "delete_cmd_postfix": ") ",
     "delete_cmd_prefix": "rm(",
     "library": "var_list.r",
     "varRefreshCmd": "cat(var_dic_list()) "
    }
   },
   "types_to_exclude": [
    "module",
    "function",
    "builtin_function_or_method",
    "instance",
    "_Feature"
   ],
   "window_display": false
  }
 },
 "nbformat": 4,
 "nbformat_minor": 4
}
