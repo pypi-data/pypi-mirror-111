{
 "cells": [
  {
   "cell_type": "markdown",
   "id": "moral-break",
   "metadata": {},
   "source": [
    "# Fastcat Demo: Varian kV OBI"
   ]
  },
  {
   "cell_type": "code",
   "execution_count": 1,
   "id": "mechanical-manor",
   "metadata": {},
   "outputs": [
    {
     "name": "stdout",
     "output_type": "stream",
     "text": [
      "Populating the interactive namespace from numpy and matplotlib\n"
     ]
    }
   ],
   "source": [
    "%pylab widget\n",
    "%load_ext autoreload\n",
    "%autoreload 2"
   ]
  },
  {
   "cell_type": "code",
   "execution_count": 2,
   "id": "metallic-connectivity",
   "metadata": {},
   "outputs": [],
   "source": [
    "import fastcat as fc"
   ]
  },
  {
   "cell_type": "markdown",
   "id": "cognitive-valuable",
   "metadata": {},
   "source": [
    "# Initialize the spectrum"
   ]
  },
  {
   "cell_type": "code",
   "execution_count": 3,
   "id": "brief-spank",
   "metadata": {},
   "outputs": [],
   "source": [
    "s = fc.calculate_spectrum(100,14,3,50,monitor=None)"
   ]
  },
  {
   "cell_type": "code",
   "execution_count": 4,
   "id": "excellent-mother",
   "metadata": {},
   "outputs": [],
   "source": [
    "s.attenuate(0.4,fc.get_mu(z=13)) # Aluminum inherent filtration\n",
    "s.attenuate(0.089,fc.get_mu(z=22)) # Titanium beam hardening filter"
   ]
  },
  {
   "cell_type": "code",
   "execution_count": 5,
   "id": "beneficial-screw",
   "metadata": {},
   "outputs": [
    {
     "data": {
      "application/vnd.jupyter.widget-view+json": {
       "model_id": "f6f4c55894da4dc984662ea13a444f6f",
       "version_major": 2,
       "version_minor": 0
      },
      "text/plain": [
       "Canvas(toolbar=Toolbar(toolitems=[('Home', 'Reset original view', 'home', 'home'), ('Back', 'Back to previous …"
      ]
     },
     "metadata": {},
     "output_type": "display_data"
    }
   ],
   "source": [
    "plt.figure()\n",
    "s.get_plot(plt.subplot())"
   ]
  },
  {
   "cell_type": "markdown",
   "id": "authorized-anderson",
   "metadata": {},
   "source": [
    "# Initialize the detector"
   ]
  },
  {
   "cell_type": "code",
   "execution_count": 6,
   "id": "mathematical-fountain",
   "metadata": {},
   "outputs": [
    {
     "name": "stdout",
     "output_type": "stream",
     "text": [
      "19\n"
     ]
    },
    {
     "data": {
      "application/vnd.jupyter.widget-view+json": {
       "model_id": "94c18b0f910c490a8956099148476546",
       "version_major": 2,
       "version_minor": 0
      },
      "text/plain": [
       "Canvas(toolbar=Toolbar(toolitems=[('Home', 'Reset original view', 'home', 'home'), ('Back', 'Back to previous …"
      ]
     },
     "metadata": {},
     "output_type": "display_data"
    }
   ],
   "source": [
    "det = fc.Detector(s,'CsI-784-micrometer')\n",
    "det.add_focal_spot(1.2)\n",
    "\n",
    "plt.figure()\n",
    "det.get_plot(plt.subplot())"
   ]
  },
  {
   "cell_type": "markdown",
   "id": "personal-reservation",
   "metadata": {},
   "source": [
    "# Initialize the phantom"
   ]
  },
  {
   "cell_type": "code",
   "execution_count": 7,
   "id": "valued-adolescent",
   "metadata": {},
   "outputs": [],
   "source": [
    "phantom = fc.Catphan_404()"
   ]
  },
  {
   "cell_type": "markdown",
   "id": "honest-telephone",
   "metadata": {},
   "source": [
    "# Run the simulation"
   ]
  },
  {
   "cell_type": "code",
   "execution_count": 9,
   "id": "positive-salon",
   "metadata": {},
   "outputs": [
    {
     "name": "stdout",
     "output_type": "stream",
     "text": [
      "[2021-06-21 11:52:29,877] {simulate.py:207} INFO - Initializing filter bowtie_asym\n",
      "[2021-06-21 11:52:29,893] {simulate.py:340} INFO -    Scatter is filtered by bowtie\n",
      "[2021-06-21 11:52:29,894] {simulate.py:364} INFO - Initializing ASG\n",
      "[2021-06-21 11:52:30,380] {simulate.py:461} INFO - Running Simulations\n",
      "[2021-06-21 11:52:30,381] {simulate.py:465} INFO -     1.2 mm focal spot added\n",
      "[2021-06-21 11:52:30,381] {simulate.py:476} INFO -     Simulating 10 keV\n",
      "[2021-06-21 11:52:32,985] {simulate.py:476} INFO -     Simulating 20 keV\n",
      "[2021-06-21 11:52:35,467] {simulate.py:476} INFO -     Simulating 30 keV\n",
      "[2021-06-21 11:52:37,929] {simulate.py:476} INFO -     Simulating 40 keV\n",
      "[2021-06-21 11:52:40,441] {simulate.py:476} INFO -     Simulating 50 keV\n",
      "[2021-06-21 11:52:43,023] {simulate.py:476} INFO -     Simulating 60 keV\n",
      "[2021-06-21 11:52:45,673] {simulate.py:476} INFO -     Simulating 70 keV\n",
      "[2021-06-21 11:52:48,317] {simulate.py:476} INFO -     Simulating 80 keV\n",
      "[2021-06-21 11:52:51,021] {simulate.py:476} INFO -     Simulating 90 keV\n",
      "[2021-06-21 11:52:53,677] {simulate.py:476} INFO -     Simulating 100 keV\n",
      "[2021-06-21 11:52:56,146] {simulate.py:608} INFO - Weighting simulations\n",
      "[2021-06-21 11:52:56,147] {simulate.py:672} INFO -     Added noise 832.9000428922253 times ref\n"
     ]
    }
   ],
   "source": [
    "angles = np.linspace(0,np.pi*2,180,endpoint=False)\n",
    "phantom.return_projs(det,s,angles,mgy=0.04,ASG=True,bowtie=True,filter='bowtie_asym')"
   ]
  },
  {
   "cell_type": "code",
   "execution_count": 10,
   "id": "orange-sculpture",
   "metadata": {},
   "outputs": [
    {
     "data": {
      "application/vnd.jupyter.widget-view+json": {
       "model_id": "ed458761a37b41038e9431a1246bad16",
       "version_major": 2,
       "version_minor": 0
      },
      "text/plain": [
       "Canvas(toolbar=Toolbar(toolitems=[('Home', 'Reset original view', 'home', 'home'), ('Back', 'Back to previous …"
      ]
     },
     "metadata": {},
     "output_type": "display_data"
    },
    {
     "data": {
      "text/plain": [
       "<matplotlib.image.AxesImage at 0x7fd6100bdc90>"
      ]
     },
     "execution_count": 10,
     "metadata": {},
     "output_type": "execute_result"
    }
   ],
   "source": [
    "plt.figure()\n",
    "plt.imshow(phantom.proj[90],cmap='gray')"
   ]
  },
  {
   "cell_type": "markdown",
   "id": "dangerous-prince",
   "metadata": {},
   "source": [
    "# Reconstruct"
   ]
  },
  {
   "cell_type": "code",
   "execution_count": 27,
   "id": "labeled-excitement",
   "metadata": {},
   "outputs": [
    {
     "data": {
      "application/vnd.jupyter.widget-view+json": {
       "model_id": "270f5efb89ca488e9f98b0b4dcc3fd90",
       "version_major": 2,
       "version_minor": 0
      },
      "text/plain": [
       "Canvas(toolbar=Toolbar(toolitems=[('Home', 'Reset original view', 'home', 'home'), ('Back', 'Back to previous …"
      ]
     },
     "metadata": {},
     "output_type": "display_data"
    },
    {
     "data": {
      "text/plain": [
       "<matplotlib.image.AxesImage at 0x7fa46bc91850>"
      ]
     },
     "execution_count": 27,
     "metadata": {},
     "output_type": "execute_result"
    }
   ],
   "source": [
    "phantom.reconstruct('FDK',filt='ram_lak')\n",
    "\n",
    "plt.figure()\n",
    "plt.imshow(phantom.img[5],cmap='gray')"
   ]
  }
 ],
 "metadata": {
  "kernelspec": {
   "display_name": "Python 3",
   "language": "python",
   "name": "python3"
  },
  "language_info": {
   "codemirror_mode": {
    "name": "ipython",
    "version": 3
   },
   "file_extension": ".py",
   "mimetype": "text/x-python",
   "name": "python",
   "nbconvert_exporter": "python",
   "pygments_lexer": "ipython3",
   "version": "3.7.6"
  }
 },
 "nbformat": 4,
 "nbformat_minor": 5
}
