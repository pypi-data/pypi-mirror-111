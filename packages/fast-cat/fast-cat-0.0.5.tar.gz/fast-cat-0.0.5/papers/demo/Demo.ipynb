{
 "cells": [
  {
   "cell_type": "markdown",
   "id": "naval-mediterranean",
   "metadata": {},
   "source": [
    "# Fastcat Demo: Varian kV OBI"
   ]
  },
  {
   "cell_type": "code",
   "execution_count": 12,
   "id": "increasing-material",
   "metadata": {},
   "outputs": [
    {
     "name": "stdout",
     "output_type": "stream",
     "text": [
      "Populating the interactive namespace from numpy and matplotlib\n"
     ]
    }
   ],
   "source": [
    "%pylab widget"
   ]
  },
  {
   "cell_type": "code",
   "execution_count": 13,
   "id": "passive-shareware",
   "metadata": {},
   "outputs": [],
   "source": [
    "import fastcat.fastcat as fc"
   ]
  },
  {
   "cell_type": "markdown",
   "id": "spare-navigator",
   "metadata": {},
   "source": [
    "# Now lets initialize the spectrum"
   ]
  },
  {
   "cell_type": "code",
   "execution_count": null,
   "id": "compatible-pantyhose",
   "metadata": {},
   "outputs": [],
   "source": []
  }
 ],
 "metadata": {
  "kernelspec": {
   "display_name": "Python 3",
   "language": "python",
   "name": "python3"
  },
  "language_info": {
   "codemirror_mode": {
    "name": "ipython",
    "version": 3
   },
   "file_extension": ".py",
   "mimetype": "text/x-python",
   "name": "python",
   "nbconvert_exporter": "python",
   "pygments_lexer": "ipython3",
   "version": "3.7.6"
  }
 },
 "nbformat": 4,
 "nbformat_minor": 5
}
