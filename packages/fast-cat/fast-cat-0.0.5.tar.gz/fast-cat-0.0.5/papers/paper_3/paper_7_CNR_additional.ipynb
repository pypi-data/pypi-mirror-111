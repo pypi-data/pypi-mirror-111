{
 "cells": [
  {
   "cell_type": "code",
   "execution_count": 1,
   "id": "labeled-contemporary",
   "metadata": {},
   "outputs": [
    {
     "name": "stdout",
     "output_type": "stream",
     "text": [
      "Populating the interactive namespace from numpy and matplotlib\n"
     ]
    }
   ],
   "source": [
    "%load_ext autoreload\n",
    "%autoreload 3\n",
    "%pylab widget"
   ]
  },
  {
   "cell_type": "code",
   "execution_count": 76,
   "id": "accomplished-freight",
   "metadata": {},
   "outputs": [],
   "source": [
    "from varian_models import *\n",
    "from scipy.optimize import minimize\n",
    "bcca_smaller = np.load('/home/xcite/MV_CBCT/log_kv_phantom_over_air_776x776.npy')[15:-15]"
   ]
  },
  {
   "cell_type": "markdown",
   "id": "preliminary-nebraska",
   "metadata": {},
   "source": [
    "# Looking at the one slice\n",
    "\n",
    "There is still a fudge factor of 1.03 on the projection to account for fastcats 0.97 I guess.\n",
    "\n",
    "Also a fundge factor for the dose right now.\n",
    "\n",
    "And Catphan_Teflon unrevised whatever that is"
   ]
  },
  {
   "cell_type": "code",
   "execution_count": 77,
   "id": "spare-platinum",
   "metadata": {},
   "outputs": [
    {
     "name": "stdout",
     "output_type": "stream",
     "text": [
      "(19, 19, 19) 19\n",
      "bowtie is off False\n",
      "Using the bowtie filter True\n",
      "really doing it!\n",
      "bowtie scatter\n",
      "ratio is 70.18600063761603 number of photons 0.7694951410828342\n"
     ]
    }
   ],
   "source": [
    "angles = np.linspace(np.pi/2,np.pi*2,2)      \n",
    "kv_catphan = Catphan_404_kV()\n",
    "kv_catphan.get_proj(angles,fudge=0.18)"
   ]
  },
  {
   "cell_type": "code",
   "execution_count": 78,
   "id": "stable-liberal",
   "metadata": {},
   "outputs": [
    {
     "data": {
      "application/vnd.jupyter.widget-view+json": {
       "model_id": "4c55b8b4248f464cbd6ac0b3c9660694",
       "version_major": 2,
       "version_minor": 0
      },
      "text/plain": [
       "Canvas(toolbar=Toolbar(toolitems=[('Home', 'Reset original view', 'home', 'home'), ('Back', 'Back to previous …"
      ]
     },
     "metadata": {},
     "output_type": "display_data"
    }
   ],
   "source": [
    "kv_catphan.plot_one_proj(bcca_smaller[445,195:225])"
   ]
  },
  {
   "cell_type": "markdown",
   "id": "civilian-bracket",
   "metadata": {},
   "source": [
    "# Now lets reconstruct the whole thing"
   ]
  },
  {
   "cell_type": "code",
   "execution_count": 79,
   "id": "acquired-efficiency",
   "metadata": {},
   "outputs": [],
   "source": [
    "projs_bcca = np.zeros([887,64,512])\n",
    "projs_bcca[:,17:-17,:] =  bcca_smaller[:,195:225,:]\n",
    "\n",
    "kv_catphan.proj[:,:17,:] = 0 # Matching the images\n",
    "kv_catphan.proj[:,-17:,:] = 0\n",
    "\n",
    "angles = np.load('/home/xcite/MV_CBCT/angles_kv.npy')"
   ]
  },
  {
   "cell_type": "code",
   "execution_count": 6,
   "id": "arabic-generator",
   "metadata": {},
   "outputs": [
    {
     "name": "stdout",
     "output_type": "stream",
     "text": [
      "bowtie is off False\n",
      "Using the bowtie filter True\n",
      "really doing it!\n",
      "bowtie scatter\n",
      "ratio is 58.48845968860691 number of photons 0.7694951410828342\n"
     ]
    }
   ],
   "source": [
    "CNR_fc = []\n",
    "CNR_exp = []\n",
    "\n",
    "im_fc = []\n",
    "im_exp = []\n",
    "\n",
    "fudge_2 = 1 # 0.97 \n",
    "fudge = 0.15 #*3\n",
    "\n",
    "ii = 4\n",
    "angles_temp = angles[::ii]\n",
    "kv_catphan.geomet.nVoxel = np.array([10,512,512])\n",
    "kv_catphan.geomet.dVoxel = kv_catphan.geomet.sVoxel/kv_catphan.geomet.nVoxel\n",
    "kv_catphan.get_proj(angles_temp,fudge=fudge) \n",
    "kv_catphan.proj[:,:17,:] = 0 # Matching the images\n",
    "kv_catphan.proj[:,-17:,:] = 0\n",
    "kv_catphan.geomet.nVoxel = np.array([128,512,512])\n",
    "kv_catphan.geomet.dVoxel = kv_catphan.geomet.sVoxel/kv_catphan.geomet.nVoxel\n",
    "kv_catphan.reconstruct('FDK',filt='ram_lak')\n",
    "im_fc.append(kv_catphan.img[64])\n",
    "vol_fc = kv_catphan.img\n",
    "contrast_fc = kv_catphan.return_CNR(True)\n",
    "CNR_fc.append(kv_catphan.return_CNR())\n",
    "kv_catphan.proj = 10*projs_bcca[::ii].astype(np.float32)*fudge_2\n",
    "kv_catphan.angles = angles[::ii][-1::-1]\n",
    "kv_catphan.reconstruct('FDK',filt='ram_lak')\n",
    "#     kv_catphan.img = np.rot90(kv_catphan.img,-1)\n",
    "im_exp.append(np.rot90(kv_catphan.img[64],-1))\n",
    "vol_exp = kv_catphan.img\n",
    "contrast_bcca = kv_catphan.return_CNR_exp(True)\n",
    "CNR_exp.append(kv_catphan.return_CNR_exp())"
   ]
  },
  {
   "cell_type": "code",
   "execution_count": 135,
   "id": "latest-valuable",
   "metadata": {},
   "outputs": [],
   "source": [
    "plt.close('all')"
   ]
  },
  {
   "cell_type": "code",
   "execution_count": 136,
   "id": "floating-webmaster",
   "metadata": {},
   "outputs": [
    {
     "data": {
      "application/vnd.jupyter.widget-view+json": {
       "model_id": "118891b2692d4a7aba562e088ec1b787",
       "version_major": 2,
       "version_minor": 0
      },
      "text/plain": [
       "Canvas(toolbar=Toolbar(toolitems=[('Home', 'Reset original view', 'home', 'home'), ('Back', 'Back to previous …"
      ]
     },
     "metadata": {},
     "output_type": "display_data"
    },
    {
     "data": {
      "application/vnd.jupyter.widget-view+json": {
       "model_id": "1ac707150e5647ef856db812d14c61a6",
       "version_major": 2,
       "version_minor": 0
      },
      "text/plain": [
       "Canvas(toolbar=Toolbar(toolitems=[('Home', 'Reset original view', 'home', 'home'), ('Back', 'Back to previous …"
      ]
     },
     "metadata": {},
     "output_type": "display_data"
    },
    {
     "data": {
      "application/vnd.jupyter.widget-view+json": {
       "model_id": "e7bb23fcc7cf491b8eeb08b69250c4d6",
       "version_major": 2,
       "version_minor": 0
      },
      "text/plain": [
       "Canvas(toolbar=Toolbar(toolitems=[('Home', 'Reset original view', 'home', 'home'), ('Back', 'Back to previous …"
      ]
     },
     "metadata": {},
     "output_type": "display_data"
    },
    {
     "data": {
      "text/plain": [
       "[<matplotlib.lines.Line2D at 0x7f82099650d0>]"
      ]
     },
     "execution_count": 136,
     "metadata": {},
     "output_type": "execute_result"
    }
   ],
   "source": [
    "CNR_exp2 = []\n",
    "CNR_fc2 = []\n",
    "contrast_exp2 = []\n",
    "contrast_fc2 = []\n",
    "\n",
    "plt.figure()\n",
    "for ii in range(60,68):\n",
    "    \n",
    "    CNR_exp2.append(return_CNR_exp2(vol_exp[ii]))\n",
    "    contrast_exp2.append(return_CNR_exp2(vol_exp[ii],True))\n",
    "    CNR_fc2.append(return_CNR_fc2(vol_fc[ii]))\n",
    "    contrast_fc2.append(return_CNR_fc2(vol_fc[ii],True))\n",
    "    plt.plot(ii,np.mean(CNR_exp2[-1]),'r*')\n",
    "    plt.plot(ii,np.mean(CNR_fc2[-1]),'b*')\n",
    "    \n",
    "plt.figure()\n",
    "plt.plot(np.mean(CNR_exp2,0),'r*')\n",
    "plt.plot(np.mean(CNR_fc2,0),'b*')\n",
    "plt.figure()\n",
    "plt.plot(np.mean(contrast_exp2,0),'r*')\n",
    "plt.plot(np.mean(contrast_fc2,0),'b*')"
   ]
  },
  {
   "cell_type": "code",
   "execution_count": 137,
   "id": "powerful-tokyo",
   "metadata": {},
   "outputs": [
    {
     "data": {
      "application/vnd.jupyter.widget-view+json": {
       "model_id": "bde9453e80bb4bfc96f03b57859cf77e",
       "version_major": 2,
       "version_minor": 0
      },
      "text/plain": [
       "Canvas(toolbar=Toolbar(toolitems=[('Home', 'Reset original view', 'home', 'home'), ('Back', 'Back to previous …"
      ]
     },
     "metadata": {},
     "output_type": "display_data"
    },
    {
     "data": {
      "text/plain": [
       "[<matplotlib.lines.Line2D at 0x7f8209940250>]"
      ]
     },
     "execution_count": 137,
     "metadata": {},
     "output_type": "execute_result"
    }
   ],
   "source": [
    "contrast_bcca = np.mean(contrast_exp2,0)\n",
    "contrast_fc = np.mean(contrast_fc2,0)\n",
    "\n",
    "def HU_fun(a,x,y):\n",
    "    return np.sum(np.abs((x - a[0])*(a[1]) - y))\n",
    "\n",
    "reses = []\n",
    "rem = []\n",
    "\n",
    "for off in np.arange(-0.2,0.2,0.01):\n",
    "    for off2 in np.arange(-0.2,0.2,0.01):\n",
    "        reses.append(minimize(HU_fun,[off,contrast_fc[-3]+off2],args=(contrast_fc,contrast_bcca)))\n",
    "        rem.append(reses[-1].fun)\n",
    "\n",
    "res = reses[np.argmin(rem)]\n",
    "\n",
    "fc_data = (contrast_fc - res.x[0])*(res.x[1])\n",
    "# fc_image = (im_fc[-1] - res.x[0])*(res.x[1])\n",
    "\n",
    "# kv_catphan.img[64] = fc_image\n",
    "x = [.853,0.945,.998,1.147,1.36,1.87]\n",
    "\n",
    "plt.figure()\n",
    "plt.plot(x,contrast_bcca,'s',c='darkorange',label='')\n",
    "plt.plot(x,fc_data,'*',c='cornflowerblue',label='fastCAT')"
   ]
  },
  {
   "cell_type": "code",
   "execution_count": 138,
   "id": "powerful-freeze",
   "metadata": {},
   "outputs": [],
   "source": [
    "vol_fc_adj = (vol_fc - res.x[0])*(res.x[1])"
   ]
  },
  {
   "cell_type": "code",
   "execution_count": 139,
   "id": "operational-builder",
   "metadata": {},
   "outputs": [
    {
     "data": {
      "application/vnd.jupyter.widget-view+json": {
       "model_id": "83435aad89b347c79c56953bed9a9a8d",
       "version_major": 2,
       "version_minor": 0
      },
      "text/plain": [
       "Canvas(toolbar=Toolbar(toolitems=[('Home', 'Reset original view', 'home', 'home'), ('Back', 'Back to previous …"
      ]
     },
     "metadata": {},
     "output_type": "display_data"
    },
    {
     "data": {
      "application/vnd.jupyter.widget-view+json": {
       "model_id": "a1f737091d084770aa39d276ee05bffb",
       "version_major": 2,
       "version_minor": 0
      },
      "text/plain": [
       "Canvas(toolbar=Toolbar(toolitems=[('Home', 'Reset original view', 'home', 'home'), ('Back', 'Back to previous …"
      ]
     },
     "metadata": {},
     "output_type": "display_data"
    },
    {
     "data": {
      "application/vnd.jupyter.widget-view+json": {
       "model_id": "33082f9324354c958dec3c321ea2988d",
       "version_major": 2,
       "version_minor": 0
      },
      "text/plain": [
       "Canvas(toolbar=Toolbar(toolitems=[('Home', 'Reset original view', 'home', 'home'), ('Back', 'Back to previous …"
      ]
     },
     "metadata": {},
     "output_type": "display_data"
    },
    {
     "data": {
      "text/plain": [
       "[<matplotlib.lines.Line2D at 0x7f82096b7190>]"
      ]
     },
     "execution_count": 139,
     "metadata": {},
     "output_type": "execute_result"
    }
   ],
   "source": [
    "CNR_exp3 = []\n",
    "CNR_fc3 = []\n",
    "contrast_exp3 = []\n",
    "contrast_fc3 = []\n",
    "\n",
    "plt.figure()\n",
    "for ii in range(60,68):\n",
    "    \n",
    "    CNR_exp3.append(return_CNR_exp2(vol_exp[ii]))\n",
    "    contrast_exp3.append(return_CNR_exp2(vol_exp[ii],True))\n",
    "    CNR_fc3.append(return_CNR_fc2(vol_fc_adj[ii]))\n",
    "    contrast_fc3.append(return_CNR_fc2(vol_fc_adj[ii],True))\n",
    "    plt.plot(ii,np.mean(CNR_exp3[-1]),'r*')\n",
    "    plt.plot(ii,np.mean(CNR_fc3[-1]),'b*')\n",
    "    \n",
    "plt.figure()\n",
    "plt.plot(np.mean(CNR_exp3,0),'r*')\n",
    "plt.plot(np.mean(CNR_fc3,0),'b*')\n",
    "plt.figure()\n",
    "plt.plot(np.mean(contrast_exp3,0),'r*')\n",
    "plt.plot(np.mean(contrast_fc3,0),'b*')"
   ]
  },
  {
   "cell_type": "markdown",
   "id": "incoming-falls",
   "metadata": {},
   "source": [
    "# Now lets look at all of them at once"
   ]
  },
  {
   "cell_type": "code",
   "execution_count": 84,
   "id": "willing-alloy",
   "metadata": {},
   "outputs": [
    {
     "name": "stdout",
     "output_type": "stream",
     "text": [
      "bowtie is off False\n",
      "Using the bowtie filter True\n",
      "really doing it!\n",
      "bowtie scatter\n",
      "ratio is 62.62164417326847 number of photons 0.7694951410828342\n"
     ]
    }
   ],
   "source": [
    "CNR_fc = []\n",
    "CNR_exp = []\n",
    "\n",
    "im_fc = []\n",
    "im_exp = []\n",
    "\n",
    "fudge_2 = 1 # 0.97 \n",
    "fudge = 0.146*1.1 #*3\n",
    "\n",
    "CNR_result_fc = []\n",
    "CNR_result_exp = []\n",
    "\n",
    "np.random.seed(100)\n",
    "\n",
    "def HU_fun(a,x,y):\n",
    "    return np.sum(np.abs((x - a[0])*(a[1]) - y))\n",
    "\n",
    "for ii in range(4,3,-1):\n",
    "    angles_temp = angles[::ii]\n",
    "    kv_catphan.geomet.nVoxel = np.array([10,512,512])\n",
    "    kv_catphan.geomet.dVoxel = kv_catphan.geomet.sVoxel/kv_catphan.geomet.nVoxel\n",
    "    kv_catphan.get_proj(angles_temp,fudge=fudge) \n",
    "    kv_catphan.proj[:,:17,:] = 0 # Matching the images\n",
    "    kv_catphan.proj[:,-17:,:] = 0\n",
    "    kv_catphan.geomet.nVoxel = np.array([128,512,512])\n",
    "    kv_catphan.geomet.dVoxel = kv_catphan.geomet.sVoxel/kv_catphan.geomet.nVoxel\n",
    "    kv_catphan.reconstruct('FDK',filt='ram_lak')\n",
    "    vol_fc = kv_catphan.img\n",
    "    \n",
    "    kv_catphan.proj = 10*projs_bcca[::ii].astype(np.float32)*fudge_2\n",
    "    kv_catphan.angles = angles[::ii][-1::-1]\n",
    "    kv_catphan.reconstruct('FDK',filt='ram_lak')\n",
    "    vol_exp = kv_catphan.img\n",
    "\n",
    "    contrast_exp2 = []\n",
    "    contrast_fc2 = []\n",
    "\n",
    "    for ii in range(60,68):\n",
    "\n",
    "        contrast_exp2.append(return_CNR_exp2(vol_exp[ii],True))\n",
    "        contrast_fc2.append(return_CNR_fc2(vol_fc[ii],True))\n",
    "    \n",
    "    contrast_bcca = np.mean(contrast_exp2,0)\n",
    "    contrast_fc = np.mean(contrast_fc2,0)\n",
    "\n",
    "    reses = []\n",
    "    rem = []\n",
    "\n",
    "    for off in np.arange(-0.2,0.2,0.01):\n",
    "        for off2 in np.arange(-0.2,0.2,0.01):\n",
    "            reses.append(minimize(HU_fun,[off,contrast_fc[-3]+off2],args=(contrast_fc,contrast_bcca)))\n",
    "            rem.append(reses[-1].fun)\n",
    "\n",
    "    res = reses[np.argmin(rem)]\n",
    "\n",
    "    fc_data = (contrast_fc - res.x[0])*(res.x[1])\n",
    "    vol_fc_adj = (vol_fc - res.x[0])*(res.x[1])\n",
    "    \n",
    "    CNR_exp4 = []\n",
    "    CNR_fc4 = []\n",
    "\n",
    "    for ii in range(60,68):\n",
    "\n",
    "        CNR_exp4.append(return_CNR_exp2(vol_exp[ii]))\n",
    "        CNR_fc4.append(return_CNR_fc2(vol_fc_adj[ii]))\n",
    "    \n",
    "    CNR_result_fc.append((np.mean(CNR_fc4),np.std(np.mean(CNR_fc4,1))))\n",
    "    CNR_result_exp.append((np.mean(CNR_exp4),np.std(np.mean(CNR_exp4,1))))"
   ]
  },
  {
   "cell_type": "code",
   "execution_count": 90,
   "id": "electrical-arctic",
   "metadata": {},
   "outputs": [
    {
     "data": {
      "application/vnd.jupyter.widget-view+json": {
       "model_id": "f5c1ff0ff0cb4f50a75d96b84e8c9a9f",
       "version_major": 2,
       "version_minor": 0
      },
      "text/plain": [
       "Canvas(toolbar=Toolbar(toolitems=[('Home', 'Reset original view', 'home', 'home'), ('Back', 'Back to previous …"
      ]
     },
     "metadata": {},
     "output_type": "display_data"
    }
   ],
   "source": [
    "np.save('CNR_kv_exp',np.mean(CNR_exp4,0))\n",
    "np.save('CNR_kv_fc',np.mean(CNR_fc4,0))\n",
    "\n",
    "x = [.853,0.945,.998,1.147,1.36,1.87]\n",
    "\n",
    "plt.figure(figsize=[4,7])\n",
    "plt.subplot(211)\n",
    "plt.title('CNR Comparison')\n",
    "plt.errorbar(x,np.mean(CNR_exp4,0),np.std(CNR_exp4,0),fmt='s',color='darkorange',label='')\n",
    "plt.errorbar(np.array(x)+0.02,np.mean(CNR_fc4,0),np.std(CNR_fc4,0),fmt='*',color='cornflowerblue',label='fastCAT')\n",
    "plt.grid()\n",
    "plt.ylabel('CNR')\n",
    "# plt.xlabel('Relative Electron Density')\n",
    "plt.subplot(212)\n",
    "plt.errorbar(x,np.mean(CNR_exp3,0),np.std(CNR_exp3,0),fmt='s',color='darkorange',label='')\n",
    "plt.errorbar(np.array(x)+0.02,np.mean(CNR_fc3,0),np.std(CNR_fc3,0),fmt='*',color='cornflowerblue',label='fastCAT')\n",
    "plt.grid()\n",
    "plt.ylabel('CNR')\n",
    "plt.xlabel('Relative Electron Density')\n",
    "plt.tight_layout()\n",
    "plt.savefig('Comparison_CNR.png',dpi=300)"
   ]
  },
  {
   "cell_type": "code",
   "execution_count": 176,
   "id": "renewable-uniform",
   "metadata": {},
   "outputs": [
    {
     "data": {
      "application/vnd.jupyter.widget-view+json": {
       "model_id": "7df8b0a7287f494d8392eed9c974b216",
       "version_major": 2,
       "version_minor": 0
      },
      "text/plain": [
       "Canvas(toolbar=Toolbar(toolitems=[('Home', 'Reset original view', 'home', 'home'), ('Back', 'Back to previous …"
      ]
     },
     "metadata": {},
     "output_type": "display_data"
    },
    {
     "data": {
      "text/plain": [
       "<ErrorbarContainer object of 3 artists>"
      ]
     },
     "execution_count": 176,
     "metadata": {},
     "output_type": "execute_result"
    }
   ],
   "source": [
    "CNR_err_fc = np.std(CNR_fc3)\n",
    "CNR_err_exp = np.std(CNR_exp3)\n",
    "\n",
    "plt.figure()\n",
    "plt.errorbar([1,2,3,4],[CNR_result_fc[ii][0] for ii in range(4)],fmt='b*',yerr =  [CNR_result_fc[ii][1] for ii in range(4)])\n",
    "plt.errorbar([1.1,2.1,3.1,4.1],[CNR_result_exp[ii][0] for ii in range(4)],fmt='r*',yerr = [CNR_result_exp[ii][1] for ii in range(4)])"
   ]
  },
  {
   "cell_type": "code",
   "execution_count": 177,
   "id": "suburban-winner",
   "metadata": {},
   "outputs": [],
   "source": [
    "np.save('CNR_fc_by_dose',[CNR_result_fc[ii][0] for ii in range(4)])\n",
    "np.save('CNR_err_fc_by_dose',[CNR_result_fc[ii][1] for ii in range(4)])\n",
    "np.save('CNR_exp_by_dose',[CNR_result_exp[ii][0] for ii in range(4)])\n",
    "np.save('CNR_err_exp_by_dose',[CNR_result_exp[ii][1] for ii in range(4)])"
   ]
  },
  {
   "cell_type": "markdown",
   "id": "married-savings",
   "metadata": {},
   "source": [
    "# This is the one for the gos"
   ]
  },
  {
   "cell_type": "code",
   "execution_count": 46,
   "id": "cloudy-notice",
   "metadata": {},
   "outputs": [],
   "source": [
    "from glob import glob"
   ]
  },
  {
   "cell_type": "code",
   "execution_count": 59,
   "id": "responsible-maldives",
   "metadata": {},
   "outputs": [
    {
     "name": "stdout",
     "output_type": "stream",
     "text": [
      "(19, 41, 41) 19\n",
      "bowtie is off False\n",
      "Using the bowtie filter True\n",
      "really doing it!\n",
      "ratio is 1915.6476207485534 number of photons 0.02636808212587352\n"
     ]
    },
    {
     "data": {
      "application/vnd.jupyter.widget-view+json": {
       "model_id": "5d9756dfb72448ae967918d6c4782495",
       "version_major": 2,
       "version_minor": 0
      },
      "text/plain": [
       "Canvas(toolbar=Toolbar(toolitems=[('Home', 'Reset original view', 'home', 'home'), ('Back', 'Back to previous …"
      ]
     },
     "metadata": {},
     "output_type": "display_data"
    },
    {
     "data": {
      "application/vnd.jupyter.widget-view+json": {
       "model_id": "c59ca27b77ad412fa26097d1187142ed",
       "version_major": 2,
       "version_minor": 0
      },
      "text/plain": [
       "Canvas(toolbar=Toolbar(toolitems=[('Home', 'Reset original view', 'home', 'home'), ('Back', 'Back to previous …"
      ]
     },
     "metadata": {},
     "output_type": "display_data"
    }
   ],
   "source": [
    "CNR_fc = []\n",
    "CNR_exp = []\n",
    "\n",
    "im_fc = []\n",
    "im_exp = []\n",
    "\n",
    "fudge_2 = 1 # 0.97 \n",
    "fudge = 0.146/1.08*1.22*1.5#*4.5\n",
    "\n",
    "CNR_result_fc = []\n",
    "CNR_result_exp = []\n",
    "\n",
    "angles = np.load('/home/xcite/MV_CBCT/angles_6x.npy')\n",
    "exp_files = np.array(glob('/home/xcite/MV_CBCT/recon_6x_300_*.npy'))[np.array([1,3,0,2])]\n",
    "\n",
    "np.random.seed(100)\n",
    "\n",
    "def HU_fun(a,x,y):\n",
    "    return np.sum(np.abs((x - a[0])*(a[1]) - y))\n",
    "\n",
    "kv_catphan = Catphan_404_6x()\n",
    "\n",
    "for ii in range(3,2,-1):\n",
    "    angles_temp = angles[::ii]\n",
    "    kv_catphan.geomet.nVoxel = np.array([10,512,512])\n",
    "    kv_catphan.geomet.dVoxel = kv_catphan.geomet.sVoxel/kv_catphan.geomet.nVoxel\n",
    "    kv_catphan.get_proj(angles_temp,fudge=fudge) \n",
    "    kv_catphan.geomet.nVoxel = np.array([256,512,512])\n",
    "    kv_catphan.geomet.dVoxel = kv_catphan.geomet.sVoxel/kv_catphan.geomet.nVoxel\n",
    "    kv_catphan.reconstruct('FDK',filt='ram_lak')\n",
    "    \n",
    "    vol_fc = kv_catphan.img\n",
    "    vol_exp = np.rot90(np.load(exp_files[ii-1]).T,0)\n",
    "\n",
    "    contrast_exp2 = []\n",
    "    contrast_fc2 = []\n",
    "\n",
    "    for ii in range(20):\n",
    "\n",
    "        contrast_exp2.append(return_CNR_exp3(vol_exp[25 +ii],True))\n",
    "        contrast_fc2.append(return_CNR_fc3(vol_fc[120+ii],True))\n",
    "    \n",
    "    contrast_bcca = np.mean(contrast_exp2,0)\n",
    "    contrast_fc = np.mean(contrast_fc2,0)\n",
    "\n",
    "    reses = []\n",
    "    rem = []\n",
    "\n",
    "    for off in np.arange(-0.2,0.2,0.01):\n",
    "        for off2 in np.arange(-0.2,0.2,0.01):\n",
    "            reses.append(minimize(HU_fun,[off,contrast_fc[-3]+off2],args=(contrast_fc,contrast_bcca)))\n",
    "            rem.append(reses[-1].fun)\n",
    "\n",
    "    res = reses[np.argmin(rem)]\n",
    "\n",
    "    vol_fc_adj = (vol_fc - res.x[0])*(res.x[1])\n",
    "    fc_data = (contrast_fc - res.x[0])*(res.x[1])\n",
    "    \n",
    "    plt.figure()\n",
    "    plt.plot(fc_data,'b*')\n",
    "    plt.plot(contrast_bcca,'r*')\n",
    "    \n",
    "    CNR_fc3 = []\n",
    "    CNR_exp3 = []\n",
    "    \n",
    "    for ii in range(20):\n",
    "\n",
    "        CNR_exp3.append(return_CNR_exp3(vol_exp[25 + ii]))\n",
    "        CNR_fc3.append(return_CNR_fc3(vol_fc_adj[120+ii]))\n",
    "    \n",
    "    plt.figure()\n",
    "    plt.plot(np.mean(CNR_exp3,0),'r*')\n",
    "    plt.plot(np.mean(CNR_fc3,0),'b*')\n",
    "    CNR_result_fc.append((np.mean(CNR_fc3),np.std(np.mean(CNR_fc3,1))))\n",
    "    CNR_result_exp.append((np.mean(CNR_exp3),np.std(np.mean(CNR_exp3,1))))"
   ]
  },
  {
   "cell_type": "code",
   "execution_count": 66,
   "id": "latin-favorite",
   "metadata": {},
   "outputs": [
    {
     "data": {
      "text/plain": [
       "array([0.34996606, 0.35465521, 0.69550135, 0.56201382, 0.58896832,\n",
       "       0.74425133])"
      ]
     },
     "execution_count": 66,
     "metadata": {},
     "output_type": "execute_result"
    }
   ],
   "source": [
    "np.std(CNR_exp3,0)"
   ]
  },
  {
   "cell_type": "code",
   "execution_count": 74,
   "id": "tribal-input",
   "metadata": {},
   "outputs": [
    {
     "data": {
      "application/vnd.jupyter.widget-view+json": {
       "model_id": "f528830c8afe43aeb67bd6fbf274687a",
       "version_major": 2,
       "version_minor": 0
      },
      "text/plain": [
       "Canvas(toolbar=Toolbar(toolitems=[('Home', 'Reset original view', 'home', 'home'), ('Back', 'Back to previous …"
      ]
     },
     "metadata": {},
     "output_type": "display_data"
    },
    {
     "data": {
      "text/plain": [
       "Text(0.5, 0, 'Relative Electron Density')"
      ]
     },
     "execution_count": 74,
     "metadata": {},
     "output_type": "execute_result"
    }
   ],
   "source": [
    "np.save('CNR_6x_exp',np.mean(CNR_exp3,0))\n",
    "np.save('CNR_6x_fc',np.mean(CNR_fc3,0))\n",
    "\n",
    "x = [.853,0.945,.998,1.147,1.36,1.87]\n",
    "\n",
    "plt.figure()\n",
    "plt.errorbar(x,np.mean(CNR_exp3,0),np.std(CNR_exp3,0),fmt='s',color='darkorange',label='')\n",
    "plt.errorbar(np.array(x)+0.02,np.mean(CNR_fc3,0),np.std(CNR_fc3,0),fmt='*',color='cornflowerblue',label='fastCAT')\n",
    "plt.grid()\n",
    "plt.ylabel('CNR')\n",
    "plt.xlabel('Relative Electron Density')"
   ]
  },
  {
   "cell_type": "code",
   "execution_count": 19,
   "id": "mechanical-excellence",
   "metadata": {},
   "outputs": [
    {
     "name": "stdout",
     "output_type": "stream",
     "text": [
      "(19, 41, 41) 19\n",
      "bowtie is off False\n",
      "really doing it!\n",
      "ratio is None number of photons 0.010763158668836276\n"
     ]
    }
   ],
   "source": [
    "nviews = 180\n",
    "\n",
    "s = fc.Spectrum()\n",
    "s.load('Varian_truebeam_phasespace')\n",
    "kernel = fc.Kernel(s,'CuGOS-784-micrometer')\n",
    "angles = np.linspace(0,np.pi*2,nviews)\n",
    "\n",
    "phantom = fc.Catphan_404()\n",
    "phantom.phan_map = ['air','G4_POLYSTYRENE','G4_POLYVINYL_BUTYRAL','G4_POLYVINYL_BUTYRAL','CATPHAN_Delrin','G4_POLYVINYL_BUTYRAL','CATPHAN_Teflon_revised','air','CATPHAN_PMP','G4_POLYVINYL_BUTYRAL','CATPHAN_LDPE','G4_POLYVINYL_BUTYRAL','CATPHAN_Polystyrene','air','CATPHAN_Acrylic','air','CATPHAN_Teflon_revised','air','air','air','air'] \n",
    "# phantom.phan_map = ['air','CATPHAN_Polystyrene','CATPHAN_Acrylic','CATPHAN_Acrylic','CATPHAN_Delrin','CATPHAN_Acrylic','CATPHAN_Teflon_revised','air','CATPHAN_PMP','CATPHAN_Acrylic','CATPHAN_LDPE','CATPHAN_Acrylic','CATPHAN_Polystyrene','air','CATPHAN_Acrylic'] \n",
    "phantom.return_projs(kernel,s,angles,det_on=True,scat_on=False,mgy=0.0)"
   ]
  },
  {
   "cell_type": "code",
   "execution_count": 22,
   "id": "perfect-developer",
   "metadata": {},
   "outputs": [
    {
     "data": {
      "application/vnd.jupyter.widget-view+json": {
       "model_id": "344d1faf352c4ea38cfb9b63ba4169a0",
       "version_major": 2,
       "version_minor": 0
      },
      "text/plain": [
       "Canvas(toolbar=Toolbar(toolitems=[('Home', 'Reset original view', 'home', 'home'), ('Back', 'Back to previous …"
      ]
     },
     "metadata": {},
     "output_type": "display_data"
    }
   ],
   "source": [
    "X = np.array(phantom.proj)\n",
    "\n",
    "plt.figure()\n",
    "for ii in range(X.shape[0]):\n",
    "    \n",
    "    imshow(np.rot90(X[ii, :, :]),cmap='gray',vmax = 16,vmin=0,aspect='auto')        \n",
    "#     plt.ylabel('projection %s' % ii)\n",
    "    plt.xticks([])\n",
    "    plt.yticks([])\n",
    "    plt.savefig(f'pngs/{ii}.png')"
   ]
  },
  {
   "cell_type": "code",
   "execution_count": 274,
   "id": "virgin-shooting",
   "metadata": {},
   "outputs": [
    {
     "data": {
      "application/vnd.jupyter.widget-view+json": {
       "model_id": "8057c69c109d42f9be39cad7357327e6",
       "version_major": 2,
       "version_minor": 0
      },
      "text/plain": [
       "Canvas(toolbar=Toolbar(toolitems=[('Home', 'Reset original view', 'home', 'home'), ('Back', 'Back to previous …"
      ]
     },
     "metadata": {},
     "output_type": "display_data"
    },
    {
     "data": {
      "text/plain": [
       "<ErrorbarContainer object of 3 artists>"
      ]
     },
     "execution_count": 274,
     "metadata": {},
     "output_type": "execute_result"
    }
   ],
   "source": [
    "CNR_err_fc = np.std(CNR_fc3)\n",
    "CNR_err_exp = np.std(CNR_exp3)\n",
    "\n",
    "plt.figure()\n",
    "plt.errorbar([1,2,3,4],[CNR_result_fc[ii][0] for ii in range(3,-1,-1)],fmt='b*',yerr =  [CNR_result_fc[ii][1] for ii in range(4)])\n",
    "plt.errorbar([1.1,2.1,3.1,4.1],[CNR_result_exp[ii][0] for ii in range(4)],fmt='r*',yerr = [CNR_result_exp[ii][1] for ii in range(4)])"
   ]
  },
  {
   "cell_type": "code",
   "execution_count": 275,
   "id": "smoking-victorian",
   "metadata": {},
   "outputs": [],
   "source": [
    "np.save('CNR_fc_by_dose_kv',[CNR_result_fc[ii][0] for ii in range(4)])\n",
    "np.save('CNR_err_fc_by_dose_kv',[CNR_result_fc[ii][1] for ii in range(4)])\n",
    "np.save('CNR_exp_by_dose_kv',[CNR_result_exp[ii][0] for ii in range(4)])\n",
    "np.save('CNR_err_exp_by_dose_kv',[CNR_result_exp[ii][1] for ii in range(4)])"
   ]
  },
  {
   "cell_type": "code",
   "execution_count": 1,
   "id": "handled-trading",
   "metadata": {},
   "outputs": [
    {
     "name": "stdout",
     "output_type": "stream",
     "text": [
      "Populating the interactive namespace from numpy and matplotlib\n"
     ]
    }
   ],
   "source": [
    "%pylab widget"
   ]
  },
  {
   "cell_type": "code",
   "execution_count": 91,
   "id": "assured-compact",
   "metadata": {},
   "outputs": [
    {
     "data": {
      "application/vnd.jupyter.widget-view+json": {
       "model_id": "023aee292d80452d890acdce69ef57fd",
       "version_major": 2,
       "version_minor": 0
      },
      "text/plain": [
       "Canvas(toolbar=Toolbar(toolitems=[('Home', 'Reset original view', 'home', 'home'), ('Back', 'Back to previous …"
      ]
     },
     "metadata": {},
     "output_type": "display_data"
    }
   ],
   "source": [
    "fc = np.load('CNR_fc_by_dose_kv.npy')\n",
    "fc_err = np.load('CNR_err_fc_by_dose_kv.npy')\n",
    "exp = np.load('CNR_exp_by_dose_kv.npy')\n",
    "exp_err = np.load('CNR_err_exp_by_dose_kv.npy')\n",
    "\n",
    "dose_lab = np.array(np.round([300,300/2,300/3,300/4],1))[-1::-1]\n",
    "dose = np.array([6,4,2,0])[-1::-1]\n",
    "plt.figure(figsize=[4,7])\n",
    "plt.subplot(212)\n",
    "plt.bar(dose,fc,yerr=fc_err,width=0.4,color='cornflowerblue')\n",
    "plt.bar(dose+0.5,exp[-1::-1],yerr=exp_err,width=0.4,color='darkorange')\n",
    "plt.grid('on')\n",
    "plt.xticks(ticks=dose,labels= dose_lab)\n",
    "plt.xlabel('MU')\n",
    "plt.ylabel('CNR')\n",
    "plt.legend(['Fastcat 6 MV','Varian 6 MV'])\n",
    "plt.ylim([0,14])\n",
    "\n",
    "fc = np.load('CNR_fc_by_dose.npy')\n",
    "fc_err = np.load('CNR_err_fc_by_dose.npy')\n",
    "exp = np.load('CNR_exp_by_dose.npy')\n",
    "exp_err = np.load('CNR_err_exp_by_dose.npy')\n",
    "\n",
    "dose_lab = np.array(np.round([21.1,21.1/2,21.1/3,21.1/4],1))[-1::-1]\n",
    "plt.subplot(211)\n",
    "plt.title('CNR vs Dose')\n",
    "plt.bar(dose,fc,yerr=fc_err,width=0.4,color='cornflowerblue')\n",
    "plt.bar(dose+0.5,exp,yerr=exp_err,width=0.4,color='darkorange')\n",
    "plt.grid('on')\n",
    "plt.xticks(ticks=dose,labels= dose_lab)\n",
    "plt.xlabel('CTDI$_{vol}$')\n",
    "plt.ylabel('CNR')\n",
    "plt.legend(['Fastcat 100 kVp','Varian OBI 100 kVp'])\n",
    "plt.ylim([0,20])\n",
    "plt.tight_layout()\n",
    "plt.savefig('Comparison_dose_CNR.png',dpi=300)"
   ]
  },
  {
   "cell_type": "code",
   "execution_count": 82,
   "id": "declared-property",
   "metadata": {},
   "outputs": [
    {
     "data": {
      "application/vnd.jupyter.widget-view+json": {
       "model_id": "",
       "version_major": 2,
       "version_minor": 0
      },
      "text/plain": [
       "Canvas(toolbar=Toolbar(toolitems=[('Home', 'Reset original view', 'home', 'home'), ('Back', 'Back to previous …"
      ]
     },
     "metadata": {},
     "output_type": "display_data"
    },
    {
     "data": {
      "text/plain": [
       "[<matplotlib.lines.Line2D at 0x7f82033a6e50>]"
      ]
     },
     "execution_count": 82,
     "metadata": {},
     "output_type": "execute_result"
    }
   ],
   "source": [
    "def HU_fun(a,x,y):\n",
    "    return np.sum(np.abs((x - a[0])*(a[1]) - y))\n",
    "\n",
    "from scipy.optimize import minimize\n",
    "\n",
    "reses = []\n",
    "rem = []\n",
    "\n",
    "for off in np.arange(-0.2,0.2,0.01):\n",
    "    reses.append(minimize(HU_fun,[off,contrast_fc[-3]+0.12],args=(contrast_fc,contrast_bcca)))\n",
    "    rem.append(reses[-1].fun)\n",
    "\n",
    "res = reses[np.argmin(rem)]\n",
    "\n",
    "fc_data = (contrast_fc - res.x[0])*(res.x[1])\n",
    "fc_image = (im_fc[-1] - res.x[0])*(res.x[1])\n",
    "\n",
    "kv_catphan.img[64] = fc_image\n",
    "x = [.853,0.945,.998,1.147,1.36,1.87]\n",
    "\n",
    "plt.figure()\n",
    "plt.plot(x,contrast_bcca,'s',c='darkorange',label='')\n",
    "plt.plot(x,fc_data,'*',c='cornflowerblue',label='fastCAT')\n",
    "# plt.figure()\n",
    "# plt.plot(CNR_exp[0],'r*')\n",
    "# plt.plot(kv_catphan.return_CNR(),'b*')\n",
    "# new_CNR_fc.append(return_CNR(fc_image,im)[1])    "
   ]
  },
  {
   "cell_type": "code",
   "execution_count": 127,
   "id": "basic-trinidad",
   "metadata": {},
   "outputs": [],
   "source": [
    "np.save('fastcat_images_kv_worst-best',im_fc)\n",
    "np.save('exp_images_kv_worst-best',im_exp)\n",
    "np.save('CNR_fc_kv',CNR_fc_kv)\n",
    "np.save('CNR_exp_kv',CNR_exp)\n",
    "np.save('vol_fc_kv_adj',vol_fc_adj)\n",
    "np.save('vol_exp_kv',vol_exp)"
   ]
  },
  {
   "cell_type": "code",
   "execution_count": 374,
   "id": "mexican-sarah",
   "metadata": {},
   "outputs": [
    {
     "name": "stdout",
     "output_type": "stream",
     "text": [
      "Open other images in this ImageJ panel as follows:\n",
      "  imagej -p 1 <image1> [<image2> ... <imageN>]\n",
      "\n",
      "Fontconfig error: \"/home/xcite/.config/fontconfig/fonts.conf\", line 5: no element found\n",
      "Fontconfig error: \"/home/xcite/.config/fontconfig/fonts.conf\", line 5: invalid attribute 'target'\n"
     ]
    }
   ],
   "source": [
    "plt.imsave('im_for_imagej.png',np.hstack((im_fc[0],im_exp[0])),cmap='gray')\n",
    "!imagej im_for_imagej.png"
   ]
  },
  {
   "cell_type": "code",
   "execution_count": 44,
   "id": "disabled-panic",
   "metadata": {},
   "outputs": [],
   "source": [
    "CNR_fc = np.load('CNR_fc_kv.npy')\n",
    "CNR_exp = np.load('CNR_exp_kv.npy')"
   ]
  },
  {
   "cell_type": "code",
   "execution_count": 378,
   "id": "higher-arrest",
   "metadata": {},
   "outputs": [
    {
     "name": "stdout",
     "output_type": "stream",
     "text": [
      "Open other images in this ImageJ panel as follows:\n",
      "  imagej -p 1 <image1> [<image2> ... <imageN>]\n",
      "\n",
      "Fontconfig error: \"/home/xcite/.config/fontconfig/fonts.conf\", line 5: no element found\n",
      "Fontconfig error: \"/home/xcite/.config/fontconfig/fonts.conf\", line 5: invalid attribute 'target'\n"
     ]
    }
   ],
   "source": [
    "plt.imsave('im_for_imagej.png',np.hstack((fc_image,recon_slice)),cmap='gray')\n",
    "!imagej im_for_imagej.png"
   ]
  },
  {
   "cell_type": "code",
   "execution_count": 379,
   "id": "infinite-intelligence",
   "metadata": {},
   "outputs": [
    {
     "data": {
      "application/vnd.jupyter.widget-view+json": {
       "model_id": "cb54804eef624516afb5be413053d0db",
       "version_major": 2,
       "version_minor": 0
      },
      "text/plain": [
       "Canvas(toolbar=Toolbar(toolitems=[('Home', 'Reset original view', 'home', 'home'), ('Back', 'Back to previous …"
      ]
     },
     "metadata": {},
     "output_type": "display_data"
    },
    {
     "data": {
      "application/vnd.jupyter.widget-view+json": {
       "model_id": "57ca7bc8af57456bbd060659d2d1e2b5",
       "version_major": 2,
       "version_minor": 0
      },
      "text/plain": [
       "Canvas(toolbar=Toolbar(toolitems=[('Home', 'Reset original view', 'home', 'home'), ('Back', 'Back to previous …"
      ]
     },
     "metadata": {},
     "output_type": "display_data"
    },
    {
     "data": {
      "application/vnd.jupyter.widget-view+json": {
       "model_id": "d30a992ae20649d8a48fd89cce34b865",
       "version_major": 2,
       "version_minor": 0
      },
      "text/plain": [
       "Canvas(toolbar=Toolbar(toolitems=[('Home', 'Reset original view', 'home', 'home'), ('Back', 'Back to previous …"
      ]
     },
     "metadata": {},
     "output_type": "display_data"
    },
    {
     "data": {
      "application/vnd.jupyter.widget-view+json": {
       "model_id": "c2082379cc064566b1d7f4c47508b4a7",
       "version_major": 2,
       "version_minor": 0
      },
      "text/plain": [
       "Canvas(toolbar=Toolbar(toolitems=[('Home', 'Reset original view', 'home', 'home'), ('Back', 'Back to previous …"
      ]
     },
     "metadata": {},
     "output_type": "display_data"
    }
   ],
   "source": [
    "from scipy.optimize import minimize\n",
    "CNR_fc = np.load('CNR_fc_kv.npy')\n",
    "CNR_exp = np.load('CNR_exp_kv.npy')\n",
    "\n",
    "im_fc = np.load('fastcat_images_kv_worst-best.npy')\n",
    "im_exp = np.load('exp_images_kv_worst-best.npy')\n",
    "\n",
    "new_CNR_fc = []\n",
    "\n",
    "def HU_fun(a,x,y):\n",
    "    return np.sum(np.abs((x - a[0])*(a[1]) - y))\n",
    "\n",
    "def return_CNR_fc(proj,return_contrast = False):\n",
    "\n",
    "    im = create_mask(proj.shape,r=5.75,radius=0.4)\n",
    "    contrast_fc, CNR_fc, noise_fc = return_CNR(proj,im)\n",
    "#         print(contrast_fc ,'fastcat')\n",
    "    if return_contrast:\n",
    "        return contrast_fc\n",
    "    else:\n",
    "        return CNR_fc\n",
    "\n",
    "def return_CNR_exp(proj,return_contrast = False):\n",
    "\n",
    "    recon_slice = (proj)\n",
    "    im = create_mask(recon_slice.shape,r=5.85,off = [-0.15,-0.02],rot = 0.7,radius=0.40)\n",
    "    contrast_fc, CNR_fc, noise_fc = return_CNR(recon_slice,im)\n",
    "#         print(contrast_fc, 'exp')\n",
    "    if return_contrast:\n",
    "        return contrast_fc\n",
    "    else:\n",
    "        return CNR_fc\n",
    "\n",
    "im = create_mask(im_fc.shape,r=5.75,radius=0.4)\n",
    "\n",
    "for ii in range(3,-1,-1):\n",
    "    \n",
    "    contrast_fc = return_CNR_fc(im_fc[ii],True) \n",
    "    contrast_bcca = return_CNR_exp(im_exp[ii],True) \n",
    "    \n",
    "    if ii == 3:\n",
    "        reses = []\n",
    "        rem = []\n",
    "\n",
    "        for off in np.arange(-0.2,0.2,0.01):\n",
    "            reses.append(minimize(HU_fun,[off,contrast_fc[-3]-0.01],args=(contrast_fc,contrast_bcca)))\n",
    "            rem.append(reses[-1].fun)\n",
    "\n",
    "        res = reses[np.argmin(rem)]\n",
    "\n",
    "    fc_data = (contrast_fc - res.x[0])*(res.x[1])\n",
    "    fc_image = (im_fc[ii] - res.x[0])*(res.x[1])\n",
    "    \n",
    "    new_CNR_fc.append(return_CNR(fc_image,im)[1])\n",
    "    \n",
    "    x = [.853,0.945,.998,1.147,1.36,1.87]\n",
    "\n",
    "    plt.figure(figsize=[8,8])\n",
    "    plt.subplot(221)\n",
    "    plt.plot(x,contrast_bcca,'s',c='darkorange',label='')\n",
    "    plt.plot(x,fc_data,'*',c='cornflowerblue',label='fastCAT')\n",
    "    plt.legend()\n",
    "    plt.subplot(222)\n",
    "    plt.plot(recon_slice[256,:],c='darkorange')\n",
    "    plt.plot(np.rot90(fc_image,0)[256,:],c='cornflowerblue')\n",
    "    plt.subplot(223)\n",
    "    plt.imshow(np.rot90(fc_image,0),cmap='gray',vmin=0.13,vmax=0.35)\n",
    "    plt.subplot(224)\n",
    "    plt.imshow(np.rot90(recon_slice,0),cmap='gray',vmin=0.13,vmax=0.35)"
   ]
  },
  {
   "cell_type": "code",
   "execution_count": 380,
   "id": "designed-purple",
   "metadata": {},
   "outputs": [
    {
     "data": {
      "application/vnd.jupyter.widget-view+json": {
       "model_id": "112a3e3761ff4e5dac0b31f5165323b1",
       "version_major": 2,
       "version_minor": 0
      },
      "text/plain": [
       "Canvas(toolbar=Toolbar(toolitems=[('Home', 'Reset original view', 'home', 'home'), ('Back', 'Back to previous …"
      ]
     },
     "metadata": {},
     "output_type": "display_data"
    },
    {
     "data": {
      "text/plain": [
       "[<matplotlib.lines.Line2D at 0x7f2fe4c5b5d0>]"
      ]
     },
     "execution_count": 380,
     "metadata": {},
     "output_type": "execute_result"
    }
   ],
   "source": [
    "plt.figure()\n",
    "plt.plot((new_CNR_fc[3]),'b*')\n",
    "plt.plot(CNR_exp[3],'r*')\n",
    "# plt.figure()\n",
    "# plt.plot(contrast_fc,'b*')\n",
    "# plt.plot(contrast_bcca,'r*')"
   ]
  },
  {
   "cell_type": "code",
   "execution_count": 218,
   "id": "union-highlight",
   "metadata": {},
   "outputs": [
    {
     "data": {
      "text/plain": [
       "      fun: 0.0026893317699432373\n",
       " hess_inv: array([[0.01104779, 0.01104779],\n",
       "       [0.01104779, 0.14830004]])\n",
       "      jac: array([0., 0.])\n",
       "  message: 'Optimization terminated successfully.'\n",
       "     nfev: 81\n",
       "      nit: 4\n",
       "     njev: 27\n",
       "   status: 0\n",
       "  success: True\n",
       "        x: array([-0.03572898,  0.82787716])"
      ]
     },
     "execution_count": 218,
     "metadata": {},
     "output_type": "execute_result"
    }
   ],
   "source": [
    "res"
   ]
  },
  {
   "cell_type": "code",
   "execution_count": 197,
   "id": "occasional-gossip",
   "metadata": {},
   "outputs": [
    {
     "data": {
      "application/vnd.jupyter.widget-view+json": {
       "model_id": "6db18e9c21534b979966b9516a9ee9bf",
       "version_major": 2,
       "version_minor": 0
      },
      "text/plain": [
       "Canvas(toolbar=Toolbar(toolitems=[('Home', 'Reset original view', 'home', 'home'), ('Back', 'Back to previous …"
      ]
     },
     "metadata": {},
     "output_type": "display_data"
    },
    {
     "data": {
      "text/plain": [
       "[<matplotlib.lines.Line2D at 0x7f2fd79a3dd0>]"
      ]
     },
     "execution_count": 197,
     "metadata": {},
     "output_type": "execute_result"
    }
   ],
   "source": [
    "plt.figure()\n",
    "plt.plot(CNR_fc[3],'b*')\n",
    "plt.plot(CNR_exp[3],'r*')"
   ]
  },
  {
   "cell_type": "code",
   "execution_count": 172,
   "id": "enormous-principle",
   "metadata": {},
   "outputs": [
    {
     "data": {
      "application/vnd.jupyter.widget-view+json": {
       "model_id": "67cfc3fdfc4e4d2ca67064610a043457",
       "version_major": 2,
       "version_minor": 0
      },
      "text/plain": [
       "Canvas(toolbar=Toolbar(toolitems=[('Home', 'Reset original view', 'home', 'home'), ('Back', 'Back to previous …"
      ]
     },
     "metadata": {},
     "output_type": "display_data"
    },
    {
     "data": {
      "text/plain": [
       "<matplotlib.image.AxesImage at 0x7f2fd573f8d0>"
      ]
     },
     "execution_count": 172,
     "metadata": {},
     "output_type": "execute_result"
    }
   ],
   "source": [
    "plt.figure()\n",
    "plt.imshow(np.rot90(im_exp[0],-1))\n",
    "# plt.imshow(im)"
   ]
  },
  {
   "cell_type": "code",
   "execution_count": 196,
   "id": "visible-peoples",
   "metadata": {},
   "outputs": [
    {
     "data": {
      "application/vnd.jupyter.widget-view+json": {
       "model_id": "f9d4f05267a34fc6b74e1f85b58b7f3b",
       "version_major": 2,
       "version_minor": 0
      },
      "text/plain": [
       "Canvas(toolbar=Toolbar(toolitems=[('Home', 'Reset original view', 'home', 'home'), ('Back', 'Back to previous …"
      ]
     },
     "metadata": {},
     "output_type": "display_data"
    }
   ],
   "source": [
    "plt.figure()\n",
    "for ii in range(4):\n",
    "    plt.plot(ii,np.mean(CNR_fc[ii],0),'r*')\n",
    "    plt.plot(ii,np.mean(CNR_exp[ii],0),'b*')"
   ]
  },
  {
   "cell_type": "code",
   "execution_count": 121,
   "id": "sustainable-champion",
   "metadata": {},
   "outputs": [
    {
     "data": {
      "application/vnd.jupyter.widget-view+json": {
       "model_id": "de754fe874804c63b59234f51a4a424a",
       "version_major": 2,
       "version_minor": 0
      },
      "text/plain": [
       "Canvas(toolbar=Toolbar(toolitems=[('Home', 'Reset original view', 'home', 'home'), ('Back', 'Back to previous …"
      ]
     },
     "metadata": {},
     "output_type": "display_data"
    }
   ],
   "source": [
    "recon_slice = np.rot90(kv_catphan.img[64],3)\n",
    "im = create_mask(recon_slice.shape,r=5.85,radius=0.45,off = [-0.15,-0.02],rot = 0.7)\n",
    "contrast_exp, CNR_exp, noise_fc = return_CNR(recon_slice,im,show_map=True)"
   ]
  },
  {
   "cell_type": "code",
   "execution_count": 122,
   "id": "governing-passion",
   "metadata": {},
   "outputs": [
    {
     "name": "stdout",
     "output_type": "stream",
     "text": [
      "[0.16167541 0.17474125 0.18429291 0.20837197 0.24231511 0.3306908 ]\n"
     ]
    }
   ],
   "source": [
    "print(contrast_exp)"
   ]
  },
  {
   "cell_type": "code",
   "execution_count": null,
   "id": "placed-capitol",
   "metadata": {},
   "outputs": [],
   "source": [
    "# bcca_recon = np.load('/home/xcite/MV_CBCT/recon_kV_full.npy').T #recon_kv_jan_2021.npy')\n",
    "# recon_slice = np.rot90(np.mean(bcca_recon.T[39:40],0)).copy()\n",
    "# im = create_mask(recon_slice.shape,r=5.8,off = [0.2,0.05],rot = 1)\n",
    "# contrast_bcca, CNR_bcca, noise_bcca = return_CNR(recon_slice,im)#,show_map=True)\n",
    "\n",
    "def HU_fun(a,x,y):\n",
    "    return np.sum(np.abs((x - a[0])*(a[1]) - y))\n",
    "\n",
    "reses = []\n",
    "rem = []\n",
    "\n",
    "for off in np.arange(-0.2,0.2,0.01):\n",
    "    reses.append(minimize(HU_fun,[contrast_fc[2],contrast_fc[-3]+off],args=(contrast_fc,contrast_bcca)))\n",
    "    rem.append(reses[-1].fun)\n",
    "    \n",
    "res = reses[np.argmin(rem)]\n",
    "    \n",
    "fc_data = (contrast_fc - res.x[0])*(res.x[1])\n",
    "fc_image = (phantom.img[4] - res.x[0])*(res.x[1])\n",
    "\n",
    "x = [.853,0.945,.998,1.147,1.36,1.87]\n",
    "\n",
    "plt.figure(figsize=[8,8])\n",
    "plt.subplot(221)\n",
    "plt.plot(x,contrast_bcca,'s',c='darkorange',label='')\n",
    "plt.plot(x,fc_data,'*',c='cornflowerblue',label='fastCAT')\n",
    "plt.legend()\n",
    "plt.subplot(222)\n",
    "plt.plot(recon_slice[256,:],c='darkorange')\n",
    "plt.plot(np.rot90(fc_image,0)[256,:],c='cornflowerblue')\n",
    "plt.subplot(223)\n",
    "plt.imshow(np.rot90(fc_image,0),cmap='gray',vmin=0.013,vmax=0.027)\n",
    "plt.subplot(224)\n",
    "plt.imshow(np.rot90(recon_slice,2),cmap='gray',vmin=0.013,vmax=0.027)"
   ]
  }
 ],
 "metadata": {
  "kernelspec": {
   "display_name": "Python 3",
   "language": "python",
   "name": "python3"
  },
  "language_info": {
   "codemirror_mode": {
    "name": "ipython",
    "version": 3
   },
   "file_extension": ".py",
   "mimetype": "text/x-python",
   "name": "python",
   "nbconvert_exporter": "python",
   "pygments_lexer": "ipython3",
   "version": "3.7.6"
  }
 },
 "nbformat": 4,
 "nbformat_minor": 5
}
