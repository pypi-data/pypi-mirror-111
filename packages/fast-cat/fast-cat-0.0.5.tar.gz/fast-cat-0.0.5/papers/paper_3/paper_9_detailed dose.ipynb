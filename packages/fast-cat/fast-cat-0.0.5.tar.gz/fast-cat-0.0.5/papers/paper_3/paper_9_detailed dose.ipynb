{
 "cells": [
  {
   "cell_type": "code",
   "execution_count": 3,
   "id": "alpha-letters",
   "metadata": {},
   "outputs": [
    {
     "name": "stdout",
     "output_type": "stream",
     "text": [
      "Populating the interactive namespace from numpy and matplotlib\n",
      "The autoreload extension is already loaded. To reload it, use:\n",
      "  %reload_ext autoreload\n"
     ]
    }
   ],
   "source": [
    "%pylab widget\n",
    "%load_ext autoreload\n",
    "\n",
    "%autoreload 2"
   ]
  },
  {
   "cell_type": "code",
   "execution_count": 4,
   "id": "heavy-authentication",
   "metadata": {},
   "outputs": [],
   "source": [
    "from varian_models import *"
   ]
  },
  {
   "cell_type": "markdown",
   "id": "wooden-substance",
   "metadata": {},
   "source": [
    "### Now what would fastCat think of this?"
   ]
  },
  {
   "cell_type": "markdown",
   "id": "functional-morrison",
   "metadata": {},
   "source": [
    "#### We can loop through this"
   ]
  },
  {
   "cell_type": "markdown",
   "id": "macro-bristol",
   "metadata": {},
   "source": [
    "This runs off of a modified xpecgen that returns only the doses and "
   ]
  },
  {
   "cell_type": "code",
   "execution_count": 5,
   "id": "broad-memory",
   "metadata": {},
   "outputs": [
    {
     "name": "stdout",
     "output_type": "stream",
     "text": [
      "(19, 41, 41) 19\n",
      "bowtie is off False\n",
      "really doing it!\n",
      "ratio is 1.0 number of photons 0.07104375195840185\n",
      "(19, 41, 41) 19\n",
      "bowtie is off False\n",
      "really doing it!\n",
      "ratio is 1.0 number of photons 0.04845504309805526\n",
      "(19, 41, 41) 19\n",
      "bowtie is off False\n",
      "really doing it!\n",
      "ratio is 1.0 number of photons 0.03402763640736402\n",
      "(19, 41, 41) 19\n",
      "bowtie is off False\n",
      "really doing it!\n",
      "ratio is 1.0 number of photons 0.04026543917603216\n",
      "(19, 41, 41) 19\n",
      "bowtie is off False\n",
      "really doing it!\n",
      "ratio is 1.0 number of photons 0.03243039447096263\n",
      "(19, 41, 41) 19\n",
      "bowtie is off False\n",
      "really doing it!\n",
      "ratio is 1.0 number of photons 0.01015508406165716\n",
      "(19, 41, 41) 19\n",
      "bowtie is off False\n",
      "really doing it!\n",
      "ratio is 1.0 number of photons 0.0053004634067323865\n"
     ]
    }
   ],
   "source": [
    "import sys\n",
    "import os\n",
    "import tigre\n",
    "from scipy.signal import fftconvolve\n",
    "\n",
    "import fastcat.fastcat as fc\n",
    "\n",
    "dose = 0\n",
    "\n",
    "phan_map_hard =  ['air','water','water','water',\n",
    "             'water','water','water','water']\n",
    "\n",
    "\n",
    "phan_map_g4 = ['air','water','G4_LUNG_ICRP',\"G4_BONE_COMPACT_ICRU\",\"G4_BONE_CORTICAL_ICRP\",\"G4_ADIPOSE_TISSUE_ICRP\",\"G4_BRAIN_ICRP\",\"G4_B-100_BONE\"] \n",
    "\n",
    "spectrum_files = sorted(['120_kVp','Al_spectrum_25', 'C_spectrum_6', 'Al_spectrum_6', 'C_spectrum_25', 'W_spectrum_6', 'W_spectrum_25'])\n",
    "# spectrum_files = sorted(['Al_spectrum_25', 'C_spectrum_6', 'Al_spectrum_6', 'C_spectrum_25', 'W_spectrum_6', 'W_spectrum_25'])\n",
    "\n",
    "dets = ['CuGOS-784-micrometer']\n",
    "\n",
    "phan_maps = [phan_map_hard]#,phan_map_soft]\n",
    "\n",
    "angles = np.linspace(0,2*np.pi,2)\n",
    "\n",
    "res = []\n",
    "\n",
    "original_energies_keV = np.array([30, 40, 50 ,60, 70, 80 ,90 ,100 ,300 ,500 ,700, 900, 1000 ,2000 ,4000 ,6000])\n",
    "\n",
    "\n",
    "angles = np.linspace(0,2*pi,2)\n",
    "\n",
    "geo = 'catphan_low_contrast_512'\n",
    "\n",
    "phantom = fc.Catphan_515()\n",
    "\n",
    "for phan_map in phan_maps:\n",
    "    for spectrum_file in spectrum_files[:]:\n",
    "        for det in dets:\n",
    "            \n",
    "            if spectrum_file == '120_kVp':\n",
    "                s = fc.calculate_spectrum(120, 12, 3, 50,monitor=None)\n",
    "                s.attenuate(0.1,fc.get_mu(z=13))\n",
    "            else:\n",
    "                s = fc.Spectrum()\n",
    "                s.load(spectrum_file)\n",
    "        \n",
    "            kernel = fc.Kernel(s, det)\n",
    "            phantom.phan_map = phan_map_hard\n",
    "            res.append(phantom.return_projs(kernel,s,angles,\n",
    "                                       nphoton=2e7,\n",
    "                                      mgy=dose,return_dose=True))"
   ]
  },
  {
   "cell_type": "code",
   "execution_count": 6,
   "id": "empty-acceptance",
   "metadata": {},
   "outputs": [
    {
     "name": "stdout",
     "output_type": "stream",
     "text": [
      "(19, 19, 19) 19\n",
      "bowtie is off False\n",
      "Using the bowtie filter True\n",
      "really doing it!\n",
      "bowtie scatter\n",
      "ratio is 1.0 number of photons 0.6742965492673298\n",
      "(19, 41, 41) 19\n",
      "bowtie is off False\n",
      "Using the bowtie filter True\n",
      "really doing it!\n",
      "ratio is 1.0 number of photons 0.02636808212587352\n"
     ]
    }
   ],
   "source": [
    "kv_catphan = Catphan_404_kV()\n",
    "# phan_map_hard =  ['air','water','water','water',\n",
    "#              'water','water','water','water',\n",
    "#              'water','water','water','water',\n",
    "#              'water','water','water','water',\n",
    "#              'water','water','water','water',\n",
    "#              'water','water','water','water']\n",
    "# kv_catphan.phan_map = phan_map_hard\n",
    "# kv_catphan.geomet.sVoxel = np.array((160, 160, 160)) \n",
    "# kv_catphan.geomet.dVoxel = kv_catphan.geomet.sVoxel/kv_catphan.geomet.nVoxel\n",
    "kv_catphan.get_proj(angles,fudge=0.,ASG=True,return_dose=True,nphoton=2e7)#,bowtie=False)\n",
    "res.append(kv_catphan.res)\n",
    "\n",
    "# phan_map_hard =  ['air','water','water','water',\n",
    "#              'water','water','water','water',\n",
    "#              'water','water','water','water',\n",
    "#              'water','water','water','water',\n",
    "#              'water','water','water','water',\n",
    "#              'water','water','water','water']\n",
    "kv_catphan = Catphan_404_6x()\n",
    "# kv_catphan.phan_map = phan_map_hard\n",
    "# kv_catphan.geomet.sVoxel = np.array((160, 160, 160)) \n",
    "# kv_catphan.geomet.dVoxel = kv_catphan.geomet.sVoxel/kv_catphan.geomet.nVoxel\n",
    "kv_catphan.get_proj(angles,fudge=0.,return_dose=True,nphoton=2e7)#,bowtie=False)\n",
    "res.append(kv_catphan.res)"
   ]
  },
  {
   "cell_type": "code",
   "execution_count": 20,
   "id": "southwest-istanbul",
   "metadata": {},
   "outputs": [
    {
     "data": {
      "application/vnd.jupyter.widget-view+json": {
       "model_id": "aaca799f66a045f6b8536c003aecd7aa",
       "version_major": 2,
       "version_minor": 0
      },
      "text/plain": [
       "Canvas(toolbar=Toolbar(toolitems=[('Home', 'Reset original view', 'home', 'home'), ('Back', 'Back to previous …"
      ]
     },
     "metadata": {},
     "output_type": "display_data"
    },
    {
     "data": {
      "text/plain": [
       "[<matplotlib.lines.Line2D at 0x7f5723d4c190>]"
      ]
     },
     "execution_count": 20,
     "metadata": {},
     "output_type": "execute_result"
    }
   ],
   "source": [
    "plt.figure()\n",
    "plt.plot(np.array([res[ii][-1] for ii in [-2,-1]]),'b*')\n",
    "doses_add = np.array([\n",
    "    5.806760627891094e-10/1000000,\n",
    "    9.877950013503778e-09/1000000\n",
    "])\n",
    "# doses_add = np.array([\n",
    "#     4.964694e-10/1000000,\n",
    "#     9.32785013503778e-09/1000000\n",
    "# ])\n",
    "doses_add = np.array([\n",
    "    3.602318698147385e-10/1000000,\n",
    "    7.9612928871679e-09/1000000\n",
    "])\n",
    "# the mc dose is 1.46 times smaller than fastcat\n",
    "\n",
    "plt.plot(4.53*doses_add/(1.6021766e-16 * 1000),'r*')\n",
    "# plt.plot(4.53*doses_add,'r*')"
   ]
  },
  {
   "cell_type": "code",
   "execution_count": 52,
   "id": "registered-subcommittee",
   "metadata": {},
   "outputs": [
    {
     "data": {
      "application/vnd.jupyter.widget-view+json": {
       "model_id": "c22af2d65ada4c00b72198d5e040af1f",
       "version_major": 2,
       "version_minor": 0
      },
      "text/plain": [
       "Canvas(toolbar=Toolbar(toolitems=[('Home', 'Reset original view', 'home', 'home'), ('Back', 'Back to previous …"
      ]
     },
     "metadata": {},
     "output_type": "display_data"
    },
    {
     "data": {
      "text/plain": [
       "[<matplotlib.lines.Line2D at 0x7f5721ea3fd0>]"
      ]
     },
     "execution_count": 52,
     "metadata": {},
     "output_type": "execute_result"
    }
   ],
   "source": [
    "plt.figure()\n",
    "plt.plot(np.array([res[ii][-1] for ii in [-2,-1]])*(1.6021766e-16 * 1000)*2e8,'b*')\n",
    "doses_add = np.array([\n",
    "    5.806760627891094e-10/1000000,\n",
    "    9.877950013503778e-09/1000000\n",
    "])\n",
    "# doses_add = np.array([\n",
    "#     4.964694e-10/1000000,\n",
    "#     9.32785013503778e-09/1000000\n",
    "# ])\n",
    "doses_add = np.array([\n",
    "    3.602318698147385e-10/1000000,\n",
    "    7.9612928871679e-09/1000000\n",
    "])\n",
    "# the mc dose is 1.46 times smaller than fastcat\n",
    "\n",
    "plt.plot(4.53*(doses_add)*2e8+1e-7,'r*')\n",
    "# plt.plot(4.53*doses_add,'r*')"
   ]
  },
  {
   "cell_type": "code",
   "execution_count": 8,
   "id": "ignored-adventure",
   "metadata": {},
   "outputs": [],
   "source": [
    "doses = np.array([\n",
    "6.033596460814806e-08,\n",
    "1.613708349168519e-07,\n",
    "1.313530049174005e-07,\n",
    "6.200432949299284e-07,\n",
    "3.304057543118688e-07,\n",
    "2.999242099122057e-07,\n",
    "3.515523019359534e-07,\n",
    "])\n",
    "# Doses for the real beams, kv , 6X, both with the filters.\n",
    "doses_add = np.array([\n",
    "    2.401448484512514e-10/1800000,\n",
    "    2.368887308534795e-08/10000000\n",
    "])\n",
    "names = np.array([\n",
    "'Dose_120_kVp',\n",
    "'Dose_Al_spectrum_25',\n",
    "'Dose_C_spectrum_25',\n",
    "'Dose_W_spectrum_6',\n",
    "'Dose_Al_spectrum_6', \n",
    "'Dose_C_spectrum_6',\n",
    "'Dose_W_spectrum_25'])\n",
    "\n",
    "indeces = np.argsort(names)\n",
    "\n",
    "names = names[indeces]\n",
    "doses = doses[indeces]\n",
    "\n",
    "indeces = np.argsort(doses)\n",
    "\n",
    "names = names[indeces]\n",
    "doses = doses[indeces]"
   ]
  },
  {
   "cell_type": "code",
   "execution_count": 9,
   "id": "embedded-voltage",
   "metadata": {},
   "outputs": [],
   "source": [
    "doses/20000000/(1.6021766e-16 * 1000)\n",
    "doses_fc2 = np.array([res[ii][-1] for ii in range(len(res))])\n",
    "# doses_fc2 = np.array(doses_fc)\n",
    "doses_fc2 = doses_fc2[indeces]"
   ]
  },
  {
   "cell_type": "code",
   "execution_count": 10,
   "id": "conservative-retail",
   "metadata": {},
   "outputs": [
    {
     "data": {
      "text/plain": [
       "(41,)"
      ]
     },
     "execution_count": 10,
     "metadata": {},
     "output_type": "execute_result"
    }
   ],
   "source": [
    "kv_catphan.s.x.shape"
   ]
  },
  {
   "cell_type": "code",
   "execution_count": 14,
   "id": "forty-chester",
   "metadata": {},
   "outputs": [
    {
     "data": {
      "application/vnd.jupyter.widget-view+json": {
       "model_id": "7ca250b1003c414db1ea2bf3b1d96084",
       "version_major": 2,
       "version_minor": 0
      },
      "text/plain": [
       "Canvas(toolbar=Toolbar(toolitems=[('Home', 'Reset original view', 'home', 'home'), ('Back', 'Back to previous …"
      ]
     },
     "metadata": {},
     "output_type": "display_data"
    },
    {
     "name": "stdout",
     "output_type": "stream",
     "text": [
      "[1.00000000e+00 2.00000000e+00 4.45398893e+01 7.42331489e+01\n",
      " 7.46336360e+01 8.98521467e+01 9.03384525e+01 1.05757207e+02\n",
      " 1.06958668e+02 1.52270925e+02 1.53672630e+02 1.70321452e+02\n",
      " 1.86569787e+02 2.02589272e+02 2.18723182e+02 2.93299605e+02\n",
      " 3.37467614e+02 3.81263741e+02 4.10299058e+02 4.54009366e+02\n",
      " 4.98291800e+02 4.97662463e+02 5.11650906e+02 6.13231604e+02\n",
      " 7.29515901e+02 8.75121576e+02 1.04990560e+03 1.26885763e+03\n",
      " 1.44407075e+03 1.75115855e+03 2.02915383e+03 2.30734935e+03\n",
      " 2.67350900e+03 3.03989751e+03 3.62629647e+03 4.21286708e+03\n",
      " 4.75555574e+03 5.22486943e+03 5.65015815e+03 5.85540780e+03\n",
      " 5.97277914e+03]\n"
     ]
    }
   ],
   "source": [
    "plt.figure()\n",
    "plt.plot(kv_catphan.s.x,kv_catphan.s.y)\n",
    "# print(kv_catphan.s.y/np.sum(kv_catphan.s.y))\n",
    "print(kv_catphan.s.x)"
   ]
  },
  {
   "cell_type": "code",
   "execution_count": 15,
   "id": "explicit-association",
   "metadata": {},
   "outputs": [
    {
     "data": {
      "application/vnd.jupyter.widget-view+json": {
       "model_id": "2b1b12a5b31a478c97d96eced06bba04",
       "version_major": 2,
       "version_minor": 0
      },
      "text/plain": [
       "Canvas(toolbar=Toolbar(toolitems=[('Home', 'Reset original view', 'home', 'home'), ('Back', 'Back to previous …"
      ]
     },
     "metadata": {},
     "output_type": "display_data"
    }
   ],
   "source": [
    "plt.figure()\n",
    "# s = fc.calculate_spectrum(100, 14, 3, 100,monitor=None)\n",
    "xx = np.array(s.get_points()).T\n",
    "plt.plot(xx[:,0],xx[:,1])\n",
    "np.save('data/energies.npy',xx[:,0])\n",
    "np.save('data/spec_100.npy',xx[:,1])"
   ]
  },
  {
   "cell_type": "code",
   "execution_count": 17,
   "id": "covered-experiment",
   "metadata": {},
   "outputs": [],
   "source": [
    "import pandas as pd"
   ]
  },
  {
   "cell_type": "code",
   "execution_count": 18,
   "id": "alternate-maximum",
   "metadata": {},
   "outputs": [
    {
     "data": {
      "application/vnd.jupyter.widget-view+json": {
       "model_id": "5cf5b7bd76c74e15a535862ff1e53e10",
       "version_major": 2,
       "version_minor": 0
      },
      "text/plain": [
       "Canvas(toolbar=Toolbar(toolitems=[('Home', 'Reset original view', 'home', 'home'), ('Back', 'Back to previous …"
      ]
     },
     "metadata": {},
     "output_type": "display_data"
    },
    {
     "ename": "NameError",
     "evalue": "name 'd_norm' is not defined",
     "output_type": "error",
     "traceback": [
      "\u001b[0;31m---------------------------------------------------------------------------\u001b[0m",
      "\u001b[0;31mNameError\u001b[0m                                 Traceback (most recent call last)",
      "\u001b[0;32m<ipython-input-18-fb56e6f5a948>\u001b[0m in \u001b[0;36m<module>\u001b[0;34m\u001b[0m\n\u001b[1;32m      2\u001b[0m \u001b[0;34m\u001b[0m\u001b[0m\n\u001b[1;32m      3\u001b[0m \u001b[0mplt\u001b[0m\u001b[0;34m.\u001b[0m\u001b[0msubplot\u001b[0m\u001b[0;34m(\u001b[0m\u001b[0;36m121\u001b[0m\u001b[0;34m)\u001b[0m\u001b[0;34m\u001b[0m\u001b[0;34m\u001b[0m\u001b[0m\n\u001b[0;32m----> 4\u001b[0;31m \u001b[0mdat\u001b[0m \u001b[0;34m=\u001b[0m \u001b[0mpd\u001b[0m\u001b[0;34m.\u001b[0m\u001b[0mDataFrame\u001b[0m\u001b[0;34m(\u001b[0m\u001b[0md_norm\u001b[0m\u001b[0;34m/\u001b[0m\u001b[0;36m20000000\u001b[0m\u001b[0;34m/\u001b[0m\u001b[0;34m(\u001b[0m\u001b[0;36m1.6021766e-16\u001b[0m \u001b[0;34m*\u001b[0m \u001b[0;36m1000\u001b[0m\u001b[0;34m)\u001b[0m\u001b[0;34m,\u001b[0m\u001b[0mindex\u001b[0m\u001b[0;34m=\u001b[0m\u001b[0mshorts\u001b[0m\u001b[0;34m)\u001b[0m\u001b[0;34m\u001b[0m\u001b[0;34m\u001b[0m\u001b[0m\n\u001b[0m\u001b[1;32m      5\u001b[0m \u001b[0;31m# plt.plot(doses_fc2,d_norm/20000000/(1.6021766e-16 * 1000),'kx')\u001b[0m\u001b[0;34m\u001b[0m\u001b[0;34m\u001b[0m\u001b[0;34m\u001b[0m\u001b[0m\n\u001b[1;32m      6\u001b[0m \u001b[0mpp\u001b[0m \u001b[0;34m=\u001b[0m \u001b[0mnp\u001b[0m\u001b[0;34m.\u001b[0m\u001b[0mpolyfit\u001b[0m\u001b[0;34m(\u001b[0m\u001b[0mdoses_fc2\u001b[0m\u001b[0;34m,\u001b[0m\u001b[0md_norm\u001b[0m\u001b[0;34m/\u001b[0m\u001b[0;36m20000000\u001b[0m\u001b[0;34m/\u001b[0m\u001b[0;34m(\u001b[0m\u001b[0;36m1.6021766e-16\u001b[0m \u001b[0;34m*\u001b[0m \u001b[0;36m1000\u001b[0m\u001b[0;34m)\u001b[0m\u001b[0;34m,\u001b[0m\u001b[0;36m1\u001b[0m\u001b[0;34m)\u001b[0m\u001b[0;34m\u001b[0m\u001b[0;34m\u001b[0m\u001b[0m\n",
      "\u001b[0;31mNameError\u001b[0m: name 'd_norm' is not defined"
     ]
    }
   ],
   "source": [
    "plt.figure()#figsize=[8,4],dpi=300)\n",
    "\n",
    "plt.subplot(121)\n",
    "dat = pd.DataFrame(d_norm/20000000/(1.6021766e-16 * 1000),index=shorts)\n",
    "# plt.plot(doses_fc2,d_norm/20000000/(1.6021766e-16 * 1000),'kx')\n",
    "pp = np.polyfit(doses_fc2,d_norm/20000000/(1.6021766e-16 * 1000),1)\n",
    "xx = np.linspace(0.040,0.2,100)\n",
    "yy = np.polyval(pp,xx)\n",
    "# plt.plot(xx,yy,':',color='cornflowerblue')\n",
    "# plt.ylabel('fastCAT')\n",
    "# plt.xlabel('Topas')\n",
    "slope, intercept, r_value, p_value, std_err = sp.stats.linregress(doses_fc2,d_norm/20000000/(1.6021766e-16 * 1000),)\n",
    "# plt.legend(['Simulations',f'linear fit: y = {np.round(pp[0],3)}x + {np.round(pp[1],3)}, \\n $r^2$= {np.round(r_value,4)}'])\n",
    "# pp = np.array([0.88759883, 0.01035186])\n",
    "plt.plot(doses_fc2,'*',color='cornflowerblue')\n",
    "plt.plot(dat,'k+')\n",
    "# plt.plot(doses_fc/sum(doses_fc),'x')\n",
    "plt.xticks(rotation=75)\n",
    "plt.ylabel('MeV/photon')\n",
    "plt.legend(['fastCAT','Topas'])\n",
    "plt.grid()\n",
    "plt.title('Dose Comparison')\n",
    "\n",
    "\n",
    "plt.subplot(122)\n",
    "\n",
    "nphot = 360*1e9\n",
    "\n",
    "dat2 = [489/1000000*nphot,27.86/1000000*nphot,61.1,39.9]\n",
    "\n",
    "plt.semilogy(dat2,'k*')\n",
    "plt.grid('on')\n",
    "plt.ylabel('log compute time [core s]')\n",
    "plt.xticks([0,1,2,3],labels=['Topas MC*','fastEPID*','fastCAT 1024$^2$x10','fastCAT 512$^2$x10'],rotation= 45)\n",
    "plt.yticks([60,60*60,60*60*24,60*60*24*30,60*60*24*365],['minute','hour','day','month','year'])\n",
    "plt.title('Compute Time')\n",
    "\n",
    "plt.tight_layout()\n",
    "plt.savefig('/home/xcite/fastcat_paper/figures/misc.pdf')"
   ]
  },
  {
   "cell_type": "code",
   "execution_count": 19,
   "id": "aggressive-think",
   "metadata": {},
   "outputs": [
    {
     "data": {
      "application/vnd.jupyter.widget-view+json": {
       "model_id": "a83c85856f9340c4b6be9ef5e62bfa46",
       "version_major": 2,
       "version_minor": 0
      },
      "text/plain": [
       "Canvas(toolbar=Toolbar(toolitems=[('Home', 'Reset original view', 'home', 'home'), ('Back', 'Back to previous …"
      ]
     },
     "metadata": {},
     "output_type": "display_data"
    }
   ],
   "source": [
    "import pandas as pd\n",
    "import scipy as sp\n",
    "# d_norm = doses#/sum(doses)\n",
    "# doses_fc2 = np.array(doses_fc)\n",
    "# doses_fc2 = doses_fc2[indeces]\n",
    "shorts = ['120 kVp', 'C 2.5 MV', 'Al 2.5 MV', 'C 6 MV',\n",
    "       'Al 6 MV', 'W 2.5 MV', 'W 6 MV']\n",
    "fig = plt.figure()#figsize=[8,4],dpi=300)\n",
    "ax1 = fig.add_subplot(121)\n",
    "scats = np.load('../paper_2/curves_all.npy')\n",
    "real_spec = np.load('../data/w_spec_profile.npy')\n",
    "real_spec_CT = np.load('/home/xcite/scintillators/Catphan_dose/batch_submission_W/analysis/Readout_0000.phsp.npy')\n",
    "real_spec_kV = np.load('/home/xcite/scintillators/topas_sim_cugos/kV_averaged_slice.npy')\n",
    "dist = np.linspace(-256*0.0784 - 0.0392,256*0.0784 - 0.0392, 512)\n",
    "plt.plot(dist,scats[0],linewidth = 1.0,color = 'cornflowerblue')\n",
    "plt.plot(dist,scats[1],linewidth = 1.0,color = 'darkorange')\n",
    "plt.plot(dist,scats[2],linewidth = 1.0,color = 'gray')\n",
    "plt.plot(dist,real_spec,'k-',linewidth = 0.4)\n",
    "plt.plot(dist,np.mean(real_spec_CT,0),'k-.',linewidth = 0.4,markersize=0.4)\n",
    "dist2 = dist*1.04\n",
    "plt.plot(dist2,real_spec_kV,'k--',linewidth = 0.6)\n",
    "plt.plot(dist,scats[2],linewidth = 1.0,color = 'gray')\n",
    "# plt.grid('on')\n",
    "plt.xlim([-20,20])\n",
    "plt.ylim([0,1000])\n",
    "fig.legend(['fastCAT 6 MV Al', 'fastCAT 6 MV W',\n",
    "            'fastCAT 120 kVp','Topas 6 MV Al', 'Topas 6 MV W', 'Topas 120 kVp'],\n",
    "           loc='upper right', bbox_to_anchor=(0.6,0.97))\n",
    "plt.xlabel('[cm]')\n",
    "plt.ylabel('Counts')\n",
    "\n",
    "axins = ax1.inset_axes([0.26, 0.45, 0.44, 0.54])\n",
    "axins.plot(dist,scats[0],linewidth = 1.0,color = 'cornflowerblue')\n",
    "axins.plot(dist,scats[1],linewidth = 1.0,color = 'darkorange')\n",
    "axins.plot(dist,scats[2],linewidth = 1.0,color = 'gray')\n",
    "axins.plot(dist,real_spec,'k-',linewidth = 0.4)\n",
    "axins.plot(dist,np.mean(real_spec_CT,0),'k-.',linewidth = 0.4,markersize=0.4)\n",
    "axins.plot(dist2,real_spec_kV,'k--',linewidth = 0.6)\n",
    "axins.plot(dist,scats[2],linewidth = 1.0,color = 'gray')\n",
    "x1, x2, y1, y2 = -8, 8, 10, 55\n",
    "axins.set_xlim(x1, x2)\n",
    "axins.set_ylim(y1, y2)\n",
    "axins.set_xticklabels('')\n",
    "axins.set_yticklabels('')\n",
    "ax1.indicate_inset_zoom(axins)\n",
    "\n",
    "topas = np.load('/home/xcite/scintillators/Catphan_dose/batch_submission/projs_new_npys.npy')\n",
    "fastCat = np.load('/home/xcite/fastcat-0.0.1/fastcat/data/projs/similar_noise8.npy')#fastCat_topas_equiv_8cm_W.npy')\n",
    "ax = fig.add_subplot(122)#,box_aspect=1.5)\n",
    "plt.fill_between(np.linspace(-20,20,512),np.mean(fastCat.T[:,:,0],1)/10-np.std(fastCat.T[:,:,0],1)/10, \n",
    "                 np.mean(fastCat.T[:,:,0],1)/10+np.std(fastCat.T[:,:,0],1)/10 ,alpha=0.3, facecolor='cornflowerblue')\n",
    "plt.fill_between(np.linspace(-20,20,512),np.mean(topas.T[:,:64,0],1)-np.std(topas.T[:,:64,0],1),\n",
    "                 np.mean(topas.T[:,:64,0],1)+np.std(topas.T[:,:64,0],1),alpha=0.3, facecolor='k')\n",
    "plt.plot(np.linspace(-20,20,512),np.mean(fastCat.T[:,:,0],1)/10,lineWidth= .5,color='b')\n",
    "plt.plot(np.linspace(-20,20,512),np.mean(topas.T[:,:64,0],1),lineWidth= .5,color='k')\n",
    "plt.plot(np.linspace(-20,20,512),np.mean(topas.T[:,:64,0],1)+np.std(topas.T[:,:64,0],1),'k--',lineWidth= .5)\n",
    "plt.plot(np.linspace(-20,20,512),np.mean(fastCat.T[:,:,0],1)/10+np.std(fastCat.T[:,:,0],1)/10,'--',lineWidth= .5,color='cornflowerblue',alpha=0.8)\n",
    "plt.plot(np.linspace(-20,20,512),np.mean(topas.T[:,:64,0],1)-np.std(topas.T[:,:64,0],1),'k--',lineWidth= .5)\n",
    "plt.plot(np.linspace(-20,20,512),np.mean(fastCat.T[:,:,0],1)/10-np.std(fastCat.T[:,:,0],1)/10,'--',lineWidth= .5,color='cornflowerblue',alpha=0.8)\n",
    "plt.legend(['$\\hat{\\mu}$ fastCAT', '$\\hat{\\mu}$ Topas', '$\\hat{\\sigma}$ Topas', '$\\hat{\\sigma}$ fastCAT'],loc='upper right')\n",
    "# inset axes....\n",
    "axins = ax.inset_axes([0.3, 0.05, 0.4, 0.4])\n",
    "axins.fill_between(np.linspace(-20,20,512),np.mean(fastCat.T[:,:,0],1)/10-np.std(fastCat.T[:,:,0],1)/10, \n",
    "                 np.mean(fastCat.T[:,:,0],1)/10+np.std(fastCat.T[:,:,0],1)/10 ,alpha=0.3, facecolor='cornflowerblue')\n",
    "axins.fill_between(np.linspace(-20,20,512),np.mean(topas.T[:,:64,0],1)-np.std(topas.T[:,:64,0],1),\n",
    "                 np.mean(topas.T[:,:64,0],1)+np.std(topas.T[:,:64,0],1),alpha=0.3, facecolor='k')\n",
    "axins.plot(np.linspace(-20,20,512),np.mean(topas.T[:,:64,0],1)+np.std(topas.T[:,:64,0],1),'k--',lineWidth= .5)\n",
    "axins.plot(np.linspace(-20,20,512),np.mean(fastCat.T[:,:,0],1)/10+np.std(fastCat.T[:,:,0],1)/10,'--',lineWidth= .5,color='cornflowerblue',alpha=0.8)\n",
    "axins.plot(np.linspace(-20,20,512),np.mean(topas.T[:,:64,0],1)-np.std(topas.T[:,:64,0],1),'k--',lineWidth= .5)\n",
    "axins.plot(np.linspace(-20,20,512),np.mean(fastCat.T[:,:,0],1)/10-np.std(fastCat.T[:,:,0],1)/10,'--',lineWidth= .5,color='cornflowerblue',alpha=0.8)\n",
    "axins.plot(np.linspace(-20,20,512),np.mean(fastCat.T[:,:,0],1)/10,lineWidth= .5,color='b')\n",
    "axins.plot(np.linspace(-20,20,512),np.mean(topas.T[:,:64,0],1),lineWidth= .5,color='k')\n",
    "\n",
    "plt.xlim([-20,20])\n",
    "plt.ylim([-0.5,1.5])\n",
    "# plt.grid()\n",
    "# sub region of the original image\n",
    "x1, x2, y1, y2 = -5, 5, 0.8, 1.1\n",
    "axins.set_xlim(x1, x2)\n",
    "axins.set_ylim(y1, y2)\n",
    "axins.set_xticklabels('')\n",
    "axins.set_yticklabels('')\n",
    "plt.ylabel('$\\mu x$')\n",
    "plt.xlabel('[cm]')\n",
    "plt.tight_layout()\n",
    "ax.indicate_inset_zoom(axins)\n",
    "# plt.subplot(223)\n",
    "# # plt.plot(doses_fc2,d_norm/20000000/(1.6021766e-16 * 1000),'kx')\n",
    "# pp = np.polyfit(doses_fc2,d_norm/20000000/(1.6021766e-16 * 1000),1)\n",
    "# xx = np.linspace(0.040,0.2,100)\n",
    "# yy = np.polyval(pp,xx)\n",
    "# # plt.plot(xx,yy,':',color='cornflowerblue')\n",
    "# # plt.ylabel('fastCAT')\n",
    "# # plt.xlabel('Topas')\n",
    "# slope, intercept, r_value, p_value, std_err = sp.stats.linregress(doses_fc2,d_norm/20000000/(1.6021766e-16 * 1000),)\n",
    "# # plt.legend(['Simulations',f'linear fit: y = {np.round(pp[0],3)}x + {np.round(pp[1],3)}, \\n $r^2$= {np.round(r_value,4)}'])\n",
    "# plt.plot(doses_fc2*pp[0] + pp[1],'*',color='cornflowerblue')\n",
    "# plt.plot(dat,'k+')\n",
    "# # plt.plot(doses_fc/sum(doses_fc),'x')\n",
    "# plt.xticks(rotation=75)\n",
    "# plt.ylabel('MeV/photon')\n",
    "# plt.legend(['fastCAT','Topas'])\n",
    "plt.tight_layout()\n",
    "# plt.savefig('/home/xcite/fastcat_paper/figures/one_slice_comparison_2panel.pdf')"
   ]
  },
  {
   "cell_type": "code",
   "execution_count": null,
   "id": "designed-jersey",
   "metadata": {},
   "outputs": [],
   "source": []
  }
 ],
 "metadata": {
  "kernelspec": {
   "display_name": "Python 3",
   "language": "python",
   "name": "python3"
  },
  "language_info": {
   "codemirror_mode": {
    "name": "ipython",
    "version": 3
   },
   "file_extension": ".py",
   "mimetype": "text/x-python",
   "name": "python",
   "nbconvert_exporter": "python",
   "pygments_lexer": "ipython3",
   "version": "3.7.6"
  }
 },
 "nbformat": 4,
 "nbformat_minor": 5
}
