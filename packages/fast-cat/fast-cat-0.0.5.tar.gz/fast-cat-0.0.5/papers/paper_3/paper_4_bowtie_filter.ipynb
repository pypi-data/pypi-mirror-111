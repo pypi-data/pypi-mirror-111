{
 "cells": [
  {
   "cell_type": "code",
   "execution_count": 1,
   "id": "bibliographic-calculator",
   "metadata": {},
   "outputs": [
    {
     "name": "stdout",
     "output_type": "stream",
     "text": [
      "Populating the interactive namespace from numpy and matplotlib\n"
     ]
    }
   ],
   "source": [
    "%pylab widget\n",
    "%load_ext autoreload\n",
    "%autoreload 2"
   ]
  },
  {
   "cell_type": "code",
   "execution_count": 2,
   "id": "potential-clark",
   "metadata": {},
   "outputs": [],
   "source": [
    "# from analysis_functions import *\n",
    "import fastcat.fastcat as fc"
   ]
  },
  {
   "cell_type": "code",
   "execution_count": 3,
   "id": "naval-tobago",
   "metadata": {},
   "outputs": [],
   "source": [
    "from scipy.optimize import minimize"
   ]
  },
  {
   "cell_type": "markdown",
   "id": "amber-dominican",
   "metadata": {},
   "source": [
    "# Looking at the bowtie filter"
   ]
  },
  {
   "cell_type": "code",
   "execution_count": 4,
   "id": "consistent-chick",
   "metadata": {},
   "outputs": [
    {
     "data": {
      "application/vnd.jupyter.widget-view+json": {
       "model_id": "d959d29ad6184326b1c8f674ce3a475a",
       "version_major": 2,
       "version_minor": 0
      },
      "text/plain": [
       "Canvas(toolbar=Toolbar(toolitems=[('Home', 'Reset original view', 'home', 'home'), ('Back', 'Back to previous …"
      ]
     },
     "metadata": {},
     "output_type": "display_data"
    },
    {
     "data": {
      "text/plain": [
       "<matplotlib.image.AxesImage at 0x7fc604c3f710>"
      ]
     },
     "execution_count": 4,
     "metadata": {},
     "output_type": "execute_result"
    }
   ],
   "source": [
    "# Now lets look for one of the bowtie air projections\n",
    "bowtie_volume = np.load('/home/xcite/MV_CBCT/projections/kv_air.npy')\n",
    "\n",
    "plt.figure()\n",
    "plt.imshow(np.mean(bowtie_volume,0))"
   ]
  },
  {
   "cell_type": "code",
   "execution_count": 5,
   "id": "chief-register",
   "metadata": {},
   "outputs": [
    {
     "data": {
      "application/vnd.jupyter.widget-view+json": {
       "model_id": "28c219a2462e4c9e9fc616e484595636",
       "version_major": 2,
       "version_minor": 0
      },
      "text/plain": [
       "Canvas(toolbar=Toolbar(toolitems=[('Home', 'Reset original view', 'home', 'home'), ('Back', 'Back to previous …"
      ]
     },
     "metadata": {},
     "output_type": "display_data"
    },
    {
     "data": {
      "text/plain": [
       "[<matplotlib.lines.Line2D at 0x7fc558c41210>]"
      ]
     },
     "execution_count": 5,
     "metadata": {},
     "output_type": "execute_result"
    }
   ],
   "source": [
    "plt.figure()\n",
    "plt.plot(np.mean(np.mean(bowtie_volume,0),0))"
   ]
  },
  {
   "cell_type": "code",
   "execution_count": 6,
   "id": "criminal-bulletin",
   "metadata": {},
   "outputs": [],
   "source": [
    "# Should I make an actual fastCAT aluminum model to see what CsI setting agrees with this?\n",
    "# First I will see if I can make a small model that is just a brick of aluminum"
   ]
  },
  {
   "cell_type": "code",
   "execution_count": 7,
   "id": "tracked-words",
   "metadata": {},
   "outputs": [
    {
     "data": {
      "application/vnd.jupyter.widget-view+json": {
       "model_id": "a984185fc3dc4add92ab69965c2f8ce9",
       "version_major": 2,
       "version_minor": 0
      },
      "text/plain": [
       "Canvas(toolbar=Toolbar(toolitems=[('Home', 'Reset original view', 'home', 'home'), ('Back', 'Back to previous …"
      ]
     },
     "metadata": {},
     "output_type": "display_data"
    },
    {
     "data": {
      "text/plain": [
       "[<matplotlib.lines.Line2D at 0x7fc558be33d0>]"
      ]
     },
     "execution_count": 7,
     "metadata": {},
     "output_type": "execute_result"
    }
   ],
   "source": [
    "plt.figure()\n",
    "from scipy.signal import gaussian\n",
    "lengths3 = gaussian(2*512,8*128/1.5)\n",
    "plt.plot(1.9 - 2*lengths3**(9))\n",
    "xx = np.arange(1024)\n",
    "plt.plot(1.9/(1 + np.e**(-0.02*(xx-512-256))))\n",
    "plt.plot(np.mean(bowtie_volume[0],0)/20000)\n",
    "plt.plot((-np.log(np.mean(bowtie_volume[0],0)/20000)))"
   ]
  },
  {
   "cell_type": "code",
   "execution_count": 8,
   "id": "greenhouse-beijing",
   "metadata": {},
   "outputs": [],
   "source": [
    "from scipy.signal import gaussian\n",
    "lengths = gaussian(512,128/1.5)*2"
   ]
  },
  {
   "cell_type": "code",
   "execution_count": 9,
   "id": "mineral-landing",
   "metadata": {},
   "outputs": [],
   "source": [
    "s = fc.calculate_spectrum(100, 14, 3, 100,monitor=None)\n",
    "s.attenuate(0.4,fc.get_mu(z=13))\n",
    "s.attenuate(0.089,fc.get_mu(z=22))\n",
    "s.x,s.y = s.get_points()"
   ]
  },
  {
   "cell_type": "code",
   "execution_count": 11,
   "id": "stuck-marine",
   "metadata": {},
   "outputs": [
    {
     "data": {
      "application/vnd.jupyter.widget-view+json": {
       "model_id": "744bc6818919453abe1d04826a00cfd9",
       "version_major": 2,
       "version_minor": 0
      },
      "text/plain": [
       "Canvas(toolbar=Toolbar(toolitems=[('Home', 'Reset original view', 'home', 'home'), ('Back', 'Back to previous …"
      ]
     },
     "metadata": {},
     "output_type": "display_data"
    },
    {
     "data": {
      "text/plain": [
       "[<matplotlib.lines.Line2D at 0x7fc558aac710>]"
      ]
     },
     "execution_count": 11,
     "metadata": {},
     "output_type": "execute_result"
    }
   ],
   "source": [
    "plt.figure()\n",
    "plt.plot(s.x,s.y)"
   ]
  },
  {
   "cell_type": "code",
   "execution_count": 12,
   "id": "criminal-knight",
   "metadata": {},
   "outputs": [],
   "source": [
    "edep = np.load('../../fastcat/data/Detectors/CsI-784-micrometer/EnergyDeposition_450microm.npy')"
   ]
  },
  {
   "cell_type": "code",
   "execution_count": 13,
   "id": "banner-earth",
   "metadata": {},
   "outputs": [
    {
     "data": {
      "application/vnd.jupyter.widget-view+json": {
       "model_id": "f3540524936b4485af163dc315e32983",
       "version_major": 2,
       "version_minor": 0
      },
      "text/plain": [
       "Canvas(toolbar=Toolbar(toolitems=[('Home', 'Reset original view', 'home', 'home'), ('Back', 'Back to previous …"
      ]
     },
     "metadata": {},
     "output_type": "display_data"
    },
    {
     "data": {
      "text/plain": [
       "[<matplotlib.lines.Line2D at 0x7fc558d1f2d0>]"
      ]
     },
     "execution_count": 13,
     "metadata": {},
     "output_type": "execute_result"
    }
   ],
   "source": [
    "plt.figure()\n",
    "plt.semilogx(edep[1],edep[0]/edep[1]*1000)"
   ]
  },
  {
   "cell_type": "code",
   "execution_count": 14,
   "id": "interesting-forest",
   "metadata": {},
   "outputs": [
    {
     "data": {
      "text/plain": [
       "3549.8050000000003"
      ]
     },
     "execution_count": 14,
     "metadata": {},
     "output_type": "execute_result"
    }
   ],
   "source": [
    "np.sum(s.x)/2"
   ]
  },
  {
   "cell_type": "code",
   "execution_count": 15,
   "id": "imposed-toilet",
   "metadata": {},
   "outputs": [
    {
     "data": {
      "text/plain": [
       "66"
      ]
     },
     "execution_count": 15,
     "metadata": {},
     "output_type": "execute_result"
    }
   ],
   "source": [
    "np.argmin(np.abs(np.cumsum(s.y)- np.sum(s.y)/2))"
   ]
  },
  {
   "cell_type": "code",
   "execution_count": 16,
   "id": "confirmed-prisoner",
   "metadata": {},
   "outputs": [
    {
     "data": {
      "text/plain": [
       "59.42777777777778"
      ]
     },
     "execution_count": 16,
     "metadata": {},
     "output_type": "execute_result"
    }
   ],
   "source": [
    "s.x[66]"
   ]
  },
  {
   "cell_type": "markdown",
   "id": "legitimate-midwest",
   "metadata": {},
   "source": [
    "## Now we know that the mean energy of the 100 kVp beam should be about 44.6"
   ]
  },
  {
   "cell_type": "code",
   "execution_count": 17,
   "id": "subject-maple",
   "metadata": {},
   "outputs": [],
   "source": [
    "al = np.loadtxt('../../fastcat/data/mu/14.csv',delimiter=',')"
   ]
  },
  {
   "cell_type": "code",
   "execution_count": 18,
   "id": "preliminary-quarterly",
   "metadata": {},
   "outputs": [
    {
     "data": {
      "text/plain": [
       "60.0"
      ]
     },
     "execution_count": 18,
     "metadata": {},
     "output_type": "execute_result"
    }
   ],
   "source": [
    "al[0,16]"
   ]
  },
  {
   "cell_type": "code",
   "execution_count": 19,
   "id": "greatest-despite",
   "metadata": {},
   "outputs": [
    {
     "name": "stdout",
     "output_type": "stream",
     "text": [
      "2.9458800000000003\n"
     ]
    }
   ],
   "source": [
    "mu = (al[1,13]-0.4)\n",
    "\n",
    "print(mu)"
   ]
  },
  {
   "cell_type": "markdown",
   "id": "printable-edinburgh",
   "metadata": {},
   "source": [
    "\\begin{equation}\n",
    "y = e^{-\\mu x}\n",
    "\\end{equation}"
   ]
  },
  {
   "cell_type": "markdown",
   "id": "guilty-latin",
   "metadata": {},
   "source": [
    "\\begin{equation}\n",
    "-ln(y)/\\mu = x\n",
    "\\end{equation}"
   ]
  },
  {
   "cell_type": "code",
   "execution_count": 48,
   "id": "norman-botswana",
   "metadata": {},
   "outputs": [],
   "source": [
    "lengths = -2.*np.log(np.mean(np.mean(bowtie_volume[:,250:450],0),0)/21000)/mu"
   ]
  },
  {
   "cell_type": "code",
   "execution_count": 49,
   "id": "reserved-texas",
   "metadata": {},
   "outputs": [
    {
     "data": {
      "application/vnd.jupyter.widget-view+json": {
       "model_id": "3279fa5875b94f97a772046f79f00fa3",
       "version_major": 2,
       "version_minor": 0
      },
      "text/plain": [
       "Canvas(toolbar=Toolbar(toolitems=[('Home', 'Reset original view', 'home', 'home'), ('Back', 'Back to previous …"
      ]
     },
     "metadata": {},
     "output_type": "display_data"
    },
    {
     "data": {
      "text/plain": [
       "[<matplotlib.lines.Line2D at 0x7fc556452590>]"
      ]
     },
     "execution_count": 49,
     "metadata": {},
     "output_type": "execute_result"
    }
   ],
   "source": [
    "plt.figure()\n",
    "# lengths2= concatenate((lengths[:512],lengths[511::-1]))*1\n",
    "ll = lengths\n",
    "ll[-30:] = ll[-30]\n",
    "ll[:30] = ll[30]\n",
    "\n",
    "# lengths += np.linspace(0.05,0.,1024)\n",
    "plt.plot(lengths)\n",
    "# np.save('lengths_2.5cm',lengths)"
   ]
  },
  {
   "cell_type": "code",
   "execution_count": 50,
   "id": "detected-modern",
   "metadata": {},
   "outputs": [
    {
     "data": {
      "application/vnd.jupyter.widget-view+json": {
       "model_id": "74c24010dc42460f884919ae90c12fcf",
       "version_major": 2,
       "version_minor": 0
      },
      "text/plain": [
       "Canvas(toolbar=Toolbar(toolitems=[('Home', 'Reset original view', 'home', 'home'), ('Back', 'Back to previous …"
      ]
     },
     "metadata": {},
     "output_type": "display_data"
    },
    {
     "data": {
      "text/plain": [
       "[<matplotlib.lines.Line2D at 0x7fc556440150>]"
      ]
     },
     "execution_count": 50,
     "metadata": {},
     "output_type": "execute_result"
    }
   ],
   "source": [
    "# cut = 50\n",
    "\n",
    "# xx = np.arange(len(lengths2))\n",
    "\n",
    "# cut_lengths = np.interp(np.linspace(cut,len(xx)-cut,len(xx)),xx,lengths2)\n",
    "\n",
    "# figure();plot(cut_lengths)"
   ]
  },
  {
   "cell_type": "code",
   "execution_count": 51,
   "id": "built-quick",
   "metadata": {},
   "outputs": [
    {
     "data": {
      "application/vnd.jupyter.widget-view+json": {
       "model_id": "f1307b384cdf46919b1de7a90adc5650",
       "version_major": 2,
       "version_minor": 0
      },
      "text/plain": [
       "Canvas(toolbar=Toolbar(toolitems=[('Home', 'Reset original view', 'home', 'home'), ('Back', 'Back to previous …"
      ]
     },
     "metadata": {},
     "output_type": "display_data"
    },
    {
     "data": {
      "text/plain": [
       "[<matplotlib.lines.Line2D at 0x7fc5563c4550>]"
      ]
     },
     "execution_count": 51,
     "metadata": {},
     "output_type": "execute_result"
    }
   ],
   "source": [
    "# dist = np.linspace(-256*0.0784 - 0.0392,256*0.0784 - 0.0392, 512) # TODO: fix this gore!!\n",
    "# step = 0.05\n",
    "# dist2 = np.linspace(-256*step - step/2,256*step - step/2, 512) # TODO: fix this gore!!\n",
    "\n",
    "# xx = np.arange(len(lengths2))\n",
    "\n",
    "# cut_lengths = np.interp(dist,dist2,lengths2[::2])\n",
    "\n",
    "# figure();plot(dist,cut_lengths)\n",
    "# plot(dist2,lengths2[::2],'r')"
   ]
  },
  {
   "cell_type": "code",
   "execution_count": 40,
   "id": "meaningful-texas",
   "metadata": {},
   "outputs": [],
   "source": [
    "# Now I just have to find out what the attenuation coefficients are and then I can make an array that has them\n",
    "# In it to just multiply the final output by."
   ]
  },
  {
   "cell_type": "code",
   "execution_count": 41,
   "id": "suited-enclosure",
   "metadata": {},
   "outputs": [],
   "source": [
    "import fastcat.fastcat as fc\n",
    "original_energies_keV = np.array([10,20,30, 40, 50 ,60, 70, 80 ,90 ,100 ,300 ,500 ,700, 900, 1000 ,2000 ,4000 ,6000])"
   ]
  },
  {
   "cell_type": "code",
   "execution_count": 42,
   "id": "corresponding-alloy",
   "metadata": {},
   "outputs": [],
   "source": [
    "lengths2 = lengths \n",
    "\n",
    "bowtie_filter = np.zeros((len(original_energies_keV),lengths2.shape[0]))\n",
    "bowtie_filter2 = np.zeros((len(original_energies_keV),lengths2.shape[0]))\n",
    "\n",
    "al_map = fc.get_mu(z=14)\n",
    "\n",
    "for ii in range(len(original_energies_keV)):\n",
    "    \n",
    "    bowtie_filter[ii,:] = np.e**(-lengths2*al_map(original_energies_keV[ii]))\n",
    "    bowtie_filter2[ii,:] = lengths2*al_map(original_energies_keV[ii])\n",
    "#     print(al_map(original_energies_keV[ii]))"
   ]
  },
  {
   "cell_type": "code",
   "execution_count": 43,
   "id": "neither-scroll",
   "metadata": {},
   "outputs": [
    {
     "data": {
      "application/vnd.jupyter.widget-view+json": {
       "model_id": "4f8148b987fa4673940b8f60eed1e08f",
       "version_major": 2,
       "version_minor": 0
      },
      "text/plain": [
       "Canvas(toolbar=Toolbar(toolitems=[('Home', 'Reset original view', 'home', 'home'), ('Back', 'Back to previous …"
      ]
     },
     "metadata": {},
     "output_type": "display_data"
    },
    {
     "data": {
      "text/plain": [
       "Text(0, 0.5, '$I/I_0$')"
      ]
     },
     "execution_count": 43,
     "metadata": {},
     "output_type": "execute_result"
    }
   ],
   "source": [
    "plt.figure()\n",
    "plt.plot(bowtie_filter.T);\n",
    "plt.legend(original_energies_keV)\n",
    "plt.xlabel('pixel')\n",
    "plt.ylabel('$I/I_0$')"
   ]
  },
  {
   "cell_type": "code",
   "execution_count": 44,
   "id": "reasonable-laugh",
   "metadata": {},
   "outputs": [
    {
     "data": {
      "application/vnd.jupyter.widget-view+json": {
       "model_id": "f38177ce12fc4ae9ae875508ebc2a130",
       "version_major": 2,
       "version_minor": 0
      },
      "text/plain": [
       "Canvas(toolbar=Toolbar(toolitems=[('Home', 'Reset original view', 'home', 'home'), ('Back', 'Back to previous …"
      ]
     },
     "metadata": {},
     "output_type": "display_data"
    }
   ],
   "source": [
    "plt.figure()\n",
    "plt.plot(bowtie_filter2.T[::2,:]);\n",
    "\n",
    "bowtie_smaller = bowtie_filter.T[::2,:]\n",
    "bowtie_smaller2 = bowtie_filter2.T[::2,:]"
   ]
  },
  {
   "cell_type": "code",
   "execution_count": 45,
   "id": "placed-tactics",
   "metadata": {},
   "outputs": [],
   "source": [
    "np.save('bowtie_asym3',bowtie_smaller)\n",
    "np.save('bowtie_asym3_lengths',bowtie_smaller2)"
   ]
  },
  {
   "cell_type": "code",
   "execution_count": 46,
   "id": "outer-implementation",
   "metadata": {},
   "outputs": [],
   "source": [
    "# np.save('bowtie9',bowtie_filter.T)\n",
    "# np.save('bowtie9_lengths',bowtie_filter2.T)"
   ]
  },
  {
   "cell_type": "code",
   "execution_count": 47,
   "id": "changing-metropolitan",
   "metadata": {},
   "outputs": [],
   "source": [
    "!mv bowtie* ../../fastcat/data/filters/"
   ]
  },
  {
   "cell_type": "code",
   "execution_count": 24,
   "id": "under-flour",
   "metadata": {},
   "outputs": [
    {
     "data": {
      "application/vnd.jupyter.widget-view+json": {
       "model_id": "e4f1a6f309ca40b196b729fdf8df419c",
       "version_major": 2,
       "version_minor": 0
      },
      "text/plain": [
       "Canvas(toolbar=Toolbar(toolitems=[('Home', 'Reset original view', 'home', 'home'), ('Back', 'Back to previous …"
      ]
     },
     "metadata": {},
     "output_type": "display_data"
    },
    {
     "ename": "ValueError",
     "evalue": "not enough values to unpack (expected 3, got 2)",
     "output_type": "error",
     "traceback": [
      "\u001b[0;31m---------------------------------------------------------------------------\u001b[0m",
      "\u001b[0;31mValueError\u001b[0m                                Traceback (most recent call last)",
      "\u001b[0;32m<ipython-input-24-218c01a3e5f3>\u001b[0m in \u001b[0;36m<module>\u001b[0;34m\u001b[0m\n\u001b[1;32m     29\u001b[0m \u001b[0mX\u001b[0m \u001b[0;34m=\u001b[0m \u001b[0mbowtie_filter\u001b[0m\u001b[0;34m.\u001b[0m\u001b[0mT\u001b[0m\u001b[0;34m\u001b[0m\u001b[0;34m\u001b[0m\u001b[0m\n\u001b[1;32m     30\u001b[0m \u001b[0;34m\u001b[0m\u001b[0m\n\u001b[0;32m---> 31\u001b[0;31m \u001b[0mtracker\u001b[0m \u001b[0;34m=\u001b[0m \u001b[0mIndexTracker\u001b[0m\u001b[0;34m(\u001b[0m\u001b[0max\u001b[0m\u001b[0;34m,\u001b[0m \u001b[0mX\u001b[0m\u001b[0;34m)\u001b[0m\u001b[0;34m\u001b[0m\u001b[0;34m\u001b[0m\u001b[0m\n\u001b[0m\u001b[1;32m     32\u001b[0m \u001b[0;34m\u001b[0m\u001b[0m\n\u001b[1;32m     33\u001b[0m \u001b[0mfig\u001b[0m\u001b[0;34m.\u001b[0m\u001b[0mcanvas\u001b[0m\u001b[0;34m.\u001b[0m\u001b[0mmpl_connect\u001b[0m\u001b[0;34m(\u001b[0m\u001b[0;34m'scroll_event'\u001b[0m\u001b[0;34m,\u001b[0m \u001b[0mtracker\u001b[0m\u001b[0;34m.\u001b[0m\u001b[0monscroll\u001b[0m\u001b[0;34m)\u001b[0m\u001b[0;34m\u001b[0m\u001b[0;34m\u001b[0m\u001b[0m\n",
      "\u001b[0;32m<ipython-input-24-218c01a3e5f3>\u001b[0m in \u001b[0;36m__init__\u001b[0;34m(self, ax, X)\u001b[0m\n\u001b[1;32m      5\u001b[0m \u001b[0;34m\u001b[0m\u001b[0m\n\u001b[1;32m      6\u001b[0m         \u001b[0mself\u001b[0m\u001b[0;34m.\u001b[0m\u001b[0mX\u001b[0m \u001b[0;34m=\u001b[0m \u001b[0mX\u001b[0m\u001b[0;34m\u001b[0m\u001b[0;34m\u001b[0m\u001b[0m\n\u001b[0;32m----> 7\u001b[0;31m         \u001b[0mrows\u001b[0m\u001b[0;34m,\u001b[0m \u001b[0mcols\u001b[0m\u001b[0;34m,\u001b[0m \u001b[0mself\u001b[0m\u001b[0;34m.\u001b[0m\u001b[0mslices\u001b[0m \u001b[0;34m=\u001b[0m \u001b[0mX\u001b[0m\u001b[0;34m.\u001b[0m\u001b[0mshape\u001b[0m\u001b[0;34m\u001b[0m\u001b[0;34m\u001b[0m\u001b[0m\n\u001b[0m\u001b[1;32m      8\u001b[0m         \u001b[0mself\u001b[0m\u001b[0;34m.\u001b[0m\u001b[0mind\u001b[0m \u001b[0;34m=\u001b[0m \u001b[0;36m10\u001b[0m \u001b[0;31m#self.slices//2\u001b[0m\u001b[0;34m\u001b[0m\u001b[0;34m\u001b[0m\u001b[0m\n\u001b[1;32m      9\u001b[0m \u001b[0;34m\u001b[0m\u001b[0m\n",
      "\u001b[0;31mValueError\u001b[0m: not enough values to unpack (expected 3, got 2)"
     ]
    }
   ],
   "source": [
    "class IndexTracker(object):\n",
    "    def __init__(self, ax, X):\n",
    "        self.ax = ax\n",
    "        ax.set_title('use scroll wheel to navigate images')\n",
    "\n",
    "        self.X = X\n",
    "        rows, cols, self.slices = X.shape\n",
    "        self.ind = 10 #self.slices//2\n",
    "\n",
    "        self.im = ax.imshow(self.X[:, :, self.ind],cmap='bone')\n",
    "        self.update()\n",
    "\n",
    "    def onscroll(self, event):\n",
    "        print(\"%s %s\" % (event.button, event.step))\n",
    "        if event.button == 'up':\n",
    "            self.ind = (self.ind + 1) % self.slices\n",
    "        else:\n",
    "            self.ind = (self.ind - 1) % self.slices\n",
    "        self.update()\n",
    "\n",
    "    def update(self):\n",
    "        self.im.set_data(self.X[:, :, self.ind])\n",
    "        ax.set_ylabel('slice %s' % self.ind)\n",
    "        self.im.axes.figure.canvas.draw()\n",
    "\n",
    "fig, ax = plt.subplots(1, 1)\n",
    "\n",
    "# X = np.array(projections.T[:,:,5:])\n",
    "X = bowtie_filter.T\n",
    "\n",
    "tracker = IndexTracker(ax, X)\n",
    "\n",
    "fig.canvas.mpl_connect('scroll_event', tracker.onscroll)\n",
    "plt.show()"
   ]
  },
  {
   "cell_type": "code",
   "execution_count": 267,
   "id": "pursuant-fraud",
   "metadata": {},
   "outputs": [],
   "source": [
    "lengths = -4*np.log(np.mean(np.mean(bowtie_volume[:,250:450],0),0)/21000)/mu"
   ]
  },
  {
   "cell_type": "code",
   "execution_count": 52,
   "id": "ideal-press",
   "metadata": {},
   "outputs": [
    {
     "data": {
      "application/vnd.jupyter.widget-view+json": {
       "model_id": "70d3a48f2f5d43b3bfd7a8009c8ff30d",
       "version_major": 2,
       "version_minor": 0
      },
      "text/plain": [
       "Canvas(toolbar=Toolbar(toolitems=[('Home', 'Reset original view', 'home', 'home'), ('Back', 'Back to previous …"
      ]
     },
     "metadata": {},
     "output_type": "display_data"
    },
    {
     "data": {
      "text/plain": [
       "[<matplotlib.lines.Line2D at 0x7fc556343690>]"
      ]
     },
     "execution_count": 52,
     "metadata": {},
     "output_type": "execute_result"
    }
   ],
   "source": [
    "plt.figure()\n",
    "# lengths2= concatenate((lengths[:512],lengths[511::-1]))*1\n",
    "ll = lengths\n",
    "ll[-30:] = ll[-30]\n",
    "ll[:30] = ll[30]\n",
    "\n",
    "# lengths += np.linspace(0,0.5,1024)\n",
    "plt.plot(lengths)\n",
    "# np.save('lengths_2.5cm',lengths)"
   ]
  },
  {
   "cell_type": "code",
   "execution_count": 53,
   "id": "loaded-display",
   "metadata": {},
   "outputs": [],
   "source": [
    "import fastcat.fastcat as fc\n",
    "original_energies_keV = np.array([10,20,30, 40, 50 ,60, 70, 80 ,90 ,100 ,300 ,500 ,700, 900, 1000 ,2000 ,4000 ,6000])"
   ]
  },
  {
   "cell_type": "code",
   "execution_count": 99,
   "id": "fifty-thompson",
   "metadata": {},
   "outputs": [],
   "source": [
    "lengths2 = lengths\n",
    "\n",
    "bowtie_filter = np.zeros((len(original_energies_keV),lengths2.shape[0]))\n",
    "bowtie_filter2 = np.zeros((len(original_energies_keV),lengths2.shape[0]))\n",
    "\n",
    "al_map = fc.get_mu(z=14)\n",
    "w_map = fc.get_mu(z=74)\n",
    "\n",
    "lengths3 = np.zeros(1024)\n",
    "lengths3[:] = np.linspace(0.002,0.007,1024)\n",
    "\n",
    "for ii in range(len(original_energies_keV)):\n",
    "    \n",
    "    bowtie_filter[ii,:] = np.e**(-lengths2*al_map(original_energies_keV[ii])-lengths3*w_map(original_energies_keV[ii]))\n",
    "    bowtie_filter2[ii,:] = lengths2*al_map(original_energies_keV[ii])\n",
    "#     print(al_map(original_energies_keV[ii]))"
   ]
  },
  {
   "cell_type": "code",
   "execution_count": 100,
   "id": "focal-patrick",
   "metadata": {},
   "outputs": [
    {
     "data": {
      "application/vnd.jupyter.widget-view+json": {
       "model_id": "615e8663951a48838ab3e28e196cfcac",
       "version_major": 2,
       "version_minor": 0
      },
      "text/plain": [
       "Canvas(toolbar=Toolbar(toolitems=[('Home', 'Reset original view', 'home', 'home'), ('Back', 'Back to previous …"
      ]
     },
     "metadata": {},
     "output_type": "display_data"
    },
    {
     "data": {
      "text/plain": [
       "Text(0, 0.5, '$I/I_0$')"
      ]
     },
     "execution_count": 100,
     "metadata": {},
     "output_type": "execute_result"
    }
   ],
   "source": [
    "plt.figure()\n",
    "plt.plot(bowtie_filter.T);\n",
    "plt.legend(original_energies_keV)\n",
    "plt.xlabel('pixel')\n",
    "plt.ylabel('$I/I_0$')"
   ]
  },
  {
   "cell_type": "code",
   "execution_count": 101,
   "id": "eight-mexican",
   "metadata": {},
   "outputs": [
    {
     "data": {
      "application/vnd.jupyter.widget-view+json": {
       "model_id": "3b42c48110994137a09ad5b01a8175d9",
       "version_major": 2,
       "version_minor": 0
      },
      "text/plain": [
       "Canvas(toolbar=Toolbar(toolitems=[('Home', 'Reset original view', 'home', 'home'), ('Back', 'Back to previous …"
      ]
     },
     "metadata": {},
     "output_type": "display_data"
    }
   ],
   "source": [
    "plt.figure()\n",
    "plt.plot(bowtie_filter.T[::2,:]);\n",
    "\n",
    "bowtie_smaller = bowtie_filter.T[::2,:]\n",
    "bowtie_smaller2 = bowtie_filter2.T[::2,:]"
   ]
  },
  {
   "cell_type": "code",
   "execution_count": 102,
   "id": "brutal-stuff",
   "metadata": {},
   "outputs": [],
   "source": [
    "np.save('bowtie_asym2',bowtie_smaller)\n",
    "np.save('bowtie_asym2_lengths',bowtie_smaller2)"
   ]
  },
  {
   "cell_type": "code",
   "execution_count": 103,
   "id": "following-rider",
   "metadata": {},
   "outputs": [],
   "source": [
    "# np.save('bowtie9',bowtie_filter.T)\n",
    "# np.save('bowtie9_lengths',bowtie_filter2.T)"
   ]
  },
  {
   "cell_type": "code",
   "execution_count": 104,
   "id": "violent-alaska",
   "metadata": {},
   "outputs": [],
   "source": [
    "!mv bowtie* ../../fastcat/data/filters/"
   ]
  },
  {
   "cell_type": "code",
   "execution_count": 2,
   "id": "sustained-steel",
   "metadata": {},
   "outputs": [
    {
     "name": "stdout",
     "output_type": "stream",
     "text": [
      "Populating the interactive namespace from numpy and matplotlib\n"
     ]
    }
   ],
   "source": [
    "%pylab widget"
   ]
  },
  {
   "cell_type": "markdown",
   "id": "infinite-format",
   "metadata": {},
   "source": [
    "# Now lets try to make the flattening filter at a different distance"
   ]
  },
  {
   "cell_type": "code",
   "execution_count": 3,
   "id": "bored-palestine",
   "metadata": {},
   "outputs": [],
   "source": [
    "theta = math.atan(20/150) "
   ]
  },
  {
   "cell_type": "code",
   "execution_count": 7,
   "id": "balanced-services",
   "metadata": {},
   "outputs": [],
   "source": [
    "h = math.tan(theta)*15"
   ]
  },
  {
   "cell_type": "code",
   "execution_count": 8,
   "id": "quantitative-dodge",
   "metadata": {},
   "outputs": [
    {
     "name": "stdout",
     "output_type": "stream",
     "text": [
      "2.0\n"
     ]
    }
   ],
   "source": [
    "print(h)"
   ]
  },
  {
   "cell_type": "code",
   "execution_count": 14,
   "id": "sapphire-webmaster",
   "metadata": {},
   "outputs": [],
   "source": [
    "# lengths = np.load('/home/xcite/fastcat-0.0.1/fastcat/data/filters/bowtie_mod.npy')"
   ]
  },
  {
   "cell_type": "code",
   "execution_count": 81,
   "id": "olympic-racing",
   "metadata": {},
   "outputs": [
    {
     "data": {
      "application/vnd.jupyter.widget-view+json": {
       "model_id": "8106bcaa13df4399ac998e9289b2bcec",
       "version_major": 2,
       "version_minor": 0
      },
      "text/plain": [
       "Canvas(toolbar=Toolbar(toolitems=[('Home', 'Reset original view', 'home', 'home'), ('Back', 'Back to previous …"
      ]
     },
     "metadata": {},
     "output_type": "display_data"
    },
    {
     "data": {
      "text/plain": [
       "[<matplotlib.lines.Line2D at 0x7f8d85fb7550>]"
      ]
     },
     "execution_count": 81,
     "metadata": {},
     "output_type": "execute_result"
    }
   ],
   "source": [
    "figure();plot(lengths[::16])"
   ]
  },
  {
   "cell_type": "code",
   "execution_count": 82,
   "id": "iraqi-democrat",
   "metadata": {},
   "outputs": [
    {
     "name": "stdout",
     "output_type": "stream",
     "text": [
      "[2.6776814  2.6902483  2.6788616  2.6787856  2.6722193  2.6638424\n",
      " 2.6451416  2.6192067  2.5762405  2.5228193  2.4450188  2.3384469\n",
      " 2.1294308  1.750315   1.4243937  1.1913537  1.0060632  0.8482896\n",
      " 0.71917766 0.6072884  0.510652   0.425838   0.35118288 0.28545678\n",
      " 0.23004791 0.18367407 0.14450742 0.10639045 0.0828557  0.06721209\n",
      " 0.04969179 0.04453822 0.04548175 0.0512171  0.06885744 0.08991212\n",
      " 0.1218496  0.1537681  0.20050864 0.24711888 0.30504578 0.37096488\n",
      " 0.44806528 0.5371596  0.64044714 0.7518373  0.88438535 1.0394744\n",
      " 1.2297472  1.4742594  1.8128681  2.1634922  2.3455245  2.4481015\n",
      " 2.520307   2.5742002  2.6190462  2.645672   2.6689296  2.6876247\n",
      " 2.6989727  2.710932   2.722197   2.7372875 ]\n"
     ]
    }
   ],
   "source": [
    "lengths_small = lengths[::16]\n",
    "\n",
    "print(lengths_small)"
   ]
  },
  {
   "cell_type": "code",
   "execution_count": 83,
   "id": "graphic-ceremony",
   "metadata": {},
   "outputs": [
    {
     "name": "stdout",
     "output_type": "stream",
     "text": [
      "[0.         0.06349206 0.12698413 0.19047619 0.25396825 0.31746032\n",
      " 0.38095238 0.44444444 0.50793651 0.57142857 0.63492063 0.6984127\n",
      " 0.76190476 0.82539683 0.88888889 0.95238095 1.01587302 1.07936508\n",
      " 1.14285714 1.20634921 1.26984127 1.33333333 1.3968254  1.46031746\n",
      " 1.52380952 1.58730159 1.65079365 1.71428571 1.77777778 1.84126984\n",
      " 1.9047619  1.96825397 2.03174603 2.0952381  2.15873016 2.22222222\n",
      " 2.28571429 2.34920635 2.41269841 2.47619048 2.53968254 2.6031746\n",
      " 2.66666667 2.73015873 2.79365079 2.85714286 2.92063492 2.98412698\n",
      " 3.04761905 3.11111111 3.17460317 3.23809524 3.3015873  3.36507937\n",
      " 3.42857143 3.49206349 3.55555556 3.61904762 3.68253968 3.74603175\n",
      " 3.80952381 3.87301587 3.93650794 4.        ]\n"
     ]
    }
   ],
   "source": [
    "print(np.linspace(0,4,64))"
   ]
  },
  {
   "cell_type": "code",
   "execution_count": 30,
   "id": "arctic-despite",
   "metadata": {},
   "outputs": [
    {
     "data": {
      "text/plain": [
       "64"
      ]
     },
     "execution_count": 30,
     "metadata": {},
     "output_type": "execute_result"
    }
   ],
   "source": [
    "len(lengths_small)"
   ]
  },
  {
   "cell_type": "code",
   "execution_count": 33,
   "id": "visible-gibson",
   "metadata": {},
   "outputs": [
    {
     "data": {
      "text/plain": [
       "array([0.        , 0.12698413, 0.25396825, 0.38095238, 0.50793651,\n",
       "       0.63492063, 0.76190476, 0.88888889, 1.01587302, 1.14285714,\n",
       "       1.26984127, 1.3968254 , 1.52380952, 1.65079365, 1.77777778,\n",
       "       1.9047619 , 2.03174603, 2.15873016, 2.28571429, 2.41269841,\n",
       "       2.53968254, 2.66666667, 2.79365079, 2.92063492, 3.04761905,\n",
       "       3.17460317, 3.3015873 , 3.42857143, 3.55555556, 3.68253968,\n",
       "       3.80952381, 3.93650794, 4.06349206, 4.19047619, 4.31746032,\n",
       "       4.44444444, 4.57142857, 4.6984127 , 4.82539683, 4.95238095,\n",
       "       5.07936508, 5.20634921, 5.33333333, 5.46031746, 5.58730159,\n",
       "       5.71428571, 5.84126984, 5.96825397, 6.0952381 , 6.22222222,\n",
       "       6.34920635, 6.47619048, 6.6031746 , 6.73015873, 6.85714286,\n",
       "       6.98412698, 7.11111111, 7.23809524, 7.36507937, 7.49206349,\n",
       "       7.61904762, 7.74603175, 7.87301587, 8.        ])"
      ]
     },
     "execution_count": 33,
     "metadata": {},
     "output_type": "execute_result"
    }
   ],
   "source": [
    "np.linspace(0,8,64)"
   ]
  },
  {
   "cell_type": "code",
   "execution_count": null,
   "id": "mysterious-murray",
   "metadata": {},
   "outputs": [],
   "source": [
    "0.          0.12698413  0.25396825  0.38095238  0.50793651 0.63492063  0.76190476  0.88888889  1.01587302  1.14285714 1.26984127  1.3968254   1.52380952  1.65079365  1.77777778 1.9047619   2.03174603  2.15873016  2.28571429  2.41269841 2.53968254  2.66666667  2.79365079  2.92063492  3.04761905 3.17460317  3.3015873   3.42857143  3.55555556  3.68253968 3.80952381  3.93650794  4.06349206  4.19047619  4.31746032 4.44444444  4.57142857  4.6984127   4.82539683  4.95238095 5.07936508  5.20634921  5.33333333  5.46031746  5.58730159 5.71428571  5.84126984  5.96825397  6.0952381   6.22222222 6.34920635  6.47619048  6.6031746   6.73015873  6.85714286 6.98412698  7.11111111  7.23809524  7.36507937  7.49206349 7.61904762  7.74603175  7.87301587  8."
   ]
  }
 ],
 "metadata": {
  "kernelspec": {
   "display_name": "Python 3",
   "language": "python",
   "name": "python3"
  },
  "language_info": {
   "codemirror_mode": {
    "name": "ipython",
    "version": 3
   },
   "file_extension": ".py",
   "mimetype": "text/x-python",
   "name": "python",
   "nbconvert_exporter": "python",
   "pygments_lexer": "ipython3",
   "version": "3.7.6"
  }
 },
 "nbformat": 4,
 "nbformat_minor": 5
}
