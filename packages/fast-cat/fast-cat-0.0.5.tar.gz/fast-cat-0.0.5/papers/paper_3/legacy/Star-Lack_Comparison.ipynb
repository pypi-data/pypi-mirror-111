{
 "cells": [
  {
   "cell_type": "code",
   "execution_count": 2,
   "metadata": {},
   "outputs": [
    {
     "name": "stdout",
     "output_type": "stream",
     "text": [
      "Populating the interactive namespace from numpy and matplotlib\n",
      "The autoreload extension is already loaded. To reload it, use:\n",
      "  %reload_ext autoreload\n"
     ]
    }
   ],
   "source": [
    "%pylab widget\n",
    "%load_ext autoreload\n",
    "%autoreload 2\n",
    "\n",
    "from analysis_functions import *\n",
    "import fastcat.fastcat as fc\n",
    "\n",
    "from scipy.optimize import minimize"
   ]
  },
  {
   "cell_type": "markdown",
   "metadata": {},
   "source": [
    "# First lets look at the GOS"
   ]
  },
  {
   "cell_type": "code",
   "execution_count": 3,
   "metadata": {},
   "outputs": [
    {
     "name": "stdout",
     "output_type": "stream",
     "text": [
      "(19, 41, 41) 19\n",
      "really doing it!\n",
      "WARNING: Tigre GPU not working. Switching to Astra CPU\n"
     ]
    },
    {
     "ename": "ValueError",
     "evalue": "operands could not be broadcast together with shapes (360,64,512) (360,10,512) (360,64,512) ",
     "output_type": "error",
     "traceback": [
      "\u001b[0;31m---------------------------------------------------------------------------\u001b[0m",
      "\u001b[0;31mValueError\u001b[0m                                Traceback (most recent call last)",
      "\u001b[0;32m<ipython-input-3-11728f1a8dfd>\u001b[0m in \u001b[0;36m<module>\u001b[0;34m\u001b[0m\n\u001b[1;32m      8\u001b[0m \u001b[0mphantom\u001b[0m \u001b[0;34m=\u001b[0m \u001b[0mfc\u001b[0m\u001b[0;34m.\u001b[0m\u001b[0mCatphan_404\u001b[0m\u001b[0;34m(\u001b[0m\u001b[0;34m)\u001b[0m\u001b[0;34m\u001b[0m\u001b[0;34m\u001b[0m\u001b[0m\n\u001b[1;32m      9\u001b[0m \u001b[0mphantom\u001b[0m\u001b[0;34m.\u001b[0m\u001b[0mphan_map\u001b[0m \u001b[0;34m=\u001b[0m \u001b[0;34m[\u001b[0m\u001b[0;34m'air'\u001b[0m\u001b[0;34m,\u001b[0m\u001b[0;34m'CATPHAN_Polystyrene'\u001b[0m\u001b[0;34m,\u001b[0m\u001b[0;34m'CATPHAN_Acrylic'\u001b[0m\u001b[0;34m,\u001b[0m\u001b[0;34m'CATPHAN_B20'\u001b[0m\u001b[0;34m,\u001b[0m\u001b[0;34m'CATPHAN_Delrin_revised'\u001b[0m\u001b[0;34m,\u001b[0m\u001b[0;34m'water'\u001b[0m\u001b[0;34m,\u001b[0m\u001b[0;34m'CATPHAN_Teflon_revised'\u001b[0m\u001b[0;34m,\u001b[0m\u001b[0;34m'air'\u001b[0m\u001b[0;34m,\u001b[0m\u001b[0;34m'CATPHAN_PMP'\u001b[0m\u001b[0;34m,\u001b[0m\u001b[0;34m'CATPHAN_B50'\u001b[0m\u001b[0;34m,\u001b[0m\u001b[0;34m'CATPHAN_LDPE'\u001b[0m\u001b[0;34m,\u001b[0m\u001b[0;34m'water'\u001b[0m\u001b[0;34m,\u001b[0m\u001b[0;34m'CATPHAN_Polystyrene'\u001b[0m\u001b[0;34m,\u001b[0m\u001b[0;34m'air'\u001b[0m\u001b[0;34m,\u001b[0m\u001b[0;34m'CATPHAN_Acrylic'\u001b[0m\u001b[0;34m]\u001b[0m\u001b[0;34m\u001b[0m\u001b[0;34m\u001b[0m\u001b[0m\n\u001b[0;32m---> 10\u001b[0;31m \u001b[0mphantom\u001b[0m\u001b[0;34m.\u001b[0m\u001b[0mreturn_projs\u001b[0m\u001b[0;34m(\u001b[0m\u001b[0mkernel\u001b[0m\u001b[0;34m,\u001b[0m\u001b[0ms\u001b[0m\u001b[0;34m,\u001b[0m\u001b[0mangles\u001b[0m\u001b[0;34m,\u001b[0m\u001b[0mdet_on\u001b[0m\u001b[0;34m=\u001b[0m\u001b[0;32mTrue\u001b[0m\u001b[0;34m,\u001b[0m\u001b[0mscat_on\u001b[0m\u001b[0;34m=\u001b[0m\u001b[0;32mFalse\u001b[0m\u001b[0;34m,\u001b[0m\u001b[0mmgy\u001b[0m\u001b[0;34m=\u001b[0m\u001b[0;36m7000\u001b[0m\u001b[0;34m/\u001b[0m\u001b[0mnviews\u001b[0m\u001b[0;34m)\u001b[0m\u001b[0;34m\u001b[0m\u001b[0;34m\u001b[0m\u001b[0m\n\u001b[0m\u001b[1;32m     11\u001b[0m \u001b[0;34m\u001b[0m\u001b[0m\n\u001b[1;32m     12\u001b[0m \u001b[0mphantom\u001b[0m\u001b[0;34m.\u001b[0m\u001b[0mreconstruct\u001b[0m\u001b[0;34m(\u001b[0m\u001b[0;34m'FDK'\u001b[0m\u001b[0;34m,\u001b[0m\u001b[0mfilt\u001b[0m\u001b[0;34m=\u001b[0m\u001b[0;34m'ram_lak'\u001b[0m\u001b[0;34m)\u001b[0m\u001b[0;34m\u001b[0m\u001b[0;34m\u001b[0m\u001b[0m\n",
      "\u001b[0;32m~/fastcat-0.0.1/fastcat/fastcat.py\u001b[0m in \u001b[0;36mreturn_projs\u001b[0;34m(self, kernel, spectra, angles, nphoton, mgy, return_dose, det_on, scat_on, tigre_works, convolve_on, **kwargs)\u001b[0m\n\u001b[1;32m    566\u001b[0m                     \u001b[0mnoise_temp\u001b[0m\u001b[0;34m[\u001b[0m\u001b[0mii\u001b[0m\u001b[0;34m,\u001b[0m\u001b[0;34m:\u001b[0m\u001b[0;34m,\u001b[0m\u001b[0;34m:\u001b[0m\u001b[0;34m]\u001b[0m \u001b[0;34m=\u001b[0m \u001b[0mfftconvolve\u001b[0m\u001b[0;34m(\u001b[0m\u001b[0mnoise_temp\u001b[0m\u001b[0;34m[\u001b[0m\u001b[0mii\u001b[0m\u001b[0;34m,\u001b[0m\u001b[0;34m:\u001b[0m\u001b[0;34m,\u001b[0m\u001b[0;34m:\u001b[0m\u001b[0;34m]\u001b[0m\u001b[0;34m,\u001b[0m\u001b[0mkernel\u001b[0m\u001b[0;34m.\u001b[0m\u001b[0mkernels\u001b[0m\u001b[0;34m[\u001b[0m\u001b[0mjj\u001b[0m\u001b[0;34m+\u001b[0m\u001b[0;36m1\u001b[0m\u001b[0;34m]\u001b[0m\u001b[0;34m,\u001b[0m \u001b[0mmode\u001b[0m \u001b[0;34m=\u001b[0m \u001b[0;34m'same'\u001b[0m\u001b[0;34m)\u001b[0m\u001b[0;34m\u001b[0m\u001b[0;34m\u001b[0m\u001b[0m\n\u001b[1;32m    567\u001b[0m \u001b[0;34m\u001b[0m\u001b[0m\n\u001b[0;32m--> 568\u001b[0;31m             \u001b[0mintensity\u001b[0m \u001b[0;34m+=\u001b[0m \u001b[0mint_temp\u001b[0m\u001b[0;34m*\u001b[0m\u001b[0mweights_energies\u001b[0m\u001b[0;34m[\u001b[0m\u001b[0mjj\u001b[0m\u001b[0;34m]\u001b[0m\u001b[0;34m/\u001b[0m\u001b[0mweights_xray_small\u001b[0m\u001b[0;34m[\u001b[0m\u001b[0mjj\u001b[0m\u001b[0;34m]\u001b[0m\u001b[0;34m\u001b[0m\u001b[0;34m\u001b[0m\u001b[0m\n\u001b[0m\u001b[1;32m    569\u001b[0m             \u001b[0mnoise\u001b[0m \u001b[0;34m+=\u001b[0m \u001b[0mnoise_temp\u001b[0m\u001b[0;34m*\u001b[0m\u001b[0mweights_energies\u001b[0m\u001b[0;34m[\u001b[0m\u001b[0mjj\u001b[0m\u001b[0;34m]\u001b[0m\u001b[0;34m/\u001b[0m\u001b[0mweights_xray_small\u001b[0m\u001b[0;34m[\u001b[0m\u001b[0mjj\u001b[0m\u001b[0;34m]\u001b[0m\u001b[0;34m\u001b[0m\u001b[0;34m\u001b[0m\u001b[0m\n\u001b[1;32m    570\u001b[0m \u001b[0;34m\u001b[0m\u001b[0m\n",
      "\u001b[0;31mValueError\u001b[0m: operands could not be broadcast together with shapes (360,64,512) (360,10,512) (360,64,512) "
     ]
    }
   ],
   "source": [
    "nviews = 360\n",
    "\n",
    "s = fc.Spectrum()\n",
    "s.load('Varian_truebeam_phasespace')\n",
    "kernel = fc.Kernel(s,'CuGOS-784-micrometer')\n",
    "angles = np.linspace(0,np.pi*2,nviews)        \n",
    "\n",
    "phantom = fc.Catphan_404()\n",
    "phantom.phan_map = ['air','CATPHAN_Polystyrene','CATPHAN_Acrylic','CATPHAN_B20','CATPHAN_Delrin_revised','water','CATPHAN_Teflon_revised','air','CATPHAN_PMP','CATPHAN_B50','CATPHAN_LDPE','water','CATPHAN_Polystyrene','air','CATPHAN_Acrylic'] \n",
    "phantom.return_projs(kernel,s,angles,det_on=True,scat_on=False,mgy=7000/nviews)\n",
    "\n",
    "phantom.reconstruct('FDK',filt='ram_lak')"
   ]
  },
  {
   "cell_type": "code",
   "execution_count": 3,
   "metadata": {},
   "outputs": [
    {
     "data": {
      "application/vnd.jupyter.widget-view+json": {
       "model_id": "35853286636d41049b9fbb818705b2a6",
       "version_major": 2,
       "version_minor": 0
      },
      "text/plain": [
       "Canvas(toolbar=Toolbar(toolitems=[('Home', 'Reset original view', 'home', 'home'), ('Back', 'Back to previous …"
      ]
     },
     "metadata": {},
     "output_type": "display_data"
    }
   ],
   "source": [
    "plt.figure()\n",
    "plt.imshow(np.rot90(phantom.img[4]))\n",
    "\n",
    "recon_slice = phantom.img[5]\n",
    "im = create_mask(recon_slice.shape)\n",
    "contrast = []\n",
    "\n",
    "for ii in range(2,int(np.max(im)+1)):\n",
    "    \n",
    "    contrast.append(np.mean(recon_slice[im == ii]))\n",
    "\n",
    "# Get rid of the delrin\n",
    "cc = np.array(sorted(contrast))[np.arange(len(contrast))]\n",
    "star_data = np.array(star_data_gos[1::2])[np.arange(len(contrast))]"
   ]
  },
  {
   "cell_type": "code",
   "execution_count": 4,
   "metadata": {},
   "outputs": [
    {
     "data": {
      "application/vnd.jupyter.widget-view+json": {
       "model_id": "5fecf2ae931247c6ba56347af0cce717",
       "version_major": 2,
       "version_minor": 0
      },
      "text/plain": [
       "Canvas(toolbar=Toolbar(toolitems=[('Home', 'Reset original view', 'home', 'home'), ('Back', 'Back to previous …"
      ]
     },
     "metadata": {},
     "output_type": "display_data"
    }
   ],
   "source": [
    "def HU_fun(a,x,y):\n",
    "    return np.mean(np.abs((x - a[0])/(a[1] - a[0])*-1000 - y))\n",
    "\n",
    "res = minimize(HU_fun,[cc[3],cc[0]],args=(cc,star_data))\n",
    "\n",
    "x = [0,0,.853,0.945,.998,1.147,1.36,1.87]\n",
    "plt.figure()\n",
    "plt.plot(x,(cc - res.x[0])/(res.x[1] - res.x[0])*-1000,'s',c='cornflowerblue',label='fastCAT')\n",
    "plt.plot(x,star_data,'s',c='darkorange',label='Star-lack')\n",
    "\n",
    "fc_data = (cc - res.x[0])/(res.x[1] - res.x[0])*-1000\n",
    "\n",
    "xx = np.linspace(0,max(x),100)\n",
    "pp = np.polyfit(x,fc_data,1,full=1)\n",
    "qq = np.polyfit(x,star_data,1,full=1)\n",
    "yy = np.polyval(pp[0],xx)\n",
    "zz = np.polyval(qq[0],xx)\n",
    "\n",
    "plt.ylabel('HU')\n",
    "plt.xlabel('Relative electron density')\n",
    "plt.title('CWO')\n",
    "plt.xticks(x,['air1','air2','PMP','LDPE','Poly','Acrylic','Delrin','Teflon'],rotation=75)\n",
    "plt.plot(xx,yy,':',c='cornflowerblue',lw=0.8)\n",
    "plt.plot(xx,zz,'-.',c='darkorange',lw = 0.8)\n",
    "plt.legend()\n",
    "plt.tight_layout()\n",
    "plt.savefig('initial_cwo')"
   ]
  },
  {
   "cell_type": "code",
   "execution_count": 5,
   "metadata": {},
   "outputs": [
    {
     "data": {
      "text/plain": [
       "array([0.9995497])"
      ]
     },
     "execution_count": 5,
     "metadata": {},
     "output_type": "execute_result"
    }
   ],
   "source": [
    "1-pp[1]/np.std(fc_data)**2"
   ]
  },
  {
   "cell_type": "code",
   "execution_count": 6,
   "metadata": {},
   "outputs": [
    {
     "data": {
      "text/plain": [
       "array([0.99137546])"
      ]
     },
     "execution_count": 6,
     "metadata": {},
     "output_type": "execute_result"
    }
   ],
   "source": [
    "1-qq[1]/np.std(star_data)**2"
   ]
  },
  {
   "cell_type": "markdown",
   "metadata": {},
   "source": [
    "# Now lets look at the CWO"
   ]
  },
  {
   "cell_type": "code",
   "execution_count": 7,
   "metadata": {},
   "outputs": [
    {
     "name": "stdout",
     "output_type": "stream",
     "text": [
      "(17, 25, 25) 17\n",
      "really doing it!\n",
      "ratio is 2724.989798289916 number of photons 0.4242537489047066\n"
     ]
    }
   ],
   "source": [
    "nviews = 360\n",
    "\n",
    "s = fc.Spectrum()\n",
    "s.load('Varian_truebeam_phasespace')\n",
    "kernel = fc.Kernel(s,'CWO-784-micrometer')\n",
    "angles = np.linspace(0,np.pi*2,nviews)        \n",
    "\n",
    "phantom = fc.Catphan_404()\n",
    "phantom.phan_map = ['air','CATPHAN_Polystyrene','CATPHAN_Acrylic','CATPHAN_B20','CATPHAN_Delrin_revised','water','CATPHAN_Teflon_revised','air','CATPHAN_PMP','CATPHAN_B50','CATPHAN_LDPE','water','CATPHAN_Polystyrene','air','CATPHAN_Acrylic'] \n",
    "phantom.return_projs(kernel,s,angles,det_on=True,scat_on=False,mgy=700/nviews)"
   ]
  },
  {
   "cell_type": "code",
   "execution_count": 8,
   "metadata": {},
   "outputs": [],
   "source": [
    "phantom.reconstruct('FDK',filt='ram_lak')"
   ]
  },
  {
   "cell_type": "code",
   "execution_count": 9,
   "metadata": {},
   "outputs": [
    {
     "data": {
      "application/vnd.jupyter.widget-view+json": {
       "model_id": "238ec72190994edc9cc1d2a888ba02c7",
       "version_major": 2,
       "version_minor": 0
      },
      "text/plain": [
       "Canvas(toolbar=Toolbar(toolitems=[('Home', 'Reset original view', 'home', 'home'), ('Back', 'Back to previous …"
      ]
     },
     "metadata": {},
     "output_type": "display_data"
    },
    {
     "data": {
      "text/plain": [
       "<matplotlib.image.AxesImage at 0x7fa66e067bd0>"
      ]
     },
     "execution_count": 9,
     "metadata": {},
     "output_type": "execute_result"
    }
   ],
   "source": [
    "plt.figure()\n",
    "plt.imshow(np.rot90(phantom.img[4]))"
   ]
  },
  {
   "cell_type": "code",
   "execution_count": 10,
   "metadata": {},
   "outputs": [],
   "source": [
    "recon_slice = phantom.img[5]\n",
    "im = create_mask(recon_slice.shape)\n",
    "contrast = []\n",
    "\n",
    "for ii in range(2,int(np.max(im)+1)):\n",
    "    \n",
    "    contrast.append(np.mean(recon_slice[im == ii]))"
   ]
  },
  {
   "cell_type": "code",
   "execution_count": 11,
   "metadata": {},
   "outputs": [],
   "source": [
    "star_data_cwo = [0.0041972717733472775, -864.2384105960264,\n",
    "0.0041972717733472775, -880.7947019867552,\n",
    "0.8541448058761805, -105.96026490066242,\n",
    "0.9443861490031478, -3.3112582781459423,\n",
    "1.0031479538300103, 39.73509933774835,\n",
    "1.1521511017838406, 152.31788079470198,\n",
    "1.359916054564533, 364.23841059602637,\n",
    "1.869884575026233, 837.7483443708609]\n",
    "\n",
    "# Get rid of the delrin\n",
    "cc = np.array(sorted(contrast))\n",
    "star_data = np.array(star_data_cwo[1::2])"
   ]
  },
  {
   "cell_type": "code",
   "execution_count": 12,
   "metadata": {},
   "outputs": [
    {
     "data": {
      "application/vnd.jupyter.widget-view+json": {
       "model_id": "1abfaa0bab3b4bedbb6b090093bebbd4",
       "version_major": 2,
       "version_minor": 0
      },
      "text/plain": [
       "Canvas(toolbar=Toolbar(toolitems=[('Home', 'Reset original view', 'home', 'home'), ('Back', 'Back to previous …"
      ]
     },
     "metadata": {},
     "output_type": "display_data"
    }
   ],
   "source": [
    "def HU_fun(a,x,y):\n",
    "    return np.mean(np.abs((x - a[0])/(a[1] - a[0])*-1000 - y))\n",
    "\n",
    "res = minimize(HU_fun,[cc[3],cc[0]],args=(cc,star_data))\n",
    "\n",
    "x = [0,0,.853,0.945,.998,1.147,1.36,1.87]\n",
    "plt.figure()\n",
    "plt.plot(x,(cc - res.x[0])/(res.x[1] - res.x[0])*-1000,'s',c='cornflowerblue',label='fastCAT')\n",
    "plt.plot(x,star_data,'s',c='darkorange',label='Star-lack')\n",
    "\n",
    "fc_data = (cc - res.x[0])/(res.x[1] - res.x[0])*-1000\n",
    "\n",
    "xx = np.linspace(0,max(x),100)\n",
    "pp = np.polyfit(x,fc_data,1,full=1)\n",
    "qq = np.polyfit(x,star_data,1,full=1)\n",
    "yy = np.polyval(pp[0],xx)\n",
    "zz = np.polyval(qq[0],xx)\n",
    "\n",
    "plt.ylabel('HU')\n",
    "plt.xlabel('Relative electron density')\n",
    "plt.title('CWO')\n",
    "plt.xticks(x,['air','air','PMP','LDPE','Poly','Acrylic','Delrin','Teflon'],rotation=75)\n",
    "plt.plot(xx,yy,':',c='cornflowerblue',lw=0.8)\n",
    "plt.plot(xx,zz,'-.',c='darkorange',lw = 0.8)\n",
    "plt.legend()\n",
    "plt.tight_layout()\n",
    "plt.savefig('initial_cwo')"
   ]
  },
  {
   "cell_type": "code",
   "execution_count": 51,
   "metadata": {},
   "outputs": [
    {
     "data": {
      "text/plain": [
       "array([0.99967508])"
      ]
     },
     "execution_count": 51,
     "metadata": {},
     "output_type": "execute_result"
    }
   ],
   "source": [
    "1-pp[1]/np.std(fc_data)**2"
   ]
  },
  {
   "cell_type": "code",
   "execution_count": 52,
   "metadata": {},
   "outputs": [
    {
     "data": {
      "text/plain": [
       "array([0.99746053])"
      ]
     },
     "execution_count": 52,
     "metadata": {},
     "output_type": "execute_result"
    }
   ],
   "source": [
    "1-qq[1]/np.std(star_data)**2"
   ]
  },
  {
   "cell_type": "markdown",
   "metadata": {},
   "source": [
    "# Now lets look at the CsI numbers"
   ]
  },
  {
   "cell_type": "code",
   "execution_count": 2,
   "metadata": {},
   "outputs": [
    {
     "name": "stdout",
     "output_type": "stream",
     "text": [
      "Calculation:  1 / 50\n",
      "Calculation:  2 / 50\n",
      "Calculation:  3 / 50\n",
      "Calculation:  4 / 50\n",
      "Calculation:  5 / 50\n",
      "Calculation:  6 / 50\n",
      "Calculation:  7 / 50\n",
      "Calculation:  8 / 50\n",
      "Calculation:  9 / 50\n",
      "Calculation:  10 / 50\n",
      "Calculation:  11 / 50\n",
      "Calculation:  12 / 50\n",
      "Calculation:  13 / 50\n",
      "Calculation:  14 / 50\n",
      "Calculation:  15 / 50\n",
      "Calculation:  16 / 50\n",
      "Calculation:  17 / 50\n",
      "Calculation:  18 / 50\n",
      "Calculation:  19 / 50\n",
      "Calculation:  20 / 50\n",
      "Calculation:  21 / 50\n",
      "Calculation:  22 / 50\n",
      "Calculation:  23 / 50\n",
      "Calculation:  24 / 50\n",
      "Calculation:  25 / 50\n",
      "Calculation:  26 / 50\n",
      "Calculation:  27 / 50\n",
      "Calculation:  28 / 50\n",
      "Calculation:  29 / 50\n",
      "Calculation:  30 / 50\n",
      "Calculation:  31 / 50\n",
      "Calculation:  32 / 50\n",
      "Calculation:  33 / 50\n",
      "Calculation:  34 / 50\n",
      "Calculation:  35 / 50\n",
      "Calculation:  36 / 50\n",
      "Calculation:  37 / 50\n",
      "Calculation:  38 / 50\n",
      "Calculation:  39 / 50\n",
      "Calculation:  40 / 50\n",
      "Calculation:  41 / 50\n",
      "Calculation:  42 / 50\n",
      "Calculation:  43 / 50\n",
      "Calculation:  44 / 50\n",
      "Calculation:  45 / 50\n",
      "Calculation:  46 / 50\n",
      "Calculation:  47 / 50\n",
      "Calculation:  48 / 50\n",
      "Calculation:  49 / 50\n",
      "Calculation:  50 / 50\n",
      "(19, 19, 19) 19\n",
      "really doing it!\n",
      "ratio is 351821.49040503503 number of photons 0.7874215885840448\n"
     ]
    }
   ],
   "source": [
    "nviews = 360\n",
    "\n",
    "s = fc.calculate_spectrum(100, 12, 3, 50)\n",
    "s.attenuate(0.2,fc.get_mu(z=13))\n",
    "kernel = fc.Kernel(s,'CsI-784-micrometer')\n",
    "angles = np.linspace(0,np.pi*2,nviews)        \n",
    "\n",
    "phantom = fc.Catphan_404()\n",
    "phantom.phan_map = ['air','CATPHAN_Polystyrene','CATPHAN_Acrylic','CATPHAN_B20','CATPHAN_Delrin_revised','water','CATPHAN_Teflon_revised','air','CATPHAN_PMP','CATPHAN_B50','CATPHAN_LDPE','water','CATPHAN_Polystyrene','air','CATPHAN_Acrylic'] \n",
    "phantom.return_projs(kernel,s,angles,det_on=True,scat_on=False,mgy=7000/nviews)\n",
    "\n",
    "phantom.reconstruct('FDK',filt='ram_lak')"
   ]
  },
  {
   "cell_type": "code",
   "execution_count": 3,
   "metadata": {},
   "outputs": [
    {
     "data": {
      "application/vnd.jupyter.widget-view+json": {
       "model_id": "f694775b57dd4a18b5a759610b58335b",
       "version_major": 2,
       "version_minor": 0
      },
      "text/plain": [
       "Canvas(toolbar=Toolbar(toolitems=[('Home', 'Reset original view', 'home', 'home'), ('Back', 'Back to previous …"
      ]
     },
     "metadata": {},
     "output_type": "display_data"
    }
   ],
   "source": [
    "plt.figure()\n",
    "plt.imshow(np.rot90(phantom.img[4]))\n",
    "\n",
    "recon_slice = phantom.img[5]\n",
    "im = create_mask(recon_slice.shape)\n",
    "contrast = []\n",
    "\n",
    "for ii in range(2,int(np.max(im)+1)):\n",
    "    \n",
    "    contrast.append(np.mean(recon_slice[im == ii]))\n",
    "\n",
    "# Get rid of the delrin\n",
    "cc = np.array(sorted(contrast))[np.arange(len(contrast))]\n",
    "star_data = np.array(star_data_gos[1::2])[np.arange(len(contrast))]"
   ]
  },
  {
   "cell_type": "code",
   "execution_count": 4,
   "metadata": {},
   "outputs": [
    {
     "data": {
      "application/vnd.jupyter.widget-view+json": {
       "model_id": "5fecf2ae931247c6ba56347af0cce717",
       "version_major": 2,
       "version_minor": 0
      },
      "text/plain": [
       "Canvas(toolbar=Toolbar(toolitems=[('Home', 'Reset original view', 'home', 'home'), ('Back', 'Back to previous …"
      ]
     },
     "metadata": {},
     "output_type": "display_data"
    }
   ],
   "source": [
    "def HU_fun(a,x,y):\n",
    "    return np.mean(np.abs((x - a[0])/(a[1] - a[0])*-1000 - y))\n",
    "\n",
    "res = minimize(HU_fun,[cc[3],cc[0]],args=(cc,star_data))\n",
    "\n",
    "x = [0,0,.853,0.945,.998,1.147,1.36,1.87]\n",
    "plt.figure()\n",
    "plt.plot(x,(cc - res.x[0])/(res.x[1] - res.x[0])*-1000,'s',c='cornflowerblue',label='fastCAT')\n",
    "plt.plot(x,star_data,'s',c='darkorange',label='Star-lack')\n",
    "\n",
    "fc_data = (cc - res.x[0])/(res.x[1] - res.x[0])*-1000\n",
    "\n",
    "xx = np.linspace(0,max(x),100)\n",
    "pp = np.polyfit(x,fc_data,1,full=1)\n",
    "qq = np.polyfit(x,star_data,1,full=1)\n",
    "yy = np.polyval(pp[0],xx)\n",
    "zz = np.polyval(qq[0],xx)\n",
    "\n",
    "plt.ylabel('HU')\n",
    "plt.xlabel('Relative electron density')\n",
    "plt.title('CWO')\n",
    "plt.xticks(x,['air1','air2','PMP','LDPE','Poly','Acrylic','Delrin','Teflon'],rotation=75)\n",
    "plt.plot(xx,yy,':',c='cornflowerblue',lw=0.8)\n",
    "plt.plot(xx,zz,'-.',c='darkorange',lw = 0.8)\n",
    "plt.legend()\n",
    "plt.tight_layout()\n",
    "plt.savefig('initial_cwo')"
   ]
  },
  {
   "cell_type": "code",
   "execution_count": 5,
   "metadata": {},
   "outputs": [
    {
     "data": {
      "text/plain": [
       "array([0.9995497])"
      ]
     },
     "execution_count": 5,
     "metadata": {},
     "output_type": "execute_result"
    }
   ],
   "source": [
    "1-pp[1]/np.std(fc_data)**2"
   ]
  },
  {
   "cell_type": "code",
   "execution_count": 6,
   "metadata": {},
   "outputs": [
    {
     "data": {
      "text/plain": [
       "array([0.99137546])"
      ]
     },
     "execution_count": 6,
     "metadata": {},
     "output_type": "execute_result"
    }
   ],
   "source": [
    "1-qq[1]/np.std(star_data)**2"
   ]
  }
 ],
 "metadata": {
  "kernelspec": {
   "display_name": "Python 3",
   "language": "python",
   "name": "python3"
  },
  "language_info": {
   "codemirror_mode": {
    "name": "ipython",
    "version": 3
   },
   "file_extension": ".py",
   "mimetype": "text/x-python",
   "name": "python",
   "nbconvert_exporter": "python",
   "pygments_lexer": "ipython3",
   "version": "3.7.6"
  }
 },
 "nbformat": 4,
 "nbformat_minor": 4
}
