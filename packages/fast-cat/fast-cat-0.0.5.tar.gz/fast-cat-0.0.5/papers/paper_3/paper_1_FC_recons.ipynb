{
 "cells": [
  {
   "cell_type": "code",
   "execution_count": 1,
   "metadata": {},
   "outputs": [
    {
     "name": "stdout",
     "output_type": "stream",
     "text": [
      "Populating the interactive namespace from numpy and matplotlib\n"
     ]
    }
   ],
   "source": [
    "%pylab widget\n",
    "%load_ext autoreload\n",
    "%autoreload 2\n",
    "\n",
    "from analysis_functions import *\n",
    "import fastcat.fastcat as fc\n",
    "from scipy.optimize import minimize"
   ]
  },
  {
   "cell_type": "markdown",
   "metadata": {},
   "source": [
    "# First lets look at the GOS"
   ]
  },
  {
   "cell_type": "code",
   "execution_count": 2,
   "metadata": {},
   "outputs": [
    {
     "name": "stdout",
     "output_type": "stream",
     "text": [
      "(19, 41, 41) 19\n",
      "bowtie is off False\n",
      "Using the bowtie filter True\n",
      "really doing it!\n",
      "ratio is 1210.1730333562502 number of photons 0.02636808212587352\n"
     ]
    }
   ],
   "source": [
    "# %%timeit -r 1\n",
    "nviews = 100 #493 \n",
    "\n",
    "s = fc.Spectrum()\n",
    "s.load('Varian_truebeam')\n",
    "s.x[0] = 1; s.x[1] = 2\n",
    "s.attenuate(0.,fc.get_mu(z=13)) #3.7\n",
    "\n",
    "kernel = fc.Kernel(s,'CuGOS-784-micrometer')\n",
    "kernel.add_focal_spot(1.2)\n",
    "angles = np.linspace(0,np.pi*2,nviews)\n",
    "\n",
    "phantom = fc.Catphan_404()\n",
    "phantom.phan_map = ['air','G4_NYLON-8062','CATPHAN_Acrylic','CATPHAN_Acrylic','CATPHAN_Delrin_revised','CATPHAN_Acrylic','CATPHAN_Teflon_revised','air','CATPHAN_PMP','CATPHAN_Acrylic','CATPHAN_LDPE','CATPHAN_Acrylic','CATPHAN_Polystyrene','air','CATPHAN_Acrylic','air','CATPHAN_Teflon','air','air','air','air'] \n",
    "phantom.return_projs(kernel,s,angles,mgy=1.1,bowtie=True,filter='FF0')\n",
    "phantom.reconstruct('FDK',filt='ram_lak')\n",
    "\n",
    "im = create_mask(phantom.img[5].shape,r=5.7,radius=0.4)\n",
    "contrast_fc, CNR_fc, noise_fc = return_CNR(phantom.img[5],im)"
   ]
  },
  {
   "cell_type": "markdown",
   "metadata": {},
   "source": [
    "## Now lets look at the bcca data"
   ]
  },
  {
   "cell_type": "code",
   "execution_count": 30,
   "metadata": {},
   "outputs": [
    {
     "data": {
      "application/vnd.jupyter.widget-view+json": {
       "model_id": "4a90c6eae7894be2b691ed4994c999b9",
       "version_major": 2,
       "version_minor": 0
      },
      "text/plain": [
       "Canvas(toolbar=Toolbar(toolitems=[('Home', 'Reset original view', 'home', 'home'), ('Back', 'Back to previous …"
      ]
     },
     "metadata": {},
     "output_type": "display_data"
    }
   ],
   "source": [
    "bcca_recon = np.load('/home/xcite/MV_CBCT/recon_6x_300_rared.npy')\n",
    "recon_slice = np.rot90(np.mean(bcca_recon.T[35:43],0),2)\n",
    "im = create_mask(recon_slice.shape,off =[-0.15,0], r= 5.75,radius=0.3)\n",
    "contrast_bcca, CNR_bcca, noise_bcca = return_CNR(recon_slice,im)#,show_map=True)\n",
    "\n",
    "def HU_fun(a,x,y):\n",
    "    return np.sum(np.abs((x - a[0])*(a[1]) - y))\n",
    "\n",
    "res = minimize(HU_fun,[contrast_fc[0],contrast_fc[5]+0.003],args=(contrast_fc,contrast_bcca))\n",
    "\n",
    "x = [.853,0.945,.998,1.147,1.36,1.87]\n",
    "contrast_fc_scaled = (contrast_fc - res.x[0])*(res.x[1])\n",
    "image_fc_scaled = (phantom.img[4]- res.x[0])*(res.x[1])\n",
    "\n",
    "plt.figure(figsize=[8,3])\n",
    "plt.subplot(131)\n",
    "plt.imshow(recon_slice,cmap='gray',vmin=0.001,vmax=0.007)\n",
    "plt.axis('off')\n",
    "plt.subplot(132)\n",
    "plt.imshow(image_fc_scaled,cmap='gray',vmin=0.001,vmax=0.007)\n",
    "plt.axis('off')\n",
    "plt.subplot(133)\n",
    "plt.plot(x,contrast_fc_scaled,'s',c='cornflowerblue',label='fastCAT')\n",
    "plt.plot(x,contrast_bcca,'s',c='darkorange',label='Star-lack')\n",
    "plt.tight_layout()"
   ]
  },
  {
   "cell_type": "code",
   "execution_count": 33,
   "metadata": {},
   "outputs": [
    {
     "name": "stdout",
     "output_type": "stream",
     "text": [
      "Open other images in this ImageJ panel as follows:\n",
      "  imagej -p 1 <image1> [<image2> ... <imageN>]\n",
      "\n",
      "Fontconfig error: \"/home/xcite/.config/fontconfig/fonts.conf\", line 5: no element found\n",
      "Fontconfig error: \"/home/xcite/.config/fontconfig/fonts.conf\", line 5: invalid attribute 'target'\n"
     ]
    }
   ],
   "source": [
    "plt.imsave('im_for_imagej.png',np.hstack((recon_slice,image_fc_scaled)))\n",
    "!imagej im_for_imagej.png"
   ]
  },
  {
   "cell_type": "markdown",
   "metadata": {},
   "source": [
    "# Now lets look at the kV data "
   ]
  },
  {
   "cell_type": "code",
   "execution_count": 54,
   "metadata": {},
   "outputs": [
    {
     "name": "stdout",
     "output_type": "stream",
     "text": [
      "(19, 19, 19) 19\n",
      "bowtie is off False\n",
      "Using the bowtie filter True\n",
      "really doing it!\n",
      "ratio is 18.63455421000987 number of photons 0.6662745014665195\n"
     ]
    }
   ],
   "source": [
    "# %%timeit -r 1\n",
    "nviews = 100 #887 # That is how many are in the file \n",
    "s = fc.calculate_spectrum(100, 14, 3, 100,monitor=None)\n",
    "s.attenuate(0.6,fc.get_mu(z=13))\n",
    "s.attenuate(0.089,fc.get_mu(z=22))\n",
    "kernel = fc.Kernel(s,'CsI-784-micrometer')\n",
    "angles = np.linspace(0,np.pi*2,nviews)        \n",
    "\n",
    "phantom = fc.Catphan_404()\n",
    "phantom.phan_map = ['air','G4_NYLON-8062','CATPHAN_Acrylic','CATPHAN_Acrylic','CATPHAN_Delrin','CATPHAN_Acrylic','CATPHAN_Teflon_revised','air','CATPHAN_PMP','CATPHAN_Acrylic','CATPHAN_LDPE','CATPHAN_Acrylic','CATPHAN_Polystyrene','air','CATPHAN_Acrylic','air','CATPHAN_Teflon_revised','air','air','air','air'] \n",
    "phantom.return_projs(kernel,s,angles,scat_on=True,mgy=0.001,bowtie=True,filter='bowtie_mod')\n",
    "phantom.reconstruct('FDK',filt='ram_lak')\n",
    "\n",
    "im = create_mask(phantom.img[4].shape,r=5.75,radius=0.4)\n",
    "contrast_fc, CNR_fc, noise_fc = return_CNR(phantom.img[4],im)"
   ]
  },
  {
   "cell_type": "code",
   "execution_count": 44,
   "metadata": {},
   "outputs": [],
   "source": [
    "bcca_recon = np.load('/home/xcite/MV_CBCT/recon_kv_jan_2021.npy')\n",
    "recon_slice = np.rot90(bcca_recon.T[50]).copy()\n",
    "im = create_mask(recon_slice.shape,r=5.8,off = [0.2,0.05],rot = 1)\n",
    "contrast_bcca, CNR_bcca, noise_bcca = return_CNR(recon_slice,im)#,show_map=True)\n",
    "\n",
    "def HU_fun(a,x,y):\n",
    "    return np.sum(np.abs((x - a[0])*(a[1]) - y))\n",
    "\n",
    "res = minimize(HU_fun,[contrast_fc[0],contrast_fc[3]],args=(contrast_fc,contrast_bcca),method='Powell')\n",
    "fc_data = (contrast_fc - res.x[0])*(res.x[1])\n",
    "fc_image = (phantom.img[4] - res.x[0])*(res.x[1])\n",
    "\n",
    "x = [.853,0.945,.998,1.147,1.36,1.87]\n",
    "\n",
    "plt.figure(figsize=[8,8])\n",
    "plt.subplot(221)\n",
    "plt.plot(x,contrast_bcca,'s',c='darkorange',label='')\n",
    "plt.plot(x,fc_data,'*',c='cornflowerblue',label='fastCAT')\n",
    "plt.legend()\n",
    "plt.subplot(222)\n",
    "plt.plot(np.rot90(np.mean(bcca_recon.T[25:36],0),3)[256,:])\n",
    "plt.plot(np.rot90(fc_image,0)[256,:])\n",
    "plt.subplot(223)\n",
    "plt.imshow(np.rot90(fc_image,0),cmap='gray',vmin=0.013,vmax=0.027)\n",
    "plt.subplot(224)\n",
    "plt.imshow(np.rot90(recon_slice,2),cmap='gray',vmin=0.013,vmax=0.027)"
   ]
  },
  {
   "cell_type": "code",
   "execution_count": 33,
   "metadata": {},
   "outputs": [
    {
     "name": "stdout",
     "output_type": "stream",
     "text": [
      "Open other images in this ImageJ panel as follows:\n",
      "  imagej -p 1 <image1> [<image2> ... <imageN>]\n",
      "\n",
      "Fontconfig error: \"/home/xcite/.config/fontconfig/fonts.conf\", line 5: no element found\n",
      "Fontconfig error: \"/home/xcite/.config/fontconfig/fonts.conf\", line 5: invalid attribute 'target'\n"
     ]
    }
   ],
   "source": [
    "plt.imsave('data/im_for_imagej.png',np.hstack((recon_slice,fc_image)))\n",
    "!imagej data/im_for_imagej.png"
   ]
  }
 ],
 "metadata": {
  "kernelspec": {
   "display_name": "Python 3",
   "language": "python",
   "name": "python3"
  },
  "language_info": {
   "codemirror_mode": {
    "name": "ipython",
    "version": 3
   },
   "file_extension": ".py",
   "mimetype": "text/x-python",
   "name": "python",
   "nbconvert_exporter": "python",
   "pygments_lexer": "ipython3",
   "version": "3.7.6"
  },
  "presto": {
   "id": "110b0dee-a591-4d62-bdf8-8727cacef0b7"
  }
 },
 "nbformat": 4,
 "nbformat_minor": 4
}
