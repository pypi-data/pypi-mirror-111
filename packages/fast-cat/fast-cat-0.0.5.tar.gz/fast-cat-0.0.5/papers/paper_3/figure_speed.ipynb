{
 "cells": [
  {
   "cell_type": "code",
   "execution_count": 1,
   "id": "devoted-thesis",
   "metadata": {},
   "outputs": [
    {
     "name": "stdout",
     "output_type": "stream",
     "text": [
      "Populating the interactive namespace from numpy and matplotlib\n"
     ]
    }
   ],
   "source": [
    "%pylab widget"
   ]
  },
  {
   "cell_type": "code",
   "execution_count": 2,
   "id": "alien-christmas",
   "metadata": {},
   "outputs": [],
   "source": [
    "angles = np.load('/home/xcite/MV_CBCT/angles_kv.npy')\n",
    "na = len(angles)\n",
    "nviews_kv = np.round([na/4,na/3,na/2,na])\n",
    "times_kv = [19.5,25.7,37.1,71]\n",
    "\n",
    "nviews_mv = [124,165,247,493]\n",
    "times_mv = [19.7,25.3,36.5,72]"
   ]
  },
  {
   "cell_type": "code",
   "execution_count": 7,
   "id": "invalid-consent",
   "metadata": {},
   "outputs": [
    {
     "data": {
      "application/vnd.jupyter.widget-view+json": {
       "model_id": "94e2d2d6f6c44be48a9c0b74321999d4",
       "version_major": 2,
       "version_minor": 0
      },
      "text/plain": [
       "Canvas(toolbar=Toolbar(toolitems=[('Home', 'Reset original view', 'home', 'home'), ('Back', 'Back to previous …"
      ]
     },
     "metadata": {},
     "output_type": "display_data"
    },
    {
     "data": {
      "text/plain": [
       "LinregressResult(slope=0.07712254290838476, intercept=2.6751045405991505, rvalue=0.9999473693197081, pvalue=5.263068029193186e-05, stderr=0.0005595230419346472)"
      ]
     },
     "execution_count": 7,
     "metadata": {},
     "output_type": "execute_result"
    }
   ],
   "source": [
    "plt.figure(figsize=[4,4])\n",
    "plt.plot(nviews_mv,times_mv,'*',c='cornflowerblue')\n",
    "plt.plot(nviews_kv,times_kv,'k*')\n",
    "\n",
    "pp=np.polyfit(nviews_kv,times_kv,1)\n",
    "qq = np.polyval(pp,[222,887])\n",
    "plt.text(380,50,'$R^2=0.999$',c='cornflowerblue')\n",
    "plt.plot([222,887],qq,'k--',lw='1.')\n",
    "pp=np.polyfit(nviews_mv,times_mv,1)\n",
    "qq = np.polyval(pp,[124,493])\n",
    "plt.plot([124,493],qq,'--',lw='1.',c='cornflowerblue')\n",
    "plt.text(500,35,'$R^2=0.999$',c='k')\n",
    "plt.ylabel('Compute time [s]')\n",
    "plt.xlabel('Number of projections')\n",
    "plt.legend(['Fastcat 6 MV','Fastcat 100 kVp'])\n",
    "plt.tight_layout()\n",
    "plt.savefig('/home/xcite/fastcat_paper_3/figures/speed.pdf')\n",
    "from scipy.stats import linregress\n",
    "linregress(nviews_kv,times_kv)"
   ]
  },
  {
   "cell_type": "code",
   "execution_count": 51,
   "id": "unusual-authority",
   "metadata": {},
   "outputs": [
    {
     "data": {
      "text/plain": [
       "array([0.07712254, 2.67510454])"
      ]
     },
     "execution_count": 51,
     "metadata": {},
     "output_type": "execute_result"
    }
   ],
   "source": [
    "pp"
   ]
  },
  {
   "cell_type": "code",
   "execution_count": 49,
   "id": "heated-somalia",
   "metadata": {},
   "outputs": [
    {
     "data": {
      "text/plain": [
       "array([0.14205128, 1.83230769])"
      ]
     },
     "execution_count": 49,
     "metadata": {},
     "output_type": "execute_result"
    }
   ],
   "source": [
    "pp"
   ]
  },
  {
   "cell_type": "code",
   "execution_count": null,
   "id": "rational-explorer",
   "metadata": {},
   "outputs": [],
   "source": []
  }
 ],
 "metadata": {
  "kernelspec": {
   "display_name": "Python 3",
   "language": "python",
   "name": "python3"
  },
  "language_info": {
   "codemirror_mode": {
    "name": "ipython",
    "version": 3
   },
   "file_extension": ".py",
   "mimetype": "text/x-python",
   "name": "python",
   "nbconvert_exporter": "python",
   "pygments_lexer": "ipython3",
   "version": "3.7.6"
  }
 },
 "nbformat": 4,
 "nbformat_minor": 5
}
