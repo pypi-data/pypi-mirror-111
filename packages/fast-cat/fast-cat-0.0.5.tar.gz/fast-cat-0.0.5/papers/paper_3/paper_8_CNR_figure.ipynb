{
 "cells": [
  {
   "cell_type": "code",
   "execution_count": 1,
   "id": "alike-judge",
   "metadata": {},
   "outputs": [
    {
     "name": "stdout",
     "output_type": "stream",
     "text": [
      "Populating the interactive namespace from numpy and matplotlib\n"
     ]
    }
   ],
   "source": [
    "%load_ext autoreload\n",
    "%autoreload 2\n",
    "%pylab widget"
   ]
  },
  {
   "cell_type": "code",
   "execution_count": 2,
   "id": "micro-phone",
   "metadata": {},
   "outputs": [],
   "source": [
    "from varian_models import *\n",
    "from scipy.optimize import minimize\n",
    "import fastcat as fc\n",
    "bcca_smaller = np.load('/home/xcite/MV_CBCT/log_kv_phantom_over_air_776x776.npy')[15:-15]"
   ]
  },
  {
   "cell_type": "markdown",
   "id": "substantial-bedroom",
   "metadata": {},
   "source": [
    "# Looking at the one slice\n",
    "\n",
    "There is still a fudge factor of 1.03 on the projection to account for fastcats 0.97 I guess.\n",
    "\n",
    "Also a fundge factor for the dose right now.\n",
    "\n",
    "And Catphan_Teflon unrevised whatever that is"
   ]
  },
  {
   "cell_type": "code",
   "execution_count": 3,
   "id": "through-dayton",
   "metadata": {},
   "outputs": [
    {
     "name": "stdout",
     "output_type": "stream",
     "text": [
      "(19, 19, 19) 19\n",
      "Initializing filter bowtie3\n",
      "   Scatter is filtered by bowtie\n",
      "Initializing ASG\n",
      "Running Simulations\n",
      "    Simulating 10 keV\n",
      "    Simulating 20 keV\n",
      "    Simulating 30 keV\n",
      "    Simulating 40 keV\n",
      "    Simulating 50 keV\n",
      "    Simulating 60 keV\n",
      "    Simulating 70 keV\n",
      "    Simulating 80 keV\n",
      "    Simulating 90 keV\n",
      "    Simulating 100 keV\n",
      "Weighting simulations\n"
     ]
    }
   ],
   "source": [
    "np.random.seed(0)\n",
    "angles = np.linspace(np.pi/2,np.pi*2,2)      \n",
    "kv_catphan = Catphan_404_kV()\n",
    "kv_catphan.get_proj(angles,fudge=0.3,ASG=True)"
   ]
  },
  {
   "cell_type": "code",
   "execution_count": 4,
   "id": "hungarian-darwin",
   "metadata": {},
   "outputs": [
    {
     "data": {
      "application/vnd.jupyter.widget-view+json": {
       "model_id": "edd9d99f442242598b940b57cddf9262",
       "version_major": 2,
       "version_minor": 0
      },
      "text/plain": [
       "Canvas(toolbar=Toolbar(toolitems=[('Home', 'Reset original view', 'home', 'home'), ('Back', 'Back to previous …"
      ]
     },
     "metadata": {},
     "output_type": "display_data"
    },
    {
     "data": {
      "text/plain": [
       "[<matplotlib.lines.Line2D at 0x7f41173bf210>]"
      ]
     },
     "execution_count": 4,
     "metadata": {},
     "output_type": "execute_result"
    }
   ],
   "source": [
    "plt.figure()\n",
    "# plt.plot(np.mean(bcca_smaller[445,195:225],0)/np.std(bcca_smaller[425,195:225,:],0))\n",
    "arr_av = np.mean(bcca_smaller[445,195:225],0)\n",
    "arr_std = np.std(bcca_smaller[425,195:225,:],0)\n",
    "snr = arr_av/arr_std\n",
    "plt.plot([np.mean(snr[ii:ii+4]) for ii in range(0,len(snr),4)],c='darkorange')\n",
    "\n",
    "# arr_av = np.mean((np.roll((kv_catphan.proj[0]),-3)*1.03)[20:50,:],0)\n",
    "# arr_std = np.std((np.roll((kv_catphan.proj[0]),-3)*1.03)[20:50,:],0)\n",
    "arr_av = np.mean((np.roll((kv_catphan.proj[0]),-3))[20:50,:],0)\n",
    "arr_std = np.std((np.roll((kv_catphan.proj[0]),-3))[20:50,:],0)\n",
    "snr = arr_av/arr_std\n",
    "plt.plot([np.mean(snr[ii:ii+4]) for ii in range(0,len(snr),4)],c='cornflowerblue')"
   ]
  },
  {
   "cell_type": "markdown",
   "id": "surface-cheese",
   "metadata": {},
   "source": [
    "# Now lets look at all of them at once"
   ]
  },
  {
   "cell_type": "code",
   "execution_count": 39,
   "id": "determined-contractor",
   "metadata": {},
   "outputs": [
    {
     "name": "stdout",
     "output_type": "stream",
     "text": [
      "(19, 19, 19) 19\n",
      "bowtie is off False\n",
      "Using the bowtie filter True\n",
      "really doing it!\n",
      "bowtie scatter\n",
      "ratio is 90.28640444925418 number of photons 0.6831236943135264\n",
      "CPU times: user 18.5 s, sys: 908 ms, total: 19.4 s\n",
      "Wall time: 19.5 s\n",
      "bowtie is off False\n",
      "Using the bowtie filter True\n",
      "really doing it!\n",
      "bowtie scatter\n",
      "ratio is 90.28637037902128 number of photons 0.6831236943135264\n",
      "CPU times: user 24.4 s, sys: 1.22 s, total: 25.6 s\n",
      "Wall time: 25.7 s\n",
      "bowtie is off False\n",
      "Using the bowtie filter True\n",
      "really doing it!\n",
      "bowtie scatter\n",
      "ratio is 90.28640043506405 number of photons 0.6831236943135264\n",
      "CPU times: user 35.5 s, sys: 1.6 s, total: 37.1 s\n",
      "Wall time: 37.1 s\n",
      "bowtie is off False\n",
      "Using the bowtie filter True\n",
      "really doing it!\n",
      "bowtie scatter\n",
      "ratio is 90.2864254434734 number of photons 0.6831236943135264\n",
      "CPU times: user 1min 8s, sys: 2.81 s, total: 1min 11s\n",
      "Wall time: 1min 11s\n"
     ]
    }
   ],
   "source": [
    "angles = np.load('/home/xcite/MV_CBCT/angles_kv.npy')\n",
    "projs_bcca = np.zeros([887,64,512])\n",
    "kv_catphan = Catphan_404_kV()\n",
    "projs_bcca[:,17:-17,:] =  bcca_smaller[:,195:225,:]\n",
    "\n",
    "CNR_fc = []\n",
    "CNR_exp = []\n",
    "\n",
    "im_fc = []\n",
    "im_exp = []\n",
    "\n",
    "dose = 0.11# 0.233 # 0.244 #*3\n",
    "\n",
    "fudge = dose*1.43\n",
    "\n",
    "CNR_result_fc = []\n",
    "CNR_result_exp = []\n",
    "\n",
    "np.random.seed(0)\n",
    "\n",
    "def HU_fun(a,x,y):\n",
    "    return np.sum(np.abs((x - a[0])*(a[1]) - y))\n",
    "\n",
    "for ii in range(4,0,-1):\n",
    "    angles_temp = angles[::ii]\n",
    "    kv_catphan.geomet.nVoxel = np.array([10,512,512])\n",
    "    kv_catphan.geomet.dVoxel = kv_catphan.geomet.sVoxel/kv_catphan.geomet.nVoxel\n",
    "    %time kv_catphan.get_proj(angles_temp,fudge=fudge,ASG=True) \n",
    "    kv_catphan.proj[:,:17,:] = 0 # Matching the images\n",
    "    kv_catphan.proj[:,-17:,:] = 0\n",
    "    kv_catphan.geomet.nVoxel = np.array([256,512,512])\n",
    "    kv_catphan.geomet.dVoxel = kv_catphan.geomet.sVoxel/kv_catphan.geomet.nVoxel\n",
    "    kv_catphan.reconstruct('FDK',filt='ram_lak')\n",
    "    vol_fc = kv_catphan.img\n",
    "    \n",
    "    kv_catphan.proj = 10*projs_bcca[::ii].astype(np.float32)\n",
    "    kv_catphan.angles = angles[::ii][-1::-1]\n",
    "    kv_catphan.reconstruct('FDK',filt='ram_lak')\n",
    "    vol_exp = kv_catphan.img\n",
    "\n",
    "    contrast_exp2 = []\n",
    "    contrast_fc2 = []\n",
    "\n",
    "    for ii in range(120,136):\n",
    "\n",
    "        contrast_exp2.append(return_CNR_exp2(vol_exp[ii],True))\n",
    "        contrast_fc2.append(return_CNR_fc2(vol_fc[ii],True))\n",
    "    \n",
    "    contrast_bcca = np.mean(contrast_exp2,0)\n",
    "    contrast_fc = np.mean(contrast_fc2,0)\n",
    "\n",
    "    reses = []\n",
    "    rem = []\n",
    "\n",
    "    for off in np.arange(-0.2,0.2,0.01):\n",
    "        for off2 in np.arange(-0.2,0.2,0.01):\n",
    "            reses.append(minimize(HU_fun,[off,contrast_fc[-3]+off2],args=(contrast_fc,contrast_bcca)))\n",
    "            rem.append(reses[-1].fun)\n",
    "\n",
    "    res = reses[np.argmin(rem)]\n",
    "\n",
    "    fc_data = (contrast_fc - res.x[0])*(res.x[1])\n",
    "    vol_fc_adj = (vol_fc - res.x[0])*(res.x[1])\n",
    "    \n",
    "    CNR_exp4 = []\n",
    "    CNR_fc4 = []\n",
    "\n",
    "    for ii in range(120,136):\n",
    "\n",
    "        CNR_exp4.append(return_CNR_exp2(vol_exp[ii]))\n",
    "        CNR_fc4.append(return_CNR_fc2(vol_fc_adj[ii]))\n",
    "    \n",
    "    CNR_result_fc.append((np.mean(CNR_fc4),np.std(np.mean(CNR_fc4,1))))\n",
    "    CNR_result_exp.append((np.mean(CNR_exp4),np.std(np.mean(CNR_exp4,1))))"
   ]
  },
  {
   "cell_type": "code",
   "execution_count": 38,
   "id": "balanced-renewal",
   "metadata": {},
   "outputs": [
    {
     "data": {
      "application/vnd.jupyter.widget-view+json": {
       "model_id": "5bfef56d02214b2ca15820417c577a42",
       "version_major": 2,
       "version_minor": 0
      },
      "text/plain": [
       "Canvas(toolbar=Toolbar(toolitems=[('Home', 'Reset original view', 'home', 'home'), ('Back', 'Back to previous …"
      ]
     },
     "metadata": {},
     "output_type": "display_data"
    },
    {
     "data": {
      "text/plain": [
       "[<matplotlib.lines.Line2D at 0x7f0e6adb7f90>]"
      ]
     },
     "execution_count": 38,
     "metadata": {},
     "output_type": "execute_result"
    }
   ],
   "source": [
    "plt.figure()\n",
    "# plt.plot(kv_catphan.s.x,kv_catphan.s.y)\n",
    "plt.plot(kv_catphan.s.x,kv_catphan.s.y)\n",
    "# x = np.load('data/energies.npy')\n",
    "# y = np.load('data/spec_100.npy') # don't calculate too slow\n",
    "plt.plot(x,y)"
   ]
  },
  {
   "cell_type": "code",
   "execution_count": 78,
   "id": "induced-facial",
   "metadata": {},
   "outputs": [
    {
     "data": {
      "application/vnd.jupyter.widget-view+json": {
       "model_id": "17e3ecaa9b674be6bb7457fe93da4b24",
       "version_major": 2,
       "version_minor": 0
      },
      "text/plain": [
       "Canvas(toolbar=Toolbar(toolitems=[('Home', 'Reset original view', 'home', 'home'), ('Back', 'Back to previous …"
      ]
     },
     "metadata": {},
     "output_type": "display_data"
    },
    {
     "data": {
      "text/plain": [
       "Text(0, 0.5, 'CNR')"
      ]
     },
     "execution_count": 78,
     "metadata": {},
     "output_type": "execute_result"
    }
   ],
   "source": [
    "np.save('CNR_kv_exp',CNR_exp4)\n",
    "np.save('CNR_kv_fc',CNR_fc4)\n",
    "# np.load('CNR_kv_exp',np.mean(CNR_exp4,0))\n",
    "# np.save('CNR_kv_fc',np.mean(CNR_fc4,0))\n",
    "\n",
    "\n",
    "x = [.853,0.945,.998,1.147,1.36,1.87]\n",
    "\n",
    "plt.figure(figsize=[4,7])\n",
    "plt.subplot(211)\n",
    "plt.title('CNR Comparison')\n",
    "plt.errorbar(x,np.mean(CNR_exp4,0),np.std(CNR_exp4,0),fmt='s',color='darkorange',label='')\n",
    "plt.errorbar(np.array(x)+0.02,np.mean(CNR_fc4,0),np.std(CNR_fc4,0),fmt='*',color='cornflowerblue',label='fastCAT')\n",
    "plt.grid()\n",
    "plt.ylabel('CNR')\n",
    "# plt.xlabel('Relative Electron Density')\n",
    "# plt.subplot(212)\n",
    "# plt.errorbar(x,np.mean(CNR_exp3,0),np.std(CNR_exp3,0),fmt='s',color='darkorange',label='')\n",
    "# plt.errorbar(np.array(x)+0.02,np.mean(CNR_fc3,0),np.std(CNR_fc3,0),fmt='*',color='cornflowerblue',label='fastCAT')\n",
    "# plt.grid()\n",
    "# plt.ylabel('CNR')\n",
    "# plt.xlabel('Relative Electron Density')\n",
    "# plt.tight_layout()\n",
    "# plt.savefig('Comparison_CNR.png',dpi=300)"
   ]
  },
  {
   "cell_type": "code",
   "execution_count": 21,
   "id": "acting-simple",
   "metadata": {},
   "outputs": [
    {
     "data": {
      "application/vnd.jupyter.widget-view+json": {
       "model_id": "",
       "version_major": 2,
       "version_minor": 0
      },
      "text/plain": [
       "Canvas(toolbar=Toolbar(toolitems=[('Home', 'Reset original view', 'home', 'home'), ('Back', 'Back to previous …"
      ]
     },
     "metadata": {},
     "output_type": "display_data"
    }
   ],
   "source": [
    "class IndexTracker(object):\n",
    "    def __init__(self, ax, X):\n",
    "        self.ax = ax\n",
    "        ax.set_title('use scroll wheel to navigate images')\n",
    "\n",
    "        self.X = X\n",
    "        rows, cols, self.slices = X.shape\n",
    "        self.ind = 120 #self.slices//2\n",
    "\n",
    "        self.im = ax.imshow(self.X[:, :, self.ind],vmin=0,vmax=0.5,cmap='gray')\n",
    "        self.update()\n",
    "\n",
    "    def onscroll(self, event):\n",
    "        print(\"%s %s\" % (event.button, event.step))\n",
    "        if event.button == 'up':\n",
    "            self.ind = (self.ind + 1) % self.slices\n",
    "        else:\n",
    "            self.ind = (self.ind - 1) % self.slices\n",
    "        self.update()\n",
    "\n",
    "    def update(self):\n",
    "        self.im.set_data(self.X[:, :, self.ind])\n",
    "        ax.set_ylabel('slice %s' % self.ind)\n",
    "        self.im.axes.figure.canvas.draw()\n",
    "\n",
    "fig, ax = plt.subplots(1, 1)\n",
    "\n",
    "# X = np.array(projections.T[:,:,5:])\n",
    "X = np.array(vol_fc).T\n",
    "\n",
    "tracker = IndexTracker(ax, X)\n",
    "\n",
    "fig.canvas.mpl_connect('scroll_event', tracker.onscroll)\n",
    "plt.show()"
   ]
  },
  {
   "cell_type": "code",
   "execution_count": 176,
   "id": "mathematical-workplace",
   "metadata": {},
   "outputs": [
    {
     "data": {
      "application/vnd.jupyter.widget-view+json": {
       "model_id": "7df8b0a7287f494d8392eed9c974b216",
       "version_major": 2,
       "version_minor": 0
      },
      "text/plain": [
       "Canvas(toolbar=Toolbar(toolitems=[('Home', 'Reset original view', 'home', 'home'), ('Back', 'Back to previous …"
      ]
     },
     "metadata": {},
     "output_type": "display_data"
    },
    {
     "data": {
      "text/plain": [
       "<ErrorbarContainer object of 3 artists>"
      ]
     },
     "execution_count": 176,
     "metadata": {},
     "output_type": "execute_result"
    }
   ],
   "source": [
    "CNR_err_fc = np.std(CNR_fc3)\n",
    "CNR_err_exp = np.std(CNR_exp3)\n",
    "\n",
    "plt.figure()\n",
    "plt.errorbar([1,2,3,4],[CNR_result_fc[ii][0] for ii in range(4)],fmt='b*',yerr =  [CNR_result_fc[ii][1] for ii in range(4)])\n",
    "plt.errorbar([1.1,2.1,3.1,4.1],[CNR_result_exp[ii][0] for ii in range(4)],fmt='r*',yerr = [CNR_result_exp[ii][1] for ii in range(4)])"
   ]
  },
  {
   "cell_type": "code",
   "execution_count": 177,
   "id": "unnecessary-charm",
   "metadata": {},
   "outputs": [],
   "source": [
    "np.save('CNR_fc_by_dose',[CNR_result_fc[ii][0] for ii in range(4)])\n",
    "np.save('CNR_err_fc_by_dose',[CNR_result_fc[ii][1] for ii in range(4)])\n",
    "np.save('CNR_exp_by_dose',[CNR_result_exp[ii][0] for ii in range(4)])\n",
    "np.save('CNR_err_exp_by_dose',[CNR_result_exp[ii][1] for ii in range(4)])"
   ]
  },
  {
   "cell_type": "markdown",
   "id": "champion-outdoors",
   "metadata": {},
   "source": [
    "# This is the one for the gos"
   ]
  },
  {
   "cell_type": "code",
   "execution_count": 40,
   "id": "subject-singer",
   "metadata": {},
   "outputs": [],
   "source": [
    "from glob import glob"
   ]
  },
  {
   "cell_type": "code",
   "execution_count": 41,
   "id": "elementary-oasis",
   "metadata": {},
   "outputs": [
    {
     "name": "stdout",
     "output_type": "stream",
     "text": [
      "(19, 41, 41) 19\n"
     ]
    }
   ],
   "source": [
    "CNR_fc = []\n",
    "CNR_exp = []\n",
    "\n",
    "im_fc = []\n",
    "im_exp = []\n",
    "\n",
    "fudge_2 = 1 # 0.97 \n",
    "dose = 0.11\n",
    "fudge = dose/0.717*1.61#*4.5\n",
    "\n",
    "CNR_result_fc = []\n",
    "CNR_result_exp = []\n",
    "\n",
    "angles = np.load('/home/xcite/MV_CBCT/angles_6x.npy')\n",
    "exp_files = np.array(glob('/home/xcite/MV_CBCT/recon_6x_300_*.npy'))[np.array([1,3,0,2])]\n",
    "\n",
    "np.random.seed(0)\n",
    "\n",
    "def HU_fun(a,x,y):\n",
    "    return np.sum(np.abs((x - a[0])*(a[1]) - y))\n",
    "\n",
    "kv_catphan = Catphan_404_6x()"
   ]
  },
  {
   "cell_type": "code",
   "execution_count": 42,
   "id": "spare-dynamics",
   "metadata": {},
   "outputs": [
    {
     "name": "stdout",
     "output_type": "stream",
     "text": [
      "124\n",
      "bowtie is off False\n",
      "Using the bowtie filter True\n",
      "really doing it!\n",
      "ratio is 2042.5315407826688 number of photons 0.026371213427188782\n",
      "CPU times: user 19.2 s, sys: 821 ms, total: 20 s\n",
      "Wall time: 20.1 s\n"
     ]
    },
    {
     "name": "stderr",
     "output_type": "stream",
     "text": [
      "/home/xcite/anaconda3/lib/python3.7/site-packages/ipykernel_launcher.py:39: RuntimeWarning: More than 20 figures have been opened. Figures created through the pyplot interface (`matplotlib.pyplot.figure`) are retained until explicitly closed and may consume too much memory. (To control this warning, see the rcParam `figure.max_open_warning`).\n"
     ]
    },
    {
     "data": {
      "application/vnd.jupyter.widget-view+json": {
       "model_id": "4e9f8dac62b64590a92a83b4ea2a5dd9",
       "version_major": 2,
       "version_minor": 0
      },
      "text/plain": [
       "Canvas(toolbar=Toolbar(toolitems=[('Home', 'Reset original view', 'home', 'home'), ('Back', 'Back to previous …"
      ]
     },
     "metadata": {},
     "output_type": "display_data"
    },
    {
     "data": {
      "application/vnd.jupyter.widget-view+json": {
       "model_id": "90fe0d078a314de1ae7636b9fab9ba06",
       "version_major": 2,
       "version_minor": 0
      },
      "text/plain": [
       "Canvas(toolbar=Toolbar(toolitems=[('Home', 'Reset original view', 'home', 'home'), ('Back', 'Back to previous …"
      ]
     },
     "metadata": {},
     "output_type": "display_data"
    },
    {
     "name": "stdout",
     "output_type": "stream",
     "text": [
      "165\n",
      "bowtie is off False\n",
      "Using the bowtie filter True\n",
      "really doing it!\n",
      "ratio is 2042.5213154010728 number of photons 0.026371213427188782\n",
      "CPU times: user 25.2 s, sys: 1.12 s, total: 26.4 s\n",
      "Wall time: 26.4 s\n"
     ]
    },
    {
     "name": "stderr",
     "output_type": "stream",
     "text": [
      "/home/xcite/anaconda3/lib/python3.7/site-packages/scipy/optimize/optimize.py:1166: RuntimeWarning: divide by zero encountered in double_scalars\n",
      "  rhok = 1.0 / (np.dot(yk, sk))\n"
     ]
    },
    {
     "data": {
      "application/vnd.jupyter.widget-view+json": {
       "model_id": "bc9a0e5461d144649e0a0fd3993ea841",
       "version_major": 2,
       "version_minor": 0
      },
      "text/plain": [
       "Canvas(toolbar=Toolbar(toolitems=[('Home', 'Reset original view', 'home', 'home'), ('Back', 'Back to previous …"
      ]
     },
     "metadata": {},
     "output_type": "display_data"
    },
    {
     "data": {
      "application/vnd.jupyter.widget-view+json": {
       "model_id": "3bedff5f5b8942388726c2c1aceddbb8",
       "version_major": 2,
       "version_minor": 0
      },
      "text/plain": [
       "Canvas(toolbar=Toolbar(toolitems=[('Home', 'Reset original view', 'home', 'home'), ('Back', 'Back to previous …"
      ]
     },
     "metadata": {},
     "output_type": "display_data"
    },
    {
     "name": "stdout",
     "output_type": "stream",
     "text": [
      "247\n",
      "bowtie is off False\n",
      "Using the bowtie filter True\n",
      "really doing it!\n",
      "ratio is 2042.5292566407318 number of photons 0.026371213427188782\n",
      "CPU times: user 37.4 s, sys: 1.48 s, total: 38.8 s\n",
      "Wall time: 38.9 s\n"
     ]
    },
    {
     "name": "stderr",
     "output_type": "stream",
     "text": [
      "/home/xcite/anaconda3/lib/python3.7/site-packages/scipy/optimize/optimize.py:1166: RuntimeWarning: divide by zero encountered in double_scalars\n",
      "  rhok = 1.0 / (np.dot(yk, sk))\n"
     ]
    },
    {
     "data": {
      "application/vnd.jupyter.widget-view+json": {
       "model_id": "5e7d3f5f000a434aa708749bb295f956",
       "version_major": 2,
       "version_minor": 0
      },
      "text/plain": [
       "Canvas(toolbar=Toolbar(toolitems=[('Home', 'Reset original view', 'home', 'home'), ('Back', 'Back to previous …"
      ]
     },
     "metadata": {},
     "output_type": "display_data"
    },
    {
     "data": {
      "application/vnd.jupyter.widget-view+json": {
       "model_id": "0d1e9fe6ba73418ca9b5b421ee0e79f3",
       "version_major": 2,
       "version_minor": 0
      },
      "text/plain": [
       "Canvas(toolbar=Toolbar(toolitems=[('Home', 'Reset original view', 'home', 'home'), ('Back', 'Back to previous …"
      ]
     },
     "metadata": {},
     "output_type": "display_data"
    },
    {
     "name": "stdout",
     "output_type": "stream",
     "text": [
      "493\n",
      "bowtie is off False\n",
      "Using the bowtie filter True\n",
      "really doing it!\n"
     ]
    },
    {
     "ename": "KeyboardInterrupt",
     "evalue": "",
     "output_type": "error",
     "traceback": [
      "\u001b[0;31m---------------------------------------------------------------------------\u001b[0m",
      "\u001b[0;31mKeyboardInterrupt\u001b[0m                         Traceback (most recent call last)",
      "\u001b[0;32m<timed eval>\u001b[0m in \u001b[0;36m<module>\u001b[0;34m\u001b[0m\n",
      "\u001b[0;32m~/fastcat-0.0.1/tests/paper_3/varian_models.py\u001b[0m in \u001b[0;36mget_proj\u001b[0;34m(self, angles, fudge, return_dose, nphoton, bowtie)\u001b[0m\n\u001b[1;32m    108\u001b[0m                           \u001b[0mscat_on\u001b[0m\u001b[0;34m=\u001b[0m\u001b[0;32mTrue\u001b[0m\u001b[0;34m,\u001b[0m\u001b[0mbowtie\u001b[0m\u001b[0;34m=\u001b[0m\u001b[0mbowtie\u001b[0m\u001b[0;34m,\u001b[0m\u001b[0mfilter\u001b[0m\u001b[0;34m=\u001b[0m\u001b[0;34m'FF0'\u001b[0m\u001b[0;34m,\u001b[0m\u001b[0;34m\u001b[0m\u001b[0;34m\u001b[0m\u001b[0m\n\u001b[1;32m    109\u001b[0m                                     \u001b[0mreturn_dose\u001b[0m \u001b[0;34m=\u001b[0m \u001b[0mreturn_dose\u001b[0m\u001b[0;34m,\u001b[0m\u001b[0;34m\u001b[0m\u001b[0;34m\u001b[0m\u001b[0m\n\u001b[0;32m--> 110\u001b[0;31m                                     nphoton = nphoton)\n\u001b[0m\u001b[1;32m    111\u001b[0m \u001b[0;34m\u001b[0m\u001b[0m\n\u001b[1;32m    112\u001b[0m     \u001b[0;32mdef\u001b[0m \u001b[0mplot_one_proj\u001b[0m\u001b[0;34m(\u001b[0m\u001b[0mself\u001b[0m\u001b[0;34m,\u001b[0m\u001b[0mref\u001b[0m\u001b[0;34m,\u001b[0m\u001b[0mimages\u001b[0m\u001b[0;34m=\u001b[0m\u001b[0;32mFalse\u001b[0m\u001b[0;34m)\u001b[0m\u001b[0;34m:\u001b[0m\u001b[0;34m\u001b[0m\u001b[0;34m\u001b[0m\u001b[0m\n",
      "\u001b[0;32m~/fastcat-0.0.1/fastcat/fastcat.py\u001b[0m in \u001b[0;36mreturn_projs\u001b[0;34m(self, kernel, spectra, angles, nphoton, mgy, return_dose, det_on, scat_on, tigre_works, convolve_on, ASG, **kwargs)\u001b[0m\n\u001b[1;32m    606\u001b[0m                 \u001b[0mprojection\u001b[0m \u001b[0;34m=\u001b[0m \u001b[0mprojections\u001b[0m\u001b[0;34m[\u001b[0m\u001b[0mjj\u001b[0m\u001b[0;34m]\u001b[0m\u001b[0;34m\u001b[0m\u001b[0;34m\u001b[0m\u001b[0m\n\u001b[1;32m    607\u001b[0m             \u001b[0;32melse\u001b[0m\u001b[0;34m:\u001b[0m\u001b[0;34m\u001b[0m\u001b[0;34m\u001b[0m\u001b[0m\n\u001b[0;32m--> 608\u001b[0;31m                 \u001b[0mprojection\u001b[0m \u001b[0;34m=\u001b[0m \u001b[0mself\u001b[0m\u001b[0;34m.\u001b[0m\u001b[0mray_trace\u001b[0m\u001b[0;34m(\u001b[0m\u001b[0mphantom2\u001b[0m\u001b[0;34m,\u001b[0m\u001b[0mtile\u001b[0m\u001b[0;34m)\u001b[0m\u001b[0;34m\u001b[0m\u001b[0;34m\u001b[0m\u001b[0m\n\u001b[0m\u001b[1;32m    609\u001b[0m \u001b[0;34m\u001b[0m\u001b[0m\n\u001b[1;32m    610\u001b[0m             \u001b[0mkernel\u001b[0m\u001b[0;34m.\u001b[0m\u001b[0mkernels\u001b[0m\u001b[0;34m[\u001b[0m\u001b[0mjj\u001b[0m\u001b[0;34m+\u001b[0m\u001b[0;36m1\u001b[0m\u001b[0;34m]\u001b[0m \u001b[0;34m/=\u001b[0m \u001b[0mnp\u001b[0m\u001b[0;34m.\u001b[0m\u001b[0msum\u001b[0m\u001b[0;34m(\u001b[0m\u001b[0mkernel\u001b[0m\u001b[0;34m.\u001b[0m\u001b[0mkernels\u001b[0m\u001b[0;34m[\u001b[0m\u001b[0mjj\u001b[0m\u001b[0;34m+\u001b[0m\u001b[0;36m1\u001b[0m\u001b[0;34m]\u001b[0m\u001b[0;34m)\u001b[0m\u001b[0;34m\u001b[0m\u001b[0;34m\u001b[0m\u001b[0m\n",
      "\u001b[0;32m~/fastcat-0.0.1/fastcat/fastcat.py\u001b[0m in \u001b[0;36mray_trace\u001b[0;34m(self, phantom2, tile)\u001b[0m\n\u001b[1;32m    723\u001b[0m         \u001b[0;32mif\u001b[0m \u001b[0mself\u001b[0m\u001b[0;34m.\u001b[0m\u001b[0mtigre_works\u001b[0m\u001b[0;34m:\u001b[0m \u001b[0;31m# resort to astra if tigre doesn't work\u001b[0m\u001b[0;34m\u001b[0m\u001b[0;34m\u001b[0m\u001b[0m\n\u001b[1;32m    724\u001b[0m             \u001b[0;32mtry\u001b[0m\u001b[0;34m:\u001b[0m\u001b[0;34m\u001b[0m\u001b[0;34m\u001b[0m\u001b[0m\n\u001b[0;32m--> 725\u001b[0;31m                 \u001b[0;32mreturn\u001b[0m \u001b[0mnp\u001b[0m\u001b[0;34m.\u001b[0m\u001b[0msqueeze\u001b[0m\u001b[0;34m(\u001b[0m\u001b[0mtigre\u001b[0m\u001b[0;34m.\u001b[0m\u001b[0mAx\u001b[0m\u001b[0;34m(\u001b[0m\u001b[0mphantom2\u001b[0m\u001b[0;34m,\u001b[0m\u001b[0mself\u001b[0m\u001b[0;34m.\u001b[0m\u001b[0mgeomet\u001b[0m\u001b[0;34m,\u001b[0m\u001b[0mself\u001b[0m\u001b[0;34m.\u001b[0m\u001b[0mangles\u001b[0m\u001b[0;34m)\u001b[0m\u001b[0;34m)\u001b[0m\u001b[0;34m\u001b[0m\u001b[0;34m\u001b[0m\u001b[0m\n\u001b[0m\u001b[1;32m    726\u001b[0m             \u001b[0;32mexcept\u001b[0m \u001b[0mException\u001b[0m\u001b[0;34m:\u001b[0m\u001b[0;34m\u001b[0m\u001b[0;34m\u001b[0m\u001b[0m\n\u001b[1;32m    727\u001b[0m                 \u001b[0mprint\u001b[0m\u001b[0;34m(\u001b[0m\u001b[0;34m\"WARNING: Tigre GPU not working. Switching to Astra CPU\"\u001b[0m\u001b[0;34m)\u001b[0m\u001b[0;34m\u001b[0m\u001b[0;34m\u001b[0m\u001b[0m\n",
      "\u001b[0;32m~/.local/lib/python3.7/site-packages/pytigre-0.1.8-py3.7-linux-x86_64.egg/tigre/utilities/Ax.py\u001b[0m in \u001b[0;36mAx\u001b[0;34m(img, geo, angles, krylov)\u001b[0m\n\u001b[1;32m     23\u001b[0m                          \" not:\" + str(img.shape))\n\u001b[1;32m     24\u001b[0m \u001b[0;34m\u001b[0m\u001b[0m\n\u001b[0;32m---> 25\u001b[0;31m     \u001b[0;32mreturn\u001b[0m \u001b[0m_Ax_ext\u001b[0m\u001b[0;34m(\u001b[0m\u001b[0mimg\u001b[0m\u001b[0;34m,\u001b[0m \u001b[0mgeox\u001b[0m\u001b[0;34m,\u001b[0m \u001b[0mgeox\u001b[0m\u001b[0;34m.\u001b[0m\u001b[0mangles\u001b[0m\u001b[0;34m,\u001b[0m \u001b[0mkrylov\u001b[0m\u001b[0;34m,\u001b[0m \u001b[0mgeox\u001b[0m\u001b[0;34m.\u001b[0m\u001b[0mmode\u001b[0m\u001b[0;34m)\u001b[0m\u001b[0;34m\u001b[0m\u001b[0;34m\u001b[0m\u001b[0m\n\u001b[0m",
      "\u001b[0;32m~/.local/lib/python3.7/site-packages/pytigre-0.1.8-py3.7-linux-x86_64.egg/tigre/Source/_Ax.pyx\u001b[0m in \u001b[0;36m_Ax._Ax_ext\u001b[0;34m()\u001b[0m\n",
      "\u001b[0;32m~/.local/lib/python3.7/site-packages/pytigre-0.1.8-py3.7-linux-x86_64.egg/tigre/utilities/geometry.py\u001b[0m in \u001b[0;36mconvert_contig_mode\u001b[0;34m(self)\u001b[0m\n\u001b[1;32m    153\u001b[0m                 \u001b[0mprint\u001b[0m\u001b[0;34m(\u001b[0m\u001b[0mself\u001b[0m\u001b[0;34m.\u001b[0m\u001b[0mmode\u001b[0m \u001b[0;34m+\u001b[0m \u001b[0;34m': '\u001b[0m \u001b[0;34m+\u001b[0m \u001b[0mstr\u001b[0m\u001b[0;34m(\u001b[0m\u001b[0mobj\u001b[0m\u001b[0;34m)\u001b[0m\u001b[0;34m)\u001b[0m\u001b[0;34m\u001b[0m\u001b[0;34m\u001b[0m\u001b[0m\n\u001b[1;32m    154\u001b[0m \u001b[0;34m\u001b[0m\u001b[0m\n\u001b[0;32m--> 155\u001b[0;31m     \u001b[0;32mdef\u001b[0m \u001b[0mconvert_contig_mode\u001b[0m\u001b[0;34m(\u001b[0m\u001b[0mself\u001b[0m\u001b[0;34m)\u001b[0m\u001b[0;34m:\u001b[0m\u001b[0;34m\u001b[0m\u001b[0;34m\u001b[0m\u001b[0m\n\u001b[0m\u001b[1;32m    156\u001b[0m         dim_attribs = ['nVoxel', 'sVoxel', 'dVoxel',\n\u001b[1;32m    157\u001b[0m                        'nDetector', 'sDetector', 'dDetector']\n",
      "\u001b[0;31mKeyboardInterrupt\u001b[0m: "
     ]
    },
    {
     "name": "stdout",
     "output_type": "stream",
     "text": [
      "WARNING: Tigre failed during recon using Astra\n"
     ]
    },
    {
     "ename": "AttributeError",
     "evalue": "'Catphan_404_6x' object has no attribute 'astra_recon'",
     "output_type": "error",
     "traceback": [
      "\u001b[0;31m---------------------------------------------------------------------------\u001b[0m",
      "\u001b[0;31mIndexError\u001b[0m                                Traceback (most recent call last)",
      "\u001b[0;32m~/fastcat-0.0.1/fastcat/fastcat.py\u001b[0m in \u001b[0;36mreconstruct\u001b[0;34m(self, algo, filt)\u001b[0m\n\u001b[1;32m    757\u001b[0m             \u001b[0;32mtry\u001b[0m\u001b[0;34m:\u001b[0m\u001b[0;34m\u001b[0m\u001b[0;34m\u001b[0m\u001b[0m\n\u001b[0;32m--> 758\u001b[0;31m                 \u001b[0mself\u001b[0m\u001b[0;34m.\u001b[0m\u001b[0mimg\u001b[0m \u001b[0;34m=\u001b[0m \u001b[0mtigre\u001b[0m\u001b[0;34m.\u001b[0m\u001b[0malgorithms\u001b[0m\u001b[0;34m.\u001b[0m\u001b[0mFDK\u001b[0m\u001b[0;34m(\u001b[0m\u001b[0mself\u001b[0m\u001b[0;34m.\u001b[0m\u001b[0mproj\u001b[0m\u001b[0;34m,\u001b[0m \u001b[0mself\u001b[0m\u001b[0;34m.\u001b[0m\u001b[0mgeomet\u001b[0m\u001b[0;34m,\u001b[0m \u001b[0mself\u001b[0m\u001b[0;34m.\u001b[0m\u001b[0mangles\u001b[0m\u001b[0;34m,\u001b[0m\u001b[0mfilter\u001b[0m\u001b[0;34m=\u001b[0m\u001b[0mfilt\u001b[0m\u001b[0;34m)\u001b[0m\u001b[0;34m\u001b[0m\u001b[0;34m\u001b[0m\u001b[0m\n\u001b[0m\u001b[1;32m    759\u001b[0m             \u001b[0;32mexcept\u001b[0m \u001b[0mException\u001b[0m\u001b[0;34m:\u001b[0m\u001b[0;34m\u001b[0m\u001b[0;34m\u001b[0m\u001b[0m\n",
      "\u001b[0;32m~/.local/lib/python3.7/site-packages/pytigre-0.1.8-py3.7-linux-x86_64.egg/tigre/algorithms/single_pass_algorithms.py\u001b[0m in \u001b[0;36mFDK\u001b[0;34m(proj, geo, angles, **kwargs)\u001b[0m\n\u001b[1;32m    105\u001b[0m         \u001b[0mw\u001b[0m \u001b[0;34m=\u001b[0m \u001b[0mgeo\u001b[0m\u001b[0;34m.\u001b[0m\u001b[0mDSD\u001b[0m\u001b[0;34m[\u001b[0m\u001b[0;36m0\u001b[0m\u001b[0;34m]\u001b[0m \u001b[0;34m/\u001b[0m \u001b[0mnp\u001b[0m\u001b[0;34m.\u001b[0m\u001b[0msqrt\u001b[0m\u001b[0;34m(\u001b[0m\u001b[0;34m(\u001b[0m\u001b[0mgeo\u001b[0m\u001b[0;34m.\u001b[0m\u001b[0mDSD\u001b[0m\u001b[0;34m[\u001b[0m\u001b[0;36m0\u001b[0m\u001b[0;34m]\u001b[0m \u001b[0;34m**\u001b[0m \u001b[0;36m2\u001b[0m \u001b[0;34m+\u001b[0m \u001b[0mxx\u001b[0m \u001b[0;34m**\u001b[0m \u001b[0;36m2\u001b[0m \u001b[0;34m+\u001b[0m \u001b[0myy\u001b[0m \u001b[0;34m**\u001b[0m \u001b[0;36m2\u001b[0m\u001b[0;34m)\u001b[0m\u001b[0;34m)\u001b[0m\u001b[0;34m\u001b[0m\u001b[0;34m\u001b[0m\u001b[0m\n\u001b[0;32m--> 106\u001b[0;31m         \u001b[0mproj_filt\u001b[0m\u001b[0;34m[\u001b[0m\u001b[0mii\u001b[0m\u001b[0;34m]\u001b[0m \u001b[0;34m=\u001b[0m \u001b[0mcopy\u001b[0m\u001b[0;34m.\u001b[0m\u001b[0mdeepcopy\u001b[0m\u001b[0;34m(\u001b[0m\u001b[0mproj\u001b[0m\u001b[0;34m[\u001b[0m\u001b[0mii\u001b[0m\u001b[0;34m]\u001b[0m\u001b[0;34m)\u001b[0m \u001b[0;34m*\u001b[0m \u001b[0mw\u001b[0m\u001b[0;34m\u001b[0m\u001b[0;34m\u001b[0m\u001b[0m\n\u001b[0m\u001b[1;32m    107\u001b[0m \u001b[0;34m\u001b[0m\u001b[0m\n",
      "\u001b[0;31mIndexError\u001b[0m: index 247 is out of bounds for axis 0 with size 247",
      "\nDuring handling of the above exception, another exception occurred:\n",
      "\u001b[0;31mAttributeError\u001b[0m                            Traceback (most recent call last)",
      "\u001b[0;32m<ipython-input-42-9d700371120e>\u001b[0m in \u001b[0;36m<module>\u001b[0;34m\u001b[0m\n\u001b[1;32m      8\u001b[0m     \u001b[0mkv_catphan\u001b[0m\u001b[0;34m.\u001b[0m\u001b[0mgeomet\u001b[0m\u001b[0;34m.\u001b[0m\u001b[0mnVoxel\u001b[0m \u001b[0;34m=\u001b[0m \u001b[0mnp\u001b[0m\u001b[0;34m.\u001b[0m\u001b[0marray\u001b[0m\u001b[0;34m(\u001b[0m\u001b[0;34m[\u001b[0m\u001b[0;36m256\u001b[0m\u001b[0;34m,\u001b[0m\u001b[0;36m512\u001b[0m\u001b[0;34m,\u001b[0m\u001b[0;36m512\u001b[0m\u001b[0;34m]\u001b[0m\u001b[0;34m)\u001b[0m\u001b[0;34m\u001b[0m\u001b[0;34m\u001b[0m\u001b[0m\n\u001b[1;32m      9\u001b[0m     \u001b[0mkv_catphan\u001b[0m\u001b[0;34m.\u001b[0m\u001b[0mgeomet\u001b[0m\u001b[0;34m.\u001b[0m\u001b[0mdVoxel\u001b[0m \u001b[0;34m=\u001b[0m \u001b[0mkv_catphan\u001b[0m\u001b[0;34m.\u001b[0m\u001b[0mgeomet\u001b[0m\u001b[0;34m.\u001b[0m\u001b[0msVoxel\u001b[0m\u001b[0;34m/\u001b[0m\u001b[0mkv_catphan\u001b[0m\u001b[0;34m.\u001b[0m\u001b[0mgeomet\u001b[0m\u001b[0;34m.\u001b[0m\u001b[0mnVoxel\u001b[0m\u001b[0;34m\u001b[0m\u001b[0;34m\u001b[0m\u001b[0m\n\u001b[0;32m---> 10\u001b[0;31m     \u001b[0mkv_catphan\u001b[0m\u001b[0;34m.\u001b[0m\u001b[0mreconstruct\u001b[0m\u001b[0;34m(\u001b[0m\u001b[0;34m'FDK'\u001b[0m\u001b[0;34m,\u001b[0m\u001b[0mfilt\u001b[0m\u001b[0;34m=\u001b[0m\u001b[0;34m'ram_lak'\u001b[0m\u001b[0;34m)\u001b[0m\u001b[0;34m\u001b[0m\u001b[0;34m\u001b[0m\u001b[0m\n\u001b[0m\u001b[1;32m     11\u001b[0m \u001b[0;34m\u001b[0m\u001b[0m\n\u001b[1;32m     12\u001b[0m     \u001b[0mvol_fc\u001b[0m \u001b[0;34m=\u001b[0m \u001b[0mkv_catphan\u001b[0m\u001b[0;34m.\u001b[0m\u001b[0mimg\u001b[0m\u001b[0;34m\u001b[0m\u001b[0;34m\u001b[0m\u001b[0m\n",
      "\u001b[0;32m~/fastcat-0.0.1/fastcat/fastcat.py\u001b[0m in \u001b[0;36mreconstruct\u001b[0;34m(self, algo, filt)\u001b[0m\n\u001b[1;32m    759\u001b[0m             \u001b[0;32mexcept\u001b[0m \u001b[0mException\u001b[0m\u001b[0;34m:\u001b[0m\u001b[0;34m\u001b[0m\u001b[0;34m\u001b[0m\u001b[0m\n\u001b[1;32m    760\u001b[0m                 \u001b[0mprint\u001b[0m\u001b[0;34m(\u001b[0m\u001b[0;34m'WARNING: Tigre failed during recon using Astra'\u001b[0m\u001b[0;34m)\u001b[0m\u001b[0;34m\u001b[0m\u001b[0;34m\u001b[0m\u001b[0m\n\u001b[0;32m--> 761\u001b[0;31m                 \u001b[0mself\u001b[0m\u001b[0;34m.\u001b[0m\u001b[0mimg\u001b[0m \u001b[0;34m=\u001b[0m \u001b[0mself\u001b[0m\u001b[0;34m.\u001b[0m\u001b[0mastra_recon\u001b[0m\u001b[0;34m(\u001b[0m\u001b[0mself\u001b[0m\u001b[0;34m.\u001b[0m\u001b[0mproj\u001b[0m\u001b[0;34m.\u001b[0m\u001b[0mtranspose\u001b[0m\u001b[0;34m(\u001b[0m\u001b[0;34m[\u001b[0m\u001b[0;36m1\u001b[0m\u001b[0;34m,\u001b[0m\u001b[0;36m0\u001b[0m\u001b[0;34m,\u001b[0m\u001b[0;36m2\u001b[0m\u001b[0;34m]\u001b[0m\u001b[0;34m)\u001b[0m\u001b[0;34m)\u001b[0m\u001b[0;34m\u001b[0m\u001b[0;34m\u001b[0m\u001b[0m\n\u001b[0m\u001b[1;32m    762\u001b[0m \u001b[0;34m\u001b[0m\u001b[0m\n\u001b[1;32m    763\u001b[0m         \u001b[0;32mif\u001b[0m \u001b[0malgo\u001b[0m \u001b[0;34m==\u001b[0m \u001b[0;34m'CGLS'\u001b[0m\u001b[0;34m:\u001b[0m\u001b[0;34m\u001b[0m\u001b[0;34m\u001b[0m\u001b[0m\n",
      "\u001b[0;31mAttributeError\u001b[0m: 'Catphan_404_6x' object has no attribute 'astra_recon'"
     ]
    }
   ],
   "source": [
    "for ii in range(4,-1,-1):\n",
    "    \n",
    "    angles_temp = angles[::ii]\n",
    "    print(len(angles_temp))\n",
    "    kv_catphan.geomet.nVoxel = np.array([10,512,512])\n",
    "    kv_catphan.geomet.dVoxel = kv_catphan.geomet.sVoxel/kv_catphan.geomet.nVoxel\n",
    "    %time kv_catphan.get_proj(angles_temp,fudge=fudge) \n",
    "    kv_catphan.geomet.nVoxel = np.array([256,512,512])\n",
    "    kv_catphan.geomet.dVoxel = kv_catphan.geomet.sVoxel/kv_catphan.geomet.nVoxel\n",
    "    kv_catphan.reconstruct('FDK',filt='ram_lak')\n",
    "    \n",
    "    vol_fc = kv_catphan.img\n",
    "    vol_exp = np.rot90(np.load(exp_files[ii-1]).T,0)\n",
    "\n",
    "    contrast_exp2 = []\n",
    "    contrast_fc2 = []\n",
    "\n",
    "    for ii in range(20):\n",
    "\n",
    "        contrast_exp2.append(return_CNR_exp3(vol_exp[25 +ii],True))\n",
    "        contrast_fc2.append(return_CNR_fc3(vol_fc[120+ii],True))\n",
    "    \n",
    "    contrast_bcca = np.mean(contrast_exp2,0)\n",
    "    contrast_fc = np.mean(contrast_fc2,0)\n",
    "\n",
    "    reses = []\n",
    "    rem = []\n",
    "\n",
    "    for off in np.arange(-0.2,0.2,0.01):\n",
    "        for off2 in np.arange(-0.2,0.2,0.01):\n",
    "            reses.append(minimize(HU_fun,[off,contrast_fc[-3]+off2],args=(contrast_fc,contrast_bcca)))\n",
    "            rem.append(reses[-1].fun)\n",
    "\n",
    "    res = reses[np.argmin(rem)]\n",
    "\n",
    "    vol_fc_adj = (vol_fc - res.x[0])*(res.x[1])\n",
    "    fc_data = (contrast_fc - res.x[0])*(res.x[1])\n",
    "    \n",
    "    plt.figure()\n",
    "    plt.plot(fc_data,'b*')\n",
    "    plt.plot(contrast_bcca,'r*')\n",
    "    \n",
    "    CNR_fc3 = []\n",
    "    CNR_exp3 = []\n",
    "    \n",
    "    for ii in range(20):\n",
    "\n",
    "        CNR_exp3.append(return_CNR_exp3(vol_exp[25 + ii]))\n",
    "        CNR_fc3.append(return_CNR_fc3(vol_fc_adj[120+ii]))\n",
    "    \n",
    "    plt.figure()\n",
    "    plt.plot(np.mean(CNR_exp3,0),'r*')\n",
    "    plt.plot(np.mean(CNR_fc3,0),'b*')\n",
    "    CNR_result_fc.append((np.mean(CNR_fc3),np.std(np.mean(CNR_fc3,1))))\n",
    "    CNR_result_exp.append((np.mean(CNR_exp3),np.std(np.mean(CNR_exp3,1))))"
   ]
  },
  {
   "cell_type": "code",
   "execution_count": 100,
   "id": "driving-georgia",
   "metadata": {},
   "outputs": [
    {
     "data": {
      "application/vnd.jupyter.widget-view+json": {
       "model_id": "70658eaab3234f078f0696334d47be2b",
       "version_major": 2,
       "version_minor": 0
      },
      "text/plain": [
       "Canvas(toolbar=Toolbar(toolitems=[('Home', 'Reset original view', 'home', 'home'), ('Back', 'Back to previous …"
      ]
     },
     "metadata": {},
     "output_type": "display_data"
    },
    {
     "data": {
      "text/plain": [
       "Text(0.5, 0, 'Relative Electron Density')"
      ]
     },
     "execution_count": 100,
     "metadata": {},
     "output_type": "execute_result"
    }
   ],
   "source": [
    "np.save('CNR_6x_exp',CNR_exp3)\n",
    "np.save('CNR_6x_fc',CNR_fc3)\n",
    "\n",
    "x = [.853,0.945,.998,1.147,1.36,1.87]\n",
    "\n",
    "plt.figure()\n",
    "plt.errorbar(x,np.mean(CNR_exp3,0),np.std(CNR_exp3,0),fmt='s',color='darkorange',label='')\n",
    "plt.errorbar(np.array(x)+0.02,np.mean(CNR_fc3,0),np.std(CNR_fc3,0),fmt='*',color='cornflowerblue',label='fastCAT')\n",
    "plt.grid()\n",
    "plt.ylabel('CNR')\n",
    "plt.xlabel('Relative Electron Density')"
   ]
  },
  {
   "cell_type": "code",
   "execution_count": 19,
   "id": "judicial-theory",
   "metadata": {},
   "outputs": [
    {
     "name": "stdout",
     "output_type": "stream",
     "text": [
      "(19, 41, 41) 19\n",
      "bowtie is off False\n",
      "really doing it!\n",
      "ratio is None number of photons 0.010763158668836276\n"
     ]
    }
   ],
   "source": [
    "nviews = 180\n",
    "\n",
    "s = fc.Spectrum()\n",
    "s.load('Varian_truebeam_phasespace')\n",
    "kernel = fc.Kernel(s,'CuGOS-784-micrometer')\n",
    "angles = np.linspace(0,np.pi*2,nviews)\n",
    "\n",
    "phantom = fc.Catphan_404()\n",
    "phantom.phan_map = ['air','G4_POLYSTYRENE','G4_POLYVINYL_BUTYRAL','G4_POLYVINYL_BUTYRAL','CATPHAN_Delrin','G4_POLYVINYL_BUTYRAL','CATPHAN_Teflon_revised','air','CATPHAN_PMP','G4_POLYVINYL_BUTYRAL','CATPHAN_LDPE','G4_POLYVINYL_BUTYRAL','CATPHAN_Polystyrene','air','CATPHAN_Acrylic','air','CATPHAN_Teflon_revised','air','air','air','air'] \n",
    "# phantom.phan_map = ['air','CATPHAN_Polystyrene','CATPHAN_Acrylic','CATPHAN_Acrylic','CATPHAN_Delrin','CATPHAN_Acrylic','CATPHAN_Teflon_revised','air','CATPHAN_PMP','CATPHAN_Acrylic','CATPHAN_LDPE','CATPHAN_Acrylic','CATPHAN_Polystyrene','air','CATPHAN_Acrylic'] \n",
    "phantom.return_projs(kernel,s,angles,det_on=True,scat_on=False,mgy=0.0)"
   ]
  },
  {
   "cell_type": "code",
   "execution_count": 22,
   "id": "biblical-convertible",
   "metadata": {},
   "outputs": [
    {
     "data": {
      "application/vnd.jupyter.widget-view+json": {
       "model_id": "344d1faf352c4ea38cfb9b63ba4169a0",
       "version_major": 2,
       "version_minor": 0
      },
      "text/plain": [
       "Canvas(toolbar=Toolbar(toolitems=[('Home', 'Reset original view', 'home', 'home'), ('Back', 'Back to previous …"
      ]
     },
     "metadata": {},
     "output_type": "display_data"
    }
   ],
   "source": [
    "X = np.array(phantom.proj)\n",
    "\n",
    "plt.figure()\n",
    "for ii in range(X.shape[0]):\n",
    "    \n",
    "    imshow(np.rot90(X[ii, :, :]),cmap='gray',vmax = 16,vmin=0,aspect='auto')        \n",
    "#     plt.ylabel('projection %s' % ii)\n",
    "    plt.xticks([])\n",
    "    plt.yticks([])\n",
    "    plt.savefig(f'pngs/{ii}.png')"
   ]
  },
  {
   "cell_type": "code",
   "execution_count": 274,
   "id": "radical-chambers",
   "metadata": {},
   "outputs": [
    {
     "data": {
      "application/vnd.jupyter.widget-view+json": {
       "model_id": "8057c69c109d42f9be39cad7357327e6",
       "version_major": 2,
       "version_minor": 0
      },
      "text/plain": [
       "Canvas(toolbar=Toolbar(toolitems=[('Home', 'Reset original view', 'home', 'home'), ('Back', 'Back to previous …"
      ]
     },
     "metadata": {},
     "output_type": "display_data"
    },
    {
     "data": {
      "text/plain": [
       "<ErrorbarContainer object of 3 artists>"
      ]
     },
     "execution_count": 274,
     "metadata": {},
     "output_type": "execute_result"
    }
   ],
   "source": [
    "CNR_err_fc = np.std(CNR_fc3)\n",
    "CNR_err_exp = np.std(CNR_exp3)\n",
    "\n",
    "plt.figure()\n",
    "plt.errorbar([1,2,3,4],[CNR_result_fc[ii][0] for ii in range(3,-1,-1)],fmt='b*',yerr =  [CNR_result_fc[ii][1] for ii in range(4)])\n",
    "plt.errorbar([1.1,2.1,3.1,4.1],[CNR_result_exp[ii][0] for ii in range(4)],fmt='r*',yerr = [CNR_result_exp[ii][1] for ii in range(4)])"
   ]
  },
  {
   "cell_type": "code",
   "execution_count": 275,
   "id": "unlike-baptist",
   "metadata": {},
   "outputs": [],
   "source": [
    "# np.save('CNR_fc_by_dose_kv',[CNR_result_fc[ii][0] for ii in range(4)])\n",
    "# np.save('CNR_err_fc_by_dose_kv',[CNR_result_fc[ii][1] for ii in range(4)])\n",
    "# np.save('CNR_exp_by_dose_kv',[CNR_result_exp[ii][0] for ii in range(4)])\n",
    "# np.save('CNR_err_exp_by_dose_kv',[CNR_result_exp[ii][1] for ii in range(4)])"
   ]
  },
  {
   "cell_type": "code",
   "execution_count": 5,
   "id": "exciting-taiwan",
   "metadata": {},
   "outputs": [
    {
     "name": "stdout",
     "output_type": "stream",
     "text": [
      "Populating the interactive namespace from numpy and matplotlib\n"
     ]
    }
   ],
   "source": [
    "%pylab widget"
   ]
  },
  {
   "cell_type": "code",
   "execution_count": 6,
   "id": "interested-battlefield",
   "metadata": {},
   "outputs": [
    {
     "data": {
      "application/vnd.jupyter.widget-view+json": {
       "model_id": "5d7f3c0af60c498d9aa1a20c64635647",
       "version_major": 2,
       "version_minor": 0
      },
      "text/plain": [
       "Canvas(toolbar=Toolbar(toolitems=[('Home', 'Reset original view', 'home', 'home'), ('Back', 'Back to previous …"
      ]
     },
     "metadata": {},
     "output_type": "display_data"
    },
    {
     "name": "stdout",
     "output_type": "stream",
     "text": [
      "Mv 0.27184242627271615\n",
      "Mv mean 0.01224674119812932\n",
      "kv 0.2585394970017969\n",
      "kv mean 0.011865205733436426\n",
      "kV [ 6.13627562  6.65418818  6.96017875  7.94255765  8.92661792 12.0334916 ] [ 6.52715027  6.86852884  7.15360037  7.86648842  9.11832678 12.02601766]\n",
      "MV [ 6.22099712  6.72520099  7.01377286  7.81545882  8.78833733 10.99384381] [ 6.35354648  6.88275005  7.10808886  7.80658702  8.86848638 10.81812807]\n"
     ]
    }
   ],
   "source": [
    "fc = np.load('CNR_fc_by_dose_kv.npy')\n",
    "fc_err = np.load('CNR_err_fc_by_dose_kv.npy')\n",
    "exp = np.load('CNR_exp_by_dose_kv.npy')\n",
    "exp_err = np.load('CNR_err_exp_by_dose_kv.npy')\n",
    "\n",
    "dose_lab = np.array(np.round([300,300/2,300/3,300/4],1))[-1::-1]\n",
    "dose = np.array([6,4,2,0])[-1::-1]\n",
    "plt.figure(figsize=[8,7],dpi=300)\n",
    "plt.subplot(224)\n",
    "plt.bar(dose,exp[-1::-1],yerr=exp_err,width=0.4,color='darkorange')\n",
    "plt.bar(dose+0.5,fc,yerr=fc_err,width=0.4,color='cornflowerblue')\n",
    "plt.grid('on')\n",
    "plt.xticks(ticks=dose,labels= dose_lab)\n",
    "plt.xlabel('MU')\n",
    "plt.ylabel('Average CNR')\n",
    "plt.legend(['Varian 6 MV','Fastcat 6 MV'],loc=2)\n",
    "plt.ylim([0,14])\n",
    "\n",
    "print('Mv',np.max(np.abs(fc-exp[-1::-1])))\n",
    "print('Mv mean',np.mean(np.abs(fc-exp[-1::-1])/exp[-1::-1]))\n",
    "# circle1 = plt.text(160,-20,'Experimental',color='k',size='x-large');ax.add_artist(circle1)\n",
    "\n",
    "fc = np.load('CNR_fc_by_dose.npy')\n",
    "fc_err = np.load('CNR_err_fc_by_dose.npy')\n",
    "exp = np.load('CNR_exp_by_dose.npy')\n",
    "exp_err = np.load('CNR_err_exp_by_dose.npy')\n",
    "\n",
    "dose_lab = np.array(np.round([21.1,21.1/2,21.1/3,21.1/4],1))[-1::-1]\n",
    "plt.subplot(222)\n",
    "plt.title('CNR vs Dose')\n",
    "plt.bar(dose,exp,yerr=exp_err,width=0.4,color='darkorange')\n",
    "plt.bar(dose+0.5,fc,yerr=fc_err,width=0.4,color='cornflowerblue')\n",
    "plt.grid('on')\n",
    "plt.xticks(ticks=dose,labels= dose_lab)\n",
    "plt.xlabel('CTDI$_{vol}$')\n",
    "plt.ylabel('Average CNR')\n",
    "plt.legend(['Varian OBI 100 kVp','Fastcat 100 kVp'],loc=2)\n",
    "plt.ylim([0,20])\n",
    "# plt.tight_layout()\n",
    "# plt.savefig('Comparison_dose_CNR.png',dpi=300)\n",
    "\n",
    "CNR_exp4 = np.load('CNR_kv_exp.npy')\n",
    "CNR_fc4 = np.load('CNR_kv_fc.npy')\n",
    "\n",
    "print('kv',np.max(np.abs(fc-exp)))\n",
    "print('kv mean',np.mean(np.abs(fc-exp)/exp))\n",
    "\n",
    "x = [.853,0.945,.998,1.147,1.36,1.87]\n",
    "\n",
    "# plt.figure(figsize=[4,7])\n",
    "ax = plt.subplot(221)\n",
    "plt.title('CNR Comparison')\n",
    "plt.errorbar(x,np.mean(CNR_exp4,0),np.std(CNR_exp4,0),fmt='s',color='darkorange',label='Varian OBI 100 kVp')\n",
    "plt.errorbar(np.array(x)+0.02,np.mean(CNR_fc4,0),np.std(CNR_fc4,0),fmt='*',color='cornflowerblue',label='Fastcat 100 kVp')\n",
    "plt.ylim([5.5,13.5])\n",
    "plt.grid()\n",
    "plt.legend()\n",
    "plt.ylabel('CNR')\n",
    "\n",
    "print('kV',np.mean(CNR_exp4,0),np.mean(CNR_fc4,0))\n",
    "circle1 = plt.text(0.55,9.5,'100 kVp',color='k',size='x-large',rotation = 90,va='center',ha='center');ax.add_artist(circle1)\n",
    "CNR_exp4 = np.load('CNR_6x_exp.npy')\n",
    "CNR_fc4 = np.load('CNR_6x_fc.npy')\n",
    "\n",
    "print('MV',np.mean(CNR_exp4,0),np.mean(CNR_fc4,0))\n",
    "ax = plt.subplot(223)\n",
    "plt.errorbar(x,np.mean(CNR_exp4,0),np.std(CNR_exp4,0),fmt='s',color='darkorange',label='Varian 6 MV')\n",
    "plt.errorbar(np.array(x)+0.02,np.mean(CNR_fc4,0),np.std(CNR_fc4,0),fmt='*',color='cornflowerblue',label='Fastcat 6 MV')\n",
    "plt.grid()\n",
    "plt.ylim([5.5,13.5])\n",
    "plt.xlabel('Relative Electron Density')\n",
    "plt.ylabel('CNR')\n",
    "plt.legend(loc=2)\n",
    "circle1 = plt.text(0.55,9.5,'6 MV',color='k',size='x-large',rotation = 90,va='center',ha='center');ax.add_artist(circle1)\n",
    "plt.tight_layout()\n"
   ]
  },
  {
   "cell_type": "code",
   "execution_count": 3,
   "id": "raising-turkey",
   "metadata": {},
   "outputs": [
    {
     "name": "stdout",
     "output_type": "stream",
     "text": [
      "[ 7.87694855  9.12412549 11.45808587 15.63366093] [ 7.91022679  9.29294846 11.35792347 15.89220043]\n"
     ]
    }
   ],
   "source": [
    "print(fc,exp)"
   ]
  },
  {
   "cell_type": "code",
   "execution_count": 82,
   "id": "numeric-access",
   "metadata": {},
   "outputs": [
    {
     "data": {
      "application/vnd.jupyter.widget-view+json": {
       "model_id": "",
       "version_major": 2,
       "version_minor": 0
      },
      "text/plain": [
       "Canvas(toolbar=Toolbar(toolitems=[('Home', 'Reset original view', 'home', 'home'), ('Back', 'Back to previous …"
      ]
     },
     "metadata": {},
     "output_type": "display_data"
    },
    {
     "data": {
      "text/plain": [
       "[<matplotlib.lines.Line2D at 0x7f82033a6e50>]"
      ]
     },
     "execution_count": 82,
     "metadata": {},
     "output_type": "execute_result"
    }
   ],
   "source": [
    "def HU_fun(a,x,y):\n",
    "    return np.sum(np.abs((x - a[0])*(a[1]) - y))\n",
    "\n",
    "from scipy.optimize import minimize\n",
    "\n",
    "reses = []\n",
    "rem = []\n",
    "\n",
    "for off in np.arange(-0.2,0.2,0.01):\n",
    "    reses.append(minimize(HU_fun,[off,contrast_fc[-3]+0.12],args=(contrast_fc,contrast_bcca)))\n",
    "    rem.append(reses[-1].fun)\n",
    "\n",
    "res = reses[np.argmin(rem)]\n",
    "\n",
    "fc_data = (contrast_fc - res.x[0])*(res.x[1])\n",
    "fc_image = (im_fc[-1] - res.x[0])*(res.x[1])\n",
    "\n",
    "kv_catphan.img[64] = fc_image\n",
    "x = [.853,0.945,.998,1.147,1.36,1.87]\n",
    "\n",
    "plt.figure()\n",
    "plt.plot(x,contrast_bcca,'s',c='darkorange',label='')\n",
    "plt.plot(x,fc_data,'*',c='cornflowerblue',label='fastCAT')\n",
    "# plt.figure()\n",
    "# plt.plot(CNR_exp[0],'r*')\n",
    "# plt.plot(kv_catphan.return_CNR(),'b*')\n",
    "# new_CNR_fc.append(return_CNR(fc_image,im)[1])    "
   ]
  },
  {
   "cell_type": "code",
   "execution_count": 127,
   "id": "covered-champion",
   "metadata": {},
   "outputs": [],
   "source": [
    "np.save('fastcat_images_kv_worst-best',im_fc)\n",
    "np.save('exp_images_kv_worst-best',im_exp)\n",
    "np.save('CNR_fc_kv',CNR_fc_kv)\n",
    "np.save('CNR_exp_kv',CNR_exp)\n",
    "np.save('vol_fc_kv_adj',vol_fc_adj)\n",
    "np.save('vol_exp_kv',vol_exp)"
   ]
  },
  {
   "cell_type": "code",
   "execution_count": 374,
   "id": "adapted-controversy",
   "metadata": {},
   "outputs": [
    {
     "name": "stdout",
     "output_type": "stream",
     "text": [
      "Open other images in this ImageJ panel as follows:\n",
      "  imagej -p 1 <image1> [<image2> ... <imageN>]\n",
      "\n",
      "Fontconfig error: \"/home/xcite/.config/fontconfig/fonts.conf\", line 5: no element found\n",
      "Fontconfig error: \"/home/xcite/.config/fontconfig/fonts.conf\", line 5: invalid attribute 'target'\n"
     ]
    }
   ],
   "source": [
    "plt.imsave('im_for_imagej.png',np.hstack((im_fc[0],im_exp[0])),cmap='gray')\n",
    "!imagej im_for_imagej.png"
   ]
  },
  {
   "cell_type": "code",
   "execution_count": 44,
   "id": "moderate-rogers",
   "metadata": {},
   "outputs": [],
   "source": [
    "CNR_fc = np.load('CNR_fc_kv.npy')\n",
    "CNR_exp = np.load('CNR_exp_kv.npy')"
   ]
  },
  {
   "cell_type": "code",
   "execution_count": 378,
   "id": "collective-catch",
   "metadata": {},
   "outputs": [
    {
     "name": "stdout",
     "output_type": "stream",
     "text": [
      "Open other images in this ImageJ panel as follows:\n",
      "  imagej -p 1 <image1> [<image2> ... <imageN>]\n",
      "\n",
      "Fontconfig error: \"/home/xcite/.config/fontconfig/fonts.conf\", line 5: no element found\n",
      "Fontconfig error: \"/home/xcite/.config/fontconfig/fonts.conf\", line 5: invalid attribute 'target'\n"
     ]
    }
   ],
   "source": [
    "plt.imsave('im_for_imagej.png',np.hstack((fc_image,recon_slice)),cmap='gray')\n",
    "!imagej im_for_imagej.png"
   ]
  },
  {
   "cell_type": "code",
   "execution_count": 67,
   "id": "trying-valentine",
   "metadata": {},
   "outputs": [
    {
     "ename": "IndexError",
     "evalue": "index 3 is out of bounds for axis 0 with size 1",
     "output_type": "error",
     "traceback": [
      "\u001b[0;31m---------------------------------------------------------------------------\u001b[0m",
      "\u001b[0;31mIndexError\u001b[0m                                Traceback (most recent call last)",
      "\u001b[0;32m<ipython-input-67-8254fb721017>\u001b[0m in \u001b[0;36m<module>\u001b[0;34m\u001b[0m\n\u001b[1;32m     36\u001b[0m \u001b[0;32mfor\u001b[0m \u001b[0mii\u001b[0m \u001b[0;32min\u001b[0m \u001b[0mrange\u001b[0m\u001b[0;34m(\u001b[0m\u001b[0;36m3\u001b[0m\u001b[0;34m,\u001b[0m\u001b[0;34m-\u001b[0m\u001b[0;36m1\u001b[0m\u001b[0;34m,\u001b[0m\u001b[0;34m-\u001b[0m\u001b[0;36m1\u001b[0m\u001b[0;34m)\u001b[0m\u001b[0;34m:\u001b[0m\u001b[0;34m\u001b[0m\u001b[0;34m\u001b[0m\u001b[0m\n\u001b[1;32m     37\u001b[0m \u001b[0;34m\u001b[0m\u001b[0m\n\u001b[0;32m---> 38\u001b[0;31m     \u001b[0mcontrast_fc\u001b[0m \u001b[0;34m=\u001b[0m \u001b[0mreturn_CNR_fc\u001b[0m\u001b[0;34m(\u001b[0m\u001b[0mim_fc\u001b[0m\u001b[0;34m[\u001b[0m\u001b[0mii\u001b[0m\u001b[0;34m]\u001b[0m\u001b[0;34m,\u001b[0m\u001b[0;32mTrue\u001b[0m\u001b[0;34m)\u001b[0m\u001b[0;34m\u001b[0m\u001b[0;34m\u001b[0m\u001b[0m\n\u001b[0m\u001b[1;32m     39\u001b[0m     \u001b[0mcontrast_bcca\u001b[0m \u001b[0;34m=\u001b[0m \u001b[0mreturn_CNR_exp\u001b[0m\u001b[0;34m(\u001b[0m\u001b[0mim_exp\u001b[0m\u001b[0;34m[\u001b[0m\u001b[0mii\u001b[0m\u001b[0;34m]\u001b[0m\u001b[0;34m,\u001b[0m\u001b[0;32mTrue\u001b[0m\u001b[0;34m)\u001b[0m\u001b[0;34m\u001b[0m\u001b[0;34m\u001b[0m\u001b[0m\n\u001b[1;32m     40\u001b[0m \u001b[0;34m\u001b[0m\u001b[0m\n",
      "\u001b[0;31mIndexError\u001b[0m: index 3 is out of bounds for axis 0 with size 1"
     ]
    }
   ],
   "source": [
    "from scipy.optimize import minimize\n",
    "CNR_fc = np.load('CNR_fc_kv.npy')\n",
    "CNR_exp = np.load('CNR_exp_kv.npy')\n",
    "\n",
    "im_fc = np.load('fastcat_images_kv_worst-best.npy')\n",
    "im_exp = np.load('exp_images_kv_worst-best.npy')\n",
    "\n",
    "new_CNR_fc = []\n",
    "\n",
    "def HU_fun(a,x,y):\n",
    "    return np.sum(np.abs((x - a[0])*(a[1]) - y))\n",
    "\n",
    "def return_CNR_fc(proj,return_contrast = False):\n",
    "\n",
    "    im = create_mask(proj.shape,r=5.75,radius=0.4)\n",
    "    contrast_fc, CNR_fc, noise_fc = return_CNR(proj,im)\n",
    "#         print(contrast_fc ,'fastcat')\n",
    "    if return_contrast:\n",
    "        return contrast_fc\n",
    "    else:\n",
    "        return CNR_fc\n",
    "\n",
    "def return_CNR_exp(proj,return_contrast = False):\n",
    "\n",
    "    recon_slice = (proj)\n",
    "    im = create_mask(recon_slice.shape,r=5.85,off = [-0.15,-0.02],rot = 0.7,radius=0.40)\n",
    "    contrast_fc, CNR_fc, noise_fc = return_CNR(recon_slice,im)\n",
    "#         print(contrast_fc, 'exp')\n",
    "    if return_contrast:\n",
    "        return contrast_fc\n",
    "    else:\n",
    "        return CNR_fc\n",
    "\n",
    "im = create_mask(im_fc.shape,r=5.75,radius=0.4)\n",
    "\n",
    "for ii in range(3,-1,-1):\n",
    "    \n",
    "    contrast_fc = return_CNR_fc(im_fc[ii],True) \n",
    "    contrast_bcca = return_CNR_exp(im_exp[ii],True) \n",
    "    \n",
    "    if ii == 3:\n",
    "        reses = []\n",
    "        rem = []\n",
    "\n",
    "        for off in np.arange(-0.2,0.2,0.01):\n",
    "            reses.append(minimize(HU_fun,[off,contrast_fc[-3]-0.01],args=(contrast_fc,contrast_bcca)))\n",
    "            rem.append(reses[-1].fun)\n",
    "\n",
    "        res = reses[np.argmin(rem)]\n",
    "\n",
    "    fc_data = (contrast_fc - res.x[0])*(res.x[1])\n",
    "    fc_image = (im_fc[ii] - res.x[0])*(res.x[1])\n",
    "    \n",
    "    new_CNR_fc.append(return_CNR(fc_image,im)[1])\n",
    "    \n",
    "    x = [.853,0.945,.998,1.147,1.36,1.87]\n",
    "\n",
    "    plt.figure(figsize=[8,8])\n",
    "    plt.subplot(221)\n",
    "    plt.plot(x,contrast_bcca,'s',c='darkorange',label='')\n",
    "    plt.plot(x,fc_data,'*',c='cornflowerblue',label='fastCAT')\n",
    "    plt.legend()\n",
    "    plt.subplot(222)\n",
    "    plt.plot(recon_slice[256,:],c='darkorange')\n",
    "    plt.plot(np.rot90(fc_image,0)[256,:],c='cornflowerblue')\n",
    "    plt.subplot(223)\n",
    "    plt.imshow(np.rot90(fc_image,0),cmap='gray',vmin=0.13,vmax=0.35)\n",
    "    plt.subplot(224)\n",
    "    plt.imshow(np.rot90(recon_slice,0),cmap='gray',vmin=0.13,vmax=0.35)"
   ]
  },
  {
   "cell_type": "code",
   "execution_count": 68,
   "id": "adaptive-continuity",
   "metadata": {},
   "outputs": [
    {
     "data": {
      "application/vnd.jupyter.widget-view+json": {
       "model_id": "4f52ee7b748f4b139741895d819eb1bc",
       "version_major": 2,
       "version_minor": 0
      },
      "text/plain": [
       "Canvas(toolbar=Toolbar(toolitems=[('Home', 'Reset original view', 'home', 'home'), ('Back', 'Back to previous …"
      ]
     },
     "metadata": {},
     "output_type": "display_data"
    },
    {
     "ename": "IndexError",
     "evalue": "list index out of range",
     "output_type": "error",
     "traceback": [
      "\u001b[0;31m---------------------------------------------------------------------------\u001b[0m",
      "\u001b[0;31mIndexError\u001b[0m                                Traceback (most recent call last)",
      "\u001b[0;32m<ipython-input-68-44a6827c4b35>\u001b[0m in \u001b[0;36m<module>\u001b[0;34m\u001b[0m\n\u001b[1;32m      1\u001b[0m \u001b[0mplt\u001b[0m\u001b[0;34m.\u001b[0m\u001b[0mfigure\u001b[0m\u001b[0;34m(\u001b[0m\u001b[0;34m)\u001b[0m\u001b[0;34m\u001b[0m\u001b[0;34m\u001b[0m\u001b[0m\n\u001b[0;32m----> 2\u001b[0;31m \u001b[0mplt\u001b[0m\u001b[0;34m.\u001b[0m\u001b[0mplot\u001b[0m\u001b[0;34m(\u001b[0m\u001b[0;34m(\u001b[0m\u001b[0mnew_CNR_fc\u001b[0m\u001b[0;34m[\u001b[0m\u001b[0;36m3\u001b[0m\u001b[0;34m]\u001b[0m\u001b[0;34m)\u001b[0m\u001b[0;34m,\u001b[0m\u001b[0;34m'b*'\u001b[0m\u001b[0;34m)\u001b[0m\u001b[0;34m\u001b[0m\u001b[0;34m\u001b[0m\u001b[0m\n\u001b[0m\u001b[1;32m      3\u001b[0m \u001b[0mplt\u001b[0m\u001b[0;34m.\u001b[0m\u001b[0mplot\u001b[0m\u001b[0;34m(\u001b[0m\u001b[0mCNR_exp\u001b[0m\u001b[0;34m[\u001b[0m\u001b[0;36m3\u001b[0m\u001b[0;34m]\u001b[0m\u001b[0;34m,\u001b[0m\u001b[0;34m'r*'\u001b[0m\u001b[0;34m)\u001b[0m\u001b[0;34m\u001b[0m\u001b[0;34m\u001b[0m\u001b[0m\n\u001b[1;32m      4\u001b[0m \u001b[0;31m# plt.figure()\u001b[0m\u001b[0;34m\u001b[0m\u001b[0;34m\u001b[0m\u001b[0;34m\u001b[0m\u001b[0m\n\u001b[1;32m      5\u001b[0m \u001b[0;31m# plt.plot(contrast_fc,'b*')\u001b[0m\u001b[0;34m\u001b[0m\u001b[0;34m\u001b[0m\u001b[0;34m\u001b[0m\u001b[0m\n",
      "\u001b[0;31mIndexError\u001b[0m: list index out of range"
     ]
    }
   ],
   "source": [
    "plt.figure()\n",
    "plt.plot((new_CNR_fc[3]),'b*')\n",
    "plt.plot(CNR_exp[3],'r*')\n",
    "# plt.figure()\n",
    "# plt.plot(contrast_fc,'b*')\n",
    "# plt.plot(contrast_bcca,'r*')"
   ]
  },
  {
   "cell_type": "code",
   "execution_count": 218,
   "id": "directed-devices",
   "metadata": {},
   "outputs": [
    {
     "data": {
      "text/plain": [
       "      fun: 0.0026893317699432373\n",
       " hess_inv: array([[0.01104779, 0.01104779],\n",
       "       [0.01104779, 0.14830004]])\n",
       "      jac: array([0., 0.])\n",
       "  message: 'Optimization terminated successfully.'\n",
       "     nfev: 81\n",
       "      nit: 4\n",
       "     njev: 27\n",
       "   status: 0\n",
       "  success: True\n",
       "        x: array([-0.03572898,  0.82787716])"
      ]
     },
     "execution_count": 218,
     "metadata": {},
     "output_type": "execute_result"
    }
   ],
   "source": [
    "res"
   ]
  },
  {
   "cell_type": "code",
   "execution_count": 197,
   "id": "selective-reduction",
   "metadata": {},
   "outputs": [
    {
     "data": {
      "application/vnd.jupyter.widget-view+json": {
       "model_id": "6db18e9c21534b979966b9516a9ee9bf",
       "version_major": 2,
       "version_minor": 0
      },
      "text/plain": [
       "Canvas(toolbar=Toolbar(toolitems=[('Home', 'Reset original view', 'home', 'home'), ('Back', 'Back to previous …"
      ]
     },
     "metadata": {},
     "output_type": "display_data"
    },
    {
     "data": {
      "text/plain": [
       "[<matplotlib.lines.Line2D at 0x7f2fd79a3dd0>]"
      ]
     },
     "execution_count": 197,
     "metadata": {},
     "output_type": "execute_result"
    }
   ],
   "source": [
    "plt.figure()\n",
    "plt.plot(CNR_fc[3],'b*')\n",
    "plt.plot(CNR_exp[3],'r*')"
   ]
  },
  {
   "cell_type": "code",
   "execution_count": 172,
   "id": "wrapped-willow",
   "metadata": {},
   "outputs": [
    {
     "data": {
      "application/vnd.jupyter.widget-view+json": {
       "model_id": "67cfc3fdfc4e4d2ca67064610a043457",
       "version_major": 2,
       "version_minor": 0
      },
      "text/plain": [
       "Canvas(toolbar=Toolbar(toolitems=[('Home', 'Reset original view', 'home', 'home'), ('Back', 'Back to previous …"
      ]
     },
     "metadata": {},
     "output_type": "display_data"
    },
    {
     "data": {
      "text/plain": [
       "<matplotlib.image.AxesImage at 0x7f2fd573f8d0>"
      ]
     },
     "execution_count": 172,
     "metadata": {},
     "output_type": "execute_result"
    }
   ],
   "source": [
    "plt.figure()\n",
    "plt.imshow(np.rot90(im_exp[0],-1))\n",
    "# plt.imshow(im)"
   ]
  },
  {
   "cell_type": "code",
   "execution_count": 196,
   "id": "sitting-morning",
   "metadata": {},
   "outputs": [
    {
     "data": {
      "application/vnd.jupyter.widget-view+json": {
       "model_id": "f9d4f05267a34fc6b74e1f85b58b7f3b",
       "version_major": 2,
       "version_minor": 0
      },
      "text/plain": [
       "Canvas(toolbar=Toolbar(toolitems=[('Home', 'Reset original view', 'home', 'home'), ('Back', 'Back to previous …"
      ]
     },
     "metadata": {},
     "output_type": "display_data"
    }
   ],
   "source": [
    "plt.figure()\n",
    "for ii in range(4):\n",
    "    plt.plot(ii,np.mean(CNR_fc[ii],0),'r*')\n",
    "    plt.plot(ii,np.mean(CNR_exp[ii],0),'b*')"
   ]
  },
  {
   "cell_type": "code",
   "execution_count": 121,
   "id": "elegant-coalition",
   "metadata": {},
   "outputs": [
    {
     "data": {
      "application/vnd.jupyter.widget-view+json": {
       "model_id": "de754fe874804c63b59234f51a4a424a",
       "version_major": 2,
       "version_minor": 0
      },
      "text/plain": [
       "Canvas(toolbar=Toolbar(toolitems=[('Home', 'Reset original view', 'home', 'home'), ('Back', 'Back to previous …"
      ]
     },
     "metadata": {},
     "output_type": "display_data"
    }
   ],
   "source": [
    "recon_slice = np.rot90(kv_catphan.img[64],3)\n",
    "im = create_mask(recon_slice.shape,r=5.85,radius=0.45,off = [-0.15,-0.02],rot = 0.7)\n",
    "contrast_exp, CNR_exp, noise_fc = return_CNR(recon_slice,im,show_map=True)"
   ]
  },
  {
   "cell_type": "code",
   "execution_count": 122,
   "id": "liquid-continent",
   "metadata": {},
   "outputs": [
    {
     "name": "stdout",
     "output_type": "stream",
     "text": [
      "[0.16167541 0.17474125 0.18429291 0.20837197 0.24231511 0.3306908 ]\n"
     ]
    }
   ],
   "source": [
    "print(contrast_exp)"
   ]
  },
  {
   "cell_type": "code",
   "execution_count": null,
   "id": "adverse-sucking",
   "metadata": {},
   "outputs": [],
   "source": [
    "# bcca_recon = np.load('/home/xcite/MV_CBCT/recon_kV_full.npy').T #recon_kv_jan_2021.npy')\n",
    "# recon_slice = np.rot90(np.mean(bcca_recon.T[39:40],0)).copy()\n",
    "# im = create_mask(recon_slice.shape,r=5.8,off = [0.2,0.05],rot = 1)\n",
    "# contrast_bcca, CNR_bcca, noise_bcca = return_CNR(recon_slice,im)#,show_map=True)\n",
    "\n",
    "def HU_fun(a,x,y):\n",
    "    return np.sum(np.abs((x - a[0])*(a[1]) - y))\n",
    "\n",
    "reses = []\n",
    "rem = []\n",
    "\n",
    "for off in np.arange(-0.2,0.2,0.01):\n",
    "    reses.append(minimize(HU_fun,[contrast_fc[2],contrast_fc[-3]+off],args=(contrast_fc,contrast_bcca)))\n",
    "    rem.append(reses[-1].fun)\n",
    "    \n",
    "res = reses[np.argmin(rem)]\n",
    "    \n",
    "fc_data = (contrast_fc - res.x[0])*(res.x[1])\n",
    "fc_image = (phantom.img[4] - res.x[0])*(res.x[1])\n",
    "\n",
    "x = [.853,0.945,.998,1.147,1.36,1.87]\n",
    "\n",
    "plt.figure(figsize=[8,8])\n",
    "plt.subplot(221)\n",
    "plt.plot(x,contrast_bcca,'s',c='darkorange',label='')\n",
    "plt.plot(x,fc_data,'*',c='cornflowerblue',label='fastCAT')\n",
    "plt.legend()\n",
    "plt.subplot(222)\n",
    "plt.plot(recon_slice[256,:],c='darkorange')\n",
    "plt.plot(np.rot90(fc_image,0)[256,:],c='cornflowerblue')\n",
    "plt.subplot(223)\n",
    "plt.imshow(np.rot90(fc_image,0),cmap='gray',vmin=0.013,vmax=0.027)\n",
    "plt.subplot(224)\n",
    "plt.imshow(np.rot90(recon_slice,2),cmap='gray',vmin=0.013,vmax=0.027)"
   ]
  }
 ],
 "metadata": {
  "kernelspec": {
   "display_name": "Python 3",
   "language": "python",
   "name": "python3"
  },
  "language_info": {
   "codemirror_mode": {
    "name": "ipython",
    "version": 3
   },
   "file_extension": ".py",
   "mimetype": "text/x-python",
   "name": "python",
   "nbconvert_exporter": "python",
   "pygments_lexer": "ipython3",
   "version": "3.7.6"
  }
 },
 "nbformat": 4,
 "nbformat_minor": 5
}
