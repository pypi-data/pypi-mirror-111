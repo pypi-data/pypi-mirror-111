{
 "cells": [
  {
   "cell_type": "code",
   "execution_count": 1,
   "id": "alive-glossary",
   "metadata": {},
   "outputs": [
    {
     "name": "stdout",
     "output_type": "stream",
     "text": [
      "Populating the interactive namespace from numpy and matplotlib\n"
     ]
    }
   ],
   "source": [
    "%pylab widget"
   ]
  },
  {
   "cell_type": "code",
   "execution_count": 26,
   "id": "steady-affairs",
   "metadata": {},
   "outputs": [
    {
     "data": {
      "application/vnd.jupyter.widget-view+json": {
       "model_id": "8f4140068ec34ae094d932e140bdbd35",
       "version_major": 2,
       "version_minor": 0
      },
      "text/plain": [
       "Canvas(toolbar=Toolbar(toolitems=[('Home', 'Reset original view', 'home', 'home'), ('Back', 'Back to previous …"
      ]
     },
     "metadata": {},
     "output_type": "display_data"
    },
    {
     "name": "stdout",
     "output_type": "stream",
     "text": [
      "Mv 0.27184242627271615\n",
      "Mv mean 0.01224674119812932\n",
      "kv 0.2585394970017969\n",
      "kv mean 0.011865205733436426\n",
      "kV [ 6.13627562  6.65418818  6.96017875  7.94255765  8.92661792 12.0334916 ] [ 6.52715027  6.86852884  7.15360037  7.86648842  9.11832678 12.02601766]\n",
      "kV [0.55284259 0.62956928 0.72435754 0.49721296 0.56098221 1.11390434] [0.57405501 0.54299322 0.74318844 0.45963769 0.64312926 0.87798741]\n",
      "kv diff 0.025895792353461695\n",
      "MV [ 6.22099712  6.72520099  7.01377286  7.81545882  8.78833733 10.99384381] [ 6.35354648  6.88275005  7.10808886  7.80658702  8.86848638 10.81812807]\n",
      "MV [0.34996606 0.35465521 0.69550135 0.56201382 0.58896832 0.74425133] [0.60440176 0.5627778  0.76788324 0.65779598 0.66016373 0.5509935 ]\n",
      "Mv diff 0.014069815917229327\n"
     ]
    }
   ],
   "source": [
    "fc = np.load('CNR_fc_by_dose_kv.npy')\n",
    "fc_err = np.load('CNR_err_fc_by_dose_kv.npy')\n",
    "exp = np.load('CNR_exp_by_dose_kv.npy')\n",
    "exp_err = np.load('CNR_err_exp_by_dose_kv.npy')\n",
    "\n",
    "dose_lab = np.array(np.round([300,300/2,300/3,300/4],1))[-1::-1]\n",
    "dose = np.array([6,4,2,0])[-1::-1]\n",
    "plt.figure(figsize=[7,7])#,dpi=300)\n",
    "plt.subplot(224)\n",
    "plt.bar(dose,exp[-1::-1],yerr=exp_err,width=0.4,color='darkorange')\n",
    "plt.bar(dose+0.5,fc,yerr=fc_err,width=0.4,color='cornflowerblue')\n",
    "plt.grid('on')\n",
    "plt.xticks(ticks=dose,labels= dose_lab)\n",
    "plt.xlabel('MU')\n",
    "plt.ylabel('Average CNR')\n",
    "plt.legend(['Varian 6 MV','Fastcat 6 MV'],loc=2)\n",
    "plt.ylim([0,14])\n",
    "\n",
    "print('Mv',np.max(np.abs(fc-exp[-1::-1])))\n",
    "print('Mv mean',np.mean(np.abs(fc-exp[-1::-1])/exp[-1::-1]))\n",
    "# circle1 = plt.text(160,-20,'Experimental',color='k',size='x-large');ax.add_artist(circle1)\n",
    "\n",
    "fc = np.load('CNR_fc_by_dose.npy')\n",
    "fc_err = np.load('CNR_err_fc_by_dose.npy')\n",
    "exp = np.load('CNR_exp_by_dose.npy')\n",
    "exp_err = np.load('CNR_err_exp_by_dose.npy')\n",
    "\n",
    "dose_lab = np.array(np.round([21.1,21.1/2,21.1/3,21.1/4],1))[-1::-1]\n",
    "plt.subplot(222)\n",
    "plt.title('CNR vs Dose',{'size':'x-large'})\n",
    "plt.bar(dose,exp,yerr=exp_err,width=0.4,color='darkorange')\n",
    "plt.bar(dose+0.5,fc,yerr=fc_err,width=0.4,color='cornflowerblue')\n",
    "plt.grid('on')\n",
    "plt.xticks(ticks=dose,labels= dose_lab)\n",
    "plt.xlabel('CTDI$_{vol}$')\n",
    "plt.ylabel('Average CNR')\n",
    "plt.legend(['Varian OBI 100 kVp','Fastcat 100 kVp'],loc=2)\n",
    "plt.ylim([0,20])\n",
    "# plt.tight_layout()\n",
    "# plt.savefig('Comparison_dose_CNR.png',dpi=300)\n",
    "\n",
    "CNR_exp4 = np.load('CNR_kv_exp.npy')\n",
    "CNR_fc4 = np.load('CNR_kv_fc.npy')\n",
    "\n",
    "print('kv',np.max(np.abs(fc-exp)))\n",
    "print('kv mean',np.mean(np.abs(fc-exp)/exp))\n",
    "\n",
    "x = [.853,0.945,.998,1.147,1.36,1.87]\n",
    "\n",
    "# plt.figure(figsize=[4,7])\n",
    "ax = plt.subplot(221)\n",
    "plt.title('CNR Comparison',{'size':'x-large'})\n",
    "plt.errorbar(x,np.mean(CNR_exp4,0),np.std(CNR_exp4,0),fmt='s',color='darkorange',label='Varian OBI 100 kVp')\n",
    "plt.errorbar(np.array(x)+0.02,np.mean(CNR_fc4,0),np.std(CNR_fc4,0),fmt='*',color='cornflowerblue',label='Fastcat 100 kVp')\n",
    "plt.ylim([5.5,13.5])\n",
    "plt.grid()\n",
    "plt.legend()\n",
    "plt.ylabel('CNR')\n",
    "\n",
    "print('kV',np.mean(CNR_exp4,0),np.mean(CNR_fc4,0))\n",
    "print('kV',np.std(CNR_exp4,0),np.std(CNR_fc4,0))\n",
    "fc = np.mean(CNR_fc4,0)\n",
    "exp = np.mean(CNR_exp4,0)\n",
    "print('kv diff',np.mean(np.abs(fc-exp)/exp))\n",
    "# circle1 = plt.text(0.55,9.5,'100 kVp',color='k',size='x-large',rotation = 90,va='center',ha='center');ax.add_artist(circle1)\n",
    "CNR_exp4 = np.load('CNR_6x_exp.npy')\n",
    "CNR_fc4 = np.load('CNR_6x_fc.npy')\n",
    "\n",
    "print('MV',np.mean(CNR_exp4,0),np.mean(CNR_fc4,0))\n",
    "fc = np.mean(CNR_fc4,0)\n",
    "exp = np.mean(CNR_exp4,0)\n",
    "print('MV',np.std(CNR_exp4,0),np.std(CNR_fc4,0))\n",
    "print('Mv diff',np.mean(np.abs(fc-exp)/exp))\n",
    "ax = plt.subplot(223)\n",
    "plt.errorbar(x,np.mean(CNR_exp4,0),np.std(CNR_exp4,0),fmt='s',color='darkorange',label='Varian 6 MV')\n",
    "plt.errorbar(np.array(x)+0.02,np.mean(CNR_fc4,0),np.std(CNR_fc4,0),fmt='*',color='cornflowerblue',label='Fastcat 6 MV')\n",
    "plt.grid()\n",
    "plt.ylim([5.5,13.5])\n",
    "plt.xlabel('Relative Electron Density')\n",
    "plt.ylabel('CNR')\n",
    "plt.legend(loc=2)\n",
    "# circle1 = plt.text(0.55,9.5,'6 MV',color='k',size='x-large',rotation = 90,va='center',ha='center');ax.add_artist(circle1)\n",
    "plt.tight_layout()\n",
    "plt.savefig('/home/xcite/fastcat_paper_3/figures/CNR_dose.pdf')"
   ]
  },
  {
   "cell_type": "code",
   "execution_count": null,
   "id": "polar-retailer",
   "metadata": {},
   "outputs": [],
   "source": []
  }
 ],
 "metadata": {
  "kernelspec": {
   "display_name": "Python 3",
   "language": "python",
   "name": "python3"
  },
  "language_info": {
   "codemirror_mode": {
    "name": "ipython",
    "version": 3
   },
   "file_extension": ".py",
   "mimetype": "text/x-python",
   "name": "python",
   "nbconvert_exporter": "python",
   "pygments_lexer": "ipython3",
   "version": "3.7.6"
  }
 },
 "nbformat": 4,
 "nbformat_minor": 5
}
