{
 "cells": [
  {
   "cell_type": "code",
   "execution_count": 3,
   "metadata": {},
   "outputs": [
    {
     "name": "stdout",
     "output_type": "stream",
     "text": [
      "[2021-06-23 15:11:39,265] {pyplot.py:290} DEBUG - Loaded backend module://ipympl.backend_nbagg version unknown.\n",
      "Populating the interactive namespace from numpy and matplotlib\n",
      "The autoreload extension is already loaded. To reload it, use:\n",
      "  %reload_ext autoreload\n"
     ]
    }
   ],
   "source": [
    "%pylab widget\n",
    "%load_ext autoreload\n",
    "%autoreload 2\n",
    "\n",
    "from analysis_functions import *\n",
    "import fastcat as fc\n",
    "from scipy.optimize import minimize"
   ]
  },
  {
   "cell_type": "markdown",
   "metadata": {},
   "source": [
    "# First lets look at the GOS"
   ]
  },
  {
   "cell_type": "code",
   "execution_count": 6,
   "metadata": {},
   "outputs": [],
   "source": [
    "# %%timeit -r 1\n",
    "nviews = 493 #493 #247 #165 #124 for the others\n",
    "\n",
    "s = fc.Spectrum()\n",
    "# s.load('Varian_truebeam')\n",
    "s.load('W_spectrum_6')\n",
    "s.x[0] = 1; s.x[1] = 2\n",
    "s.attenuate(0.,fc.get_mu(z=13))\n",
    "\n",
    "kernel = fc.Detector(s,'CuGOS-784-micrometer')\n",
    "kernel.add_focal_spot(1.2)\n",
    "angles = np.linspace(0,np.pi*2,nviews)"
   ]
  },
  {
   "cell_type": "code",
   "execution_count": 12,
   "metadata": {},
   "outputs": [
    {
     "name": "stdout",
     "output_type": "stream",
     "text": [
      "1.6865851759397625\n"
     ]
    }
   ],
   "source": [
    "fudge = 0.22/1.07765*1.3907\n",
    "dose = fudge*3000/505\n",
    "print(dose)"
   ]
  },
  {
   "cell_type": "code",
   "execution_count": 6,
   "metadata": {},
   "outputs": [
    {
     "name": "stdout",
     "output_type": "stream",
     "text": [
      "[2021-06-23 15:28:14,683] {simulate.py:207} INFO - Initializing filter FF_t0\n",
      "[2021-06-23 15:28:14,710] {simulate.py:397} INFO -     Interp scatter 512 to 512 pixels\n",
      "[2021-06-23 15:28:14,710] {simulate.py:397} INFO -     Interp scatter 512 to 512 pixels\n",
      "[2021-06-23 15:28:15,218] {simulate.py:465} INFO - Running Simulations\n",
      "[2021-06-23 15:28:15,219] {simulate.py:469} INFO -     1.2 mm focal spot added\n",
      "[2021-06-23 15:28:15,219] {simulate.py:480} INFO -     Simulating 20 keV\n",
      "[2021-06-23 15:28:21,654] {simulate.py:480} INFO -     Simulating 30 keV\n",
      "[2021-06-23 15:28:27,972] {simulate.py:480} INFO -     Simulating 40 keV\n",
      "[2021-06-23 15:28:34,258] {simulate.py:480} INFO -     Simulating 50 keV\n",
      "[2021-06-23 15:28:40,702] {simulate.py:480} INFO -     Simulating 60 keV\n",
      "[2021-06-23 15:28:47,149] {simulate.py:480} INFO -     Simulating 70 keV\n",
      "[2021-06-23 15:28:53,633] {simulate.py:480} INFO -     Simulating 80 keV\n",
      "[2021-06-23 15:29:00,010] {simulate.py:480} INFO -     Simulating 90 keV\n",
      "[2021-06-23 15:29:06,456] {simulate.py:480} INFO -     Simulating 100 keV\n",
      "[2021-06-23 15:29:13,240] {simulate.py:480} INFO -     Simulating 300 keV\n",
      "[2021-06-23 15:29:20,288] {simulate.py:480} INFO -     Simulating 500 keV\n",
      "[2021-06-23 15:29:27,285] {simulate.py:480} INFO -     Simulating 700 keV\n",
      "[2021-06-23 15:29:34,395] {simulate.py:480} INFO -     Simulating 900 keV\n",
      "[2021-06-23 15:29:41,535] {simulate.py:480} INFO -     Simulating 1000 keV\n",
      "[2021-06-23 15:29:48,450] {simulate.py:480} INFO -     Simulating 2000 keV\n",
      "[2021-06-23 15:29:55,349] {simulate.py:480} INFO -     Simulating 4000 keV\n",
      "[2021-06-23 15:30:02,369] {simulate.py:480} INFO -     Simulating 6000 keV\n",
      "[2021-06-23 15:30:09,075] {simulate.py:612} INFO - Weighting simulations\n",
      "[2021-06-23 15:30:09,076] {simulate.py:676} INFO -     Added noise 179.95952187801402 times ref\n"
     ]
    }
   ],
   "source": [
    "phantom = fc.Catphan_404()\n",
    "phantom.phan_map = ['air','G4_POLYSTYRENE','G4_POLYVINYL_BUTYRAL','G4_POLYVINYL_BUTYRAL','CATPHAN_Delrin','G4_POLYVINYL_BUTYRAL','CATPHAN_Teflon_revised','air','CATPHAN_PMP','G4_POLYVINYL_BUTYRAL','CATPHAN_LDPE','G4_POLYVINYL_BUTYRAL','CATPHAN_Polystyrene','air','CATPHAN_Acrylic','air','CATPHAN_Teflon_revised','air','air','air','air'] \n",
    "# phantom.phan_map = ['air','G4_NYLON-8062','CATPHAN_Acrylic','CATPHAN_Acrylic','CATPHAN_Delrin_revised','CATPHAN_Acrylic','CATPHAN_Teflon_revised','air','CATPHAN_PMP','CATPHAN_Acrylic','CATPHAN_LDPE','CATPHAN_Acrylic','CATPHAN_Polystyrene','air','CATPHAN_Acrylic','air','CATPHAN_Teflon','air','air','air','air'] \n",
    "phantom.return_projs(kernel,s,angles,mgy=18,bowtie=True,filter='FF_t0') # should be 507"
   ]
  },
  {
   "cell_type": "code",
   "execution_count": 7,
   "metadata": {},
   "outputs": [],
   "source": [
    "phantom.proj = phantom.proj * 1/0.97\n",
    "phantom.reconstruct('FDK',filt='ram_lak')"
   ]
  },
  {
   "cell_type": "code",
   "execution_count": 8,
   "metadata": {},
   "outputs": [],
   "source": [
    "phantom.img = (phantom.img[:,::2,::2] + phantom.img[:,1::2,::2] + phantom.img[:,::2,1::2] + phantom.img[:,1::2,1::2])/4\n",
    "im = create_mask(phantom.img[5].shape,r=5.7,radius=0.4)\n",
    "contrast_fc, CNR_fc, noise_fc = return_CNR(phantom.img[5],im)"
   ]
  },
  {
   "cell_type": "markdown",
   "metadata": {},
   "source": [
    "## Now lets look at the bcca data"
   ]
  },
  {
   "cell_type": "code",
   "execution_count": 9,
   "metadata": {},
   "outputs": [],
   "source": [
    "# np.save('no_noise_good_flat_filt_paper_draft_april',image_fc_scaled)\n",
    "# image_fc_scaled = np.load('no_noise_good_flat_filt_paper_draft_april.npy')"
   ]
  },
  {
   "cell_type": "code",
   "execution_count": 11,
   "metadata": {},
   "outputs": [
    {
     "data": {
      "application/vnd.jupyter.widget-view+json": {
       "model_id": "dd9b4b8b36ed45229fcfc0b1ec668b38",
       "version_major": 2,
       "version_minor": 0
      },
      "text/plain": [
       "Canvas(toolbar=Toolbar(toolitems=[('Home', 'Reset original view', 'home', 'home'), ('Back', 'Back to previous …"
      ]
     },
     "metadata": {},
     "output_type": "display_data"
    },
    {
     "data": {
      "application/vnd.jupyter.widget-view+json": {
       "model_id": "f8bd1b207583456ba7ccd2081208b8f1",
       "version_major": 2,
       "version_minor": 0
      },
      "text/plain": [
       "Canvas(toolbar=Toolbar(toolitems=[('Home', 'Reset original view', 'home', 'home'), ('Back', 'Back to previous …"
      ]
     },
     "metadata": {},
     "output_type": "display_data"
    },
    {
     "data": {
      "application/vnd.jupyter.widget-view+json": {
       "model_id": "8897e8e6702745f1a9ccc83ee7eba9a5",
       "version_major": 2,
       "version_minor": 0
      },
      "text/plain": [
       "Canvas(toolbar=Toolbar(toolitems=[('Home', 'Reset original view', 'home', 'home'), ('Back', 'Back to previous …"
      ]
     },
     "metadata": {},
     "output_type": "display_data"
    },
    {
     "data": {
      "text/plain": [
       "<matplotlib.image.AxesImage at 0x7f721ecb35d0>"
      ]
     },
     "execution_count": 11,
     "metadata": {},
     "output_type": "execute_result"
    }
   ],
   "source": [
    "plt.figure()\n",
    "plt.imshow(phantom.img[5],cmap='gray')\n",
    "plt.figure()\n",
    "plt.imshow(10*recon_slice,cmap='gray')\n",
    "plt.figure()\n",
    "plt.imshow(np.hstack([1/0.97*phantom.img[5],recon_slice]))"
   ]
  },
  {
   "cell_type": "code",
   "execution_count": 10,
   "metadata": {},
   "outputs": [
    {
     "name": "stdout",
     "output_type": "stream",
     "text": [
      "      fun: 0.04091852158308029\n",
      " hess_inv: array([[0.00249987, 0.00367009],\n",
      "       [0.00367009, 0.00589518]])\n",
      "      jac: array([0., 0.])\n",
      "  message: 'Optimization terminated successfully.'\n",
      "     nfev: 39\n",
      "      nit: 7\n",
      "     njev: 13\n",
      "   status: 0\n",
      "  success: True\n",
      "        x: array([-0.48887548,  0.09026158])\n"
     ]
    },
    {
     "data": {
      "application/vnd.jupyter.widget-view+json": {
       "model_id": "0d2983d0048e45fbaa2f3b95001e9d88",
       "version_major": 2,
       "version_minor": 0
      },
      "text/plain": [
       "Canvas(toolbar=Toolbar(toolitems=[('Home', 'Reset original view', 'home', 'home'), ('Back', 'Back to previous …"
      ]
     },
     "metadata": {},
     "output_type": "display_data"
    },
    {
     "name": "stdout",
     "output_type": "stream",
     "text": [
      "[2021-06-23 15:30:10,471] {font_manager.py:1334} DEBUG - findfont: Matching sans\\-serif:style=normal:variant=normal:weight=normal:stretch=normal:size=10.0.\n",
      "[2021-06-23 15:30:10,471] {font_manager.py:1346} DEBUG - findfont: score(<Font 'STIXNonUnicode' (STIXNonUniIta.ttf) italic normal 400 normal>) = 11.05\n",
      "[2021-06-23 15:30:10,472] {font_manager.py:1346} DEBUG - findfont: score(<Font 'STIXSizeOneSym' (STIXSizOneSymReg.ttf) normal normal 400 normal>) = 10.05\n",
      "[2021-06-23 15:30:10,472] {font_manager.py:1346} DEBUG - findfont: score(<Font 'STIXSizeThreeSym' (STIXSizThreeSymBol.ttf) normal normal 700 normal>) = 10.335\n",
      "[2021-06-23 15:30:10,472] {font_manager.py:1346} DEBUG - findfont: score(<Font 'DejaVu Sans Display' (DejaVuSansDisplay.ttf) normal normal 400 normal>) = 10.05\n",
      "[2021-06-23 15:30:10,473] {font_manager.py:1346} DEBUG - findfont: score(<Font 'DejaVu Sans' (DejaVuSans-Oblique.ttf) oblique normal 400 normal>) = 1.05\n",
      "[2021-06-23 15:30:10,473] {font_manager.py:1346} DEBUG - findfont: score(<Font 'STIXGeneral' (STIXGeneralBolIta.ttf) italic normal 700 normal>) = 11.335\n",
      "[2021-06-23 15:30:10,473] {font_manager.py:1346} DEBUG - findfont: score(<Font 'STIXSizeTwoSym' (STIXSizTwoSymReg.ttf) normal normal 400 normal>) = 10.05\n",
      "[2021-06-23 15:30:10,474] {font_manager.py:1346} DEBUG - findfont: score(<Font 'STIXNonUnicode' (STIXNonUni.ttf) normal normal 400 normal>) = 10.05\n",
      "[2021-06-23 15:30:10,474] {font_manager.py:1346} DEBUG - findfont: score(<Font 'DejaVu Serif Display' (DejaVuSerifDisplay.ttf) normal normal 400 normal>) = 10.05\n",
      "[2021-06-23 15:30:10,474] {font_manager.py:1346} DEBUG - findfont: score(<Font 'DejaVu Serif' (DejaVuSerif-Italic.ttf) italic normal 400 normal>) = 11.05\n",
      "[2021-06-23 15:30:10,474] {font_manager.py:1346} DEBUG - findfont: score(<Font 'STIXGeneral' (STIXGeneralItalic.ttf) italic normal 400 normal>) = 11.05\n",
      "[2021-06-23 15:30:10,475] {font_manager.py:1346} DEBUG - findfont: score(<Font 'cmr10' (cmr10.ttf) normal normal 400 normal>) = 10.05\n",
      "[2021-06-23 15:30:10,475] {font_manager.py:1346} DEBUG - findfont: score(<Font 'STIXSizeFourSym' (STIXSizFourSymReg.ttf) normal normal 400 normal>) = 10.05\n",
      "[2021-06-23 15:30:10,475] {font_manager.py:1346} DEBUG - findfont: score(<Font 'STIXSizeOneSym' (STIXSizOneSymBol.ttf) normal normal 700 normal>) = 10.335\n",
      "[2021-06-23 15:30:10,476] {font_manager.py:1346} DEBUG - findfont: score(<Font 'DejaVu Sans Mono' (DejaVuSansMono-Bold.ttf) normal normal 700 normal>) = 10.335\n",
      "[2021-06-23 15:30:10,476] {font_manager.py:1346} DEBUG - findfont: score(<Font 'cmtt10' (cmtt10.ttf) normal normal 400 normal>) = 10.05\n",
      "[2021-06-23 15:30:10,476] {font_manager.py:1346} DEBUG - findfont: score(<Font 'DejaVu Sans' (DejaVuSans-Bold.ttf) normal normal 700 normal>) = 0.33499999999999996\n",
      "[2021-06-23 15:30:10,477] {font_manager.py:1346} DEBUG - findfont: score(<Font 'STIXNonUnicode' (STIXNonUniBol.ttf) normal normal 700 normal>) = 10.335\n",
      "[2021-06-23 15:30:10,477] {font_manager.py:1346} DEBUG - findfont: score(<Font 'DejaVu Serif' (DejaVuSerif-BoldItalic.ttf) italic normal 700 normal>) = 11.335\n",
      "[2021-06-23 15:30:10,477] {font_manager.py:1346} DEBUG - findfont: score(<Font 'STIXSizeThreeSym' (STIXSizThreeSymReg.ttf) normal normal 400 normal>) = 10.05\n",
      "[2021-06-23 15:30:10,477] {font_manager.py:1346} DEBUG - findfont: score(<Font 'STIXGeneral' (STIXGeneral.ttf) normal normal 400 normal>) = 10.05\n",
      "[2021-06-23 15:30:10,478] {font_manager.py:1346} DEBUG - findfont: score(<Font 'DejaVu Serif' (DejaVuSerif-Bold.ttf) normal normal 700 normal>) = 10.335\n",
      "[2021-06-23 15:30:10,478] {font_manager.py:1346} DEBUG - findfont: score(<Font 'DejaVu Sans Mono' (DejaVuSansMono-BoldOblique.ttf) oblique normal 700 normal>) = 11.335\n",
      "[2021-06-23 15:30:10,479] {font_manager.py:1346} DEBUG - findfont: score(<Font 'DejaVu Sans Mono' (DejaVuSansMono-Oblique.ttf) oblique normal 400 normal>) = 11.05\n",
      "[2021-06-23 15:30:10,480] {font_manager.py:1346} DEBUG - findfont: score(<Font 'STIXSizeFourSym' (STIXSizFourSymBol.ttf) normal normal 700 normal>) = 10.335\n",
      "[2021-06-23 15:30:10,480] {font_manager.py:1346} DEBUG - findfont: score(<Font 'STIXSizeTwoSym' (STIXSizTwoSymBol.ttf) normal normal 700 normal>) = 10.335\n",
      "[2021-06-23 15:30:10,480] {font_manager.py:1346} DEBUG - findfont: score(<Font 'cmss10' (cmss10.ttf) normal normal 400 normal>) = 10.05\n",
      "[2021-06-23 15:30:10,481] {font_manager.py:1346} DEBUG - findfont: score(<Font 'cmb10' (cmb10.ttf) normal normal 400 normal>) = 10.05\n",
      "[2021-06-23 15:30:10,481] {font_manager.py:1346} DEBUG - findfont: score(<Font 'cmmi10' (cmmi10.ttf) normal normal 400 normal>) = 10.05\n",
      "[2021-06-23 15:30:10,481] {font_manager.py:1346} DEBUG - findfont: score(<Font 'DejaVu Sans Mono' (DejaVuSansMono.ttf) normal normal 400 normal>) = 10.05\n",
      "[2021-06-23 15:30:10,481] {font_manager.py:1346} DEBUG - findfont: score(<Font 'STIXNonUnicode' (STIXNonUniBolIta.ttf) italic normal 700 normal>) = 11.335\n",
      "[2021-06-23 15:30:10,482] {font_manager.py:1346} DEBUG - findfont: score(<Font 'STIXGeneral' (STIXGeneralBol.ttf) normal normal 700 normal>) = 10.335\n",
      "[2021-06-23 15:30:10,483] {font_manager.py:1346} DEBUG - findfont: score(<Font 'cmex10' (cmex10.ttf) normal normal 400 normal>) = 10.05\n",
      "[2021-06-23 15:30:10,483] {font_manager.py:1346} DEBUG - findfont: score(<Font 'DejaVu Sans' (DejaVuSans-BoldOblique.ttf) oblique normal 700 normal>) = 1.335\n",
      "[2021-06-23 15:30:10,483] {font_manager.py:1346} DEBUG - findfont: score(<Font 'STIXSizeFiveSym' (STIXSizFiveSymReg.ttf) normal normal 400 normal>) = 10.05\n",
      "[2021-06-23 15:30:10,483] {font_manager.py:1346} DEBUG - findfont: score(<Font 'DejaVu Sans' (DejaVuSans.ttf) normal normal 400 normal>) = 0.05\n",
      "[2021-06-23 15:30:10,484] {font_manager.py:1346} DEBUG - findfont: score(<Font 'cmsy10' (cmsy10.ttf) normal normal 400 normal>) = 10.05\n",
      "[2021-06-23 15:30:10,484] {font_manager.py:1346} DEBUG - findfont: score(<Font 'DejaVu Serif' (DejaVuSerif.ttf) normal normal 400 normal>) = 10.05\n",
      "[2021-06-23 15:30:10,485] {font_manager.py:1346} DEBUG - findfont: score(<Font 'Liberation Serif' (LiberationSerif-Regular.ttf) normal normal 400 normal>) = 10.05\n",
      "[2021-06-23 15:30:10,485] {font_manager.py:1346} DEBUG - findfont: score(<Font 'Ubuntu Mono' (UbuntuMono-R.ttf) normal normal 400 normal>) = 10.05\n",
      "[2021-06-23 15:30:10,485] {font_manager.py:1346} DEBUG - findfont: score(<Font 'padmaa' (padmaa-Medium-0.5.ttf) normal normal 500 normal>) = 10.145\n",
      "[2021-06-23 15:30:10,485] {font_manager.py:1346} DEBUG - findfont: score(<Font 'Kinnari' (Kinnari-Italic.ttf) italic normal 400 normal>) = 11.05\n",
      "[2021-06-23 15:30:10,486] {font_manager.py:1346} DEBUG - findfont: score(<Font 'Tlwg Mono' (TlwgMono-Bold.ttf) normal normal 700 normal>) = 10.335\n",
      "[2021-06-23 15:30:10,486] {font_manager.py:1346} DEBUG - findfont: score(<Font 'URW Gothic' (URWGothic-BookOblique.otf) oblique normal 400 normal>) = 11.05\n",
      "[2021-06-23 15:30:10,486] {font_manager.py:1346} DEBUG - findfont: score(<Font 'Nimbus Roman' (NimbusRoman-BoldItalic.otf) italic normal 700 normal>) = 11.335\n",
      "[2021-06-23 15:30:10,486] {font_manager.py:1346} DEBUG - findfont: score(<Font 'Gayathri' (Gayathri-Thin.otf) normal normal 100 normal>) = 10.335\n",
      "[2021-06-23 15:30:10,487] {font_manager.py:1346} DEBUG - findfont: score(<Font 'Nimbus Sans' (NimbusSans-Bold.otf) normal normal 700 normal>) = 10.335\n",
      "[2021-06-23 15:30:10,487] {font_manager.py:1346} DEBUG - findfont: score(<Font 'DejaVu Math TeX Gyre' (DejaVuMathTeXGyre.ttf) normal normal 400 normal>) = 10.05\n",
      "[2021-06-23 15:30:10,487] {font_manager.py:1346} DEBUG - findfont: score(<Font 'KacstDigital' (KacstDigital.ttf) normal normal 500 normal>) = 10.145\n",
      "[2021-06-23 15:30:10,487] {font_manager.py:1346} DEBUG - findfont: score(<Font 'FreeMono' (FreeMonoBold.ttf) normal normal 700 normal>) = 10.335\n",
      "[2021-06-23 15:30:10,488] {font_manager.py:1346} DEBUG - findfont: score(<Font 'Loma' (Loma-Bold.ttf) normal normal 700 normal>) = 10.335\n",
      "[2021-06-23 15:30:10,488] {font_manager.py:1346} DEBUG - findfont: score(<Font 'KacstOffice' (KacstOffice.ttf) normal normal 500 normal>) = 10.145\n",
      "[2021-06-23 15:30:10,488] {font_manager.py:1346} DEBUG - findfont: score(<Font 'Padauk' (Padauk-Bold.ttf) normal normal 700 normal>) = 10.335\n",
      "[2021-06-23 15:30:10,488] {font_manager.py:1346} DEBUG - findfont: score(<Font 'Padauk Book' (PadaukBook-Bold.ttf) normal normal 700 normal>) = 10.335\n",
      "[2021-06-23 15:30:10,488] {font_manager.py:1346} DEBUG - findfont: score(<Font 'Purisa' (Purisa-BoldOblique.ttf) oblique normal 700 normal>) = 11.335\n",
      "[2021-06-23 15:30:10,489] {font_manager.py:1346} DEBUG - findfont: score(<Font 'KacstOne' (KacstOne.ttf) normal normal 400 normal>) = 10.05\n",
      "[2021-06-23 15:30:10,489] {font_manager.py:1346} DEBUG - findfont: score(<Font 'Suruma' (Suruma.ttf) normal normal 500 normal>) = 10.145\n",
      "[2021-06-23 15:30:10,489] {font_manager.py:1346} DEBUG - findfont: score(<Font 'Samyak Gujarati' (Samyak-Gujarati.ttf) normal normal 500 normal>) = 10.145\n",
      "[2021-06-23 15:30:10,490] {font_manager.py:1346} DEBUG - findfont: score(<Font 'Samyak Devanagari' (Samyak-Devanagari.ttf) normal normal 500 normal>) = 10.145\n",
      "[2021-06-23 15:30:10,492] {font_manager.py:1346} DEBUG - findfont: score(<Font 'DejaVu Sans' (DejaVuSans-BoldOblique.ttf) oblique normal 700 normal>) = 1.335\n",
      "[2021-06-23 15:30:10,492] {font_manager.py:1346} DEBUG - findfont: score(<Font 'Sawasdee' (Sawasdee.ttf) normal normal 400 normal>) = 10.05\n",
      "[2021-06-23 15:30:10,492] {font_manager.py:1346} DEBUG - findfont: score(<Font 'URW Bookman' (URWBookman-Demi.otf) normal normal 600 normal>) = 10.24\n",
      "[2021-06-23 15:30:10,493] {font_manager.py:1346} DEBUG - findfont: score(<Font 'Nakula' (nakula.ttf) normal normal 400 normal>) = 10.05\n",
      "[2021-06-23 15:30:10,493] {font_manager.py:1346} DEBUG - findfont: score(<Font 'Tlwg Typo' (TlwgTypo-BoldOblique.ttf) oblique normal 700 normal>) = 11.335\n",
      "[2021-06-23 15:30:10,494] {font_manager.py:1346} DEBUG - findfont: score(<Font 'FreeMono' (FreeMono.ttf) normal normal 400 normal>) = 10.05\n",
      "[2021-06-23 15:30:10,494] {font_manager.py:1346} DEBUG - findfont: score(<Font 'Norasi' (Norasi.ttf) normal normal 400 normal>) = 10.05\n",
      "[2021-06-23 15:30:10,494] {font_manager.py:1346} DEBUG - findfont: score(<Font 'DejaVu Sans Mono' (DejaVuSansMono-Bold.ttf) normal normal 700 normal>) = 10.335\n",
      "[2021-06-23 15:30:10,495] {font_manager.py:1346} DEBUG - findfont: score(<Font 'Noto Sans CJK JP' (NotoSansCJK-Regular.ttc) normal normal 400 normal>) = 10.05\n",
      "[2021-06-23 15:30:10,495] {font_manager.py:1346} DEBUG - findfont: score(<Font 'Liberation Sans Narrow' (LiberationSansNarrow-Bold.ttf) normal normal 700 condensed>) = 10.535\n",
      "[2021-06-23 15:30:10,495] {font_manager.py:1346} DEBUG - findfont: score(<Font 'Tlwg Typist' (TlwgTypist-Bold.ttf) normal normal 700 normal>) = 10.335\n",
      "[2021-06-23 15:30:10,496] {font_manager.py:1346} DEBUG - findfont: score(<Font 'URW Bookman' (URWBookman-DemiItalic.otf) italic normal 600 normal>) = 11.24\n",
      "[2021-06-23 15:30:10,496] {font_manager.py:1346} DEBUG - findfont: score(<Font 'Gayathri' (Gayathri-Regular.otf) normal normal 400 normal>) = 10.05\n",
      "[2021-06-23 15:30:10,497] {font_manager.py:1346} DEBUG - findfont: score(<Font 'Loma' (Loma-BoldOblique.ttf) oblique normal 700 normal>) = 11.335\n",
      "[2021-06-23 15:30:10,497] {font_manager.py:1346} DEBUG - findfont: score(<Font 'Mukti Narrow' (MuktiNarrowBold.ttf) normal normal 700 normal>) = 10.335\n",
      "[2021-06-23 15:30:10,497] {font_manager.py:1346} DEBUG - findfont: score(<Font 'AnjaliOldLipi' (AnjaliOldLipi-Regular.ttf) normal normal 400 normal>) = 10.05\n",
      "[2021-06-23 15:30:10,497] {font_manager.py:1346} DEBUG - findfont: score(<Font 'DejaVu Sans' (DejaVuSansCondensed.ttf) normal normal 400 condensed>) = 0.25\n",
      "[2021-06-23 15:30:10,498] {font_manager.py:1346} DEBUG - findfont: score(<Font 'Sahadeva' (sahadeva.ttf) normal normal 400 normal>) = 10.05\n",
      "[2021-06-23 15:30:10,498] {font_manager.py:1346} DEBUG - findfont: score(<Font 'DejaVu Serif' (DejaVuSerifCondensed-BoldItalic.ttf) italic normal 700 condensed>) = 11.535\n",
      "[2021-06-23 15:30:10,498] {font_manager.py:1346} DEBUG - findfont: score(<Font 'Liberation Mono' (LiberationMono-Italic.ttf) italic normal 400 normal>) = 11.05\n",
      "[2021-06-23 15:30:10,498] {font_manager.py:1346} DEBUG - findfont: score(<Font 'Liberation Mono' (LiberationMono-Bold.ttf) normal normal 700 normal>) = 10.335\n",
      "[2021-06-23 15:30:10,499] {font_manager.py:1346} DEBUG - findfont: score(<Font 'Abyssinica SIL' (AbyssinicaSIL-Regular.ttf) normal normal 400 normal>) = 10.05\n",
      "[2021-06-23 15:30:10,499] {font_manager.py:1346} DEBUG - findfont: score(<Font 'Karumbi' (Karumbi-Regular.ttf) normal normal 400 normal>) = 10.05\n",
      "[2021-06-23 15:30:10,499] {font_manager.py:1346} DEBUG - findfont: score(<Font 'Ubuntu' (Ubuntu-B.ttf) normal normal 700 normal>) = 10.335\n",
      "[2021-06-23 15:30:10,499] {font_manager.py:1346} DEBUG - findfont: score(<Font 'Liberation Sans' (LiberationSans-Italic.ttf) italic normal 400 normal>) = 11.05\n",
      "[2021-06-23 15:30:10,500] {font_manager.py:1346} DEBUG - findfont: score(<Font 'Pagul' (Pagul.ttf) normal normal 400 normal>) = 10.05\n",
      "[2021-06-23 15:30:10,500] {font_manager.py:1346} DEBUG - findfont: score(<Font 'Waree' (Waree-Bold.ttf) normal normal 700 normal>) = 10.335\n",
      "[2021-06-23 15:30:10,501] {font_manager.py:1346} DEBUG - findfont: score(<Font 'Manjari' (Manjari-Bold.otf) normal normal 700 normal>) = 10.335\n",
      "[2021-06-23 15:30:10,502] {font_manager.py:1346} DEBUG - findfont: score(<Font 'Tlwg Mono' (TlwgMono-BoldOblique.ttf) oblique normal 700 normal>) = 11.335\n",
      "[2021-06-23 15:30:10,502] {font_manager.py:1346} DEBUG - findfont: score(<Font 'Norasi' (Norasi-Italic.ttf) italic normal 400 normal>) = 11.05\n",
      "[2021-06-23 15:30:10,502] {font_manager.py:1346} DEBUG - findfont: score(<Font 'Ubuntu' (Ubuntu-M.ttf) normal normal 500 normal>) = 10.145\n",
      "[2021-06-23 15:30:10,503] {font_manager.py:1346} DEBUG - findfont: score(<Font 'Lohit Malayalam' (Lohit-Malayalam.ttf) normal normal 400 normal>) = 10.05\n",
      "[2021-06-23 15:30:10,503] {font_manager.py:1346} DEBUG - findfont: score(<Font 'FreeSans' (FreeSansBoldOblique.ttf) oblique normal 600 normal>) = 11.24\n",
      "[2021-06-23 15:30:10,503] {font_manager.py:1346} DEBUG - findfont: score(<Font 'DejaVu Sans' (DejaVuSansCondensed-Oblique.ttf) oblique normal 400 condensed>) = 1.25\n",
      "[2021-06-23 15:30:10,503] {font_manager.py:1346} DEBUG - findfont: score(<Font 'DejaVu Sans' (DejaVuSansCondensed-BoldOblique.ttf) oblique normal 700 condensed>) = 1.535\n",
      "[2021-06-23 15:30:10,504] {font_manager.py:1346} DEBUG - findfont: score(<Font 'Liberation Sans' (LiberationSans-Regular.ttf) normal normal 400 normal>) = 10.05\n",
      "[2021-06-23 15:30:10,504] {font_manager.py:1346} DEBUG - findfont: score(<Font 'KacstDecorative' (KacstDecorative.ttf) normal normal 500 normal>) = 10.145\n",
      "[2021-06-23 15:30:10,504] {font_manager.py:1346} DEBUG - findfont: score(<Font 'Waree' (Waree-Oblique.ttf) oblique normal 400 normal>) = 11.05\n",
      "[2021-06-23 15:30:10,504] {font_manager.py:1346} DEBUG - findfont: score(<Font 'C059' (C059-Roman.otf) normal normal 400 normal>) = 10.05\n",
      "[2021-06-23 15:30:10,505] {font_manager.py:1346} DEBUG - findfont: score(<Font 'Noto Serif CJK JP' (NotoSerifCJK-Bold.ttc) normal normal 700 normal>) = 10.335\n",
      "[2021-06-23 15:30:10,505] {font_manager.py:1346} DEBUG - findfont: score(<Font 'DejaVu Sans' (DejaVuSans.ttf) normal normal 400 normal>) = 0.05\n",
      "[2021-06-23 15:30:10,505] {font_manager.py:1346} DEBUG - findfont: score(<Font 'Liberation Sans' (LiberationSans-Bold.ttf) normal normal 700 normal>) = 10.335\n",
      "[2021-06-23 15:30:10,505] {font_manager.py:1346} DEBUG - findfont: score(<Font 'Saab' (Saab.ttf) normal normal 400 normal>) = 10.05\n",
      "[2021-06-23 15:30:10,506] {font_manager.py:1346} DEBUG - findfont: score(<Font 'Tlwg Typist' (TlwgTypist-Oblique.ttf) oblique normal 400 normal>) = 11.05\n",
      "[2021-06-23 15:30:10,506] {font_manager.py:1346} DEBUG - findfont: score(<Font 'ori1Uni' (utkal.ttf) normal normal 500 normal>) = 10.145\n",
      "[2021-06-23 15:30:10,508] {font_manager.py:1346} DEBUG - findfont: score(<Font 'Tlwg Typist' (TlwgTypist.ttf) normal normal 400 normal>) = 10.05\n",
      "[2021-06-23 15:30:10,508] {font_manager.py:1346} DEBUG - findfont: score(<Font 'Loma' (Loma-Oblique.ttf) oblique normal 400 normal>) = 11.05\n",
      "[2021-06-23 15:30:10,508] {font_manager.py:1346} DEBUG - findfont: score(<Font 'DejaVu Sans' (DejaVuSans-Oblique.ttf) oblique normal 400 normal>) = 1.05\n",
      "[2021-06-23 15:30:10,508] {font_manager.py:1346} DEBUG - findfont: score(<Font 'DejaVu Serif' (DejaVuSerif-Bold.ttf) normal normal 700 normal>) = 10.335\n",
      "[2021-06-23 15:30:10,509] {font_manager.py:1346} DEBUG - findfont: score(<Font 'URW Bookman' (URWBookman-LightItalic.otf) italic normal 300 normal>) = 11.145\n",
      "[2021-06-23 15:30:10,509] {font_manager.py:1346} DEBUG - findfont: score(<Font 'OpenSymbol' (opens___.ttf) normal normal 400 normal>) = 10.05\n",
      "[2021-06-23 15:30:10,509] {font_manager.py:1346} DEBUG - findfont: score(<Font 'P052' (P052-BoldItalic.otf) italic normal 700 normal>) = 11.335\n",
      "[2021-06-23 15:30:10,510] {font_manager.py:1346} DEBUG - findfont: score(<Font 'Nimbus Mono PS' (NimbusMonoPS-BoldItalic.otf) italic normal 700 normal>) = 11.335\n",
      "[2021-06-23 15:30:10,510] {font_manager.py:1346} DEBUG - findfont: score(<Font 'Lato' (Lato-LightItalic.ttf) italic normal 300 normal>) = 11.145\n",
      "[2021-06-23 15:30:10,510] {font_manager.py:1346} DEBUG - findfont: score(<Font 'Nimbus Sans Narrow' (NimbusSansNarrow-Oblique.otf) oblique normal 400 condensed>) = 11.25\n",
      "[2021-06-23 15:30:10,511] {font_manager.py:1346} DEBUG - findfont: score(<Font 'Ani' (ani.ttf) normal normal 400 normal>) = 10.05\n",
      "[2021-06-23 15:30:10,511] {font_manager.py:1346} DEBUG - findfont: score(<Font 'Lohit Odia' (Lohit-Odia.ttf) normal normal 400 normal>) = 10.05\n",
      "[2021-06-23 15:30:10,511] {font_manager.py:1346} DEBUG - findfont: score(<Font 'Liberation Serif' (LiberationSerif-BoldItalic.ttf) italic normal 700 normal>) = 11.335\n",
      "[2021-06-23 15:30:10,512] {font_manager.py:1346} DEBUG - findfont: score(<Font 'Ubuntu' (Ubuntu-R.ttf) normal normal 400 normal>) = 10.05\n",
      "[2021-06-23 15:30:10,512] {font_manager.py:1346} DEBUG - findfont: score(<Font 'Lato' (Lato-Black.ttf) normal normal 900 normal>) = 10.525\n",
      "[2021-06-23 15:30:10,512] {font_manager.py:1346} DEBUG - findfont: score(<Font 'Yrsa' (Yrsa-Regular.ttf) normal normal 400 normal>) = 10.05\n",
      "[2021-06-23 15:30:10,514] {font_manager.py:1346} DEBUG - findfont: score(<Font 'P052' (P052-Roman.otf) normal normal 400 normal>) = 10.05\n",
      "[2021-06-23 15:30:10,514] {font_manager.py:1346} DEBUG - findfont: score(<Font 'DejaVu Sans Mono' (DejaVuSansMono.ttf) normal normal 400 normal>) = 10.05\n",
      "[2021-06-23 15:30:10,514] {font_manager.py:1346} DEBUG - findfont: score(<Font 'Noto Mono' (NotoMono-Regular.ttf) normal normal 400 normal>) = 10.05\n",
      "[2021-06-23 15:30:10,515] {font_manager.py:1346} DEBUG - findfont: score(<Font 'DejaVu Sans' (DejaVuSansCondensed-Bold.ttf) normal normal 700 condensed>) = 0.5349999999999999\n",
      "[2021-06-23 15:30:10,515] {font_manager.py:1346} DEBUG - findfont: score(<Font 'Lato' (Lato-Italic.ttf) italic normal 400 normal>) = 11.05\n",
      "[2021-06-23 15:30:10,516] {font_manager.py:1346} DEBUG - findfont: score(<Font 'Lato' (Lato-SemiboldItalic.ttf) italic normal 600 normal>) = 11.24\n",
      "[2021-06-23 15:30:10,517] {font_manager.py:1346} DEBUG - findfont: score(<Font 'RaghuMalayalamSans' (RaghuMalayalamSans-Regular.ttf) normal normal 400 normal>) = 10.05\n",
      "[2021-06-23 15:30:10,517] {font_manager.py:1346} DEBUG - findfont: score(<Font 'Yrsa' (Yrsa-Light.ttf) normal normal 300 normal>) = 10.145\n",
      "[2021-06-23 15:30:10,518] {font_manager.py:1346} DEBUG - findfont: score(<Font 'Lohit Kannada' (Lohit-Kannada.ttf) normal normal 400 normal>) = 10.05\n",
      "[2021-06-23 15:30:10,518] {font_manager.py:1346} DEBUG - findfont: score(<Font 'Standard Symbols PS' (StandardSymbolsPS.otf) normal normal 400 normal>) = 10.05\n",
      "[2021-06-23 15:30:10,519] {font_manager.py:1346} DEBUG - findfont: score(<Font 'Norasi' (Norasi-BoldItalic.ttf) italic normal 700 normal>) = 11.335\n",
      "[2021-06-23 15:30:10,519] {font_manager.py:1346} DEBUG - findfont: score(<Font 'Samyak Tamil' (Samyak-Tamil.ttf) normal normal 500 normal>) = 10.145\n",
      "[2021-06-23 15:30:10,519] {font_manager.py:1346} DEBUG - findfont: score(<Font 'Gayathri' (Gayathri-Bold.otf) normal normal 700 normal>) = 10.335\n",
      "[2021-06-23 15:30:10,520] {font_manager.py:1346} DEBUG - findfont: score(<Font 'Nimbus Mono PS' (NimbusMonoPS-Italic.otf) italic normal 400 normal>) = 11.05\n",
      "[2021-06-23 15:30:10,520] {font_manager.py:1346} DEBUG - findfont: score(<Font 'Umpush' (Umpush-BoldOblique.ttf) oblique normal 700 normal>) = 11.335\n",
      "[2021-06-23 15:30:10,520] {font_manager.py:1346} DEBUG - findfont: score(<Font 'Lato' (Lato-Heavy.ttf) normal normal 800 normal>) = 10.43\n",
      "[2021-06-23 15:30:10,520] {font_manager.py:1346} DEBUG - findfont: score(<Font 'Lato' (Lato-Medium.ttf) normal normal 500 normal>) = 10.145\n",
      "[2021-06-23 15:30:10,521] {font_manager.py:1346} DEBUG - findfont: score(<Font 'Sawasdee' (Sawasdee-Bold.ttf) normal normal 700 normal>) = 10.335\n",
      "[2021-06-23 15:30:10,521] {font_manager.py:1346} DEBUG - findfont: score(<Font 'Noto Sans CJK JP' (NotoSansCJK-Bold.ttc) normal normal 700 normal>) = 10.335\n",
      "[2021-06-23 15:30:10,521] {font_manager.py:1346} DEBUG - findfont: score(<Font 'Nimbus Sans' (NimbusSans-Regular.otf) normal normal 400 normal>) = 10.05\n",
      "[2021-06-23 15:30:10,522] {font_manager.py:1346} DEBUG - findfont: score(<Font 'Umpush' (Umpush.ttf) normal normal 400 normal>) = 10.05\n",
      "[2021-06-23 15:30:10,522] {font_manager.py:1346} DEBUG - findfont: score(<Font 'Gubbi' (Gubbi.ttf) normal normal 400 normal>) = 10.05\n",
      "[2021-06-23 15:30:10,522] {font_manager.py:1346} DEBUG - findfont: score(<Font 'Laksaman' (Laksaman-Bold.ttf) normal normal 700 normal>) = 10.335\n",
      "[2021-06-23 15:30:10,524] {font_manager.py:1346} DEBUG - findfont: score(<Font 'Yrsa' (Yrsa-Bold.ttf) normal normal 700 normal>) = 10.335\n",
      "[2021-06-23 15:30:10,524] {font_manager.py:1346} DEBUG - findfont: score(<Font 'Laksaman' (Laksaman.ttf) normal normal 400 normal>) = 10.05\n",
      "[2021-06-23 15:30:10,524] {font_manager.py:1346} DEBUG - findfont: score(<Font 'Ubuntu Mono' (UbuntuMono-BI.ttf) italic normal 700 normal>) = 11.335\n",
      "[2021-06-23 15:30:10,525] {font_manager.py:1346} DEBUG - findfont: score(<Font 'Tibetan Machine Uni' (TibetanMachineUni.ttf) normal normal 400 normal>) = 10.05\n",
      "[2021-06-23 15:30:10,525] {font_manager.py:1346} DEBUG - findfont: score(<Font 'KacstTitle' (KacstTitle.ttf) normal normal 500 normal>) = 10.145\n",
      "[2021-06-23 15:30:10,525] {font_manager.py:1346} DEBUG - findfont: score(<Font 'mry_KacstQurn' (mry_KacstQurn.ttf) normal normal 400 normal>) = 10.05\n",
      "[2021-06-23 15:30:10,526] {font_manager.py:1346} DEBUG - findfont: score(<Font 'KacstPen' (KacstPen.ttf) normal normal 500 normal>) = 10.145\n",
      "[2021-06-23 15:30:10,526] {font_manager.py:1346} DEBUG - findfont: score(<Font 'Garuda' (Garuda-BoldOblique.ttf) oblique normal 700 normal>) = 11.335\n",
      "[2021-06-23 15:30:10,526] {font_manager.py:1346} DEBUG - findfont: score(<Font 'Liberation Sans' (LiberationSans-Bold.ttf) normal normal 700 normal>) = 10.335\n",
      "[2021-06-23 15:30:10,527] {font_manager.py:1346} DEBUG - findfont: score(<Font 'FreeSerif' (FreeSerifBold.ttf) normal normal 700 normal>) = 10.335\n",
      "[2021-06-23 15:30:10,527] {font_manager.py:1346} DEBUG - findfont: score(<Font 'Droid Sans Fallback' (DroidSansFallbackFull.ttf) normal normal 400 normal>) = 10.05\n",
      "[2021-06-23 15:30:10,528] {font_manager.py:1346} DEBUG - findfont: score(<Font 'FreeSans' (FreeSans.ttf) normal normal 400 normal>) = 10.05\n",
      "[2021-06-23 15:30:10,528] {font_manager.py:1346} DEBUG - findfont: score(<Font 'KacstFarsi' (KacstFarsi.ttf) normal normal 500 normal>) = 10.145\n",
      "[2021-06-23 15:30:10,528] {font_manager.py:1346} DEBUG - findfont: score(<Font 'Tlwg Typist' (TlwgTypist-BoldOblique.ttf) oblique normal 700 normal>) = 11.335\n",
      "[2021-06-23 15:30:10,529] {font_manager.py:1346} DEBUG - findfont: score(<Font 'Liberation Mono' (LiberationMono-BoldItalic.ttf) italic normal 700 normal>) = 11.335\n",
      "[2021-06-23 15:30:10,529] {font_manager.py:1346} DEBUG - findfont: score(<Font 'Tlwg Typo' (TlwgTypo-Oblique.ttf) oblique normal 400 normal>) = 11.05\n",
      "[2021-06-23 15:30:10,530] {font_manager.py:1346} DEBUG - findfont: score(<Font 'Keraleeyam' (Keraleeyam-Regular.ttf) normal normal 400 normal>) = 10.05\n",
      "[2021-06-23 15:30:10,530] {font_manager.py:1346} DEBUG - findfont: score(<Font 'Liberation Mono' (LiberationMono-Bold.ttf) normal normal 700 normal>) = 10.335\n",
      "[2021-06-23 15:30:10,530] {font_manager.py:1346} DEBUG - findfont: score(<Font 'Manjari' (Manjari-Regular.otf) normal normal 400 normal>) = 10.05\n",
      "[2021-06-23 15:30:10,530] {font_manager.py:1346} DEBUG - findfont: score(<Font 'Noto Serif CJK JP' (NotoSerifCJK-Regular.ttc) normal normal 400 normal>) = 10.05\n",
      "[2021-06-23 15:30:10,531] {font_manager.py:1346} DEBUG - findfont: score(<Font 'Liberation Serif' (LiberationSerif-Italic.ttf) italic normal 400 normal>) = 11.05\n",
      "[2021-06-23 15:30:10,531] {font_manager.py:1346} DEBUG - findfont: score(<Font 'Lohit Gujarati' (Lohit-Gujarati.ttf) normal normal 400 normal>) = 10.05\n",
      "[2021-06-23 15:30:10,531] {font_manager.py:1346} DEBUG - findfont: score(<Font 'Lohit Tamil Classical' (Lohit-Tamil-Classical.ttf) normal normal 400 normal>) = 10.05\n",
      "[2021-06-23 15:30:10,531] {font_manager.py:1346} DEBUG - findfont: score(<Font 'Tlwg Typewriter' (TlwgTypewriter.ttf) normal normal 400 normal>) = 10.05\n",
      "[2021-06-23 15:30:10,532] {font_manager.py:1346} DEBUG - findfont: score(<Font 'Liberation Sans' (LiberationSans-BoldItalic.ttf) italic normal 700 normal>) = 11.335\n",
      "[2021-06-23 15:30:10,533] {font_manager.py:1346} DEBUG - findfont: score(<Font 'URW Gothic' (URWGothic-DemiOblique.otf) oblique normal 600 normal>) = 11.24\n",
      "[2021-06-23 15:30:10,534] {font_manager.py:1346} DEBUG - findfont: score(<Font 'Quicksand' (Quicksand-Bold.ttf) normal normal 700 normal>) = 10.335\n",
      "[2021-06-23 15:30:10,534] {font_manager.py:1346} DEBUG - findfont: score(<Font 'Rasa' (Rasa-Medium.ttf) normal normal 500 normal>) = 10.145\n",
      "[2021-06-23 15:30:10,534] {font_manager.py:1346} DEBUG - findfont: score(<Font 'Liberation Sans' (LiberationSans-BoldItalic.ttf) italic normal 700 normal>) = 11.335\n",
      "[2021-06-23 15:30:10,535] {font_manager.py:1346} DEBUG - findfont: score(<Font 'Yrsa' (Yrsa-Medium.ttf) normal normal 500 normal>) = 10.145\n",
      "[2021-06-23 15:30:10,535] {font_manager.py:1346} DEBUG - findfont: score(<Font 'Lato' (Lato-Semibold.ttf) normal normal 600 normal>) = 10.24\n",
      "[2021-06-23 15:30:10,535] {font_manager.py:1346} DEBUG - findfont: score(<Font 'Liberation Serif' (LiberationSerif-Italic.ttf) italic normal 400 normal>) = 11.05\n",
      "[2021-06-23 15:30:10,536] {font_manager.py:1346} DEBUG - findfont: score(<Font 'Ubuntu' (Ubuntu-L.ttf) normal normal 300 normal>) = 10.145\n",
      "[2021-06-23 15:30:10,536] {font_manager.py:1346} DEBUG - findfont: score(<Font 'Sawasdee' (Sawasdee-Oblique.ttf) oblique normal 400 normal>) = 11.05\n",
      "[2021-06-23 15:30:10,536] {font_manager.py:1346} DEBUG - findfont: score(<Font 'Quicksand' (Quicksand-Regular.ttf) normal normal 400 normal>) = 10.05\n",
      "[2021-06-23 15:30:10,536] {font_manager.py:1346} DEBUG - findfont: score(<Font 'Sarai' (Sarai.ttf) normal normal 400 normal>) = 10.05\n",
      "[2021-06-23 15:30:10,537] {font_manager.py:1346} DEBUG - findfont: score(<Font 'Kinnari' (Kinnari-BoldItalic.ttf) italic normal 700 normal>) = 11.335\n",
      "[2021-06-23 15:30:10,537] {font_manager.py:1346} DEBUG - findfont: score(<Font 'Liberation Sans Narrow' (LiberationSansNarrow-BoldItalic.ttf) italic normal 700 condensed>) = 11.535\n",
      "[2021-06-23 15:30:10,537] {font_manager.py:1346} DEBUG - findfont: score(<Font 'Rasa' (Rasa-SemiBold.ttf) normal normal 600 normal>) = 10.24\n",
      "[2021-06-23 15:30:10,537] {font_manager.py:1346} DEBUG - findfont: score(<Font 'LKLUG' (lklug.ttf) normal normal 400 normal>) = 10.05\n",
      "[2021-06-23 15:30:10,537] {font_manager.py:1346} DEBUG - findfont: score(<Font 'Lohit Bengali' (Lohit-Bengali.ttf) normal normal 400 normal>) = 10.05\n",
      "[2021-06-23 15:30:10,538] {font_manager.py:1346} DEBUG - findfont: score(<Font 'Ubuntu' (Ubuntu-MI.ttf) italic normal 500 normal>) = 11.145\n",
      "[2021-06-23 15:30:10,538] {font_manager.py:1346} DEBUG - findfont: score(<Font 'Kalapi' (Kalapi.ttf) normal normal 400 normal>) = 10.05\n",
      "[2021-06-23 15:30:10,538] {font_manager.py:1346} DEBUG - findfont: score(<Font 'Rachana' (Rachana-Regular.ttf) normal normal 400 normal>) = 10.05\n",
      "[2021-06-23 15:30:10,539] {font_manager.py:1346} DEBUG - findfont: score(<Font 'Rekha' (Rekha.ttf) normal normal 500 normal>) = 10.145\n",
      "[2021-06-23 15:30:10,539] {font_manager.py:1346} DEBUG - findfont: score(<Font 'Ubuntu Mono' (UbuntuMono-B.ttf) normal normal 700 normal>) = 10.335\n",
      "[2021-06-23 15:30:10,539] {font_manager.py:1346} DEBUG - findfont: score(<Font 'Sawasdee' (Sawasdee-BoldOblique.ttf) oblique normal 700 normal>) = 11.335\n",
      "[2021-06-23 15:30:10,539] {font_manager.py:1346} DEBUG - findfont: score(<Font 'Waree' (Waree.ttf) normal normal 400 normal>) = 10.05\n",
      "[2021-06-23 15:30:10,539] {font_manager.py:1346} DEBUG - findfont: score(<Font 'Purisa' (Purisa-Oblique.ttf) oblique normal 400 normal>) = 11.05\n",
      "[2021-06-23 15:30:10,540] {font_manager.py:1346} DEBUG - findfont: score(<Font 'URW Gothic' (URWGothic-Book.otf) normal normal 400 normal>) = 10.05\n",
      "[2021-06-23 15:30:10,540] {font_manager.py:1346} DEBUG - findfont: score(<Font 'Ubuntu' (Ubuntu-Th.ttf) normal normal 250 normal>) = 10.1925\n",
      "[2021-06-23 15:30:10,540] {font_manager.py:1346} DEBUG - findfont: score(<Font 'Samanata' (samanata.ttf) normal normal 400 normal>) = 10.05\n",
      "[2021-06-23 15:30:10,541] {font_manager.py:1346} DEBUG - findfont: score(<Font 'Uroob' (Uroob-Regular.ttf) normal normal 400 normal>) = 10.05\n",
      "[2021-06-23 15:30:10,541] {font_manager.py:1346} DEBUG - findfont: score(<Font 'Chilanka' (Chilanka-Regular.otf) normal normal 400 normal>) = 10.05\n",
      "[2021-06-23 15:30:10,541] {font_manager.py:1346} DEBUG - findfont: score(<Font 'DejaVu Serif' (DejaVuSerifCondensed-Italic.ttf) italic normal 400 condensed>) = 11.25\n",
      "[2021-06-23 15:30:10,541] {font_manager.py:1346} DEBUG - findfont: score(<Font 'Pothana2000' (Pothana2000.ttf) normal normal 400 normal>) = 10.05\n",
      "[2021-06-23 15:30:10,542] {font_manager.py:1346} DEBUG - findfont: score(<Font 'Lohit Telugu' (Lohit-Telugu.ttf) normal normal 400 normal>) = 10.05\n",
      "[2021-06-23 15:30:10,542] {font_manager.py:1346} DEBUG - findfont: score(<Font 'Garuda' (Garuda-Bold.ttf) normal normal 700 normal>) = 10.335\n",
      "[2021-06-23 15:30:10,542] {font_manager.py:1346} DEBUG - findfont: score(<Font 'P052' (P052-Italic.otf) italic normal 400 normal>) = 11.05\n",
      "[2021-06-23 15:30:10,542] {font_manager.py:1346} DEBUG - findfont: score(<Font 'DejaVu Serif' (DejaVuSerif-Italic.ttf) italic normal 400 normal>) = 11.05\n",
      "[2021-06-23 15:30:10,543] {font_manager.py:1346} DEBUG - findfont: score(<Font 'KacstScreen' (KacstScreen.ttf) normal normal 500 normal>) = 10.145\n",
      "[2021-06-23 15:30:10,543] {font_manager.py:1346} DEBUG - findfont: score(<Font 'Lato' (Lato-HairlineItalic.ttf) italic normal 100 normal>) = 11.335\n",
      "[2021-06-23 15:30:10,543] {font_manager.py:1346} DEBUG - findfont: score(<Font 'Umpush' (Umpush-LightOblique.ttf) oblique normal 300 normal>) = 11.145\n",
      "[2021-06-23 15:30:10,543] {font_manager.py:1346} DEBUG - findfont: score(<Font 'FreeSans' (FreeSansOblique.ttf) oblique normal 400 normal>) = 11.05\n",
      "[2021-06-23 15:30:10,544] {font_manager.py:1346} DEBUG - findfont: score(<Font 'Nimbus Roman' (NimbusRoman-Regular.otf) normal normal 400 normal>) = 10.05\n",
      "[2021-06-23 15:30:10,544] {font_manager.py:1346} DEBUG - findfont: score(<Font 'C059' (C059-BdIta.otf) italic normal 700 normal>) = 11.335\n",
      "[2021-06-23 15:30:10,544] {font_manager.py:1346} DEBUG - findfont: score(<Font 'FreeMono' (FreeMonoBoldOblique.ttf) oblique normal 700 normal>) = 11.335\n",
      "[2021-06-23 15:30:10,547] {font_manager.py:1346} DEBUG - findfont: score(<Font 'Liberation Serif' (LiberationSerif-BoldItalic.ttf) italic normal 700 normal>) = 11.335\n",
      "[2021-06-23 15:30:10,548] {font_manager.py:1346} DEBUG - findfont: score(<Font 'Tlwg Typo' (TlwgTypo-Bold.ttf) normal normal 700 normal>) = 10.335\n",
      "[2021-06-23 15:30:10,548] {font_manager.py:1346} DEBUG - findfont: score(<Font 'Liberation Mono' (LiberationMono-BoldItalic.ttf) italic normal 700 normal>) = 11.335\n",
      "[2021-06-23 15:30:10,548] {font_manager.py:1346} DEBUG - findfont: score(<Font 'Liberation Sans' (LiberationSans-Italic.ttf) italic normal 400 normal>) = 11.05\n",
      "[2021-06-23 15:30:10,549] {font_manager.py:1346} DEBUG - findfont: score(<Font 'Liberation Sans Narrow' (LiberationSansNarrow-Italic.ttf) italic normal 400 condensed>) = 11.25\n",
      "[2021-06-23 15:30:10,549] {font_manager.py:1346} DEBUG - findfont: score(<Font 'Umpush' (Umpush-Light.ttf) normal normal 300 normal>) = 10.145\n",
      "[2021-06-23 15:30:10,550] {font_manager.py:1346} DEBUG - findfont: score(<Font 'D050000L' (D050000L.otf) normal normal 400 normal>) = 10.05\n",
      "[2021-06-23 15:30:10,550] {font_manager.py:1346} DEBUG - findfont: score(<Font 'Laksaman' (Laksaman-Italic.ttf) italic normal 400 normal>) = 11.05\n",
      "[2021-06-23 15:30:10,551] {font_manager.py:1346} DEBUG - findfont: score(<Font 'KacstArt' (KacstArt.ttf) normal normal 500 normal>) = 10.145\n",
      "[2021-06-23 15:30:10,551] {font_manager.py:1346} DEBUG - findfont: score(<Font 'Quicksand Medium' (Quicksand-Medium.ttf) normal normal 500 normal>) = 10.145\n",
      "[2021-06-23 15:30:10,551] {font_manager.py:1346} DEBUG - findfont: score(<Font 'padmaa' (padmaa.ttf) normal normal 500 normal>) = 10.145\n",
      "[2021-06-23 15:30:10,552] {font_manager.py:1346} DEBUG - findfont: score(<Font 'Lato' (Lato-Hairline.ttf) normal normal 100 normal>) = 10.335\n",
      "[2021-06-23 15:30:10,552] {font_manager.py:1346} DEBUG - findfont: score(<Font 'Ubuntu' (Ubuntu-LI.ttf) italic normal 300 normal>) = 11.145\n",
      "[2021-06-23 15:30:10,552] {font_manager.py:1346} DEBUG - findfont: score(<Font 'DejaVu Serif' (DejaVuSerifCondensed.ttf) normal normal 400 condensed>) = 10.25\n",
      "[2021-06-23 15:30:10,552] {font_manager.py:1346} DEBUG - findfont: score(<Font 'Lohit Assamese' (Lohit-Assamese.ttf) normal normal 400 normal>) = 10.05\n",
      "[2021-06-23 15:30:10,553] {font_manager.py:1346} DEBUG - findfont: score(<Font 'Nimbus Mono PS' (NimbusMonoPS-Bold.otf) normal normal 700 normal>) = 10.335\n",
      "[2021-06-23 15:30:10,553] {font_manager.py:1346} DEBUG - findfont: score(<Font 'FreeSerif' (FreeSerifItalic.ttf) italic normal 400 normal>) = 11.05\n",
      "[2021-06-23 15:30:10,553] {font_manager.py:1346} DEBUG - findfont: score(<Font 'Lato' (Lato-BoldItalic.ttf) italic normal 700 normal>) = 11.335\n",
      "[2021-06-23 15:30:10,554] {font_manager.py:1346} DEBUG - findfont: score(<Font 'FreeSerif' (FreeSerif.ttf) normal normal 400 normal>) = 10.05\n",
      "[2021-06-23 15:30:10,554] {font_manager.py:1346} DEBUG - findfont: score(<Font 'Nimbus Sans' (NimbusSans-Italic.otf) italic normal 400 normal>) = 11.05\n",
      "[2021-06-23 15:30:10,555] {font_manager.py:1346} DEBUG - findfont: score(<Font 'Garuda' (Garuda-Oblique.ttf) oblique normal 400 normal>) = 11.05\n",
      "[2021-06-23 15:30:10,555] {font_manager.py:1346} DEBUG - findfont: score(<Font 'Meera' (Meera-Regular.ttf) normal normal 400 normal>) = 10.05\n",
      "[2021-06-23 15:30:10,555] {font_manager.py:1346} DEBUG - findfont: score(<Font 'Likhan' (LikhanNormal.ttf) normal normal 500 normal>) = 10.145\n",
      "[2021-06-23 15:30:10,556] {font_manager.py:1346} DEBUG - findfont: score(<Font 'KacstPoster' (KacstPoster.ttf) normal normal 500 normal>) = 10.145\n",
      "[2021-06-23 15:30:10,557] {font_manager.py:1346} DEBUG - findfont: score(<Font 'Padauk Book' (PadaukBook-Regular.ttf) normal normal 400 normal>) = 10.05\n",
      "[2021-06-23 15:30:10,557] {font_manager.py:1346} DEBUG - findfont: score(<Font 'Purisa' (Purisa-Bold.ttf) normal normal 700 normal>) = 10.335\n",
      "[2021-06-23 15:30:10,558] {font_manager.py:1346} DEBUG - findfont: score(<Font 'Quicksand Light' (Quicksand-Light.ttf) normal normal 300 normal>) = 10.145\n",
      "[2021-06-23 15:30:10,558] {font_manager.py:1346} DEBUG - findfont: score(<Font 'Liberation Mono' (LiberationMono-Regular.ttf) normal normal 400 normal>) = 10.05\n",
      "[2021-06-23 15:30:10,558] {font_manager.py:1346} DEBUG - findfont: score(<Font 'KacstQurn' (KacstQurn.ttf) normal normal 400 normal>) = 10.05\n",
      "[2021-06-23 15:30:10,559] {font_manager.py:1346} DEBUG - findfont: score(<Font 'Lato' (Lato-Thin.ttf) normal normal 200 normal>) = 10.24\n",
      "[2021-06-23 15:30:10,559] {font_manager.py:1346} DEBUG - findfont: score(<Font 'Ubuntu Condensed' (Ubuntu-C.ttf) normal normal 400 condensed>) = 10.25\n",
      "[2021-06-23 15:30:10,559] {font_manager.py:1346} DEBUG - findfont: score(<Font 'Garuda' (Garuda.ttf) normal normal 400 normal>) = 10.05\n",
      "[2021-06-23 15:30:10,560] {font_manager.py:1346} DEBUG - findfont: score(<Font 'C059' (C059-Italic.otf) italic normal 400 normal>) = 11.05\n",
      "[2021-06-23 15:30:10,560] {font_manager.py:1346} DEBUG - findfont: score(<Font 'Khmer OS System' (KhmerOSsys.ttf) normal normal 400 normal>) = 10.05\n",
      "[2021-06-23 15:30:10,560] {font_manager.py:1346} DEBUG - findfont: score(<Font 'Manjari' (Manjari-Thin.otf) normal normal 100 normal>) = 10.335\n",
      "[2021-06-23 15:30:10,561] {font_manager.py:1346} DEBUG - findfont: score(<Font 'Mitra Mono' (mitra.ttf) normal normal 400 normal>) = 10.05\n",
      "[2021-06-23 15:30:10,561] {font_manager.py:1346} DEBUG - findfont: score(<Font 'Vemana2000' (vemana2000.ttf) normal normal 400 normal>) = 10.05\n",
      "[2021-06-23 15:30:10,562] {font_manager.py:1346} DEBUG - findfont: score(<Font 'Norasi' (Norasi-BoldOblique.ttf) oblique normal 700 normal>) = 11.335\n",
      "[2021-06-23 15:30:10,562] {font_manager.py:1346} DEBUG - findfont: score(<Font 'Dyuthi' (Dyuthi-Regular.ttf) normal normal 400 normal>) = 10.05\n",
      "[2021-06-23 15:30:10,563] {font_manager.py:1346} DEBUG - findfont: score(<Font 'Kinnari' (Kinnari-Oblique.ttf) oblique normal 400 normal>) = 11.05\n",
      "[2021-06-23 15:30:10,563] {font_manager.py:1346} DEBUG - findfont: score(<Font 'Waree' (Waree-BoldOblique.ttf) oblique normal 700 normal>) = 11.335\n",
      "[2021-06-23 15:30:10,563] {font_manager.py:1346} DEBUG - findfont: score(<Font 'Lato' (Lato-BlackItalic.ttf) italic normal 900 normal>) = 11.525\n",
      "[2021-06-23 15:30:10,564] {font_manager.py:1346} DEBUG - findfont: score(<Font 'Lato' (Lato-Regular.ttf) normal normal 400 normal>) = 10.05\n",
      "[2021-06-23 15:30:10,564] {font_manager.py:1346} DEBUG - findfont: score(<Font 'DejaVu Serif' (DejaVuSerif.ttf) normal normal 400 normal>) = 10.05\n",
      "[2021-06-23 15:30:10,564] {font_manager.py:1346} DEBUG - findfont: score(<Font 'URW Gothic' (URWGothic-Demi.otf) normal normal 600 normal>) = 10.24\n",
      "[2021-06-23 15:30:10,564] {font_manager.py:1346} DEBUG - findfont: score(<Font 'Liberation Serif' (LiberationSerif-Bold.ttf) normal normal 700 normal>) = 10.335\n",
      "[2021-06-23 15:30:10,565] {font_manager.py:1346} DEBUG - findfont: score(<Font 'Z003' (Z003-MediumItalic.otf) italic normal 500 normal>) = 11.145\n",
      "[2021-06-23 15:30:10,565] {font_manager.py:1346} DEBUG - findfont: score(<Font 'Lohit Tamil' (Lohit-Tamil.ttf) normal normal 400 normal>) = 10.05\n",
      "[2021-06-23 15:30:10,565] {font_manager.py:1346} DEBUG - findfont: score(<Font 'Liberation Serif' (LiberationSerif-Bold.ttf) normal normal 700 normal>) = 10.335\n",
      "[2021-06-23 15:30:10,566] {font_manager.py:1346} DEBUG - findfont: score(<Font 'Umpush' (Umpush-Bold.ttf) normal normal 700 normal>) = 10.335\n",
      "[2021-06-23 15:30:10,566] {font_manager.py:1346} DEBUG - findfont: score(<Font 'Lohit Gurmukhi' (Lohit-Gurmukhi.ttf) normal normal 400 normal>) = 10.05\n",
      "[2021-06-23 15:30:10,567] {font_manager.py:1346} DEBUG - findfont: score(<Font 'Yrsa' (Yrsa-SemiBold.ttf) normal normal 600 normal>) = 10.24\n",
      "[2021-06-23 15:30:10,567] {font_manager.py:1346} DEBUG - findfont: score(<Font 'DejaVu Sans Mono' (DejaVuSansMono-BoldOblique.ttf) oblique normal 700 normal>) = 11.335\n",
      "[2021-06-23 15:30:10,567] {font_manager.py:1346} DEBUG - findfont: score(<Font 'KacstNaskh' (KacstNaskh.ttf) normal normal 500 normal>) = 10.145\n",
      "[2021-06-23 15:30:10,568] {font_manager.py:1346} DEBUG - findfont: score(<Font 'P052' (P052-Bold.otf) normal normal 700 normal>) = 10.335\n",
      "[2021-06-23 15:30:10,568] {font_manager.py:1346} DEBUG - findfont: score(<Font 'Rasa' (Rasa-Light.ttf) normal normal 300 normal>) = 10.145\n",
      "[2021-06-23 15:30:10,570] {font_manager.py:1346} DEBUG - findfont: score(<Font 'Khmer OS' (KhmerOS.ttf) normal normal 400 normal>) = 10.05\n",
      "[2021-06-23 15:30:10,570] {font_manager.py:1346} DEBUG - findfont: score(<Font 'Nimbus Sans Narrow' (NimbusSansNarrow-BoldOblique.otf) oblique normal 700 condensed>) = 11.535\n",
      "[2021-06-23 15:30:10,570] {font_manager.py:1346} DEBUG - findfont: score(<Font 'Norasi' (Norasi-Oblique.ttf) oblique normal 400 normal>) = 11.05\n",
      "[2021-06-23 15:30:10,571] {font_manager.py:1346} DEBUG - findfont: score(<Font 'Liberation Mono' (LiberationMono-Regular.ttf) normal normal 400 normal>) = 10.05\n",
      "[2021-06-23 15:30:10,571] {font_manager.py:1346} DEBUG - findfont: score(<Font 'FreeSerif' (FreeSerifBoldItalic.ttf) italic normal 700 normal>) = 11.335\n",
      "[2021-06-23 15:30:10,571] {font_manager.py:1346} DEBUG - findfont: score(<Font 'Liberation Sans Narrow' (LiberationSansNarrow-Regular.ttf) normal normal 400 condensed>) = 10.25\n",
      "[2021-06-23 15:30:10,571] {font_manager.py:1346} DEBUG - findfont: score(<Font 'Tlwg Typewriter' (TlwgTypewriter-Bold.ttf) normal normal 700 normal>) = 10.335\n",
      "[2021-06-23 15:30:10,572] {font_manager.py:1346} DEBUG - findfont: score(<Font 'DejaVu Sans' (DejaVuSans-ExtraLight.ttf) normal normal 200 normal>) = 0.24\n",
      "[2021-06-23 15:30:10,572] {font_manager.py:1346} DEBUG - findfont: score(<Font 'Rachana' (Rachana-Bold.ttf) normal normal 700 normal>) = 10.335\n",
      "[2021-06-23 15:30:10,573] {font_manager.py:1346} DEBUG - findfont: score(<Font 'Mukti Narrow' (MuktiNarrow.ttf) normal normal 400 normal>) = 10.05\n",
      "[2021-06-23 15:30:10,574] {font_manager.py:1346} DEBUG - findfont: score(<Font 'KacstBook' (KacstBook.ttf) normal normal 500 normal>) = 10.145\n",
      "[2021-06-23 15:30:10,574] {font_manager.py:1346} DEBUG - findfont: score(<Font 'Nimbus Sans Narrow' (NimbusSansNarrow-Regular.otf) normal normal 400 condensed>) = 10.25\n",
      "[2021-06-23 15:30:10,574] {font_manager.py:1346} DEBUG - findfont: score(<Font 'Ubuntu Mono' (UbuntuMono-RI.ttf) italic normal 400 normal>) = 11.05\n",
      "[2021-06-23 15:30:10,575] {font_manager.py:1346} DEBUG - findfont: score(<Font 'Kinnari' (Kinnari-BoldOblique.ttf) oblique normal 700 normal>) = 11.335\n",
      "[2021-06-23 15:30:10,575] {font_manager.py:1346} DEBUG - findfont: score(<Font 'Lato' (Lato-Bold.ttf) normal normal 700 normal>) = 10.335\n",
      "[2021-06-23 15:30:10,576] {font_manager.py:1346} DEBUG - findfont: score(<Font 'Padauk' (Padauk-Regular.ttf) normal normal 400 normal>) = 10.05\n",
      "[2021-06-23 15:30:10,576] {font_manager.py:1346} DEBUG - findfont: score(<Font 'Tlwg Mono' (TlwgMono-Oblique.ttf) oblique normal 400 normal>) = 11.05\n",
      "[2021-06-23 15:30:10,576] {font_manager.py:1346} DEBUG - findfont: score(<Font 'Purisa' (Purisa.ttf) normal normal 400 normal>) = 10.05\n",
      "[2021-06-23 15:30:10,577] {font_manager.py:1346} DEBUG - findfont: score(<Font 'Nimbus Roman' (NimbusRoman-Bold.otf) normal normal 700 normal>) = 10.335\n",
      "[2021-06-23 15:30:10,577] {font_manager.py:1346} DEBUG - findfont: score(<Font 'Lohit Devanagari' (Lohit-Devanagari.ttf) normal normal 400 normal>) = 10.05\n",
      "[2021-06-23 15:30:10,577] {font_manager.py:1346} DEBUG - findfont: score(<Font 'Lato' (Lato-HeavyItalic.ttf) italic normal 800 normal>) = 11.43\n",
      "[2021-06-23 15:30:10,578] {font_manager.py:1346} DEBUG - findfont: score(<Font 'Rasa' (Rasa-Regular.ttf) normal normal 400 normal>) = 10.05\n",
      "[2021-06-23 15:30:10,578] {font_manager.py:1346} DEBUG - findfont: score(<Font 'Liberation Sans' (LiberationSans-Regular.ttf) normal normal 400 normal>) = 10.05\n",
      "[2021-06-23 15:30:10,578] {font_manager.py:1346} DEBUG - findfont: score(<Font 'KacstOne' (KacstOne-Bold.ttf) normal normal 700 normal>) = 10.335\n",
      "[2021-06-23 15:30:10,578] {font_manager.py:1346} DEBUG - findfont: score(<Font 'DejaVu Sans Mono' (DejaVuSansMono-Oblique.ttf) oblique normal 400 normal>) = 11.05\n",
      "[2021-06-23 15:30:10,579] {font_manager.py:1346} DEBUG - findfont: score(<Font 'DejaVu Serif' (DejaVuSerif-BoldItalic.ttf) italic normal 700 normal>) = 11.335\n",
      "[2021-06-23 15:30:10,580] {font_manager.py:1346} DEBUG - findfont: score(<Font 'Kinnari' (Kinnari.ttf) normal normal 400 normal>) = 10.05\n",
      "[2021-06-23 15:30:10,580] {font_manager.py:1346} DEBUG - findfont: score(<Font 'Nimbus Mono PS' (NimbusMonoPS-Regular.otf) normal normal 400 normal>) = 10.05\n",
      "[2021-06-23 15:30:10,580] {font_manager.py:1346} DEBUG - findfont: score(<Font 'DejaVu Serif' (DejaVuSerifCondensed-Bold.ttf) normal normal 700 condensed>) = 10.535\n",
      "[2021-06-23 15:30:10,581] {font_manager.py:1346} DEBUG - findfont: score(<Font 'FreeSans' (FreeSansBold.ttf) normal normal 600 normal>) = 10.24\n",
      "[2021-06-23 15:30:10,581] {font_manager.py:1346} DEBUG - findfont: score(<Font 'Liberation Serif' (LiberationSerif-Regular.ttf) normal normal 400 normal>) = 10.05\n",
      "[2021-06-23 15:30:10,581] {font_manager.py:1346} DEBUG - findfont: score(<Font 'Nimbus Sans' (NimbusSans-BoldItalic.otf) italic normal 700 normal>) = 11.335\n",
      "[2021-06-23 15:30:10,582] {font_manager.py:1346} DEBUG - findfont: score(<Font 'Tlwg Typewriter' (TlwgTypewriter-Oblique.ttf) oblique normal 400 normal>) = 11.05\n",
      "[2021-06-23 15:30:10,583] {font_manager.py:1346} DEBUG - findfont: score(<Font 'aakar' (aakar-medium.ttf) normal normal 500 normal>) = 10.145\n",
      "[2021-06-23 15:30:10,583] {font_manager.py:1346} DEBUG - findfont: score(<Font 'Laksaman' (Laksaman-BoldItalic.ttf) italic normal 700 normal>) = 11.335\n",
      "[2021-06-23 15:30:10,584] {font_manager.py:1346} DEBUG - findfont: score(<Font 'Samyak Malayalam' (Samyak-Malayalam.ttf) normal normal 400 normal>) = 10.05\n",
      "[2021-06-23 15:30:10,584] {font_manager.py:1346} DEBUG - findfont: score(<Font 'C059' (C059-Bold.otf) normal normal 700 normal>) = 10.335\n",
      "[2021-06-23 15:30:10,584] {font_manager.py:1346} DEBUG - findfont: score(<Font 'Umpush' (Umpush-Oblique.ttf) oblique normal 400 normal>) = 11.05\n",
      "[2021-06-23 15:30:10,585] {font_manager.py:1346} DEBUG - findfont: score(<Font 'Lato' (Lato-MediumItalic.ttf) italic normal 500 normal>) = 11.145\n",
      "[2021-06-23 15:30:10,585] {font_manager.py:1346} DEBUG - findfont: score(<Font 'Jamrul' (JamrulNormal.ttf) normal normal 500 normal>) = 10.145\n",
      "[2021-06-23 15:30:10,585] {font_manager.py:1346} DEBUG - findfont: score(<Font 'DejaVu Sans' (DejaVuSans-Bold.ttf) normal normal 700 normal>) = 0.33499999999999996\n",
      "[2021-06-23 15:30:10,586] {font_manager.py:1346} DEBUG - findfont: score(<Font 'Lato' (Lato-ThinItalic.ttf) italic normal 200 normal>) = 11.24\n",
      "[2021-06-23 15:30:10,586] {font_manager.py:1346} DEBUG - findfont: score(<Font 'Kinnari' (Kinnari-Bold.ttf) normal normal 700 normal>) = 10.335\n",
      "[2021-06-23 15:30:10,586] {font_manager.py:1346} DEBUG - findfont: score(<Font 'Nimbus Sans Narrow' (NimbusSansNarrow-Bold.otf) normal normal 700 condensed>) = 10.535\n",
      "[2021-06-23 15:30:10,587] {font_manager.py:1346} DEBUG - findfont: score(<Font 'Chandas' (chandas1-2.ttf) normal normal 400 normal>) = 10.05\n",
      "[2021-06-23 15:30:10,587] {font_manager.py:1346} DEBUG - findfont: score(<Font 'Nimbus Roman' (NimbusRoman-Italic.otf) italic normal 400 normal>) = 11.05\n",
      "[2021-06-23 15:30:10,587] {font_manager.py:1346} DEBUG - findfont: score(<Font 'URW Bookman' (URWBookman-Light.otf) normal normal 300 normal>) = 10.145\n",
      "[2021-06-23 15:30:10,587] {font_manager.py:1346} DEBUG - findfont: score(<Font 'padmaa-Bold.1.1' (padmaa-Bold.1.1.ttf) normal normal 700 normal>) = 10.335\n",
      "[2021-06-23 15:30:10,588] {font_manager.py:1346} DEBUG - findfont: score(<Font 'Phetsarath OT' (Phetsarath_OT.ttf) normal normal 400 normal>) = 10.05\n",
      "[2021-06-23 15:30:10,588] {font_manager.py:1346} DEBUG - findfont: score(<Font 'Ubuntu' (Ubuntu-BI.ttf) italic normal 700 normal>) = 11.335\n",
      "[2021-06-23 15:30:10,588] {font_manager.py:1346} DEBUG - findfont: score(<Font 'Loma' (Loma.ttf) normal normal 400 normal>) = 10.05\n",
      "[2021-06-23 15:30:10,589] {font_manager.py:1346} DEBUG - findfont: score(<Font 'FreeMono' (FreeMonoOblique.ttf) oblique normal 400 normal>) = 11.05\n",
      "[2021-06-23 15:30:10,590] {font_manager.py:1346} DEBUG - findfont: score(<Font 'Gargi' (Gargi.ttf) normal normal 400 normal>) = 10.05\n",
      "[2021-06-23 15:30:10,591] {font_manager.py:1346} DEBUG - findfont: score(<Font 'Ubuntu' (Ubuntu-RI.ttf) italic normal 400 normal>) = 11.05\n",
      "[2021-06-23 15:30:10,591] {font_manager.py:1346} DEBUG - findfont: score(<Font 'Tlwg Typo' (TlwgTypo.ttf) normal normal 400 normal>) = 10.05\n",
      "[2021-06-23 15:30:10,592] {font_manager.py:1346} DEBUG - findfont: score(<Font 'Lato' (Lato-Light.ttf) normal normal 300 normal>) = 10.145\n",
      "[2021-06-23 15:30:10,592] {font_manager.py:1346} DEBUG - findfont: score(<Font 'Kalimati' (kalimati.ttf) normal normal 400 normal>) = 10.05\n",
      "[2021-06-23 15:30:10,592] {font_manager.py:1346} DEBUG - findfont: score(<Font 'Rasa' (Rasa-Bold.ttf) normal normal 700 normal>) = 10.335\n",
      "[2021-06-23 15:30:10,593] {font_manager.py:1346} DEBUG - findfont: score(<Font 'Tlwg Mono' (TlwgMono.ttf) normal normal 400 normal>) = 10.05\n",
      "[2021-06-23 15:30:10,593] {font_manager.py:1346} DEBUG - findfont: score(<Font 'Norasi' (Norasi-Bold.ttf) normal normal 700 normal>) = 10.335\n",
      "[2021-06-23 15:30:10,593] {font_manager.py:1346} DEBUG - findfont: score(<Font 'KacstTitleL' (KacstTitleL.ttf) normal normal 400 normal>) = 10.05\n",
      "[2021-06-23 15:30:10,593] {font_manager.py:1346} DEBUG - findfont: score(<Font 'Liberation Mono' (LiberationMono-Italic.ttf) italic normal 400 normal>) = 11.05\n",
      "[2021-06-23 15:30:10,594] {font_manager.py:1346} DEBUG - findfont: score(<Font 'Navilu' (Navilu.ttf) normal normal 400 normal>) = 10.05\n",
      "[2021-06-23 15:30:10,594] {font_manager.py:1346} DEBUG - findfont: score(<Font 'Tlwg Typewriter' (TlwgTypewriter-BoldOblique.ttf) oblique normal 700 normal>) = 11.335\n",
      "[2021-06-23 15:30:10,594] {font_manager.py:1346} DEBUG - findfont: score(<Font 'KacstLetter' (KacstLetter.ttf) normal normal 500 normal>) = 10.145\n",
      "[2021-06-23 15:30:10,595] {font_manager.py:1367} DEBUG - findfont: Matching sans\\-serif:style=normal:variant=normal:weight=normal:stretch=normal:size=10.0 to DejaVu Sans ('/home/xcite/anaconda3/lib/python3.7/site-packages/matplotlib/mpl-data/fonts/ttf/DejaVuSans.ttf') with score of 0.050000.\n"
     ]
    }
   ],
   "source": [
    "bcca_recon = np.load('/home/xcite/MV_CBCT/old_recon_6x_300_rared.npy')\n",
    "recon_slice = 10*np.rot90(np.mean(bcca_recon.T[31:52],0),2)\n",
    "im = create_mask(recon_slice.shape,off =[-0.15,0], r= 5.75,radius=0.3)\n",
    "contrast_bcca, CNR_bcca, noise_bcca = return_CNR(recon_slice,im)#,show_map=True)\n",
    "\n",
    "def HU_fun(a,x,y):\n",
    "    return np.sum(np.abs((x - a[0])*(a[1]) - y))\n",
    "\n",
    "reses = []\n",
    "rem = []\n",
    "\n",
    "for off in [-0.04,-0.03,-0.02,-0.01,0,0.01,0.02,0.03,0.04]:\n",
    "    reses.append(minimize(HU_fun,[contrast_fc[0],contrast_fc[5]+off],args=(contrast_fc,contrast_bcca)))\n",
    "    rem.append(reses[-1].fun)\n",
    "    \n",
    "res = reses[np.argmin(rem)]\n",
    "print(res)\n",
    "\n",
    "x = [.853,0.945,.998,1.147,1.36,1.87]\n",
    "contrast_fc_scaled = (contrast_fc - res.x[0])*(res.x[1])\n",
    "image_fc_scaled = np.roll((phantom.img[4]- res.x[0] - 0.003)*(res.x[1]+0.004),5)\n",
    "\n",
    "plt.figure(figsize=[8,8])\n",
    "plt.subplot(221)\n",
    "plt.imshow(recon_slice,cmap='gray',vmin=0.001,vmax=0.007)\n",
    "plt.axis('off')\n",
    "plt.subplot(222)\n",
    "plt.imshow(image_fc_scaled,cmap='gray',vmin=0.001,vmax=0.007)\n",
    "plt.axis('off')\n",
    "plt.subplot(223)\n",
    "plt.plot(x,contrast_fc_scaled,'s',c='cornflowerblue',label='fastCAT')\n",
    "plt.plot(x,contrast_bcca,'s',c='darkorange',label='Star-lack')\n",
    "plt.subplot(224)\n",
    "plt.plot(np.mean(recon_slice[250:260,7:-7],0),c='darkorange')\n",
    "plt.plot(np.rot90(image_fc_scaled,0)[257,7:-7],c='cornflowerblue')\n",
    "plt.tight_layout()"
   ]
  },
  {
   "cell_type": "code",
   "execution_count": 32,
   "metadata": {},
   "outputs": [],
   "source": [
    "# np.save('fc_images/fc_image_gos_6x_493_small_noise',image_fc_scaled)"
   ]
  },
  {
   "cell_type": "code",
   "execution_count": 55,
   "metadata": {},
   "outputs": [
    {
     "name": "stdout",
     "output_type": "stream",
     "text": [
      "Open other images in this ImageJ panel as follows:\n",
      "  imagej -p 1 <image1> [<image2> ... <imageN>]\n",
      "\n"
     ]
    }
   ],
   "source": [
    "plt.imsave('im_for_imagej.png',np.hstack((recon_slice,image_fc_scaled)))\n",
    "!imagej im_for_imagej.png"
   ]
  },
  {
   "cell_type": "markdown",
   "metadata": {},
   "source": [
    "# Now lets look at the kV data "
   ]
  },
  {
   "cell_type": "code",
   "execution_count": 44,
   "metadata": {},
   "outputs": [
    {
     "name": "stdout",
     "output_type": "stream",
     "text": [
      "(19, 19, 19) 19\n"
     ]
    }
   ],
   "source": [
    "# %%timeit -r 1\n",
    "nviews = 887 # 222 296 444 887 That is how many are in the file \n",
    "s = fc.calculate_spectrum(100, 14, 3, 100,monitor=None)\n",
    "s.attenuate(0.4,fc.get_mu(z=13)) #0.4\n",
    "s.attenuate(0.089,fc.get_mu(z=22))\n",
    "kernel = fc.Kernel(s,'CsI-784-micrometer')\n",
    "kernel.add_focal_spot(2.2)\n",
    "# angles = np.linspace(0.1,np.pi*2,nviews)        "
   ]
  },
  {
   "cell_type": "code",
   "execution_count": 45,
   "metadata": {},
   "outputs": [],
   "source": [
    "angles = np.load('/home/xcite/MV_CBCT/angles_kv.npy')[::1]"
   ]
  },
  {
   "cell_type": "code",
   "execution_count": 51,
   "metadata": {},
   "outputs": [
    {
     "name": "stdout",
     "output_type": "stream",
     "text": [
      "bowtie is off False\n",
      "Using the bowtie filter True\n",
      "really doing it!\n",
      "bowtie scatter\n",
      "ratio is 118.71110502710788 number of photons 0.6657473411255314\n"
     ]
    }
   ],
   "source": [
    "conversion = 1.07765#*(0.511/0.784)**2\n",
    "\n",
    "fudge = 0.3 # 0.018\n",
    "# !!!!! Scatter is off\n",
    "phantom = fc.Catphan_404()#pitch = 0.511)\n",
    "# phantom.phan_map = ['air','G4_NYLON-8062','CATPHAN_Acrylic','CATPHAN_Acrylic','CATPHAN_Delrin','CATPHAN_Acrylic','CATPHAN_Teflon_revised','air','CATPHAN_PMP','CATPHAN_Acrylic','CATPHAN_LDPE','CATPHAN_Acrylic','CATPHAN_Polystyrene','air','CATPHAN_Acrylic','air','CATPHAN_Teflon_revised','air','air','air','air'] \n",
    "phantom.phan_map = ['air','G4_POLYSTYRENE','G4_POLYVINYL_BUTYRAL','G4_POLYVINYL_BUTYRAL','CATPHAN_Delrin','G4_POLYVINYL_BUTYRAL','CATPHAN_Teflon_revised','air','CATPHAN_PMP','G4_POLYVINYL_BUTYRAL','CATPHAN_LDPE','G4_POLYVINYL_BUTYRAL','CATPHAN_Polystyrene','air','CATPHAN_Acrylic','air','CATPHAN_Teflon','air','air','air','air'] \n",
    "# phantom.phan_map = ['air','G4_POLYSTYRENE','G4_POLYVINYL_BUTYRAL','G4_POLYVINYL_BUTYRAL','CATPHAN_Delrin','G4_POLYVINYL_BUTYRAL','CATPHAN_Teflon_revised','air','CATPHAN_PMP','G4_POLYVINYL_BUTYRAL','CATPHAN_LDPE','G4_POLYVINYL_BUTYRAL','CATPHAN_Polystyrene','air','G4_POLYVINYL_BUTYRAL','air','CATPHAN_Teflon_revised','air','air','air','air'] \n",
    "# phantom.phan_map = ['air','CATPHAN_Polystyrene','CATPHAN_Acrylic','CATPHAN_Acrylic','CATPHAN_Delrin','CATPHAN_Acrylic','CATPHAN_Teflon_revised','air','CATPHAN_PMP','CATPHAN_Acrylic','CATPHAN_LDPE','CATPHAN_Acrylic','CATPHAN_Polystyrene','air','CATPHAN_Acrylic','air','CATPHAN_Teflon_revised','air','air','air','air'] \n",
    "phantom.return_projs(kernel,s,angles,scat_on=True,mgy=0.004,bowtie=True,filter='bowtie_asym') #bowtie8 1.077 conversion was april mgy=fudge*21.1/1000\n",
    "phantom.reconstruct('FDK',filt='ram_lak')"
   ]
  },
  {
   "cell_type": "code",
   "execution_count": 52,
   "metadata": {},
   "outputs": [],
   "source": [
    "phantom.img = (phantom.img[:,::2,::2] + phantom.img[:,1::2,::2] + phantom.img[:,::2,1::2] + phantom.img[:,1::2,1::2])/4\n",
    "im = create_mask(phantom.img[4].shape,r=5.75,radius=0.4)\n",
    "contrast_fc, CNR_fc, noise_fc = return_CNR(phantom.img[4],im)"
   ]
  },
  {
   "cell_type": "code",
   "execution_count": 53,
   "metadata": {},
   "outputs": [
    {
     "data": {
      "application/vnd.jupyter.widget-view+json": {
       "model_id": "56e75405ca674ccd815b82f284150f54",
       "version_major": 2,
       "version_minor": 0
      },
      "text/plain": [
       "Canvas(toolbar=Toolbar(toolitems=[('Home', 'Reset original view', 'home', 'home'), ('Back', 'Back to previous …"
      ]
     },
     "metadata": {},
     "output_type": "display_data"
    },
    {
     "data": {
      "text/plain": [
       "<matplotlib.image.AxesImage at 0x7fef5b52ffd0>"
      ]
     },
     "execution_count": 53,
     "metadata": {},
     "output_type": "execute_result"
    }
   ],
   "source": [
    "bcca_recon = np.load('/home/xcite/MV_CBCT/recon_kV_full.npy').T #recon_kv_jan_2021.npy')\n",
    "recon_slice = np.rot90(np.mean(bcca_recon.T[32:33],0)).copy()\n",
    "im = create_mask(recon_slice.shape,r=5.8,off = [0.2,0.05],rot = 1)\n",
    "contrast_bcca, CNR_bcca, noise_bcca = return_CNR(recon_slice,im)#,show_map=True)\n",
    "\n",
    "def HU_fun(a,x,y):\n",
    "    return np.sum(np.abs((x - a[0])*(a[1]) - y))\n",
    "\n",
    "reses = []\n",
    "rem = []\n",
    "\n",
    "for off in np.arange(-0.4,0.4,0.02):\n",
    "    reses.append(minimize(HU_fun,[contrast_fc[2],contrast_fc[-3]+off],args=(contrast_fc,contrast_bcca)))\n",
    "    rem.append(reses[-1].fun)\n",
    "    \n",
    "res = reses[np.argmin(rem)]\n",
    "    \n",
    "fc_data = (contrast_fc - res.x[0])*(res.x[1])\n",
    "# fc_image = np.roll((phantom.img[4] - (res.x[0]+0.0103))*(res.x[1]+0.0067),-4)\n",
    "fc_image = np.roll((phantom.img[4] - (res.x[0]))*(res.x[1]),-4)\n",
    "\n",
    "x = [.853,0.945,.998,1.147,1.36,1.87]\n",
    "\n",
    "plt.figure(figsize=[8,8])\n",
    "plt.subplot(221)\n",
    "plt.plot(x,contrast_bcca,'s',c='darkorange',label='')\n",
    "plt.plot(x,fc_data,'*',c='cornflowerblue',label='fastCAT')\n",
    "plt.legend()\n",
    "plt.subplot(222)\n",
    "dist = np.linspace(-7.89,7.89,512-20)\n",
    "dist2= np.linspace(-8,8,512-20)\n",
    "plt.plot(dist,np.mean(recon_slice[250:260,10:-10],0),c='darkorange')\n",
    "plt.plot(dist2,np.mean(np.rot90(np.roll(fc_image,7),2)[250:260,10:-10],0),c='cornflowerblue')\n",
    "plt.subplot(223)\n",
    "plt.imshow(np.rot90(fc_image,0),cmap='gray',vmin=0.013,vmax=0.027)\n",
    "plt.subplot(224)\n",
    "plt.imshow(np.rot90(recon_slice,2),cmap='gray',vmin=0.013,vmax=0.027)"
   ]
  },
  {
   "cell_type": "code",
   "execution_count": 54,
   "metadata": {},
   "outputs": [],
   "source": [
    "np.save('fc_images/fc_image_kv_887_noise',fc_image)"
   ]
  },
  {
   "cell_type": "code",
   "execution_count": 341,
   "metadata": {},
   "outputs": [
    {
     "name": "stdout",
     "output_type": "stream",
     "text": [
      "Open other images in this ImageJ panel as follows:\n",
      "  imagej -p 1 <image1> [<image2> ... <imageN>]\n",
      "\n",
      "Fontconfig error: \"/home/xcite/.config/fontconfig/fonts.conf\", line 5: no element found\n",
      "Fontconfig error: \"/home/xcite/.config/fontconfig/fonts.conf\", line 5: invalid attribute 'target'\n"
     ]
    }
   ],
   "source": [
    "plt.imsave('data/im_for_imagej.png',np.hstack((recon_slice,fc_image)),cmap='gray')\n",
    "!imagej data/im_for_imagej.png"
   ]
  },
  {
   "cell_type": "markdown",
   "metadata": {},
   "source": [
    "# Now let's take a look at the images in terms of CNR"
   ]
  },
  {
   "cell_type": "code",
   "execution_count": 45,
   "metadata": {},
   "outputs": [],
   "source": [
    "from glob import glob"
   ]
  },
  {
   "cell_type": "code",
   "execution_count": 46,
   "metadata": {},
   "outputs": [
    {
     "data": {
      "application/vnd.jupyter.widget-view+json": {
       "model_id": "08f7d63e7c064f7890ae672abcefccf4",
       "version_major": 2,
       "version_minor": 0
      },
      "text/plain": [
       "Canvas(toolbar=Toolbar(toolitems=[('Home', 'Reset original view', 'home', 'home'), ('Back', 'Back to previous …"
      ]
     },
     "metadata": {},
     "output_type": "display_data"
    },
    {
     "data": {
      "text/plain": [
       "<matplotlib.legend.Legend at 0x7f84caae2d10>"
      ]
     },
     "execution_count": 46,
     "metadata": {},
     "output_type": "execute_result"
    }
   ],
   "source": [
    "im = create_mask([512,512],r=5.7,radius=0.4)\n",
    "im2 = create_mask([512,512],off =[-0.15,0], r= 5.75,radius=0.3)\n",
    "\n",
    "CNRs = []\n",
    "\n",
    "plt.figure()\n",
    "\n",
    "exp_files = np.array(glob('/home/xcite/MV_CBCT/recon_6x_300_*.npy'))[np.array([0,1,3,2])]\n",
    "\n",
    "ii = 0\n",
    "for file_fc, file_exp in zip(sorted(glob('fc_images/fc_image_gos*.npy'))[-1::-1],exp_files):\n",
    "    \n",
    "    im_fc = np.load(file_fc)\n",
    "    im_exp = np.rot90(np.load(file_exp).T[35],2)\n",
    "    contrast_fc, CNR_fc, noise_fc = return_CNR(np.roll(im_fc,-5),im)\n",
    "    contrast_bcca, CNR_exp, noise_bcca = return_CNR(im_exp,im2)#,show_map=True)\n",
    "    CNRs.append(CNR_fc)\n",
    "    plt.plot(ii,np.mean(CNR_fc),'b*',label=file_fc.split('/')[-1][-7:-4] + ' fc')\n",
    "    plt.plot(ii+0.1,2.6*np.mean(CNR_exp),'r*',label=file_fc.split('/')[-1][-7:-4] +' exp')\n",
    "    \n",
    "    ii += 1\n",
    "\n",
    "plt.legend()"
   ]
  },
  {
   "cell_type": "markdown",
   "metadata": {},
   "source": [
    "# Looking at the kV"
   ]
  },
  {
   "cell_type": "code",
   "execution_count": 80,
   "metadata": {},
   "outputs": [
    {
     "data": {
      "application/vnd.jupyter.widget-view+json": {
       "model_id": "ee6a82816244421fba3d0aeedee85235",
       "version_major": 2,
       "version_minor": 0
      },
      "text/plain": [
       "Canvas(toolbar=Toolbar(toolitems=[('Home', 'Reset original view', 'home', 'home'), ('Back', 'Back to previous …"
      ]
     },
     "metadata": {},
     "output_type": "display_data"
    },
    {
     "data": {
      "text/plain": [
       "<matplotlib.legend.Legend at 0x7f84c82cbb50>"
      ]
     },
     "execution_count": 80,
     "metadata": {},
     "output_type": "execute_result"
    }
   ],
   "source": [
    "im2 = create_mask([512,512],r=5.8,off = [0.2,0.05],rot = 1)\n",
    "im = create_mask([512,512],r=5.75,radius=0.4)\n",
    "\n",
    "CNRs = []\n",
    "\n",
    "plt.figure()\n",
    "\n",
    "exp_files = np.array(glob('/home/xcite/MV_CBCT/recon_kV*.npy'))[np.array([0,3,2,1])]\n",
    "\n",
    "ii = 0\n",
    "for file_fc, file_exp in zip(sorted(glob('fc_images/fc_image_kv*.npy'))[-1::-1],exp_files):\n",
    "    \n",
    "    im_fc = np.load(file_fc)\n",
    "    im_exp = np.rot90(np.mean(np.load(file_exp)[35:37],0),2)\n",
    "    contrast_fc, CNR_fc, noise_fc = return_CNR(np.roll(im_fc,-5),im)\n",
    "    contrast_bcca, CNR_exp, noise_bcca = return_CNR(im_exp,im2)#,show_map=True)\n",
    "    CNRs.append(CNR_fc)\n",
    "    plt.plot(ii,np.mean(CNR_fc),'b*',label=file_fc.split('/')[-1][-7:-4] + ' fc')\n",
    "    plt.plot(ii+0.1,2.6*np.mean(CNR_exp),'r*',label=file_fc.split('/')[-1][-7:-4] +' exp')\n",
    "    \n",
    "    ii += 1\n",
    "\n",
    "plt.legend()"
   ]
  },
  {
   "cell_type": "code",
   "execution_count": 72,
   "metadata": {},
   "outputs": [
    {
     "data": {
      "text/plain": [
       "((512, 100), (512, 512))"
      ]
     },
     "execution_count": 72,
     "metadata": {},
     "output_type": "execute_result"
    }
   ],
   "source": [
    "im_exp.shape,im2.shape"
   ]
  },
  {
   "cell_type": "markdown",
   "metadata": {},
   "source": [
    "# Now lets look at the 2.5 MV"
   ]
  },
  {
   "cell_type": "code",
   "execution_count": 2,
   "metadata": {},
   "outputs": [
    {
     "name": "stdout",
     "output_type": "stream",
     "text": [
      "Populating the interactive namespace from numpy and matplotlib\n"
     ]
    }
   ],
   "source": [
    "%pylab widget"
   ]
  },
  {
   "cell_type": "code",
   "execution_count": 40,
   "metadata": {},
   "outputs": [
    {
     "name": "stdout",
     "output_type": "stream",
     "text": [
      "(19, 41, 41) 19\n",
      "bowtie is off False\n",
      "Using the bowtie filter True\n",
      "really doing it!\n",
      "ratio is 17874.726480268397 number of photons 0.01015508406165716\n"
     ]
    },
    {
     "data": {
      "application/vnd.jupyter.widget-view+json": {
       "model_id": "c29b013f7c4f4dd5bd4af93394d21d8d",
       "version_major": 2,
       "version_minor": 0
      },
      "text/plain": [
       "Canvas(toolbar=Toolbar(toolitems=[('Home', 'Reset original view', 'home', 'home'), ('Back', 'Back to previous …"
      ]
     },
     "metadata": {},
     "output_type": "display_data"
    }
   ],
   "source": [
    "# %%timeit -r 1\n",
    "nviews =  493 #493 #247 #165 #124 for the others\n",
    "\n",
    "s = fc.Spectrum()\n",
    "s.load('W_spectrum_25')\n",
    "kernel = fc.Kernel(s,'CuGOS-784-micrometer')\n",
    "# kernel.add_focal_spot(1.2)\n",
    "angles = np.load('/home/xcite/MV_CBCT/angles_25x.npy')\n",
    "\n",
    "phantom = fc.Catphan_404()\n",
    "phantom.phan_map = ['air','G4_NYLON-8062','CATPHAN_Acrylic','CATPHAN_Acrylic',\n",
    "                    'CATPHAN_Delrin_revised','CATPHAN_Acrylic','CATPHAN_Teflon_revised',\n",
    "                    'air','CATPHAN_PMP','CATPHAN_Acrylic','CATPHAN_LDPE','CATPHAN_Acrylic','CATPHAN_Polystyrene','air','CATPHAN_Acrylic','air','CATPHAN_Teflon','air','air','air','air'] \n",
    "phantom.return_projs(kernel,s,angles,mgy=600*3/nviews,bowtie=True,filter='FF0') # should be 507\n",
    "phantom.reconstruct('FDK',filt='ram_lak')\n",
    "\n",
    "im = create_mask(phantom.img[5].shape,r=5.7,radius=0.4)\n",
    "contrast_fc, CNR_fc, noise_fc = return_CNR(phantom.img[5],im,show_map=True)"
   ]
  },
  {
   "cell_type": "markdown",
   "metadata": {},
   "source": [
    "## Now lets look at the bcca data"
   ]
  },
  {
   "cell_type": "code",
   "execution_count": 41,
   "metadata": {},
   "outputs": [],
   "source": [
    "bcca_recon = np.load('/home/xcite/MV_CBCT/recon_25x_60.npy')\n",
    "recon_slice = np.rot90(bcca_recon.T[20],2)\n",
    "im = create_mask(recon_slice.shape,off =[0.15,0], r= 5.75,radius=0.3)\n",
    "contrast_bcca, CNR_bcca, noise_bcca = return_CNR(recon_slice,im)#,show_map=True)"
   ]
  },
  {
   "cell_type": "code",
   "execution_count": 42,
   "metadata": {},
   "outputs": [
    {
     "name": "stderr",
     "output_type": "stream",
     "text": [
      "/home/xcite/anaconda3/lib/python3.7/site-packages/ipykernel_launcher.py:17: RuntimeWarning: More than 20 figures have been opened. Figures created through the pyplot interface (`matplotlib.pyplot.figure`) are retained until explicitly closed and may consume too much memory. (To control this warning, see the rcParam `figure.max_open_warning`).\n"
     ]
    },
    {
     "data": {
      "application/vnd.jupyter.widget-view+json": {
       "model_id": "cc97ac02b153495894b25425e8cf663b",
       "version_major": 2,
       "version_minor": 0
      },
      "text/plain": [
       "Canvas(toolbar=Toolbar(toolitems=[('Home', 'Reset original view', 'home', 'home'), ('Back', 'Back to previous …"
      ]
     },
     "metadata": {},
     "output_type": "display_data"
    }
   ],
   "source": [
    "def HU_fun(a,x,y):\n",
    "    return np.sum(np.abs((x - a[0])*(a[1]) - y))\n",
    "\n",
    "reses = []\n",
    "rem = []\n",
    "\n",
    "for off in [-0.04,-0.03,-0.02,-0.01,0,0.01,0.02,0.03,0.04]:\n",
    "    reses.append(minimize(HU_fun,[contrast_fc[0],contrast_fc[5]+off],args=(contrast_fc,contrast_bcca)))\n",
    "    rem.append(reses[-1].fun)\n",
    "    \n",
    "res = reses[np.argmin(rem)]\n",
    "\n",
    "x = [.853,0.945,.998,1.147,1.36,1.87]\n",
    "contrast_fc_scaled = (contrast_fc - res.x[0])*(res.x[1])\n",
    "image_fc_scaled = np.roll((phantom.img[4]- res.x[0])*(res.x[1]),5)\n",
    "\n",
    "plt.figure(figsize=[8,8])\n",
    "plt.subplot(221)\n",
    "plt.imshow(recon_slice,cmap='gray',vmin=0.003,vmax=0.014)\n",
    "plt.axis('off')\n",
    "plt.subplot(222)\n",
    "plt.imshow(image_fc_scaled,cmap='gray',vmin=0.003,vmax=0.014)\n",
    "plt.axis('off')\n",
    "plt.subplot(223)\n",
    "plt.plot(x,contrast_fc_scaled,'s',c='cornflowerblue',label='fastCAT')\n",
    "plt.plot(x,contrast_bcca,'s',c='darkorange',label='Star-lack')\n",
    "plt.subplot(224)\n",
    "plt.plot(recon_slice[256,7:-7])\n",
    "plt.plot(np.rot90(image_fc_scaled,0)[257,7:-7])\n",
    "plt.tight_layout()"
   ]
  },
  {
   "cell_type": "markdown",
   "metadata": {},
   "source": [
    "# Now let's take a look at the images in terms of CNR"
   ]
  },
  {
   "cell_type": "code",
   "execution_count": 2,
   "metadata": {},
   "outputs": [],
   "source": [
    "from glob import glob"
   ]
  },
  {
   "cell_type": "code",
   "execution_count": 105,
   "metadata": {},
   "outputs": [
    {
     "data": {
      "application/vnd.jupyter.widget-view+json": {
       "model_id": "8db013317efd492fb2103b58fecde1df",
       "version_major": 2,
       "version_minor": 0
      },
      "text/plain": [
       "Canvas(toolbar=Toolbar(toolitems=[('Home', 'Reset original view', 'home', 'home'), ('Back', 'Back to previous …"
      ]
     },
     "metadata": {},
     "output_type": "display_data"
    },
    {
     "data": {
      "text/plain": [
       "<matplotlib.legend.Legend at 0x7f84c788c4d0>"
      ]
     },
     "execution_count": 105,
     "metadata": {},
     "output_type": "execute_result"
    }
   ],
   "source": [
    "im = create_mask([512,512],r=5.7,radius=0.4)\n",
    "im2 = create_mask([512,512],off =[-0.15,0], r= 5.75,radius=0.3)\n",
    "\n",
    "CNRs = []\n",
    "\n",
    "plt.figure()\n",
    "\n",
    "exp_files = np.array(glob('/home/xcite/MV_CBCT/recon_6x_300_*.npy'))[np.array([0,1,3,2])]\n",
    "\n",
    "ii = 0\n",
    "for file_fc, file_exp in zip(sorted(glob('fc_images/fc_image_gos*.npy'))[-1::-1],exp_files):\n",
    "    \n",
    "    im_fc = np.load(file_fc)\n",
    "    im_exp = np.rot90(np.load(file_exp).T[35],2)\n",
    "                             \n",
    "    contrast_fc, CNR_fc, noise_fc = return_CNR(np.roll(im_fc,-5),im)\n",
    "    contrast_bcca, CNR_exp, noise_bcca = return_CNR(im_exp,im2)\n",
    "                             \n",
    "    CNRs.append(CNR_fc)\n",
    "    plt.plot(ii,np.mean(CNR_fc),'b*',label=file_fc.split('/')[-1][-7:-4] + ' fc')\n",
    "    plt.plot(ii+0.1,2.6*np.mean(CNR_exp),'r*',label=file_fc.split('/')[-1][-7:-4] +' exp')\n",
    "    \n",
    "    ii += 1\n",
    "\n",
    "plt.legend()"
   ]
  },
  {
   "cell_type": "code",
   "execution_count": 37,
   "metadata": {},
   "outputs": [
    {
     "data": {
      "application/vnd.jupyter.widget-view+json": {
       "model_id": "170a0c55ec664aae9e5ffd918e2dad7f",
       "version_major": 2,
       "version_minor": 0
      },
      "text/plain": [
       "Canvas(toolbar=Toolbar(toolitems=[('Home', 'Reset original view', 'home', 'home'), ('Back', 'Back to previous …"
      ]
     },
     "metadata": {},
     "output_type": "display_data"
    },
    {
     "data": {
      "text/plain": [
       "[<matplotlib.lines.Line2D at 0x7f7c06eaad10>,\n",
       " <matplotlib.lines.Line2D at 0x7f7c06eaadd0>,\n",
       " <matplotlib.lines.Line2D at 0x7f7c06eaae90>,\n",
       " <matplotlib.lines.Line2D at 0x7f7c06eaaf50>,\n",
       " <matplotlib.lines.Line2D at 0x7f7c06eb4050>,\n",
       " <matplotlib.lines.Line2D at 0x7f7c06eb4150>,\n",
       " <matplotlib.lines.Line2D at 0x7f7c06eb4210>,\n",
       " <matplotlib.lines.Line2D at 0x7f7c06eb42d0>,\n",
       " <matplotlib.lines.Line2D at 0x7f7c06eb4390>,\n",
       " <matplotlib.lines.Line2D at 0x7f7c06eb4110>,\n",
       " <matplotlib.lines.Line2D at 0x7f7c06eb44d0>,\n",
       " <matplotlib.lines.Line2D at 0x7f7c06eb4590>,\n",
       " <matplotlib.lines.Line2D at 0x7f7c06eb4650>,\n",
       " <matplotlib.lines.Line2D at 0x7f7c06eb4710>,\n",
       " <matplotlib.lines.Line2D at 0x7f7c06eb47d0>,\n",
       " <matplotlib.lines.Line2D at 0x7f7c06eb4890>,\n",
       " <matplotlib.lines.Line2D at 0x7f7c06eb4950>,\n",
       " <matplotlib.lines.Line2D at 0x7f7c06eb4a10>]"
      ]
     },
     "execution_count": 37,
     "metadata": {},
     "output_type": "execute_result"
    }
   ],
   "source": [
    "\n",
    "no = 0.784\n",
    "npt = 512\n",
    "\n",
    "np2 = 512\n",
    "no2 = 0.511\n",
    "\n",
    "pts2 = np.linspace(0,np2*no2,np2) - np2/2*no2\n",
    "pts = np.linspace(0,npt*no,npt) - npt/2*no\n",
    "\n",
    "p2 = np.zeros_like(phantom.fs)\n",
    "for ii in range(phantom.fs.shape[0]):\n",
    "    p2[ii] = np.interp(pts2,pts,phantom.fs[ii])\n",
    "\n",
    "plt.figure()\n",
    "plt.plot(pts,phantom.fs.T)\n",
    "plt.plot(pts2,p2.T)"
   ]
  },
  {
   "cell_type": "code",
   "execution_count": 28,
   "metadata": {},
   "outputs": [
    {
     "name": "stdout",
     "output_type": "stream",
     "text": [
      "Populating the interactive namespace from numpy and matplotlib\n"
     ]
    }
   ],
   "source": [
    "%pylab widget"
   ]
  },
  {
   "cell_type": "code",
   "execution_count": 39,
   "metadata": {},
   "outputs": [
    {
     "data": {
      "text/plain": [
       "2"
      ]
     },
     "execution_count": 39,
     "metadata": {},
     "output_type": "execute_result"
    }
   ],
   "source": [
    "len(p2.shape)"
   ]
  },
  {
   "cell_type": "code",
   "execution_count": 40,
   "metadata": {},
   "outputs": [
    {
     "data": {
      "text/plain": [
       "0.784"
      ]
     },
     "execution_count": 40,
     "metadata": {},
     "output_type": "execute_result"
    }
   ],
   "source": [
    "kernel.pitch"
   ]
  },
  {
   "cell_type": "code",
   "execution_count": null,
   "metadata": {},
   "outputs": [],
   "source": []
  }
 ],
 "metadata": {
  "kernelspec": {
   "display_name": "Python 3",
   "language": "python",
   "name": "python3"
  },
  "language_info": {
   "codemirror_mode": {
    "name": "ipython",
    "version": 3
   },
   "file_extension": ".py",
   "mimetype": "text/x-python",
   "name": "python",
   "nbconvert_exporter": "python",
   "pygments_lexer": "ipython3",
   "version": "3.7.6"
  },
  "presto": {
   "id": "110b0dee-a591-4d62-bdf8-8727cacef0b7"
  }
 },
 "nbformat": 4,
 "nbformat_minor": 4
}
