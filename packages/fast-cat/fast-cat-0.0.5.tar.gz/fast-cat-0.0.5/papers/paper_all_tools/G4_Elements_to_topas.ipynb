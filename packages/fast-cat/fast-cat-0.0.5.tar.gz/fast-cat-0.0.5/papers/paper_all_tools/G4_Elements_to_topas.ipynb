{
 "cells": [
  {
   "cell_type": "code",
   "execution_count": 1,
   "metadata": {},
   "outputs": [
    {
     "name": "stdout",
     "output_type": "stream",
     "text": [
      "Populating the interactive namespace from numpy and matplotlib\n"
     ]
    }
   ],
   "source": [
    "%pylab widget"
   ]
  },
  {
   "cell_type": "code",
   "execution_count": 2,
   "metadata": {},
   "outputs": [],
   "source": [
    "#!/bin/python3\n",
    "\n",
    "from physdata.xray import *  # pip install physdata\n",
    "import numpy as np\n",
    "\n",
    "element_density = []\n",
    "\n",
    "for element in fetch_elements():\n",
    "    \n",
    "    element_density.append(element.density)"
   ]
  },
  {
   "cell_type": "code",
   "execution_count": 4,
   "metadata": {},
   "outputs": [],
   "source": [
    "import re\n",
    "\n",
    "names = []\n",
    "weights = []\n",
    "elements = []\n",
    "density = []\n",
    "\n",
    "element_number = []\n",
    "# element_density = []\n",
    "\n",
    "with open('../data/geant4_materials.txt','r') as f:\n",
    "    \n",
    "    lines = f.readlines()\n",
    "        \n",
    "    for ii in range(len(lines)):\n",
    "        \n",
    "        line = lines[ii]\n",
    "        \n",
    "        if ' AddMaterial' in line:\n",
    "            \n",
    "            seps = line.split('\"')\n",
    "            \n",
    "            if len(seps) > 1:\n",
    "                \n",
    "                if len(seps[1]) > 5:\n",
    "                    \n",
    "                    jj = ii + 1\n",
    "                    \n",
    "                    if ' AddElementByAtom' in lines[jj]:\n",
    "                        continue\n",
    "                    \n",
    "                    weight = []\n",
    "                    element = []\n",
    "                    \n",
    "                    while ' AddElementByWeightFraction' in lines[jj]:\n",
    "                        \n",
    "                        numbers = re.split('[\\(\\)]',lines[jj])[1].split(',')\n",
    "                        \n",
    "                        element.append(int(numbers[0]))\n",
    "                        weight.append(float(numbers[1]))\n",
    "                        \n",
    "                        jj += 1\n",
    "                    \n",
    "                    elements.append(element)\n",
    "                    weights.append(weight)    \n",
    "                    names.append(seps[1])\n",
    "                    \n",
    "                    density.append(float(seps[2].split(',')[1]))\n",
    "                    \n",
    "                else:\n",
    "                    element_number.append(int(seps[2].split(',')[2]))\n",
    "#                     element_density.append(float(seps[2].split(',')[1]))"
   ]
  },
  {
   "cell_type": "code",
   "execution_count": 5,
   "metadata": {},
   "outputs": [],
   "source": [
    "# names_mod = [name if name[ii][1:2] == 'G4' for name in names]\n",
    "names_mod = [(name) for name in names if name[:2]!=\"G4\"]\n",
    "inds_mod = [(ii) for ii,name in enumerate(names) if name[:2]!=\"G4\"]"
   ]
  },
  {
   "cell_type": "code",
   "execution_count": 6,
   "metadata": {},
   "outputs": [],
   "source": [
    "_elements = ['Hydrogen', 'Helium', 'Lithium', 'Beryllium', 'Boron', 'Carbon', 'Nitrogen', 'Oxygen',\n",
    "             'Fluorine', 'Neon', 'Sodium', 'Magnesium', 'Aluminum', 'Silicon', 'Phosphorus', 'Sulfur', 'Chlorine',\n",
    "             'Argon', 'Potassium', 'Calcium', 'Scandium', 'Titanium', 'Vanadium', 'Chromium', 'Manganese', 'Iron',\n",
    "             'Cobalt', 'Nickel', 'Copper', 'Zinc', 'Gallium', 'Germanium', 'Arsenic', 'Selenium', 'Bromine', 'Krypton',\n",
    "             'Rubidium', 'Strontium', 'Yttrium', 'Zirconium', 'Niobium', 'Molybdenum', 'Technetium', 'Ruthenium',\n",
    "             'Rhodium', 'Palladium', 'Silver', 'Cadmium', 'Indium', 'Tin', 'Antimony', 'Tellurium', 'Iodine', 'Xenon',\n",
    "             'Cesium', 'Barium', 'Lanthanum', 'Cerium', 'Praseodymium', 'Neodymium', 'Promethium', 'Samarium',\n",
    "             'Europium', 'Gadolinium', 'Terbium', 'Dysprosium', 'Holmium', 'Erbium', 'Thulium', 'Ytterbium', 'Lutetium',\n",
    "             'Hafnium', 'Tantalum', 'Tungsten', 'Rhenium', 'Osmium', 'Iridium', 'Platinum', 'Gold', 'Mercury',\n",
    "             'Thallium', 'Lead', 'Bismuth', 'Polonium', 'Astatine', 'Radon', 'Francium', 'Radium', 'Actinium',\n",
    "             'Thorium', 'Protactinium', 'Uranium']"
   ]
  },
  {
   "cell_type": "code",
   "execution_count": 27,
   "metadata": {},
   "outputs": [],
   "source": [
    "colours = [\"TransparentBlack\",\"blue\",\"orange\",\"yellow\",\"skyblue\",\"white\",\"grey\",\"green\",\"red\"]"
   ]
  },
  {
   "cell_type": "code",
   "execution_count": 29,
   "metadata": {},
   "outputs": [],
   "source": [
    "with open('../../scintillators/XCAT/custom_materials_topas.txt','w') as f:\n",
    "    for ind in range(len(names)):\n",
    "        \n",
    "        if '-' in names[ind]:\n",
    "            continue\n",
    "        f.writelines('sv:Ma/' + 'XCAT_' + names[ind] + '/Components = ' + str(len(elements[ind]))\n",
    "               + ' \"' + '\" \"'.join([_elements[element-1] for element in elements[ind]]) + '\"' + '\\n')\n",
    "        f.writelines('uv:Ma/' + 'XCAT_' + names[ind] + '/Fractions = ' + str(len(elements[ind]))\n",
    "               + ' ' + ' '.join([str(weight) for weight in weights[ind]])+ '\\n')\n",
    "        f.writelines('d:Ma/' + 'XCAT_' + names[ind] + '/Density = ' + str(density[ind]) + ' g/cm3 \\n')\n",
    "        f.writelines('s:Ma/' + 'XCAT_' + names[ind] + '/DefaultColor = \"' + colours[ind%len(colours)] + '\"\\n' )\n",
    "        f.writelines('\\n')"
   ]
  },
  {
   "cell_type": "code",
   "execution_count": 7,
   "metadata": {},
   "outputs": [
    {
     "data": {
      "text/plain": [
       "'8\" \"6\" \"1\" \"7\" \"20\" \"15\" \"19\" \"16\" \"11\" \"17\" \"12\" \"26'"
      ]
     },
     "execution_count": 7,
     "metadata": {},
     "output_type": "execute_result"
    }
   ],
   "source": [
    "'\" \"'.join([str(element) for element in elements[ind]])"
   ]
  },
  {
   "cell_type": "code",
   "execution_count": 72,
   "metadata": {},
   "outputs": [
    {
     "data": {
      "text/plain": [
       "187"
      ]
     },
     "execution_count": 72,
     "metadata": {},
     "output_type": "execute_result"
    }
   ],
   "source": [
    "ind"
   ]
  },
  {
   "cell_type": "code",
   "execution_count": 4,
   "metadata": {},
   "outputs": [],
   "source": [
    "H = np.loadtxt('/home/xcite/fastcat-0.0.1/fastcat/data/mu/1.csv',delimiter=',')\n",
    "\n",
    "import fastcat.fastcat as fc\n",
    "\n",
    "for kk, name in enumerate(names):\n",
    "    \n",
    "    attenuations = []\n",
    "    energies = []\n",
    "    lens = []\n",
    "    \n",
    "    for weight, element in zip(weights[kk],elements[kk]):\n",
    "        \n",
    "        attenuation = np.loadtxt('/home/xcite/fastcat-0.0.1/fastcat/data/mu/'+str(element)+'.csv',delimiter=',')[1]\n",
    "        attenuation = attenuation/element_density[element-1]*weight\n",
    "        \n",
    "#         print(element_density[element-1])\n",
    "        \n",
    "        attenuations.append(attenuation)\n",
    "        energies.append(np.loadtxt('/home/xcite/fastcat-0.0.1/fastcat/data/mu/'+str(element)+'.csv',delimiter=',')[0])\n",
    "        lens.append(len(attenuation))\n",
    "        \n",
    "    if max(lens) == 36:\n",
    "        \n",
    "        attenuation_all = np.zeros([2,len(H[0])])\n",
    "        attenuation_all[0] = H[0]\n",
    "        \n",
    "        for ii in range(len(attenuations)):\n",
    "            \n",
    "            attenuation_all[1] += attenuations[ii]\n",
    "        \n",
    "    else:\n",
    "        \n",
    "        energies_larger = np.unique(np.hstack(energies))\n",
    "        \n",
    "        attenuation_all = np.zeros([2,len(energies_larger)])\n",
    "        attenuation_all[0] = energies_larger\n",
    "        \n",
    "        for ii in range(len(attenuations)):\n",
    "            \n",
    "            f = fc.log_interp_1d(energies[ii],attenuations[ii])\n",
    "            \n",
    "            attenuation_all[1] += f(energies_larger)\n",
    "            \n",
    "        \n",
    "    attenuation_all[1] *= density[kk]\n",
    "    np.savetxt('elements/'+name+\".csv\",attenuation_all, fmt=\"%.8G\",delimiter=\",\")\n",
    "    \n",
    "#     if name == 'G4_TEFLON':\n",
    "#         break"
   ]
  },
  {
   "cell_type": "code",
   "execution_count": 7,
   "metadata": {},
   "outputs": [],
   "source": [
    "!mv elements/* ../fastcat/data/mu/"
   ]
  },
  {
   "cell_type": "code",
   "execution_count": 197,
   "metadata": {},
   "outputs": [
    {
     "data": {
      "text/plain": [
       "array([5.649e+03, 1.979e+03, 9.047e+02, 2.888e+02, 1.256e+02, 6.514e+01,\n",
       "       3.789e+01, 1.602e+01, 8.205e+00, 2.492e+00, 1.133e+00, 4.487e-01,\n",
       "       2.828e-01, 2.214e-01, 1.920e-01, 1.639e-01, 1.496e-01, 1.298e-01,\n",
       "       1.176e-01, 1.015e-01, 9.073e-02, 8.274e-02, 7.649e-02, 6.717e-02,\n",
       "       6.037e-02, 5.399e-02, 4.915e-02, 4.228e-02, 3.422e-02, 2.960e-02,\n",
       "       2.663e-02, 2.457e-02, 2.195e-02, 2.039e-02, 1.846e-02, 1.769e-02])"
      ]
     },
     "execution_count": 197,
     "metadata": {},
     "output_type": "execute_result"
    }
   ],
   "source": [
    "np.loadtxt('/home/xcite/xpecgen/xpecgen/data/mu/'+'9'+'.csv',delimiter=',')[1]/element_density[8]"
   ]
  },
  {
   "cell_type": "code",
   "execution_count": 202,
   "metadata": {},
   "outputs": [
    {
     "data": {
      "text/plain": [
       "array([1.0612536e+04, 3.6785936e+03, 1.6724312e+03, 5.3056784e+02,\n",
       "       2.2995104e+02, 1.1900944e+02, 6.9133680e+01, 2.9201568e+01,\n",
       "       1.4971704e+01, 4.5927728e+00, 2.1277520e+00, 8.8550000e-01,\n",
       "       5.8245440e-01, 4.6896960e-01, 4.1358240e-01, 3.5904880e-01,\n",
       "       3.3007040e-01, 2.8814720e-01, 2.6151840e-01, 2.2599280e-01,\n",
       "       2.0210344e-01, 1.8435648e-01, 1.7043752e-01, 1.4966952e-01,\n",
       "       1.3452472e-01, 1.2031448e-01, 1.0952392e-01, 9.4145920e-02,\n",
       "       7.6023200e-02, 6.5579360e-02, 5.8823600e-02, 5.4117360e-02,\n",
       "       4.8073520e-02, 4.4435600e-02, 3.9830560e-02, 3.7893680e-02])"
      ]
     },
     "execution_count": 202,
     "metadata": {},
     "output_type": "execute_result"
    }
   ],
   "source": [
    "(np.loadtxt('/home/xcite/xpecgen/xpecgen/data/mu/'+'9'+'.csv',delimiter=',')[1]/element_density[8]*.76 +\n",
    " np.loadtxt('/home/xcite/xpecgen/xpecgen/data/mu/'+'6'+'.csv',delimiter=',')[1]/element_density[5]*.24)*density[kk]"
   ]
  },
  {
   "cell_type": "code",
   "execution_count": 205,
   "metadata": {},
   "outputs": [
    {
     "data": {
      "text/plain": [
       "array([1.06111519e+04, 3.67807876e+03, 1.67218879e+03, 5.30487936e+02,\n",
       "       2.29915684e+02, 1.18990912e+02, 6.91228340e+01, 2.91969606e+01,\n",
       "       1.49693560e+01, 4.59209446e+00, 2.12747380e+00, 8.85422499e-01,\n",
       "       5.82424124e-01, 4.68955791e-01, 4.13575677e-01, 3.59047632e-01,\n",
       "       3.30071125e-01, 2.88149173e-01, 2.61520534e-01, 2.25994853e-01,\n",
       "       2.02105344e-01, 1.84358255e-01, 1.70439167e-01, 1.49670965e-01,\n",
       "       1.34526024e-01, 1.20315652e-01, 1.09524983e-01, 9.41467816e-02,\n",
       "       7.60237636e-02, 6.55797103e-02, 5.88237812e-02, 5.41174083e-02,\n",
       "       4.80733549e-02, 4.44352779e-02, 3.98299642e-02, 3.78928990e-02])"
      ]
     },
     "execution_count": 205,
     "metadata": {},
     "output_type": "execute_result"
    }
   ],
   "source": [
    "attenuation_all[1]"
   ]
  },
  {
   "cell_type": "code",
   "execution_count": 188,
   "metadata": {},
   "outputs": [
    {
     "data": {
      "text/plain": [
       "0.240183"
      ]
     },
     "execution_count": 188,
     "metadata": {},
     "output_type": "execute_result"
    }
   ],
   "source": [
    "weights[kk][0]"
   ]
  },
  {
   "cell_type": "code",
   "execution_count": 75,
   "metadata": {},
   "outputs": [],
   "source": [
    "physdata.xray.ElementData()"
   ]
  },
  {
   "cell_type": "code",
   "execution_count": 67,
   "metadata": {},
   "outputs": [
    {
     "data": {
      "text/plain": [
       "(36,)"
      ]
     },
     "execution_count": 67,
     "metadata": {},
     "output_type": "execute_result"
    }
   ],
   "source": [
    "H[0].shape"
   ]
  },
  {
   "cell_type": "code",
   "execution_count": 69,
   "metadata": {},
   "outputs": [
    {
     "data": {
      "text/plain": [
       "[1, 6, 7, 8, 9, 20]"
      ]
     },
     "execution_count": 69,
     "metadata": {},
     "output_type": "execute_result"
    }
   ],
   "source": [
    "elements[kk]"
   ]
  },
  {
   "cell_type": "code",
   "execution_count": null,
   "metadata": {},
   "outputs": [],
   "source": []
  }
 ],
 "metadata": {
  "kernelspec": {
   "display_name": "Python 3",
   "language": "python",
   "name": "python3"
  },
  "language_info": {
   "codemirror_mode": {
    "name": "ipython",
    "version": 3
   },
   "file_extension": ".py",
   "mimetype": "text/x-python",
   "name": "python",
   "nbconvert_exporter": "python",
   "pygments_lexer": "ipython3",
   "version": "3.7.6"
  },
  "toc": {
   "base_numbering": 1,
   "nav_menu": {},
   "number_sections": true,
   "sideBar": true,
   "skip_h1_title": false,
   "title_cell": "Table of Contents",
   "title_sidebar": "Contents",
   "toc_cell": false,
   "toc_position": {},
   "toc_section_display": true,
   "toc_window_display": false
  },
  "varInspector": {
   "cols": {
    "lenName": "16",
    "lenType": "3",
    "lenVar": "20"
   },
   "kernels_config": {
    "python": {
     "delete_cmd_postfix": "",
     "delete_cmd_prefix": "del ",
     "library": "var_list.py",
     "varRefreshCmd": "print(var_dic_list())"
    },
    "r": {
     "delete_cmd_postfix": ") ",
     "delete_cmd_prefix": "rm(",
     "library": "var_list.r",
     "varRefreshCmd": "cat(var_dic_list()) "
    }
   },
   "types_to_exclude": [
    "module",
    "function",
    "builtin_function_or_method",
    "instance",
    "_Feature"
   ],
   "window_display": false
  }
 },
 "nbformat": 4,
 "nbformat_minor": 4
}
