{
 "cells": [
  {
   "cell_type": "code",
   "execution_count": 1,
   "metadata": {},
   "outputs": [
    {
     "name": "stdout",
     "output_type": "stream",
     "text": [
      "Populating the interactive namespace from numpy and matplotlib\n"
     ]
    }
   ],
   "source": [
    "%pylab nbagg"
   ]
  },
  {
   "cell_type": "code",
   "execution_count": 57,
   "metadata": {},
   "outputs": [],
   "source": [
    "def create_circular_mask(x, y, r, index, image, material):\n",
    "    \n",
    "    h,w = image.shape\n",
    "    \n",
    "    scale = 10\n",
    "    \n",
    "    center = [x*int(w/2)/scale + int(w/2),y*int(h/2)/scale + int(h/2)]\n",
    "\n",
    "    if center is None: # use the middle of the image\n",
    "        center = (int(w/2), int(h/2))\n",
    "    if r is None: # use the smallest distance between the center and image walls\n",
    "        radius = min(center[0], center[1], w-center[0], h-center[1])\n",
    "\n",
    "    Y, X = np.ogrid[:h, :w]\n",
    "    dist_from_center = np.sqrt((X - center[0])**2 + (Y-center[1])**2)\n",
    "\n",
    "    mask = dist_from_center <= r*int(w/2)/scale\n",
    "    \n",
    "    \n",
    "    image[mask] = index"
   ]
  },
  {
   "cell_type": "code",
   "execution_count": 58,
   "metadata": {},
   "outputs": [],
   "source": [
    "    \n",
    "def create_circular_mask(x, y, r, index, image, material):\n",
    "    \n",
    "    Insert = 'Insert' + str(index)\n",
    "    \n",
    "    topas_string = f'''\n",
    "s:Ge/{Insert}/Type     = \"TsCylinder\"\n",
    "s:Ge/{Insert}/Parent = \"InsertGroup\"\n",
    "b:Ge/{Insert}/IsParallel = \"True\"\n",
    "s:Ge/{Insert}/ParallelWorldName = \"Inserts\"\n",
    "s:Ge/{Insert}/Material = \"{material}\"\n",
    "d:Ge/{Insert}/RMin = 0.0 cm\n",
    "d:Ge/{Insert}/RMax = {r} cm\n",
    "d:Ge/{Insert}/HL = 10. cm #3 mm long\n",
    "d:Ge/{Insert}/SPhi = 0. deg\n",
    "d:Ge/{Insert}/DPhi = 360. deg\n",
    "d:Ge/{Insert}/TransX = 0. cm\n",
    "d:Ge/{Insert}/TransY = {np.round(y,6)} cm\n",
    "d:Ge/{Insert}/TransZ = {np.round(x,6)} cm\n",
    "d:Ge/{Insert}/RotX = 0. deg\n",
    "d:Ge/{Insert}/RotY = 90. deg\n",
    "d:Ge/{Insert}/RotZ = 0. deg\n",
    "'''\n",
    "    \n",
    "    with open('/home/xcite/scintillators/MV_CBCT_exp/inserts.txt','a') as f:\n",
    "        \n",
    "        f.write(topas_string)"
   ]
  },
  {
   "cell_type": "code",
   "execution_count": 65,
   "metadata": {},
   "outputs": [],
   "source": [
    "f = open('/home/xcite/scintillators/MV_CBCT_exp/inserts.txt','w')\n",
    "\n",
    "f.write('''\n",
    "s:Ge/InsertGroup/Type=\"Group\"\n",
    "s:Ge/InsertGroup/Parent = \"World\"\n",
    "d:Ge/InsertGroup/TransX=0. m\n",
    "d:Ge/InsertGroup/TransY=0. m\n",
    "d:Ge/InsertGroup/TransZ=0. m\n",
    "d:Ge/InsertGroup/RotX=0. deg\n",
    "d:Ge/InsertGroup/RotY=0. deg\n",
    "\n",
    "\n",
    "# d:Tf/TimelineEnd = 360. ms\n",
    "# i:Tf/NumberOfSequentialTimes = 360\n",
    "# s:Tf/beam_energy/Function = \"Step\"\n",
    "# dv:Tf/beam_energy/Times = 360 1 2 3 4 5 6 7 8 9 10 11 12 13 14 15 16 17 18 19 20 21 22 23 24 25 26 27 28 29 30 31 32 33 34 35 36 37 38 39 40 41 42 43 44 45 46 47 48 49 50 51 52 53 54 55 56 57 58 59 60 61 62 63 64 65 66 67 68 69 70 71 72 73 74 75 76 77 78 79 80 81 82 83 84 85 86 87 88 89 90 91 92 93 94 95 96 97 98 99 100 101 102 103 104 105 106 107 108 109 110 111 112 113 114 115 116 117 118 119 120 121 122 123 124 125 126 127 128 129 130 131 132 133 134 135 136 137 138 139 140 141 142 143 144 145 146 147 148 149 150 151 152 153 154 155 156 157 158 159 160 161 162 163 164 165 166 167 168 169 170 171 172 173 174 175 176 177 178 179 180 181 182 183 184 185 186 187 188 189 190 191 192 193 194 195 196 197 198 199 200 201 202 203 204 205 206 207 208 209 210 211 212 213 214 215 216 217 218 219 220 221 222 223 224 225 226 227 228 229 230 231 232 233 234 235 236 237 238 239 240 241 242 243 244 245 246 247 248 249 250 251 252 253 254 255 256 257 258 259 260 261 262 263 264 265 266 267 268 269 270 271 272 273 274 275 276 277 278 279 280 281 282 283 284 285 286 287 288 289 290 291 292 293 294 295 296 297 298 299 300 301 302 303 304 305 306 307 308 309 310 311 312 313 314 315 316 317 318 319 320 321 322 323 324 325 326 327 328 329 330 331 332 333 334 335 336 337 338 339 340 341 342 343 344 345 346 347 348 349 350 351 352 353 354 355 356 357 358 359 360 ms\n",
    "# dv:Tf/beam_energy/Values = 360 1 2 3 4 5 6 7 8 9 10 11 12 13 14 15 16 17 18 19 20 21 22 23 24 25 26 27 28 29 30 31 32 33 34 35 36 37 38 39 40 41 42 43 44 45 46 47 48 49 50 51 52 53 54 55 56 57 58 59 60 61 62 63 64 65 66 67 68 69 70 71 72 73 74 75 76 77 78 79 80 81 82 83 84 85 86 87 88 89 90 91 92 93 94 95 96 97 98 99 100 101 102 103 104 105 106 107 108 109 110 111 112 113 114 115 116 117 118 119 120 121 122 123 124 125 126 127 128 129 130 131 132 133 134 135 136 137 138 139 140 141 142 143 144 145 146 147 148 149 150 151 152 153 154 155 156 157 158 159 160 161 162 163 164 165 166 167 168 169 170 171 172 173 174 175 176 177 178 179 180 181 182 183 184 185 186 187 188 189 190 191 192 193 194 195 196 197 198 199 200 201 202 203 204 205 206 207 208 209 210 211 212 213 214 215 216 217 218 219 220 221 222 223 224 225 226 227 228 229 230 231 232 233 234 235 236 237 238 239 240 241 242 243 244 245 246 247 248 249 250 251 252 253 254 255 256 257 258 259 260 261 262 263 264 265 266 267 268 269 270 271 272 273 274 275 276 277 278 279 280 281 282 283 284 285 286 287 288 289 290 291 292 293 294 295 296 297 298 299 300 301 302 303 304 305 306 307 308 309 310 311 312 313 314 315 316 317 318 319 320 321 322 323 324 325 326 327 328 329 330 331 332 333 334 335 336 337 338 339 340 341 342 343 344 345 346 347 348 349 350 351 352 353 354 355 356 357 358 359 360 deg\n",
    "\n",
    "''')\n",
    "\n",
    "f.close()"
   ]
  },
  {
   "cell_type": "code",
   "execution_count": 66,
   "metadata": {},
   "outputs": [],
   "source": [
    "# im = np.zeros([512,512])\n",
    "im = np.zeros([256,256])\n",
    "ii = 1\n",
    "\n",
    "# CTMAT(x) formel=H2O dichte=x\n",
    "LEN = 100\n",
    "\n",
    "A0  = 90.0*np.pi/180\n",
    "\n",
    "materials = ['CATPHAN_B20','CATPHAN_Delrin','G4_WATER','CATPHAN_Teflon',\n",
    "             'G4_AIR','CATPHAN_PMP','CATPHAN_B50','CATPHAN_LDPE','G4_WATER',\n",
    "             'CATPHAN_Polystyrene','G4_AIR','CATPHAN_Acrylic'] \n",
    "\n",
    "rad = 5.75\n",
    "\n",
    "for ii,jj in enumerate([2,3,4,5,6,7,8,9,10,11,12,13]):\n",
    "    \n",
    "    m = materials[ii]\n",
    "\n",
    "    # ++++ supra-slice 1.0% targets +++++++++++++++++++++++++++++++++++++++ */\n",
    "    create_circular_mask(x= rad*cos(A0+jj/6*np.pi),  y= rad*sin(A0+jj/6*np.pi),\n",
    "                         r=0.6, index = ii +2, image = im, material = m)"
   ]
  },
  {
   "cell_type": "code",
   "execution_count": 62,
   "metadata": {},
   "outputs": [],
   "source": [
    "import re\n",
    "\n",
    "names = []\n",
    "weights = []\n",
    "elements = []\n",
    "density = []\n",
    "\n",
    "element_number = []\n",
    "# element_density = []\n",
    "\n",
    "with open('data/geant4_materials.txt','r') as f:\n",
    "    \n",
    "    lines = f.readlines()\n",
    "        \n",
    "    for ii in range(len(lines)):\n",
    "        \n",
    "        line = lines[ii]\n",
    "        \n",
    "        if ' AddMaterial' in line:\n",
    "            \n",
    "            seps = line.split('\"')\n",
    "            \n",
    "            if len(seps) > 1:\n",
    "                \n",
    "                if len(seps[1]) > 5:\n",
    "                    \n",
    "                    jj = ii + 1\n",
    "                    \n",
    "                    if ' AddElementByAtom' in lines[jj]:\n",
    "                        continue\n",
    "                    \n",
    "                    weight = []\n",
    "                    element = []\n",
    "                    \n",
    "                    while ' AddElementByWeightFraction' in lines[jj]:\n",
    "                        \n",
    "                        numbers = re.split('[\\(\\)]',lines[jj])[1].split(',')\n",
    "                        \n",
    "                        element.append(int(numbers[0]))\n",
    "                        weight.append(float(numbers[1]))\n",
    "                        \n",
    "                        jj += 1\n",
    "                    \n",
    "                    elements.append(element)\n",
    "                    weights.append(weight)    \n",
    "                    names.append(seps[1])\n",
    "                    \n",
    "                    density.append(float(seps[2].split(',')[1]))\n",
    "                    \n",
    "                else:\n",
    "                    element_number.append(int(seps[2].split(',')[2]))"
   ]
  },
  {
   "cell_type": "code",
   "execution_count": 63,
   "metadata": {},
   "outputs": [],
   "source": [
    "_elements = ['Nihil', 'Hydrogen', 'Helium', 'Lithium', 'Beryllium', 'Boron', 'Carbon', 'Nitrogen', 'Oxygen',\n",
    "             'Fluorine', 'Neon', 'Sodium', 'Magnesium', 'Aluminum', 'Silicon', 'Phosphorus', 'Sulfur', 'Chlorine',\n",
    "             'Argon', 'Potassium', 'Calcium', 'Scandium', 'Titanium', 'Vanadium', 'Chromium', 'Manganese', 'Iron',\n",
    "             'Cobalt', 'Nickel', 'Copper', 'Zinc', 'Gallium', 'Germanium', 'Arsenic', 'Selenium', 'Bromine', 'Krypton',\n",
    "             'Rubidium', 'Strontium', 'Yttrium', 'Zirconium', 'Niobium', 'Molybdenum', 'Technetium', 'Ruthenium',\n",
    "             'Rhodium', 'Palladium', 'Silver', 'Cadmium', 'Indium', 'Tin', 'Antimony', 'Tellurium', 'Iodine', 'Xenon',\n",
    "             'Cesium', 'Barium', 'Lanthanum', 'Cerium', 'Praseodymium', 'Neodymium', 'Promethium', 'Samarium',\n",
    "             'Europium', 'Gadolinium', 'Terbium', 'Dysprosium', 'Holmium', 'Erbium', 'Thulium', 'Ytterbium', 'Lutetium',\n",
    "             'Hafnium', 'Tantalum', 'Tungsten', 'Rhenium', 'Osmium', 'Iridium', 'Platinum', 'Gold', 'Mercury',\n",
    "             'Thallium', 'Lead', 'Bismuth', 'Polonium', 'Astatine', 'Radon', 'Francium', 'Radium', 'Actinium',\n",
    "             'Thorium', 'Protactinium', 'Uranium']\n",
    "\n",
    "with open('/home/xcite/scintillators/MV_CBCT_exp/Ma_Catphan_404.txt','wt') as f:\n",
    "    for ii,name in enumerate(names[5:13]):\n",
    "        \n",
    "        topas_string = f'''\n",
    "sv:Ma/{name}/Components = {len(weights[ii+5])} \"{'\" \"'.join([_elements[element] for element in elements[ii+5]])}\"\n",
    "uv:Ma/{name}/Fractions = {len(weights[ii+5])} {' '.join([str(weight) for weight in weights[ii+5]])}\n",
    "d:Ma/{name}/Density = {density[ii+5]} g/cm3\n",
    "s:Ma/{name}/DefaultColor = \"lime\"\n",
    "'''\n",
    "        f.write(topas_string)"
   ]
  }
 ],
 "metadata": {
  "kernelspec": {
   "display_name": "Python 3",
   "language": "python",
   "name": "python3"
  },
  "language_info": {
   "codemirror_mode": {
    "name": "ipython",
    "version": 3
   },
   "file_extension": ".py",
   "mimetype": "text/x-python",
   "name": "python",
   "nbconvert_exporter": "python",
   "pygments_lexer": "ipython3",
   "version": "3.7.6"
  },
  "toc": {
   "base_numbering": 1,
   "nav_menu": {},
   "number_sections": true,
   "sideBar": true,
   "skip_h1_title": false,
   "title_cell": "Table of Contents",
   "title_sidebar": "Contents",
   "toc_cell": false,
   "toc_position": {},
   "toc_section_display": true,
   "toc_window_display": false
  },
  "varInspector": {
   "cols": {
    "lenName": "16",
    "lenType": "3",
    "lenVar": "20"
   },
   "kernels_config": {
    "python": {
     "delete_cmd_postfix": "",
     "delete_cmd_prefix": "del ",
     "library": "var_list.py",
     "varRefreshCmd": "print(var_dic_list())"
    },
    "r": {
     "delete_cmd_postfix": ") ",
     "delete_cmd_prefix": "rm(",
     "library": "var_list.r",
     "varRefreshCmd": "cat(var_dic_list()) "
    }
   },
   "types_to_exclude": [
    "module",
    "function",
    "builtin_function_or_method",
    "instance",
    "_Feature"
   ],
   "window_display": false
  }
 },
 "nbformat": 4,
 "nbformat_minor": 4
}
