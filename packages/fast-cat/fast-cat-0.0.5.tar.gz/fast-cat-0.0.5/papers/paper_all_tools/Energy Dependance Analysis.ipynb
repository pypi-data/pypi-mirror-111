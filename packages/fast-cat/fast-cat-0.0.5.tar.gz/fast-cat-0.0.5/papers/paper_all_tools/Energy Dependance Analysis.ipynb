{
 "cells": [
  {
   "cell_type": "markdown",
   "metadata": {},
   "source": [
    "# Initialize"
   ]
  },
  {
   "cell_type": "code",
   "execution_count": 1,
   "metadata": {},
   "outputs": [
    {
     "name": "stdout",
     "output_type": "stream",
     "text": [
      "Populating the interactive namespace from numpy and matplotlib\n"
     ]
    }
   ],
   "source": [
    "%pylab widget\n",
    "\n",
    "import fastcat.fastcat as fc\n",
    "from glob import glob"
   ]
  },
  {
   "cell_type": "markdown",
   "metadata": {},
   "source": [
    "# Get many MTF curves "
   ]
  },
  {
   "cell_type": "code",
   "execution_count": 2,
   "metadata": {},
   "outputs": [
    {
     "name": "stdout",
     "output_type": "stream",
     "text": [
      "Calculation:  1 / 50\n",
      "Calculation:  2 / 50\n",
      "Calculation:  3 / 50\n",
      "Calculation:  4 / 50\n",
      "Calculation:  5 / 50\n",
      "Calculation:  6 / 50\n",
      "Calculation:  7 / 50\n",
      "Calculation:  8 / 50\n",
      "Calculation:  9 / 50\n",
      "Calculation:  10 / 50\n",
      "Calculation:  11 / 50\n",
      "Calculation:  12 / 50\n",
      "Calculation:  13 / 50\n",
      "Calculation:  14 / 50\n",
      "Calculation:  15 / 50\n",
      "Calculation:  16 / 50\n",
      "Calculation:  17 / 50\n",
      "Calculation:  18 / 50\n",
      "Calculation:  19 / 50\n",
      "Calculation:  20 / 50\n",
      "Calculation:  21 / 50\n",
      "Calculation:  22 / 50\n",
      "Calculation:  23 / 50\n",
      "Calculation:  24 / 50\n",
      "Calculation:  25 / 50\n",
      "Calculation:  26 / 50\n",
      "Calculation:  27 / 50\n",
      "Calculation:  28 / 50\n",
      "Calculation:  29 / 50\n",
      "Calculation:  30 / 50\n",
      "Calculation:  31 / 50\n",
      "Calculation:  32 / 50\n",
      "Calculation:  33 / 50\n",
      "Calculation:  34 / 50\n",
      "Calculation:  35 / 50\n",
      "Calculation:  36 / 50\n",
      "Calculation:  37 / 50\n",
      "Calculation:  38 / 50\n",
      "Calculation:  39 / 50\n",
      "Calculation:  40 / 50\n",
      "Calculation:  41 / 50\n",
      "Calculation:  42 / 50\n",
      "Calculation:  43 / 50\n",
      "Calculation:  44 / 50\n",
      "Calculation:  45 / 50\n",
      "Calculation:  46 / 50\n",
      "Calculation:  47 / 50\n",
      "Calculation:  48 / 50\n",
      "Calculation:  49 / 50\n",
      "Calculation:  50 / 50\n",
      "(19, 19, 19) 19\n",
      "(17, 25, 25) 17\n",
      "(19, 41, 41) 19\n",
      "(19, 19, 19) 19\n",
      "(17, 25, 25) 17\n",
      "(19, 41, 41) 19\n",
      "(19, 19, 19) 19\n",
      "(17, 25, 25) 17\n",
      "(19, 41, 41) 19\n",
      "(19, 19, 19) 19\n",
      "(17, 25, 25) 17\n",
      "(19, 41, 41) 19\n",
      "(19, 19, 19) 19\n",
      "(17, 25, 25) 17\n",
      "(19, 41, 41) 19\n"
     ]
    }
   ],
   "source": [
    "s = fc.Spectrum()\n",
    "\n",
    "contrasts = []\n",
    "mtfs = []\n",
    "label = []\n",
    "weights = []\n",
    "\n",
    "spectra = [ 'kv',\n",
    " '../fastcat/data/MV_spectra/C_spectrum_25.txt',\n",
    " '../fastcat/data/MV_spectra/C_spectrum_6.txt',\n",
    " '../fastcat/data/MV_spectra/W_spectrum_25.txt',\n",
    " '../fastcat/data/MV_spectra/W_spectrum_6.txt']\n",
    "\n",
    "MV_detectors = [\n",
    " '../fastcat/data/Detectors/CsI-784-micrometer',\n",
    " '../fastcat/data/Detectors/CWO-784-micrometer',\n",
    " '../fastcat/data/Detectors/CuGOS-784-micrometer']\n",
    "\n",
    "phan_map = [\n",
    "    'air',\n",
    "    'G4_MUSCLE_SKELETAL_ICRP',\n",
    "    'Spongiosa_Bone_ICRP',\n",
    "    'LIVER_ICRP',\n",
    "    'lung',\n",
    "    'G4_ADIPOSE_TISSUE_ICRP',\n",
    "    'G4_BONE_COMPACT_ICRU',\n",
    "    'Spongiosa_Bone_ICRP'\n",
    "]\n",
    "\n",
    "s0 = fc.calculate_spectrum(100, 12, 3, 50)\n",
    "s0.attenuate(0.2,fc.get_mu(z=13))\n",
    "\n",
    "xes = []\n",
    "\n",
    "\n",
    "for spectrum in spectra:\n",
    "    for det in MV_detectors:\n",
    "\n",
    "        if len(spectrum) > 4:\n",
    "            s.load(spectrum.split('/')[-1].split('.')[0])\n",
    "        else:\n",
    "            s = s0\n",
    "        kernel = fc.Kernel(s, det.split('/')[-1].split('.')[0])\n",
    "        weights.append(kernel.weights)\n",
    "        label.append([spectrum,det])\n",
    "        xes.append(s.x)"
   ]
  },
  {
   "cell_type": "code",
   "execution_count": 5,
   "metadata": {
    "scrolled": true
   },
   "outputs": [
    {
     "data": {
      "application/vnd.jupyter.widget-view+json": {
       "model_id": "60bce36bd1744ad58d09a696266a47a2",
       "version_major": 2,
       "version_minor": 0
      },
      "text/plain": [
       "Canvas(toolbar=Toolbar(toolitems=[('Home', 'Reset original view', 'home', 'home'), ('Back', 'Back to previous …"
      ]
     },
     "metadata": {},
     "output_type": "display_data"
    },
    {
     "data": {
      "application/vnd.jupyter.widget-view+json": {
       "model_id": "6a94e1e1421b47049fa75d07a175c748",
       "version_major": 2,
       "version_minor": 0
      },
      "text/plain": [
       "Canvas(toolbar=Toolbar(toolitems=[('Home', 'Reset original view', 'home', 'home'), ('Back', 'Back to previous …"
      ]
     },
     "metadata": {},
     "output_type": "display_data"
    },
    {
     "data": {
      "application/vnd.jupyter.widget-view+json": {
       "model_id": "1613c52c37c9433aae4bdf24713691f3",
       "version_major": 2,
       "version_minor": 0
      },
      "text/plain": [
       "Canvas(toolbar=Toolbar(toolitems=[('Home', 'Reset original view', 'home', 'home'), ('Back', 'Back to previous …"
      ]
     },
     "metadata": {},
     "output_type": "display_data"
    },
    {
     "data": {
      "application/vnd.jupyter.widget-view+json": {
       "model_id": "ef04773367ed4de49968fee2452c164a",
       "version_major": 2,
       "version_minor": 0
      },
      "text/plain": [
       "Canvas(toolbar=Toolbar(toolitems=[('Home', 'Reset original view', 'home', 'home'), ('Back', 'Back to previous …"
      ]
     },
     "metadata": {},
     "output_type": "display_data"
    },
    {
     "data": {
      "application/vnd.jupyter.widget-view+json": {
       "model_id": "0784d19a49684d079b6a6f538b65dd2e",
       "version_major": 2,
       "version_minor": 0
      },
      "text/plain": [
       "Canvas(toolbar=Toolbar(toolitems=[('Home', 'Reset original view', 'home', 'home'), ('Back', 'Back to previous …"
      ]
     },
     "metadata": {},
     "output_type": "display_data"
    },
    {
     "data": {
      "application/vnd.jupyter.widget-view+json": {
       "model_id": "1eac579fccf64982ad38e7fd1ab7e166",
       "version_major": 2,
       "version_minor": 0
      },
      "text/plain": [
       "Canvas(toolbar=Toolbar(toolitems=[('Home', 'Reset original view', 'home', 'home'), ('Back', 'Back to previous …"
      ]
     },
     "metadata": {},
     "output_type": "display_data"
    },
    {
     "data": {
      "application/vnd.jupyter.widget-view+json": {
       "model_id": "1fe3bd5a181944b182c8f4cdd4211a11",
       "version_major": 2,
       "version_minor": 0
      },
      "text/plain": [
       "Canvas(toolbar=Toolbar(toolitems=[('Home', 'Reset original view', 'home', 'home'), ('Back', 'Back to previous …"
      ]
     },
     "metadata": {},
     "output_type": "display_data"
    },
    {
     "data": {
      "application/vnd.jupyter.widget-view+json": {
       "model_id": "c82eaf27f75e44468b76ad5469159cea",
       "version_major": 2,
       "version_minor": 0
      },
      "text/plain": [
       "Canvas(toolbar=Toolbar(toolitems=[('Home', 'Reset original view', 'home', 'home'), ('Back', 'Back to previous …"
      ]
     },
     "metadata": {},
     "output_type": "display_data"
    },
    {
     "data": {
      "application/vnd.jupyter.widget-view+json": {
       "model_id": "557f677339274640a4e880a53f226aaf",
       "version_major": 2,
       "version_minor": 0
      },
      "text/plain": [
       "Canvas(toolbar=Toolbar(toolitems=[('Home', 'Reset original view', 'home', 'home'), ('Back', 'Back to previous …"
      ]
     },
     "metadata": {},
     "output_type": "display_data"
    },
    {
     "data": {
      "application/vnd.jupyter.widget-view+json": {
       "model_id": "9b0896674b5e46ebb21fc88be47c0bbb",
       "version_major": 2,
       "version_minor": 0
      },
      "text/plain": [
       "Canvas(toolbar=Toolbar(toolitems=[('Home', 'Reset original view', 'home', 'home'), ('Back', 'Back to previous …"
      ]
     },
     "metadata": {},
     "output_type": "display_data"
    },
    {
     "data": {
      "application/vnd.jupyter.widget-view+json": {
       "model_id": "38c5256efbc444f29ae165899a43f83a",
       "version_major": 2,
       "version_minor": 0
      },
      "text/plain": [
       "Canvas(toolbar=Toolbar(toolitems=[('Home', 'Reset original view', 'home', 'home'), ('Back', 'Back to previous …"
      ]
     },
     "metadata": {},
     "output_type": "display_data"
    },
    {
     "data": {
      "application/vnd.jupyter.widget-view+json": {
       "model_id": "6e89bf9958bc4fa38110c7d3f351f256",
       "version_major": 2,
       "version_minor": 0
      },
      "text/plain": [
       "Canvas(toolbar=Toolbar(toolitems=[('Home', 'Reset original view', 'home', 'home'), ('Back', 'Back to previous …"
      ]
     },
     "metadata": {},
     "output_type": "display_data"
    },
    {
     "data": {
      "application/vnd.jupyter.widget-view+json": {
       "model_id": "7cabe2df18d84de588813670a6a616e9",
       "version_major": 2,
       "version_minor": 0
      },
      "text/plain": [
       "Canvas(toolbar=Toolbar(toolitems=[('Home', 'Reset original view', 'home', 'home'), ('Back', 'Back to previous …"
      ]
     },
     "metadata": {},
     "output_type": "display_data"
    },
    {
     "data": {
      "application/vnd.jupyter.widget-view+json": {
       "model_id": "4391501f66ff465da25f7819a579edf1",
       "version_major": 2,
       "version_minor": 0
      },
      "text/plain": [
       "Canvas(toolbar=Toolbar(toolitems=[('Home', 'Reset original view', 'home', 'home'), ('Back', 'Back to previous …"
      ]
     },
     "metadata": {},
     "output_type": "display_data"
    },
    {
     "data": {
      "application/vnd.jupyter.widget-view+json": {
       "model_id": "ad787a6a162b4b9f8a61d0f1f2d574e0",
       "version_major": 2,
       "version_minor": 0
      },
      "text/plain": [
       "Canvas(toolbar=Toolbar(toolitems=[('Home', 'Reset original view', 'home', 'home'), ('Back', 'Back to previous …"
      ]
     },
     "metadata": {},
     "output_type": "display_data"
    },
    {
     "data": {
      "application/vnd.jupyter.widget-view+json": {
       "model_id": "0ae4fdab21ef45ce8c2be2ce48730b17",
       "version_major": 2,
       "version_minor": 0
      },
      "text/plain": [
       "Canvas(toolbar=Toolbar(toolitems=[('Home', 'Reset original view', 'home', 'home'), ('Back', 'Back to previous …"
      ]
     },
     "metadata": {},
     "output_type": "display_data"
    }
   ],
   "source": [
    "ims = np.load('../data_second_paper/recons_by_energy.npy')\n",
    "\n",
    "for ii in range(16):\n",
    "    plt.figure()\n",
    "    \n",
    "    mm = np.mean(ims[ii][15,307:350,401:446,])\n",
    "    mm_air = np.mean(ims[ii][15,400:,400:])\n",
    "    \n",
    "    im_HU = (ims[ii][15] - mm)/(mm_air - mm)*-1000\n",
    "    \n",
    "#     plt.imshow(sc[:,:,15],cmap='gray',vmax=mm+3*ss,vmin=mm-3*ss)\n",
    "    plt.imshow(im_HU[150:390,:],cmap='bone',vmax=240,vmin=-160)"
   ]
  },
  {
   "cell_type": "code",
   "execution_count": 8,
   "metadata": {},
   "outputs": [
    {
     "data": {
      "application/vnd.jupyter.widget-view+json": {
       "model_id": "0d7ab04b1fe54465b0f07ef5e8c11288",
       "version_major": 2,
       "version_minor": 0
      },
      "text/plain": [
       "Canvas(toolbar=Toolbar(toolitems=[('Home', 'Reset original view', 'home', 'home'), ('Back', 'Back to previous …"
      ]
     },
     "metadata": {},
     "output_type": "display_data"
    },
    {
     "data": {
      "application/vnd.jupyter.widget-view+json": {
       "model_id": "b4762489cf8c4f29a114ecce8dbd8823",
       "version_major": 2,
       "version_minor": 0
      },
      "text/plain": [
       "Canvas(toolbar=Toolbar(toolitems=[('Home', 'Reset original view', 'home', 'home'), ('Back', 'Back to previous …"
      ]
     },
     "metadata": {},
     "output_type": "display_data"
    },
    {
     "data": {
      "application/vnd.jupyter.widget-view+json": {
       "model_id": "8caafb79acb04bc795768a8eb2f40bea",
       "version_major": 2,
       "version_minor": 0
      },
      "text/plain": [
       "Canvas(toolbar=Toolbar(toolitems=[('Home', 'Reset original view', 'home', 'home'), ('Back', 'Back to previous …"
      ]
     },
     "metadata": {},
     "output_type": "display_data"
    },
    {
     "data": {
      "application/vnd.jupyter.widget-view+json": {
       "model_id": "e2f89c0818fd44958a9176e4ddaa2800",
       "version_major": 2,
       "version_minor": 0
      },
      "text/plain": [
       "Canvas(toolbar=Toolbar(toolitems=[('Home', 'Reset original view', 'home', 'home'), ('Back', 'Back to previous …"
      ]
     },
     "metadata": {},
     "output_type": "display_data"
    },
    {
     "data": {
      "text/plain": [
       "[<matplotlib.lines.Line2D at 0x7f9fa57ec590>]"
      ]
     },
     "execution_count": 8,
     "metadata": {},
     "output_type": "execute_result"
    }
   ],
   "source": [
    "plt.figure()\n",
    "plt.title('CWO')\n",
    "deposition,energies = np.load('../../fastcat/data/Detectors/CWO-784-micrometer/EnergyDeposition.npy')\n",
    "\n",
    "for weight in glob('../../fastcat/data/MV_spectra/*.txt'):\n",
    "    es = np.loadtxt(weight).T[0,:]\n",
    "    spek = np.loadtxt(weight).T[1,:]/np.sum(np.loadtxt(weight).T[1,:])\n",
    "    deposition_interpolated = np.interp(np.loadtxt(weight).T[0,:], energies/1000, deposition)\n",
    "    \n",
    "    plt.semilogx(es,spek*(deposition_interpolated/(np.loadtxt(weight).T[0,:])/1000000),label=weight)\n",
    "\n",
    "plt.legend()\n",
    "plt.figure()\n",
    "plt.title('CsI')\n",
    "deposition,energies = np.load('../../fastcat/data/Detectors/CsI-392-micrometer/EnergyDeposition.npy')\n",
    "\n",
    "for weight in glob('../../fastcat/data/MV_spectra/*.txt'):\n",
    "    es = np.loadtxt(weight).T[0,:]\n",
    "    spek = np.loadtxt(weight).T[1,:]/np.sum(np.loadtxt(weight).T[1,:])\n",
    "    deposition_interpolated = np.interp(np.loadtxt(weight).T[0,:], energies/1000, deposition)\n",
    "    \n",
    "    plt.semilogx(es,spek*(deposition_interpolated/(np.loadtxt(weight).T[0,:])/1000000))\n",
    "    \n",
    "plt.figure()\n",
    "plt.title('GOS')\n",
    "deposition,energies = np.load('../../fastcat/data/Detectors/CuGOS-784-micrometer/EnergyDeposition.npy')\n",
    "\n",
    "for weight in glob('../../fastcat/data/MV_spectra/*.txt'):\n",
    "    es = np.loadtxt(weight).T[0,:]\n",
    "    spek = np.loadtxt(weight).T[1,:]/np.sum(np.loadtxt(weight).T[1,:])\n",
    "    deposition_interpolated = np.interp(es, energies/1000, deposition)\n",
    "    \n",
    "    plt.semilogx(es,spek*(deposition_interpolated/(np.loadtxt(weight).T[0,:])/1000000))\n",
    "\n",
    "plt.figure()\n",
    "\n",
    "deposition,energies = np.load('../../fastcat/data/Detectors/CWO-784-micrometer/EnergyDeposition.npy')\n",
    "\n",
    "plt.semilogx(energies/1000,deposition/(energies/1000)/1000000)\n",
    "\n",
    "deposition,energies = np.load('../../fastcat/data/Detectors/CuGOS-784-micrometer/EnergyDeposition.npy')\n",
    "\n",
    "plt.semilogx(energies/1000,deposition/(energies/1000)/1000000)\n",
    "\n",
    "deposition,energies = np.load('../../fastcat/data/Detectors/CsI-784-micrometer/EnergyDeposition.npy')\n",
    "\n",
    "plt.semilogx(energies/1000,deposition/(energies/1000)/1000000)    "
   ]
  },
  {
   "cell_type": "code",
   "execution_count": 9,
   "metadata": {},
   "outputs": [
    {
     "data": {
      "application/vnd.jupyter.widget-view+json": {
       "model_id": "93ff3789d625423ead2d8debd61a6764",
       "version_major": 2,
       "version_minor": 0
      },
      "text/plain": [
       "Canvas(toolbar=Toolbar(toolitems=[('Home', 'Reset original view', 'home', 'home'), ('Back', 'Back to previous …"
      ]
     },
     "metadata": {},
     "output_type": "display_data"
    },
    {
     "data": {
      "application/vnd.jupyter.widget-view+json": {
       "model_id": "99d20a062ec3494080caf58fd442619e",
       "version_major": 2,
       "version_minor": 0
      },
      "text/plain": [
       "Canvas(toolbar=Toolbar(toolitems=[('Home', 'Reset original view', 'home', 'home'), ('Back', 'Back to previous …"
      ]
     },
     "metadata": {},
     "output_type": "display_data"
    },
    {
     "ename": "FileNotFoundError",
     "evalue": "[Errno 2] No such file or directory: '../fastcat/data/Detectors/CWO-784-micrometer/EnergyDeposition.npy'",
     "output_type": "error",
     "traceback": [
      "\u001b[0;31m---------------------------------------------------------------------------\u001b[0m",
      "\u001b[0;31mFileNotFoundError\u001b[0m                         Traceback (most recent call last)",
      "\u001b[0;32m<ipython-input-9-71386dcf428a>\u001b[0m in \u001b[0;36m<module>\u001b[0;34m\u001b[0m\n\u001b[1;32m     42\u001b[0m \u001b[0mplt\u001b[0m\u001b[0;34m.\u001b[0m\u001b[0mfigure\u001b[0m\u001b[0;34m(\u001b[0m\u001b[0;34m)\u001b[0m\u001b[0;34m\u001b[0m\u001b[0;34m\u001b[0m\u001b[0m\n\u001b[1;32m     43\u001b[0m \u001b[0;34m\u001b[0m\u001b[0m\n\u001b[0;32m---> 44\u001b[0;31m \u001b[0mdeposition\u001b[0m\u001b[0;34m,\u001b[0m\u001b[0menergies\u001b[0m \u001b[0;34m=\u001b[0m \u001b[0mnp\u001b[0m\u001b[0;34m.\u001b[0m\u001b[0mload\u001b[0m\u001b[0;34m(\u001b[0m\u001b[0;34m'../fastcat/data/Detectors/CWO-784-micrometer/EnergyDeposition.npy'\u001b[0m\u001b[0;34m)\u001b[0m\u001b[0;34m\u001b[0m\u001b[0;34m\u001b[0m\u001b[0m\n\u001b[0m\u001b[1;32m     45\u001b[0m \u001b[0;34m\u001b[0m\u001b[0m\n\u001b[1;32m     46\u001b[0m \u001b[0mplt\u001b[0m\u001b[0;34m.\u001b[0m\u001b[0msemilogx\u001b[0m\u001b[0;34m(\u001b[0m\u001b[0menergies\u001b[0m\u001b[0;34m/\u001b[0m\u001b[0;36m1000\u001b[0m\u001b[0;34m,\u001b[0m\u001b[0mdeposition\u001b[0m\u001b[0;34m/\u001b[0m\u001b[0;34m(\u001b[0m\u001b[0menergies\u001b[0m\u001b[0;34m/\u001b[0m\u001b[0;36m1000\u001b[0m\u001b[0;34m)\u001b[0m\u001b[0;34m/\u001b[0m\u001b[0;36m1000000\u001b[0m\u001b[0;34m)\u001b[0m\u001b[0;34m\u001b[0m\u001b[0;34m\u001b[0m\u001b[0m\n",
      "\u001b[0;32m~/anaconda3/lib/python3.7/site-packages/numpy/lib/npyio.py\u001b[0m in \u001b[0;36mload\u001b[0;34m(file, mmap_mode, allow_pickle, fix_imports, encoding)\u001b[0m\n\u001b[1;32m    414\u001b[0m             \u001b[0mown_fid\u001b[0m \u001b[0;34m=\u001b[0m \u001b[0;32mFalse\u001b[0m\u001b[0;34m\u001b[0m\u001b[0;34m\u001b[0m\u001b[0m\n\u001b[1;32m    415\u001b[0m         \u001b[0;32melse\u001b[0m\u001b[0;34m:\u001b[0m\u001b[0;34m\u001b[0m\u001b[0;34m\u001b[0m\u001b[0m\n\u001b[0;32m--> 416\u001b[0;31m             \u001b[0mfid\u001b[0m \u001b[0;34m=\u001b[0m \u001b[0mstack\u001b[0m\u001b[0;34m.\u001b[0m\u001b[0menter_context\u001b[0m\u001b[0;34m(\u001b[0m\u001b[0mopen\u001b[0m\u001b[0;34m(\u001b[0m\u001b[0mos_fspath\u001b[0m\u001b[0;34m(\u001b[0m\u001b[0mfile\u001b[0m\u001b[0;34m)\u001b[0m\u001b[0;34m,\u001b[0m \u001b[0;34m\"rb\"\u001b[0m\u001b[0;34m)\u001b[0m\u001b[0;34m)\u001b[0m\u001b[0;34m\u001b[0m\u001b[0;34m\u001b[0m\u001b[0m\n\u001b[0m\u001b[1;32m    417\u001b[0m             \u001b[0mown_fid\u001b[0m \u001b[0;34m=\u001b[0m \u001b[0;32mTrue\u001b[0m\u001b[0;34m\u001b[0m\u001b[0;34m\u001b[0m\u001b[0m\n\u001b[1;32m    418\u001b[0m \u001b[0;34m\u001b[0m\u001b[0m\n",
      "\u001b[0;31mFileNotFoundError\u001b[0m: [Errno 2] No such file or directory: '../fastcat/data/Detectors/CWO-784-micrometer/EnergyDeposition.npy'"
     ]
    }
   ],
   "source": [
    "plt.figure(figsize=[8,4])#dpi=300)\n",
    "plt.subplot(131)\n",
    "plt.xlim([0,1000])\n",
    "\n",
    "speks = ['--','-','-.','--',':']\n",
    "colors = ['k','cornflowerblue','darkorange','darkgrey','crimson']\n",
    "\n",
    "for jj, ii in enumerate([0,3,6,9,12]):\n",
    "    plt.plot(xes[ii],weights[ii],speks[jj],color=colors[jj],linewidth= 1.5,markersize=1.5,alpha=0.8)\n",
    "#     plt.plot(xes[ii][::5],weights[ii][::5],'.',color=colors[jj],markersize=1.5,alpha=0.8)\n",
    "plt.title('CsI')\n",
    "plt.ylabel('MTF')\n",
    "plt.xlabel('Spatial frequency [1/mm]')\n",
    "\n",
    "    \n",
    "#plt.xlim([-0,1/(2*0.784)])\n",
    "\n",
    "plt.subplot(132)\n",
    "plt.xlim([0,1000])\n",
    "\n",
    "for jj, ii in enumerate([1,4,7,10,13]):\n",
    "    plt.plot(xes[ii],weights[ii],speks[jj],color=colors[jj],linewidth= 1.5,markersize=1.5,alpha=0.8)\n",
    "\n",
    "plt.title('CWO')\n",
    "plt.xlabel('Spatial frequency [1/mm]')\n",
    "plt.yticks([])\n",
    "#plt.xlim([-0,1/(2*0.784)])\n",
    "\n",
    "plt.subplot(133)\n",
    "plt.xlim([0,1000])\n",
    "\n",
    "for jj, ii in enumerate([2,5,8,11,14]):\n",
    "    plt.plot(xes[ii],weights[ii],speks[jj],color=colors[jj],linewidth= 1.5,markersize=1.5,alpha=0.8)\n",
    "plt.title('GOS')\n",
    "plt.yticks([])\n",
    "plt.legend(['100 kVp','2.5 MV C','6 MV C','2.5 MV W','6 MV W'])\n",
    "plt.xlabel('Spatial frequency [1/mm]')\n",
    "#plt.xlim([-0,1/(2*0.784)])\n",
    "plt.tight_layout()\n",
    "plt.savefig('/home/xcite/fastcat_paper_2_tmi/figures/MTF.pdf')\n",
    "\n",
    "plt.figure()\n",
    "\n",
    "deposition,energies = np.load('../fastcat/data/Detectors/CWO-784-micrometer/EnergyDeposition.npy')\n",
    "\n",
    "plt.semilogx(energies/1000,deposition/(energies/1000)/1000000)\n",
    "\n",
    "deposition,energies = np.load('../fastcat/data/Detectors/CuGOS-784-micrometer/EnergyDeposition.npy')\n",
    "\n",
    "plt.semilogx(energies/1000,deposition/(energies/1000)/1000000)\n",
    "\n",
    "deposition,energies = np.load('../fastcat/data/Detectors/CsI-784-micrometer/EnergyDeposition.npy')\n",
    "\n",
    "plt.semilogx(energies/1000,deposition/(energies/1000)/1000000)"
   ]
  },
  {
   "cell_type": "code",
   "execution_count": null,
   "metadata": {},
   "outputs": [],
   "source": []
  }
 ],
 "metadata": {
  "kernelspec": {
   "display_name": "Python 3",
   "language": "python",
   "name": "python3"
  },
  "language_info": {
   "codemirror_mode": {
    "name": "ipython",
    "version": 3
   },
   "file_extension": ".py",
   "mimetype": "text/x-python",
   "name": "python",
   "nbconvert_exporter": "python",
   "pygments_lexer": "ipython3",
   "version": "3.7.6"
  },
  "varInspector": {
   "cols": {
    "lenName": "16",
    "lenType": "3",
    "lenVar": "20"
   },
   "kernels_config": {
    "python": {
     "delete_cmd_postfix": "",
     "delete_cmd_prefix": "del ",
     "library": "var_list.py",
     "varRefreshCmd": "print(var_dic_list())"
    },
    "r": {
     "delete_cmd_postfix": ") ",
     "delete_cmd_prefix": "rm(",
     "library": "var_list.r",
     "varRefreshCmd": "cat(var_dic_list()) "
    }
   },
   "types_to_exclude": [
    "module",
    "function",
    "builtin_function_or_method",
    "instance",
    "_Feature"
   ],
   "window_display": false
  }
 },
 "nbformat": 4,
 "nbformat_minor": 4
}
