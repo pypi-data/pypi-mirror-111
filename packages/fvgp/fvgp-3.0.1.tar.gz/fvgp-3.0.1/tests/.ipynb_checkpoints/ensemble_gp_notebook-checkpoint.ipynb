{
 "cells": [
  {
   "cell_type": "markdown",
   "metadata": {},
   "source": [
    "# Notebook to test and learn about the Ensemble GP (Experimental)"
   ]
  },
  {
   "cell_type": "code",
   "execution_count": 1,
   "metadata": {},
   "outputs": [],
   "source": [
    "import numpy as np\n",
    "from fvgp.ensemble_gp import EnsembleGP\n",
    "from fvgp.ensemble_gp import hyperparameters\n",
    "import matplotlib.pyplot as plt\n"
   ]
  },
  {
   "cell_type": "markdown",
   "metadata": {},
   "source": [
    "# An ensemble GP means that we allow the prior to be a sum of Gaussian priors. That means we have to define a set of prior-mean and kernel functions\n",
    "In our case we assume 2 GPs, and therefore 2 prior mean and kernel functions\n",
    "Feel free to play with those mean functions. Prior mean functions can be any real function, but remember, kernel funcitons have to be positive semi-definite"
   ]
  },
  {
   "cell_type": "code",
   "execution_count": 2,
   "metadata": {},
   "outputs": [],
   "source": [
    "def func(x):\n",
    "    i = np.where(x[:,0] < 0.0)\n",
    "    r = np.zeros((len(x[:,0])))\n",
    "    r[i] = 0.20\n",
    "    return r\n",
    "\n",
    "def mean1(obj,x,hyperparameters):\n",
    "    return np.ones(len(x)) * hyperparameters[-1]**2\n",
    "def mean2(obj,x,hyperparameters):\n",
    "    return np.ones(len(x)) * hyperparameters[-1]**2\n",
    "def kernel1(x1,x2,hps,obj):\n",
    "    d = abs(np.subtract.outer(x1[:,0],x2[:,0]))\n",
    "    return hps[0] * obj.exponential_kernel(d,hps[1])\n",
    "def kernel2(x1,x2,hps,obj):\n",
    "    d = abs(np.subtract.outer(x1[:,0],x2[:,0]))\n",
    "    return hps[0] * obj.exponential_kernel(d,hps[1])"
   ]
  },
  {
   "cell_type": "markdown",
   "metadata": {},
   "source": [
    "### For ensemble GPs, the hyperparameters are more complicated than for single GPs and therefore we can define an extra object defining the hyperparameters. Thatobject then keeps track of the structure of the hyperparameter vectorized and unvectorized"
   ]
  },
  {
   "cell_type": "code",
   "execution_count": 3,
   "metadata": {},
   "outputs": [
    {
     "name": "stdout",
     "output_type": "stream",
     "text": [
      "[0.5 0.5 5.  5.  5.  1.  1.  1. ]\n",
      "---------\n",
      "(array([0.5, 0.5]), [array([5., 5., 5.]), array([1., 1., 1.])])\n",
      "bounds unvectorized:\n",
      "[[1.e-04 1.e+00]\n",
      " [1.e-04 1.e+00]]\n",
      "[array([[1.e-02, 1.e+02],\n",
      "       [1.e-02, 1.e+02],\n",
      "       [0.e+00, 1.e-03]]), array([[1.000e-02, 1.000e+02],\n",
      "       [1.000e-02, 1.000e+02],\n",
      "       [1.000e+00, 1.001e+00]])]\n",
      "bounds vectorized\n",
      "[[1.000e-04 1.000e+00]\n",
      " [1.000e-04 1.000e+00]\n",
      " [1.000e-02 1.000e+02]\n",
      " [1.000e-02 1.000e+02]\n",
      " [0.000e+00 1.000e-03]\n",
      " [1.000e-02 1.000e+02]\n",
      " [1.000e-02 1.000e+02]\n",
      " [1.000e+00 1.001e+00]]\n",
      "bounds unvectorized again\n",
      "[[1.e-04 1.e+00]\n",
      " [1.e-04 1.e+00]]\n",
      "[array([[1.e-02, 1.e+02],\n",
      "       [1.e-02, 1.e+02],\n",
      "       [0.e+00, 1.e-03]]), array([[1.000e-02, 1.000e+02],\n",
      "       [1.000e-02, 1.000e+02],\n",
      "       [1.000e+00, 1.001e+00]])]\n"
     ]
    }
   ],
   "source": [
    "weights = np.ones(2) / 2.0\n",
    "weights_bounds = np.array([[0.0001,1.],[0.0001,1.0]])\n",
    "hps = [np.ones(3)*5.0,np.ones([3])]\n",
    "hps_bounds = [np.array([[0.01,100],[0.01,100],[0.0,0.001]]),np.array([[0.01,100],[0.01,100],[1.0,1.001]])]\n",
    "hps_obj = hyperparameters(weights,weights_bounds,hps,hps_bounds)\n",
    "\n",
    "a = hps_obj.vectorize_hps(weights,hps)\n",
    "print(a)\n",
    "a = hps_obj.vectorize_hps(weights,hps)\n",
    "print(\"---------\")\n",
    "print(hps_obj.devectorize_hps(a))\n",
    "print(\"bounds unvectorized:\")\n",
    "print(weights_bounds)\n",
    "print(hps_bounds)\n",
    "print(\"bounds vectorized\")\n",
    "b = hps_obj.vectorize_bounds(weights_bounds,hps_bounds)\n",
    "print(b)\n",
    "print(\"bounds unvectorized again\")\n",
    "w,h = hps_obj.devectorize_bounds(b)\n",
    "print(w)\n",
    "print(h)"
   ]
  },
  {
   "cell_type": "markdown",
   "metadata": {},
   "source": [
    "## ...creating some data..."
   ]
  },
  {
   "cell_type": "code",
   "execution_count": 4,
   "metadata": {},
   "outputs": [
    {
     "name": "stdout",
     "output_type": "stream",
     "text": [
      "Base GP successfully initiated\n",
      "(20, 1)\n"
     ]
    },
    {
     "data": {
      "text/plain": [
       "<matplotlib.collections.PathCollection at 0x7fcac60f7310>"
      ]
     },
     "execution_count": 4,
     "metadata": {},
     "output_type": "execute_result"
    },
    {
     "data": {
      "image/png": "[encoded data removed]",
      "text/plain": [
       "<Figure size 432x288 with 1 Axes>"
      ]
     },
     "metadata": {
      "needs_background": "light"
     },
     "output_type": "display_data"
    }
   ],
   "source": [
    "N = 20\n",
    "points = np.empty((N,1))\n",
    "points = np.random.uniform(low = -3, high = 3, size = points.shape)\n",
    "values = func(points)\n",
    "print(\"Base GP successfully initiated\")\n",
    "print(points.shape)\n",
    "values = func(points)\n",
    "\n",
    "\n",
    "plt.scatter(points,values)"
   ]
  },
  {
   "cell_type": "markdown",
   "metadata": {},
   "source": [
    "## ...initializing the ensemble GP and trianing it ... oh and checking some derivatives"
   ]
  },
  {
   "cell_type": "code",
   "execution_count": 5,
   "metadata": {},
   "outputs": [
    {
     "name": "stdout",
     "output_type": "stream",
     "text": [
      "[0.5 0.5 5.  5.  5.  1.  1.  1. ]\n",
      "CAUTION: you have not provided data variances in fvGP,\n",
      "they will be set to 1 percent of the data values!\n",
      "CAUTION: you have not provided data variances in fvGP,\n",
      "they will be set to 1 percent of the data values!\n",
      "1.9999999999242843\n",
      "0.0\n",
      "-15.596128727679568\n",
      "-6.975448543045103\n",
      "70.6168815042929\n",
      "0.0\n",
      "0.0\n",
      "0.0\n",
      "-----\n",
      "[ 2.00000000e+00  4.33426730e-39 -1.55961285e+01 -6.97544872e+00\n",
      "  7.06168815e+01  0.00000000e+00 -0.00000000e+00  0.00000000e+00]\n",
      "Ensemble fvGP submitted to global optimization\n",
      "bounds are [[1.000e-04 1.000e+00]\n",
      " [1.000e-04 1.000e+00]\n",
      " [1.000e-02 1.000e+02]\n",
      " [1.000e-02 1.000e+02]\n",
      " [0.000e+00 1.000e-03]\n",
      " [1.000e-02 1.000e+02]\n",
      " [1.000e-02 1.000e+02]\n",
      " [1.000e+00 1.001e+00]]\n",
      "maximum number of iterations:  20\n",
      "termination tolerance:  0.0001\n",
      "differential_evolution step 1: f(x)= -30.979\n",
      "differential_evolution step 2: f(x)= -30.979\n",
      "differential_evolution step 3: f(x)= -30.979\n",
      "differential_evolution step 4: f(x)= -30.979\n",
      "differential_evolution step 5: f(x)= -30.979\n",
      "differential_evolution step 6: f(x)= -30.979\n",
      "differential_evolution step 7: f(x)= -30.979\n",
      "differential_evolution step 8: f(x)= -30.979\n",
      "differential_evolution step 9: f(x)= -30.979\n",
      "differential_evolution step 10: f(x)= -34.4301\n",
      "differential_evolution step 11: f(x)= -34.4301\n",
      "differential_evolution step 12: f(x)= -34.4301\n",
      "differential_evolution step 13: f(x)= -34.4301\n",
      "differential_evolution step 14: f(x)= -34.4301\n",
      "differential_evolution step 15: f(x)= -34.4301\n",
      "differential_evolution step 16: f(x)= -34.4301\n",
      "differential_evolution step 17: f(x)= -34.4301\n",
      "differential_evolution step 18: f(x)= -36.0585\n",
      "differential_evolution step 19: f(x)= -36.0585\n",
      "differential_evolution step 20: f(x)= -36.0585\n",
      "fvGP found weights  [0.81499226 0.18487784]\n",
      "and hyperparameters:  [array([1.05507809e-01, 5.56458235e+01, 9.83912714e-04]), array([ 0.1612381 , 69.14795584,  1.00000883])]\n",
      " with likelihood:  -39.71766441245966  via global optimization\n",
      "new weights after training:  [0.81499226 0.18487784]\n",
      "new hps     after training:  [array([1.05507809e-01, 5.56458235e+01, 9.83912714e-04]), array([ 0.1612381 , 69.14795584,  1.00000883])]\n",
      "GPs updated\n"
     ]
    }
   ],
   "source": [
    "\n",
    "print(hps_obj.vectorized_hps)\n",
    "\n",
    "my_gp = EnsembleGP(1,points,values,2,hps_obj,\n",
    "                gp_kernel_functions = [kernel1,kernel2],\n",
    "                gp_mean_functions = [mean1,mean2],\n",
    "                compute_device = \"cpu\")\n",
    "\n",
    "grad = my_gp.ensemble_log_likelihood_grad(hps_obj.vectorized_hps)\n",
    "e = 1e-5\n",
    "for i in range(len(hps_obj.vectorized_hps)):\n",
    "    v1 = np.array(hps_obj.vectorized_hps)\n",
    "    v2 = np.array(hps_obj.vectorized_hps)\n",
    "    v1[i] = v1[i] - e\n",
    "    v2[i] = v2[i] + e\n",
    "    print((my_gp.ensemble_log_likelihood(v2) - my_gp.ensemble_log_likelihood(v1))/(2.*e))\n",
    "\n",
    "print(\"-----\")   \n",
    "print(grad)\n",
    "my_gp.train(hps_obj,\n",
    "                pop_size = 20,\n",
    "                tolerance = 0.0001,\n",
    "                max_iter = 20)\n",
    "\n",
    "\n"
   ]
  },
  {
   "cell_type": "markdown",
   "metadata": {},
   "source": [
    "### I hope you saw how the Gaussian priors are places at 0 and 1, just like we would expect from the data."
   ]
  },
  {
   "cell_type": "markdown",
   "metadata": {},
   "source": [
    "## Depending on the randomly chosen data you might see that the result is not Gaussian\n",
    "if you can't see it, run the notebook again"
   ]
  },
  {
   "cell_type": "code",
   "execution_count": 6,
   "metadata": {},
   "outputs": [
    {
     "name": "stdout",
     "output_type": "stream",
     "text": [
      "1000\n",
      "(1000,)\n"
     ]
    },
    {
     "data": {
      "text/plain": [
       "<matplotlib.image.AxesImage at 0x7fcac5388fa0>"
      ]
     },
     "execution_count": 6,
     "metadata": {},
     "output_type": "execute_result"
    },
    {
     "data": {
      "image/png": "[encoded data removed]",
      "text/plain": [
       "<Figure size 720x720 with 1 Axes>"
      ]
     },
     "metadata": {
      "needs_background": "light"
     },
     "output_type": "display_data"
    }
   ],
   "source": [
    "import matplotlib.pyplot as plt\n",
    "plot_n  = 1000\n",
    "x_input = np.empty((plot_n,1))\n",
    "x_input[:,0] = np.linspace(-2,2,plot_n)\n",
    "y = func(x_input)\n",
    "post = my_gp.posterior(x_input, res = 1000)[\"pdf\"]\n",
    "print(len(post))\n",
    "print(post[0].shape)\n",
    "fig = plt.figure(figsize = (10,10))\n",
    "plt.imshow((np.flip(np.array(post).T,axis = 1)))\n"
   ]
  },
  {
   "cell_type": "code",
   "execution_count": null,
   "metadata": {},
   "outputs": [],
   "source": []
  }
 ],
 "metadata": {
  "kernelspec": {
   "display_name": "fvgp",
   "language": "python",
   "name": "fvgp"
  },
  "language_info": {
   "codemirror_mode": {
    "name": "ipython",
    "version": 3
   },
   "file_extension": ".py",
   "mimetype": "text/x-python",
   "name": "python",
   "nbconvert_exporter": "python",
   "pygments_lexer": "ipython3",
   "version": "3.8.5"
  }
 },
 "nbformat": 4,
 "nbformat_minor": 4
}
