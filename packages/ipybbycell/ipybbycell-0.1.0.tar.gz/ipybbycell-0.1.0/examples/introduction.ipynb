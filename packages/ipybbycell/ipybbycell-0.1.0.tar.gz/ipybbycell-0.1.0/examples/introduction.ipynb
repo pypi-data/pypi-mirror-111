{
 "cells": [
  {
   "cell_type": "code",
   "execution_count": null,
   "metadata": {
    "bby": {
     "id": "id_zn9ep3e",
     "posterSlotId": "cxv"
    }
   },
   "outputs": [],
   "source": []
  },
  {
   "cell_type": "code",
   "execution_count": null,
   "metadata": {
    "bby": {
     "id": "id_r1kp2ap"
    }
   },
   "outputs": [],
   "source": []
  },
  {
   "cell_type": "code",
   "execution_count": null,
   "metadata": {
    "bby": {
     "id": "id_7qgiih1",
     "posterSlotId": "test"
    }
   },
   "outputs": [],
   "source": []
  },
  {
   "cell_type": "code",
   "execution_count": null,
   "metadata": {
    "bby": {
     "id": "id_ftsokfl"
    }
   },
   "outputs": [],
   "source": []
  }
 ],
 "metadata": {
  "bby": {
   "id": "id_fkkm7ku",
   "posterId": "test"
  },
  "graffiti": {
   "firstAuthorId": "dev",
   "id": "id_oifly75",
   "language": "EN"
  },
  "kernelspec": {
   "display_name": "Python 3",
   "language": "python",
   "name": "python3"
  },
  "language_info": {
   "codemirror_mode": {
    "name": "ipython",
    "version": 3
   },
   "file_extension": ".py",
   "mimetype": "text/x-python",
   "name": "python",
   "nbconvert_exporter": "python",
   "pygments_lexer": "ipython3",
   "version": "3.9.4"
  }
 },
 "nbformat": 4,
 "nbformat_minor": 2
}
