{
 "cells": [
  {
   "cell_type": "markdown",
   "metadata": {
    "bxyCellId": "id_npegez8"
   },
   "source": [
    "## 盒子工厂"
   ]
  },
  {
   "cell_type": "markdown",
   "metadata": {
    "bxyCellId": "id_rqqsetg"
   },
   "source": [
    "### 流程图"
   ]
  },
  {
   "cell_type": "code",
   "execution_count": 1,
   "metadata": {
    "bxyCellId": "id_d1l7ner"
   },
   "outputs": [
    {
     "name": "stderr",
     "output_type": "stream",
     "text": [
      "input_line_7:2:3: error: invalid preprocessing directive\n",
      " #platform-desc\n",
      "  ^\n",
      "input_line_7:3:1: error: unknown type name 'from'\n",
      "from ipyaliplayer import Player\n",
      "^\n",
      "input_line_7:3:18: error: expected ';' at end of declaration\n",
      "from ipyaliplayer import Player\n",
      "                 ^\n",
      "                 ;\n"
     ]
    },
    {
     "ename": "Interpreter Error",
     "evalue": "",
     "output_type": "error",
     "traceback": [
      "Interpreter Error: "
     ]
    }
   ],
   "source": [
    "#platform-desc\n",
    "from ipyaliplayer import Player\n",
    "Player(vid='b1dd0d3c5b474037bf1d78672c6e6755')"
   ]
  },
  {
   "cell_type": "markdown",
   "metadata": {
    "bxyCellId": "id_uzjk9xq"
   },
   "source": [
    "**根据题目回答右边的问题吧~**"
   ]
  },
  {
   "cell_type": "code",
   "execution_count": 1,
   "metadata": {
    "bxyCellId": "id_08orlm2"
   },
   "outputs": [
    {
     "name": "stderr",
     "output_type": "stream",
     "text": [
      "input_line_7:2:3: error: invalid preprocessing directive\n",
      " #platform-quiz\n",
      "  ^\n",
      "input_line_7:3:1: error: unknown type name 'import'\n",
      "import ipyquiz\n",
      "^\n",
      "input_line_7:3:15: error: expected ';' at end of declaration\n",
      "import ipyquiz\n",
      "              ^\n",
      "              ;\n"
     ]
    },
    {
     "ename": "Interpreter Error",
     "evalue": "",
     "output_type": "error",
     "traceback": [
      "Interpreter Error: "
     ]
    }
   ],
   "source": [
    "#platform-quiz\n",
    "import ipyquiz\n",
    "quizzes = []\n",
    "\n",
    "quizzes.append({\n",
    "    \"id\": \"choice-1\",\n",
    "    \"type\": \"SELECT\",\n",
    "    \"title\": \"程序员叔叔打算开发一款“吃鸭”的游戏，那么，开发一个游戏的4个步骤是：\",\n",
    "    \"answer\": \"3\",\n",
    "    \"options\": [\n",
    "        {\n",
    "            \"value\": \"0\",\n",
    "            \"text\": \"编写代码、发布使用、分析流程、测试调试\"\n",
    "        },\n",
    "        {\n",
    "            \"value\": \"1\",\n",
    "            \"text\": \"编写代码、分析流程、发布使用、测试调试\"\n",
    "        },\n",
    "        {\n",
    "            \"value\": \"2\",\n",
    "            \"text\": \"分析流程、测试调试、编写代码、发布使用\"\n",
    "        },\n",
    "        {\n",
    "            \"value\": \"3\",\n",
    "            \"text\": \"分析流程、编写代码、测试调试、发布使用\"\n",
    "        },\n",
    "    ],\n",
    "    \"hint\":\"第一步，我们会先设计这个程序的步骤或流程有哪些。第二步我们再编写代码，实现功能。第三步不断地测试这个程序有没有bug，调试解决问题。等游戏完善的差不多了，第四步，发布程序，让用户使用。\",\n",
    "})\n",
    "\n",
    "quizzes.append({\n",
    "    \"id\": \"choice-2\",\n",
    "    \"type\": \"SELECT\",\n",
    "    \"title\": \"以下直击灵魂的拷问中，哪个问题是可以写在流程图的菱形“判断框”中的？\",\n",
    "    \"answer\": \"2\",\n",
    "    \"options\": [\n",
    "        {\n",
    "            \"value\": \"0\",\n",
    "            \"text\": \"你家wifi密码多少？\"\n",
    "        },\n",
    "        {\n",
    "            \"value\": \"1\",\n",
    "            \"text\": \"期末考第几名呀？\"\n",
    "        },\n",
    "        {\n",
    "            \"value\": \"2\",\n",
    "            \"text\": \"是不是写完作业了？\"\n",
    "        },\n",
    "        {\n",
    "            \"value\": \"3\",\n",
    "            \"text\": \"你们为什么还不开学？\"\n",
    "        },\n",
    "    ],\n",
    "    \"hint\":\"“判断框”内的问题只能用yes或no来回答，以上4个问题只有c选项的“作业写完了吗？”可以用yes和no来回答。\",\n",
    "})\n",
    "\n",
    "quizzes.append({\n",
    "    \"id\": \"choice-3\",\n",
    "    \"type\": \"SELECT\",\n",
    "    \"title\":  \"\"\"\n",
    "如下图片中，哪个形状的功能是“输入”或“输出”？\n",
    "        \n",
    "<img src=\"https://staticcdn.boyuai.com/materials/2020/12/04/_xMUd7qpSk9G7TpjuaK9z.png!png\" width = 300 heigth = 300>\n",
    "\"\"\",\n",
    "    \"answer\": \"2\",\n",
    "    \"options\": [\n",
    "        {\n",
    "            \"value\": \"0\",\n",
    "            \"text\": \"A\"\n",
    "        },\n",
    "        {\n",
    "            \"value\": \"1\",\n",
    "            \"text\": \"B\"\n",
    "        },\n",
    "        {\n",
    "            \"value\": \"2\",\n",
    "            \"text\": \"C\"\n",
    "        },\n",
    "        {\n",
    "            \"value\": \"3\",\n",
    "            \"text\": \"D\"\n",
    "        },\n",
    "    ],\n",
    "    \"hint\":\"开始和结束用圆角矩形，输入输出用平行四边形，问题判断用菱形，其它的一般操作就用普通的矩形。\",\n",
    "})\n",
    "    \n",
    "ipyquiz.QuizWidget(value=quizzes, quiz_id=\"__ipyquiz_quiz_id\")\n"
   ]
  },
  {
   "cell_type": "markdown",
   "metadata": {
    "bxyCellId": "id_l0flygg"
   },
   "source": [
    "### 3种结构"
   ]
  },
  {
   "cell_type": "code",
   "execution_count": null,
   "metadata": {
    "bxyCellId": "id_ez48fxg"
   },
   "outputs": [],
   "source": [
    "#platform-desc\n",
    "from ipyaliplayer import Player\n",
    "Player(vid='9ac323c4f7d74049891731d1c3831bae')"
   ]
  },
  {
   "cell_type": "markdown",
   "metadata": {
    "bxyCellId": "id_bmzdz3t"
   },
   "source": [
    "**根据题目回答右边的问题吧~**\n"
   ]
  },
  {
   "cell_type": "code",
   "execution_count": 18,
   "metadata": {
    "bxyCellId": "id_19s8p7v",
    "scrolled": true
   },
   "outputs": [
    {
     "name": "stderr",
     "output_type": "stream",
     "text": [
      "input_line_30:2:3: error: invalid preprocessing directive\n",
      " #platform-quiz\n",
      "  ^\n",
      "input_line_30:3:1: error: unknown type name 'import'\n",
      "import ipyquiz\n",
      "^\n",
      "input_line_30:3:15: error: expected ';' at end of declaration\n",
      "import ipyquiz\n",
      "              ^\n",
      "              ;\n",
      "input_line_30:8:16: warning: missing terminating '\"' character [-Winvalid-pp-token]\n",
      "    \"title\": \"\"\"\n",
      "               ^\n",
      "input_line_30:9:62: error: non-ASCII characters are not allowed outside of literals and identifiers\n",
      "下面是对左边4句代码的解释，但是顺序打乱了。请重新排序（）\n",
      "                                         ^~\n",
      "input_line_30:14:3: warning: missing terminating '\"' character [-Winvalid-pp-token]\n",
      "\"\"\",\n",
      "  ^\n"
     ]
    },
    {
     "ename": "Interpreter Error",
     "evalue": "",
     "output_type": "error",
     "traceback": [
      "Interpreter Error: "
     ]
    }
   ],
   "source": [
    "#platform-quiz\n",
    "import ipyquiz\n",
    "quizzes = []\n",
    "\n",
    "quizzes.append({\n",
    "    \"id\": \"choice-1\",\n",
    "    \"type\": \"SELECT\",\n",
    "    \"title\": \"\"\"\n",
    "在飞行棋的游戏规则中，以下属于循环结构的是\n",
    "\n",
    "<img src=\"https://staticcdn.boyuai.com/materials/2020/12/04/7lUKPA7oBYNSDt16fEFa6.png\" width = 700 heigth = 700>\n",
    "\"\"\",\n",
    "    \"answer\": \"3\",\n",
    "    \"options\": [\n",
    "        {\n",
    "            \"value\": \"0\",\n",
    "            \"text\": \"A\"\n",
    "        },\n",
    "        {\n",
    "            \"value\": \"1\",\n",
    "            \"text\": \"B\"\n",
    "        },\n",
    "        {\n",
    "            \"value\": \"2\",\n",
    "            \"text\": \"C\"\n",
    "        },\n",
    "        {\n",
    "            \"value\": \"3\",\n",
    "            \"text\": \"D\"\n",
    "        },\n",
    "    ],\n",
    "    \"hint\":\"循环结构和分支结构的区别在于：循环结构会“杀个回马枪”，可以重复做某些事。\"\n",
    "})\n",
    "    \n",
    "    \n",
    "quizzes.append({\n",
    "    \"id\": \"fill-2\",\n",
    "    \"type\": \"FILL\",\n",
    "    \"title\": \"\"\"\n",
    "你可以找到猜数字游戏中的这3种结构吗？\\n下图彩色部分是属于什么结构（顺序结构/选择结构/循环结构）：\n",
    "\n",
    "<img src=\"https://staticcdn.boyuai.com/materials/2020/12/07/osHyIs9BY7Cl3195oUucA.png!png\" width = 400 heigth = 400>\n",
    "\"\"\",\n",
    "    \"answer\": \"选择结构\"\n",
    "})\n",
    "    \n",
    "quizzes.append({\n",
    "    \"id\": \"fill-3\",\n",
    "    \"type\": \"FILL\",\n",
    "    \"title\": \"\"\"\n",
    "下图彩色部分是属于什么结构（顺序结构/选择结构/循环结构）：\n",
    "\n",
    "<img src=\"https://staticcdn.boyuai.com/materials/2020/12/07/N7qR1ib4Jqt4aXF_mH5Zx.png!png\" width = 400 heigth = 400>\n",
    "\"\"\",\n",
    "    \"answer\": \"顺序结构\"\n",
    "})\n",
    "    \n",
    "quizzes.append({\n",
    "    \"id\": \"fill-4\",\n",
    "    \"type\": \"FILL\",\n",
    "    \"title\": \"\"\"\n",
    "下图彩色部分是属于什么结构（顺序结构/选择结构/循环结构）：\n",
    "\n",
    "<img src=\"https://staticcdn.boyuai.com/materials/2020/12/07/EIex_uaElaqY7Xc_Q_gxD.png!png\" width = 400 heigth = 400>\n",
    "\"\"\",\n",
    "    \"answer\": \"循环结构\"\n",
    "})\n",
    "\n",
    "\n",
    "ipyquiz.QuizWidget(value=quizzes, quiz_id=\"__ipyquiz_quiz_id\")"
   ]
  },
  {
   "cell_type": "markdown",
   "metadata": {
    "bxyCellId": "id_rkqn20f"
   },
   "source": [
    "### 猜数字代码"
   ]
  },
  {
   "cell_type": "code",
   "execution_count": null,
   "metadata": {
    "bxyCellId": "id_z3iyknp"
   },
   "outputs": [],
   "source": [
    "#platform-desc\n",
    "from ipyaliplayer import Player\n",
    "Player(vid='f8e900ce79444695b871ec638d67404d')"
   ]
  },
  {
   "cell_type": "markdown",
   "metadata": {
    "bxyCellId": "id_38zb0ze"
   },
   "source": [
    "**根据题目回答右边的问题吧~**\n",
    "\n",
    "<img src=\"https://staticcdn.boyuai.com/materials/2020/12/07/Sw9M9BXPPDKae-_dZIujq.png!png\" width = 300 heigth = 300>"
   ]
  },
  {
   "cell_type": "code",
   "execution_count": null,
   "metadata": {
    "bxyCellId": "id_xcltk9k"
   },
   "outputs": [],
   "source": [
    "#platform-quiz\n",
    "import ipyquiz\n",
    "quizzes = []\n",
    "\n",
    "quizzes.append({\n",
    "    \"id\": \"fill-1\",\n",
    "    \"type\": \"FILL\",\n",
    "    \"title\": \"在编写“猜数字游戏”的代码时，为什么需要用到while？\",\n",
    "    \"answer\": \"\",\n",
    "    \"hint\":\"因为这个游戏中，用户要不断地输入猜测的数字。如果没有while的话，那么用户只能猜一次。\"\n",
    "})\n",
    "\n",
    "quizzes.append({\n",
    "    \"id\": \"choice-1\",\n",
    "    \"type\": \"SELECT\",\n",
    "    \"title\": \"\"\"\n",
    "如左图所示，猜数字游戏中，需要用到分支结构进行判断。\n",
    "        \n",
    "下面代码中，哪段代码是正确的？      \n",
    "\"\"\",\n",
    "    \"answer\": \"2\",\n",
    "    \"options\": [\n",
    "        {\n",
    "            \"value\": \"0\",\n",
    "            \"text\": \"\"\"\n",
    "```c++\n",
    "if (user > answer;) {\n",
    "    cout << \"你输入的数\";\n",
    "    cout << \"太大了\";\n",
    "}\n",
    "```\n",
    "\"\"\"\n",
    "        },\n",
    "        {\n",
    "            \"value\": \"1\",\n",
    "            \"text\": \"\"\"\n",
    "```c++\n",
    "if (user > answer); {\n",
    "    cout << \"你输入的数\";\n",
    "    cout << \"太大了\";\n",
    "}\n",
    "```\n",
    "\"\"\"\n",
    "        },\n",
    "        {\n",
    "            \"value\": \"2\",\n",
    "            \"text\": \"\"\"\n",
    "```c++\n",
    "if (user > answer) {\n",
    "    cout << \"你输入的数\";\n",
    "    cout << \"太大了\";\n",
    "}\n",
    "```\n",
    "\"\"\"\n",
    "        },\n",
    "        {\n",
    "            \"value\": \"3\",\n",
    "            \"text\": \"\"\"\n",
    "```c++\n",
    "if (user > answer)\n",
    "    cout << \"你输入的数\";\n",
    "    cout << \"太大了\";\n",
    "```\n",
    "\"\"\"\n",
    "        },\n",
    "    ]\n",
    "})\n",
    "\n",
    "\n",
    "ipyquiz.QuizWidget(value=quizzes, quiz_id=\"__ipyquiz_quiz_id\")"
   ]
  },
  {
   "cell_type": "markdown",
   "metadata": {
    "bxyCellId": "id_3jponr2"
   },
   "source": [
    "### 注意符号"
   ]
  },
  {
   "cell_type": "code",
   "execution_count": null,
   "metadata": {
    "bxyCellId": "id_1q1a9u9"
   },
   "outputs": [],
   "source": [
    "#platform-desc\n",
    "from ipyaliplayer import Player\n",
    "Player(vid='d3af53414a0f45bbbff260ce09657048')"
   ]
  },
  {
   "cell_type": "markdown",
   "metadata": {
    "bxyCellId": "id_6d79vi4"
   },
   "source": [
    "**有两位玩家小波和小宇，分别输入他们的得分，小波的得分记录在变量bo中，小宇的得分记录在变量yu中，请在右侧题目中补充下面的代码。**\n",
    "\n",
    "<img src=\"https://staticcdn.boyuai.com/materials/2020/12/11/UiCtUL5OvB7t0qa30Dnpu.png!png\" width = 600 heigth = 600>"
   ]
  },
  {
   "cell_type": "code",
   "execution_count": 9,
   "metadata": {
    "bxyCellId": "id_isvlqnf",
    "scrolled": true
   },
   "outputs": [
    {
     "name": "stderr",
     "output_type": "stream",
     "text": [
      "input_line_19:2:3: error: invalid preprocessing directive\n",
      " #platform-quiz\n",
      "  ^\n",
      "input_line_19:3:1: error: unknown type name 'import'\n",
      "import ipyquiz\n",
      "^\n",
      "input_line_19:3:15: error: expected ';' at end of declaration\n",
      "import ipyquiz\n",
      "              ^\n",
      "              ;\n"
     ]
    },
    {
     "ename": "Interpreter Error",
     "evalue": "",
     "output_type": "error",
     "traceback": [
      "Interpreter Error: "
     ]
    }
   ],
   "source": [
    "#platform-quiz\n",
    "import ipyquiz\n",
    "quizzes = []\n",
    "\n",
    "quizzes.append({\n",
    "    \"id\": \"fill-1\",\n",
    "    \"type\": \"FILL\",\n",
    "    \"title\": \"左图A处应该填入什么符号？（注意中英文输入法）\",\n",
    "    \"answer\": \"=\"\n",
    "})\n",
    "\n",
    "quizzes.append({\n",
    "    \"id\": \"fill-2\",\n",
    "    \"type\": \"FILL\",\n",
    "    \"title\": \"判断两个数是否相等，左图B处应该填入什么符号？（注意中英文输入法）\",\n",
    "    \"answer\": \"==\"\n",
    "})\n",
    "    \n",
    "quizzes.append({\n",
    "    \"id\": \"fill-3\",\n",
    "    \"type\": \"FILL\",\n",
    "    \"title\": \"判断两个数是否不相等，左图C处应该填入什么符号？（注意中英文输入法）\",\n",
    "    \"answer\": \"!=\"\n",
    "})\n",
    "\n",
    "ipyquiz.QuizWidget(value=quizzes, quiz_id=\"__ipyquiz_quiz_id\")\n"
   ]
  },
  {
   "cell_type": "markdown",
   "metadata": {
    "bxyCellId": "id_uwmpnju"
   },
   "source": [
    "### 循环体"
   ]
  },
  {
   "cell_type": "code",
   "execution_count": null,
   "metadata": {
    "bxyCellId": "id_f8ue3m0"
   },
   "outputs": [],
   "source": [
    "#platform-desc\n",
    "from ipyaliplayer import Player\n",
    "Player(vid='7f12cff74ee3499b94e1db8cd088f5e3')"
   ]
  },
  {
   "cell_type": "markdown",
   "metadata": {
    "bxyCellId": "id_2miow1v"
   },
   "source": [
    "**while循环大括号中内容称为“循环体”，循环体的代码将被重复执行。**\n",
    "\n",
    "<img src=\"https://staticcdn.boyuai.com/materials/2020/12/11/BnPg6BLckkCX7q2TrHozd.png!png\" width = 500 heigth = 500>"
   ]
  },
  {
   "cell_type": "code",
   "execution_count": 1,
   "metadata": {
    "bxyCellId": "id_h8qsyoj"
   },
   "outputs": [
    {
     "ename": "Interpreter Error",
     "evalue": "",
     "output_type": "error",
     "traceback": [
      "Interpreter Error: "
     ]
    }
   ],
   "source": [
    "#platform-quiz\n",
    "import ipyquiz\n",
    "quizzes = []\n",
    "\n",
    "quizzes.append({\n",
    "    \"id\": \"choice-1\",\n",
    "    \"type\": \"SELECT\",\n",
    "    \"title\": \"\"\"\n",
    "用代码打印出下面的效果，请问循环体是\n",
    "        \n",
    "<img src=\"https://staticcdn.boyuai.com/materials/2020/12/07/QrKaGGBTJCBkJZcUvggEq.png!png\" width = 600 heigth = 600>\n",
    "        \n",
    "\"\"\",\n",
    "    \"answer\": \"1\",\n",
    "    \"options\": [\n",
    "        {\n",
    "            \"value\": \"0\",\n",
    "            \"text\": \"`cout << \\\"23\\\";`\"\n",
    "        },\n",
    "        {\n",
    "            \"value\": \"1\",\n",
    "            \"text\": \"`cout << \\\"23 \\\";`\"\n",
    "        },\n",
    "        {\n",
    "            \"value\": \"2\",\n",
    "            \"text\": \"`cout << \\\"23\\\\n\\\";`\"\n",
    "        },\n",
    "        {\n",
    "            \"value\": \"3\",\n",
    "            \"text\": \"`23 23 23 23 23 23 23;`\"\n",
    "        },\n",
    "    ],\n",
    "})\n",
    "quizzes.append({\n",
    "    \"id\": \"choice-2\",\n",
    "    \"type\": \"SELECT\",\n",
    "    \"title\": \"\"\"\n",
    "用while循环打印出下面的效果，请问循环体是\n",
    "        \n",
    "<img src=\"https://staticcdn.boyuai.com/materials/2020/12/07/rB4W1NfXvQqJViutjYFdG.png!png\" width = 600 heigth = 600>\n",
    "        \n",
    "\"\"\",\n",
    "    \"answer\": \"2\",\n",
    "    \"options\": [\n",
    "        {\n",
    "            \"value\": \"0\",\n",
    "            \"text\": \"`cout << \\\"1234\\\";`\"\n",
    "        },\n",
    "        {\n",
    "            \"value\": \"1\",\n",
    "            \"text\": \"`cout << \\\"12 34\\\";`\"\n",
    "        },\n",
    "        {\n",
    "            \"value\": \"2\",\n",
    "            \"text\": \"`cout << \\\"12 34\\\\n\\\";`\"\n",
    "        },\n",
    "        {\n",
    "            \"value\": \"3\",\n",
    "            \"text\": \"`cout << \\\"12\\\\n34\\\\n\\\";`\"\n",
    "        },\n",
    "    ],\n",
    "})\n",
    "    \n",
    "quizzes.append({\n",
    "    \"id\": \"fill-3\",\n",
    "    \"type\": \"FILL\",\n",
    "    \"title\": \"\"\"\n",
    "用while循环打印出下面的效果，请补充循环体中的代码：\n",
    "        \n",
    "`cout << \\\"_______\\\";`\n",
    "        \n",
    "<img src=\"https://staticcdn.boyuai.com/materials/2020/12/07/Ldb0wwsaYuaF2n3NKUdM7.png!png\" width = 600 heigth = 600>\n",
    "        \n",
    "\"\"\",\n",
    "    \"answer\": \"6576\"\n",
    "})\n",
    "    \n",
    "ipyquiz.QuizWidget(value=quizzes, quiz_id=\"__ipyquiz_quiz_id\")\n"
   ]
  },
  {
   "cell_type": "markdown",
   "metadata": {
    "bxyCellId": "id_26taoo7"
   },
   "source": [
    "### 循环次数"
   ]
  },
  {
   "cell_type": "code",
   "execution_count": null,
   "metadata": {
    "bxyCellId": "id_u9vnmu4"
   },
   "outputs": [],
   "source": [
    "#platform-desc\n",
    "from ipyaliplayer import Player\n",
    "Player(vid='78d9507ece7e48b6b6a9064cb155e2fc')"
   ]
  },
  {
   "cell_type": "markdown",
   "metadata": {
    "bxyCellId": "id_qwqfi99"
   },
   "source": [
    "**根据题目回答右边的问题吧~**\n"
   ]
  },
  {
   "cell_type": "code",
   "execution_count": 11,
   "metadata": {
    "bxyCellId": "id_pelauut",
    "scrolled": true
   },
   "outputs": [
    {
     "name": "stderr",
     "output_type": "stream",
     "text": [
      "input_line_19:2:3: error: invalid preprocessing directive\n",
      " #platform-quiz\n",
      "  ^\n",
      "input_line_19:3:1: error: unknown type name 'import'\n",
      "import ipyquiz\n",
      "^\n",
      "input_line_19:3:15: error: expected ';' at end of declaration\n",
      "import ipyquiz\n",
      "              ^\n",
      "              ;\n"
     ]
    },
    {
     "ename": "Interpreter Error",
     "evalue": "",
     "output_type": "error",
     "traceback": [
      "Interpreter Error: "
     ]
    }
   ],
   "source": [
    "#platform-quiz\n",
    "import ipyquiz\n",
    "quizzes = []\n",
    "\n",
    "quizzes.append({\n",
    "    \"id\": \"choice-1\",\n",
    "    \"type\": \"SELECT\",\n",
    "    \"title\": \"\"\"\n",
    "请问执行下面的流程图，一共会播放多少首歌？\n",
    "        \n",
    "<img src=\"https://staticcdn.boyuai.com/materials/2020/12/11/L639w03ZZtiB6Cs2L1-vk.png!png\" width = 200 heigth = 200>\n",
    "        \n",
    "\"\"\",\n",
    "    \"answer\": \"2\",\n",
    "    \"options\": [\n",
    "        {\n",
    "            \"value\": \"0\",\n",
    "            \"text\": \"0首\"\n",
    "        },\n",
    "        {\n",
    "            \"value\": \"1\",\n",
    "            \"text\": \"1首 \"\n",
    "        },\n",
    "        {\n",
    "            \"value\": \"2\",\n",
    "            \"text\": \"2首\"\n",
    "        },\n",
    "        {\n",
    "            \"value\": \"3\",\n",
    "            \"text\": \"3首\"\n",
    "        },\n",
    "    ],\n",
    "    \"hint\":\"num的值为1、2时都可以进入循环体，num的值为3时，“num<3”的条件不成立了，退出循环。\"\n",
    "})\n",
    "\n",
    "quizzes.append({\n",
    "    \"id\": \"choice-2\",\n",
    "    \"type\": \"SELECT\",\n",
    "    \"title\": \"\"\"\n",
    "请问执行下面的流程图，一共会biu多少次？\n",
    "        \n",
    "<img src=\"https://staticcdn.boyuai.com/materials/2020/12/07/G40TfCMh6sN2ojcjX0w6o.png!png\" width = 200 heigth = 200>\n",
    "        \n",
    "\"\"\",\n",
    "    \"answer\": \"3\",\n",
    "    \"options\": [\n",
    "        {\n",
    "            \"value\": \"0\",\n",
    "            \"text\": \"0次\"\n",
    "        },\n",
    "        {\n",
    "            \"value\": \"1\",\n",
    "            \"text\": \"1次\"\n",
    "        },\n",
    "        {\n",
    "            \"value\": \"2\",\n",
    "            \"text\": \"3次\"\n",
    "        },\n",
    "        {\n",
    "            \"value\": \"3\",\n",
    "            \"text\": \"无数次\"\n",
    "        },\n",
    "    ],\n",
    "    \"hint\":\"因为num的值一直为3，从未改变，因此“num>0”的条件一直成立，这是一个死循环。\"\n",
    "})\n",
    "\n",
    "\n",
    "\n",
    "ipyquiz.QuizWidget(value=quizzes, quiz_id=\"__ipyquiz_quiz_id\")\n"
   ]
  },
  {
   "cell_type": "markdown",
   "metadata": {
    "bxyCellId": "id_6b2k5ac"
   },
   "source": [
    "### biubiubiu"
   ]
  },
  {
   "cell_type": "code",
   "execution_count": null,
   "metadata": {
    "bxyCellId": "id_ifnp3xy"
   },
   "outputs": [],
   "source": [
    "#platform-desc\n",
    "from ipyaliplayer import Player\n",
    "Player(vid='8eda00d12f394faa9f85f91d3d35a363')"
   ]
  },
  {
   "cell_type": "markdown",
   "metadata": {
    "bxyCellId": "id_rwq347s"
   },
   "source": [
    "**请用while循环输出3次biu,参考流程图如下：**\n",
    "\n",
    "<img src=\"https://staticcdn.boyuai.com/materials/2020/12/08/r5qLKd3IGrbIY8DoZKg7A.png!png\" width = 300 heigth = 300>"
   ]
  },
  {
   "cell_type": "code",
   "execution_count": null,
   "metadata": {
    "bxyCellId": "id_mw1oihe"
   },
   "outputs": [],
   "source": [
    "//platform-lock-hidden\n",
    "#include <iostream>\n",
    "using namespace std;\n",
    "\n",
    "int main() {"
   ]
  },
  {
   "cell_type": "code",
   "execution_count": null,
   "metadata": {
    "bxyCellId": "id_u7ekmod"
   },
   "outputs": [],
   "source": [
    "//platform-edit\n",
    "// 请用while循环输出3次biu：\n",
    "// biu\n",
    "// biu\n",
    "// biu\n",
    "\n",
    "int num = $$$$ ;    //有3颗子弹\n",
    "while ( $$$$ ) {    //判断是否有子弹\n",
    "    cout << \"biu\" << \"\\n\";\n",
    "    num = num - 1;             \n",
    "} "
   ]
  },
  {
   "cell_type": "code",
   "execution_count": 10,
   "metadata": {
    "bxyCellId": "id_iswyut7"
   },
   "outputs": [
    {
     "name": "stdout",
     "output_type": "stream",
     "text": [
      "biu\n",
      "biu\n",
      "biu\n"
     ]
    }
   ],
   "source": [
    "//platform-edit-answer\n",
    "// 请用while循环输出3次biu：\n",
    "// biu\n",
    "// biu\n",
    "// biu\n",
    "\n",
    "// 【参考答案】\n",
    "int num = 3;        //有3颗子弹\n",
    "while (num > 0) {   //判断是否有子弹\n",
    "    cout<< \"biu\" << \"\\n\";\n",
    "    num = num - 1;\n",
    "} "
   ]
  },
  {
   "cell_type": "code",
   "execution_count": null,
   "metadata": {
    "bxyCellId": "id_7z4fkw0"
   },
   "outputs": [],
   "source": [
    "//platform-lock-hidden\n",
    "}"
   ]
  },
  {
   "cell_type": "markdown",
   "metadata": {
    "bxyCellId": "id_3uqyqrg"
   },
   "source": [
    "biu\n",
    "biu\n",
    "biu"
   ]
  },
  {
   "cell_type": "markdown",
   "metadata": {
    "bxyCellId": "id_6uehdzf"
   },
   "source": [
    "### 打印每个数"
   ]
  },
  {
   "cell_type": "code",
   "execution_count": null,
   "metadata": {
    "bxyCellId": "id_hb8gnw0"
   },
   "outputs": [],
   "source": [
    "#platform-desc\n",
    "from ipyaliplayer import Player\n",
    "Player(vid='eacb8069c9e046c89f3eab83389ffd9d')"
   ]
  },
  {
   "cell_type": "markdown",
   "metadata": {
    "bxyCellId": "id_kkok1o4"
   },
   "source": [
    "**右边的程序功能是：让用户输入两个整数a、b（0<a<=b<100），计算机会自动地输出a～b中的每个数。**\n",
    "\n",
    "样例1：用户输入 1  5  （输入时注意两数字之前要有空格，不然代表一个数15哦）\n",
    "\n",
    "计算机输出 1  2  3  4  5\n",
    "\n",
    "样例2：用户输入 4  9\n",
    "\n",
    "计算机输出 4  5  6  7  8  9\n",
    "\n",
    "**请你补充右侧代码。**"
   ]
  },
  {
   "cell_type": "code",
   "execution_count": null,
   "metadata": {
    "bxyCellId": "id_3nzu4qj"
   },
   "outputs": [],
   "source": [
    "//platform-lock-hidden\n",
    "#include <iostream>\n",
    "using namespace std;\n",
    "\n",
    "int main() {"
   ]
  },
  {
   "cell_type": "code",
   "execution_count": null,
   "metadata": {
    "bxyCellId": "id_ynp3hqs"
   },
   "outputs": [],
   "source": [
    "//platform-edit\n",
    "\n",
    "int i, a, b;\n",
    "cin >> a >> b;\n",
    "i = a;\n",
    "while (i <= b) {\n",
    "    cout << $$$$ << \" \";\n",
    "    i = i + 1;\n",
    "}"
   ]
  },
  {
   "cell_type": "code",
   "execution_count": 8,
   "metadata": {
    "bxyCellId": "id_9w4fhkp",
    "scrolled": true
   },
   "outputs": [
    {
     "name": "stdout",
     "output_type": "stream",
     "text": [
      "2 7\n",
      "2 3 4 5 6 7 "
     ]
    }
   ],
   "source": [
    "//platform-edit-answer\n",
    "\n",
    "// 【参考答案】\n",
    "int i, a, b;\n",
    "cin >> a >> b;\n",
    "i = a;\n",
    "while (i <= b) {\n",
    "    cout << i << \" \";\n",
    "    i = i + 1;\n",
    "}"
   ]
  },
  {
   "cell_type": "code",
   "execution_count": null,
   "metadata": {
    "bxyCellId": "id_os0129o"
   },
   "outputs": [],
   "source": [
    "//platform-lock-hidden\n",
    "}"
   ]
  },
  {
   "cell_type": "markdown",
   "metadata": {
    "bxyCellId": "id_9y3js48"
   },
   "source": []
  },
  {
   "cell_type": "markdown",
   "metadata": {
    "bxyCellId": "id_yt4c4eu"
   },
   "source": [
    "### 啊啊啊啊啊啊"
   ]
  },
  {
   "cell_type": "code",
   "execution_count": null,
   "metadata": {
    "bxyCellId": "id_f6v8jm6"
   },
   "outputs": [],
   "source": [
    "#platform-desc\n",
    "from ipyaliplayer import Player\n",
    "Player(vid='5787f177c06249bf85f1bd97aef8b607')"
   ]
  },
  {
   "cell_type": "markdown",
   "metadata": {
    "bxyCellId": "id_zdhzzi1"
   },
   "source": [
    "请你补充代码，使用while循环输出以下效果：\n",
    "```\n",
    "啊\n",
    "啊\n",
    "啊\n",
    "啊\n",
    "啊\n",
    "啊\n",
    "```"
   ]
  },
  {
   "cell_type": "code",
   "execution_count": 1,
   "metadata": {
    "bxyCellId": "id_48174zw"
   },
   "outputs": [],
   "source": [
    "//platform-lock-hidden\n",
    "#include <iostream>\n",
    "using namespace std;\n",
    "\n",
    "int main() {"
   ]
  },
  {
   "cell_type": "code",
   "execution_count": 2,
   "metadata": {
    "bxyCellId": "id_2b6rsgj"
   },
   "outputs": [
    {
     "name": "stdout",
     "output_type": "stream",
     "text": [
      "请输入你需要几瓶可乐\n",
      "5\n",
      "请输入你需要几包爆米花\n",
      "5\n",
      "你应该支付：75"
     ]
    }
   ],
   "source": [
    "//platform-edit\n",
    "\n",
    "// 请你补充代码，使用while循环输出以下效果：\n",
    "// 啊\n",
    "// 啊\n",
    "// 啊\n",
    "// 啊\n",
    "// 啊\n",
    "// 啊\n",
    "\n",
    "int $$$$ ;\n",
    "while ( $$$$ ) {\n",
    "    cout << \"啊\" << \"\\n\";\n",
    "    $$$$ ;\n",
    "}"
   ]
  },
  {
   "cell_type": "code",
   "execution_count": 5,
   "metadata": {
    "bxyCellId": "id_y93p9cq"
   },
   "outputs": [
    {
     "name": "stdout",
     "output_type": "stream",
     "text": [
      "啊\n",
      "啊\n",
      "啊\n",
      "啊\n",
      "啊\n",
      "啊\n"
     ]
    }
   ],
   "source": [
    "//platform-edit-answer\n",
    "\n",
    "// 请你补充代码，使用while循环输出以下效果：\n",
    "// 啊\n",
    "// 啊\n",
    "// 啊\n",
    "// 啊\n",
    "// 啊\n",
    "// 啊\n",
    "// 【参考答案】\n",
    "\n",
    "int i = 1;\n",
    "while (i <= 6) {\n",
    "    cout << \"啊\" << \"\\n\";\n",
    "    i = i + 1;\n",
    "}"
   ]
  },
  {
   "cell_type": "code",
   "execution_count": null,
   "metadata": {
    "bxyCellId": "id_kg0wrb4"
   },
   "outputs": [],
   "source": [
    "//platform-lock-hidden\n",
    "}"
   ]
  },
  {
   "cell_type": "markdown",
   "metadata": {
    "bxyCellId": "id_lys2wkf"
   },
   "source": [
    "啊\n",
    "啊\n",
    "啊\n",
    "啊\n",
    "啊\n",
    "啊"
   ]
  },
  {
   "cell_type": "markdown",
   "metadata": {
    "bxyCellId": "id_dbj7tam"
   },
   "source": [
    "### ZzZzZzZzZz"
   ]
  },
  {
   "cell_type": "code",
   "execution_count": null,
   "metadata": {
    "bxyCellId": "id_mzbuen6"
   },
   "outputs": [],
   "source": [
    "#platform-desc\n",
    "from ipyaliplayer import Player\n",
    "Player(vid='4bdb6c7cba794565a94f082df28bfb37')"
   ]
  },
  {
   "cell_type": "markdown",
   "metadata": {
    "bxyCellId": "id_7feo8fo"
   },
   "source": [
    "**请你补充代码，使用while循环输出以下效果：**\n",
    "\n",
    "Zz~Zz~Zz~Zz~Zz~"
   ]
  },
  {
   "cell_type": "code",
   "execution_count": 3,
   "metadata": {
    "bxyCellId": "id_jxxg8km"
   },
   "outputs": [],
   "source": [
    "//platform-lock-hidden\n",
    "#include <iostream>\n",
    "using namespace std;\n",
    "\n",
    "int main() {"
   ]
  },
  {
   "cell_type": "code",
   "execution_count": null,
   "metadata": {
    "bxyCellId": "id_nuzgtdn"
   },
   "outputs": [],
   "source": [
    "//platform-edit\n",
    "// 请你补充代码，使用while循环输出以下效果：\n",
    "// Zz~Zz~Zz~Zz~Zz~\n",
    "\n",
    "int $$$$ ;\n",
    "while ( $$$$ ) {\n",
    "    $$$$\n",
    "    $$$$\n",
    "}"
   ]
  },
  {
   "cell_type": "code",
   "execution_count": 7,
   "metadata": {
    "bxyCellId": "id_i1854cd"
   },
   "outputs": [
    {
     "name": "stdout",
     "output_type": "stream",
     "text": [
      "Zz~Zz~Zz~Zz~Zz~"
     ]
    }
   ],
   "source": [
    "//platform-edit-answer\n",
    "// 请你补充代码，使用while循环输出以下效果：\n",
    "// Zz~Zz~Zz~Zz~Zz~\n",
    "\n",
    "// 【参考答案】\n",
    "int i = 1;\n",
    "while ( i <= 5 ) {\n",
    "    cout << \"Zz~\";\n",
    "    i = i + 1;\n",
    "}"
   ]
  },
  {
   "cell_type": "code",
   "execution_count": null,
   "metadata": {
    "bxyCellId": "id_r9atz60"
   },
   "outputs": [],
   "source": [
    "//platform-lock-hidden\n",
    "}"
   ]
  },
  {
   "cell_type": "markdown",
   "metadata": {
    "bxyCellId": "id_c55mtm2"
   },
   "source": [
    "Zz~Zz~Zz~Zz~Zz~"
   ]
  }
 ],
 "metadata": {
  "bxyId": "id_dunuv42",
  "kernelspec": {
   "display_name": "C++11",
   "language": "C++11",
   "name": "xcpp11"
  },
  "language_info": {
   "codemirror_mode": "text/x-c++src",
   "file_extension": ".cpp",
   "mimetype": "text/x-c++src",
   "name": "c++",
   "version": "11"
  },
  "toc": {
   "base_numbering": 1,
   "nav_menu": {},
   "number_sections": true,
   "sideBar": true,
   "skip_h1_title": false,
   "title_cell": "Table of Contents",
   "title_sidebar": "Contents",
   "toc_cell": false,
   "toc_position": {
    "height": "calc(100% - 180px)",
    "left": "10px",
    "top": "150px",
    "width": "349.091px"
   },
   "toc_section_display": true,
   "toc_window_display": true
  }
 },
 "nbformat": 4,
 "nbformat_minor": 4
}
