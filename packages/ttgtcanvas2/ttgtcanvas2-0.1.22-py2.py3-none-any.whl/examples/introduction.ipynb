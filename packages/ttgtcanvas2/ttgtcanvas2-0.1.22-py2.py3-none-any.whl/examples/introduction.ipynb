{
 "cells": [
  {
   "cell_type": "markdown",
   "metadata": {},
   "source": [
    "# Introduction"
   ]
  },
  {
   "cell_type": "code",
   "execution_count": 1,
   "metadata": {},
   "outputs": [],
   "source": [
    "%load_ext autoreload\n",
    "\n",
    "%autoreload 1"
   ]
  },
  {
   "cell_type": "code",
   "execution_count": 2,
   "metadata": {},
   "outputs": [],
   "source": [
    "\n",
    "import worlds.test as test"
   ]
  },
  {
   "cell_type": "code",
   "execution_count": 3,
   "metadata": {},
   "outputs": [],
   "source": [
    "def check(solve):\n",
    "    maze = test.generate_maze()\n",
    "    bot = maze.bot()\n",
    "    bot.set_trace('red')\n",
    "    solve(bot)\n",
    "    maze.check()\n",
    "    return maze"
   ]
  },
  {
   "cell_type": "code",
   "execution_count": 6,
   "metadata": {},
   "outputs": [
    {
     "data": {
      "application/vnd.jupyter.widget-view+json": {
       "model_id": "28341181066a4ccb85579aaa3c487bc2",
       "version_major": 2,
       "version_minor": 0
      },
      "text/plain": [
       "Maze()"
      ]
     },
     "metadata": {},
     "output_type": "display_data"
    },
    {
     "data": {
      "text/html": [
       "<text style=color:blue>💬 Expected: Final Position: 10,1</text>"
      ],
      "text/plain": [
       "<IPython.core.display.HTML object>"
      ]
     },
     "metadata": {},
     "output_type": "display_data"
    },
    {
     "data": {
      "text/html": [
       "<text style=color:blue>💬 Expected: Drop object daisy at: 5,1</text>"
      ],
      "text/plain": [
       "<IPython.core.display.HTML object>"
      ]
     },
     "metadata": {},
     "output_type": "display_data"
    },
    {
     "data": {
      "application/vnd.jupyter.widget-view+json": {
       "model_id": "28341181066a4ccb85579aaa3c487bc2",
       "version_major": 2,
       "version_minor": 0
      },
      "text/plain": [
       "Maze(current_call='{\"method_name\": \"set_succes_msg\", \"params\": [\"\\\\ud83c\\\\udf89 Task Completed\"], \"cb\": \"62846…"
      ]
     },
     "metadata": {},
     "output_type": "display_data"
    }
   ],
   "source": [
    "def solve(bot):\n",
    "    carrot = 0\n",
    "    apple = 0\n",
    "    bot.take()\n",
    "    bot.move(4)\n",
    "    bot.put()\n",
    "    bot.move(5)\n",
    "  \n",
    "check(solve)"
   ]
  },
  {
   "cell_type": "code",
   "execution_count": null,
   "metadata": {},
   "outputs": [],
   "source": []
  },
  {
   "cell_type": "code",
   "execution_count": null,
   "metadata": {},
   "outputs": [],
   "source": []
  }
 ],
 "metadata": {
  "kernelspec": {
   "display_name": "Python 3",
   "language": "python",
   "name": "python3"
  },
  "language_info": {
   "codemirror_mode": {
    "name": "ipython",
    "version": 3
   },
   "file_extension": ".py",
   "mimetype": "text/x-python",
   "name": "python",
   "nbconvert_exporter": "python",
   "pygments_lexer": "ipython3",
   "version": "3.8.8"
  }
 },
 "nbformat": 4,
 "nbformat_minor": 4
}
