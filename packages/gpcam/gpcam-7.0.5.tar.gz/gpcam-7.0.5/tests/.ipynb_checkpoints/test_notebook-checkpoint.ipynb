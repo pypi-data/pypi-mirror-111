{
 "cells": [
  {
   "cell_type": "markdown",
   "id": "bf021e78",
   "metadata": {},
   "source": [
    "# gpCAM Test Notebook\n",
    "In this notebook we will go through many features of gpCAM. Work through it \n",
    "and you are ready for your own autonomous experiment. "
   ]
  },
  {
   "cell_type": "markdown",
   "id": "f56c1a33",
   "metadata": {},
   "source": [
    "## This first cell has nothing to do with gpCAM, it's just a function to plot some results later"
   ]
  },
  {
   "cell_type": "code",
   "execution_count": null,
   "id": "48ee4f95",
   "metadata": {},
   "outputs": [],
   "source": [
    "import plotly.graph_objects as go\n",
    "import numpy as np\n",
    "def plot(x,y,z,data = None):\n",
    "    fig = go.Figure()\n",
    "    fig.add_trace(go.Surface(x = x, y = y,z=z))\n",
    "    if data is not None: \n",
    "        fig.add_trace(go.Scatter3d(x=data[:,0], y=data[:,1], z=data[:,2],\n",
    "                                   mode='markers'))\n",
    "\n",
    "    fig.update_layout(title='Posterior Mean', autosize=True,\n",
    "                  width=800, height=800,\n",
    "                  margin=dict(l=65, r=50, b=65, t=90))\n",
    "\n",
    "\n",
    "    fig.show()"
   ]
  },
  {
   "cell_type": "markdown",
   "id": "9bd62328",
   "metadata": {},
   "source": [
    "## Here we want to define some points at which we will predict, still has nothing to do with gpCAM "
   ]
  },
  {
   "cell_type": "code",
   "execution_count": null,
   "id": "96e9a7cf",
   "metadata": {},
   "outputs": [],
   "source": [
    "x_pred = np.zeros((10000,2))\n",
    "x = np.linspace(0,10,100)\n",
    "y = np.linspace(0,10,100)\n",
    "x,y = np.meshgrid(x,y)\n",
    "counter = 0\n",
    "for i in  range(100):\n",
    "    for j in range(100):\n",
    "        x_pred[counter] = np.array([x[i,j],y[i,j]])\n",
    "        counter += 1"
   ]
  },
  {
   "cell_type": "markdown",
   "id": "758d2795",
   "metadata": {},
   "source": [
    "## Let's get after it by setting up a Single-Task GP Autonomous Data Acquisition Run"
   ]
  },
  {
   "cell_type": "code",
   "execution_count": null,
   "id": "c7f7aea2",
   "metadata": {},
   "outputs": [],
   "source": [
    "def optional_acq_func(x,obj):\n",
    "    #this acquisition function makes the autonomous experiment a Bayesian optimization\n",
    "    a = 3.0 #3.0 for 95 percent confidence interval\n",
    "    mean = obj.posterior_mean(x)[\"f(x)\"]\n",
    "    cov = obj.posterior_covariance(x)[\"v(x)\"]\n",
    "    return np.asscalar(mean + a * cov)\n",
    "def optional_cost_function(origin,x,arguments = None):\n",
    "    #this cost function defines cost of movement in the input space\n",
    "    offset = arguments[\"offset\"]\n",
    "    slope = arguments[\"slope\"]\n",
    "    return slope*np.linalg.norm(np.abs(np.subtract(origin,x)))+offset"
   ]
  },
  {
   "cell_type": "code",
   "execution_count": null,
   "id": "984ecf22",
   "metadata": {},
   "outputs": [],
   "source": [
    "import time\n",
    "from gpcam.autonomous_experimenter import AutonomousExperimenterGP\n",
    "\n",
    "def instrument(data):\n",
    "    for entry in data:\n",
    "        entry[\"value\"] = np.sin(np.linalg.norm(entry[\"position\"]))\n",
    "    return data\n",
    "#initialization\n",
    "#feel free to try different acquisition functions, e.g. optional_acq_func, \"covariance\", \"shannon_ig\"\n",
    "#note how costs are defined in for the autonomous experimenter\n",
    "my_ae = AutonomousExperimenterGP(np.array([[0,10],[0,10]]),instrument,\n",
    "                                 np.ones((3)),np.array([[0.001,100],[0.001,100],[0.001,100]]),\n",
    "                                 init_dataset_size= 20, #acq_func = \"shannon_ig\", \n",
    "                                 cost_func = optional_cost_function, cost_func_params={\"offset\": 5.0,\"slope\":1.0})\n",
    "\n",
    "\n",
    "print(\"length of the dataset: \",len(my_ae.x))\n",
    "\n",
    "#training\n",
    "#my_ae.train_async() #train asynchronously\n",
    "my_ae.train()       #or not\n",
    "print(\"Initial training submitted\")\n",
    "for i in range(2): #this loop shows how hyperparameters are changing if they are trained asynchronously\n",
    "    time.sleep(2)\n",
    "    my_ae.update_hps()\n"
   ]
  },
  {
   "cell_type": "markdown",
   "id": "ebd01f65",
   "metadata": {},
   "source": [
    "## Let's see what our initial model looks like"
   ]
  },
  {
   "cell_type": "code",
   "execution_count": null,
   "id": "6f3a7f93",
   "metadata": {},
   "outputs": [],
   "source": [
    "f = my_ae.gp_optimizer.posterior_mean(x_pred)[\"f(x)\"]\n",
    "f_re = f.reshape(100,100)\n",
    "\n",
    "plot(x,y,f_re, data = np.column_stack([my_ae.x,my_ae.y]))"
   ]
  },
  {
   "cell_type": "markdown",
   "id": "8e997641",
   "metadata": {},
   "source": [
    "## Let's run the autonomus loop to 100 points"
   ]
  },
  {
   "cell_type": "code",
   "execution_count": null,
   "id": "6e640fc1",
   "metadata": {
    "scrolled": true
   },
   "outputs": [],
   "source": [
    "#run the loop\n",
    "my_ae.go(N = 100,)\n",
    "print(\"length of the dataset is now: \", len(my_ae.x))\n",
    "#and that runs the autonomous loop"
   ]
  },
  {
   "cell_type": "markdown",
   "id": "808124f3",
   "metadata": {},
   "source": [
    "## Now let's plot the posterior mean after the experiment has concluded"
   ]
  },
  {
   "cell_type": "code",
   "execution_count": null,
   "id": "01f09d3d",
   "metadata": {
    "scrolled": false
   },
   "outputs": [],
   "source": [
    "res = my_ae.gp_optimizer.posterior_mean(x_pred)\n",
    "f = res[\"f(x)\"]\n",
    "f = f.reshape(100,100)\n",
    "\n",
    "plot(x,y,f, data = np.column_stack([my_ae.x,my_ae.y]))"
   ]
  },
  {
   "cell_type": "markdown",
   "id": "66577ef4",
   "metadata": {},
   "source": [
    "## Running a Multi-Task GP Autonomous Data Acquisition\n",
    "This example uses 21 (!) dim robot data and 7 tasks, which you can all use or pick a subset of them"
   ]
  },
  {
   "cell_type": "code",
   "execution_count": null,
   "id": "2c888b77",
   "metadata": {},
   "outputs": [],
   "source": [
    "##prepare some data\n",
    "import numpy as np\n",
    "from scipy.interpolate import griddata\n",
    "data = np.load(\"sarcos.npy\")\n",
    "print(data.shape)\n",
    "x = data[:,0:21]\n",
    "y = data[:,21:23]"
   ]
  },
  {
   "cell_type": "code",
   "execution_count": null,
   "id": "a5aca811",
   "metadata": {},
   "outputs": [],
   "source": [
    "from gpcam.autonomous_experimenter import AutonomousExperimenterFvGP\n",
    "\n",
    "\n",
    "def instrument(data):\n",
    "    for entry in data:\n",
    "        entry[\"values\"] = griddata(x,y,entry[\"position\"],method = \"nearest\", fill_value = 0)[0]\n",
    "        entry[\"value positions\"] = np.array([[0],[1]])\n",
    "    return data\n",
    "\n",
    "input_s = np.array([np.array([np.min(x[:,i]),np.max(x[:,i])]) for i in range(len(x[0]))])\n",
    "print(\"index set (input space) bounds:\")\n",
    "print(input_s)\n",
    "print(\"hps bounds:\")\n",
    "hps_bounds = np.empty((22,2))\n",
    "hps_bounds[:,0] = 0.0001\n",
    "hps_bounds[:,1] = 100.0\n",
    "hps_bounds[0] = np.array([0.0001, 10000])\n",
    "print(hps_bounds)\n",
    "print(\"shape of y: \")\n",
    "print(y.shape)\n",
    "\n",
    "my_fvae = AutonomousExperimenterFvGP(input_s,2,1,instrument,np.ones((22)),hps_bounds,\n",
    "                                     init_dataset_size= 10)\n",
    "my_fvae.train()\n",
    "my_fvae.go(N = 100)"
   ]
  },
  {
   "cell_type": "markdown",
   "id": "6bdcd7f4",
   "metadata": {},
   "source": [
    "## Plotting the 0th task in a 2d slice"
   ]
  },
  {
   "cell_type": "code",
   "execution_count": null,
   "id": "eab9cb93",
   "metadata": {},
   "outputs": [],
   "source": [
    "x_pred = np.zeros((10000,21))\n",
    "x = np.linspace(input_s[0,0],input_s[0,1],100)\n",
    "y = np.linspace(input_s[1,0],input_s[1,1],100)\n",
    "x,y = np.meshgrid(x,y)\n",
    "counter = 0\n",
    "for i in  range(100):\n",
    "    for j in range(100):\n",
    "        x_pred[counter] = np.zeros((21))\n",
    "        x_pred[counter,[0,1]] = np.array([x[i,j],y[i,j]])\n",
    "        counter += 1\n",
    "res = my_ae.gp_optimizer.posterior_mean(x_pred)\n",
    "f = res[\"f(x)\"]\n",
    "f = f.reshape(100,100)\n",
    "\n",
    "plot(x,y,f)"
   ]
  },
  {
   "cell_type": "markdown",
   "id": "d007a857",
   "metadata": {},
   "source": [
    "## Back to a single task: using the GPOptimizer class directly gives you some more flexibility\n",
    "We will show more soon!"
   ]
  },
  {
   "cell_type": "code",
   "execution_count": null,
   "id": "a65b5daa",
   "metadata": {},
   "outputs": [],
   "source": [
    "#/usr/bin/env python\n",
    "import numpy as np\n",
    "from gpcam.gp_optimizer import GPOptimizer\n",
    "\n",
    "#initialize some data\n",
    "x_data = np.random.uniform(size = (100,1))\n",
    "y_data = np.sin(x_data)[:,0]\n",
    "\n",
    "\n",
    "#initialize the GPOptimizer\n",
    "my_gpo = GPOptimizer(1,np.array([[0,1]]))\n",
    "#tell() it some data\n",
    "my_gpo.tell(x_data,y_data)\n",
    "#initialize a GP ...\n",
    "my_gpo.init_gp(np.ones(2))\n",
    "#and train it\n",
    "my_gpo.train_gp(np.array([[0.001,100],[0.001,100]]))\n",
    "\n",
    "#let's make a prediction\n",
    "print(my_gpo.posterior_mean(np.array([0.44])))\n",
    "\n",
    "#now we can ask for a new point\n",
    "r = my_gpo.ask()\n",
    "print(r)\n",
    "#putting the ask() in a loop and updating the data will\n",
    "#give you all you need for your autonomous experiment"
   ]
  },
  {
   "cell_type": "code",
   "execution_count": null,
   "id": "c264fef2",
   "metadata": {},
   "outputs": [],
   "source": []
  }
 ],
 "metadata": {
  "kernelspec": {
   "display_name": "gpCAM7",
   "language": "python",
   "name": "gpcam7"
  },
  "language_info": {
   "codemirror_mode": {
    "name": "ipython",
    "version": 3
   },
   "file_extension": ".py",
   "mimetype": "text/x-python",
   "name": "python",
   "nbconvert_exporter": "python",
   "pygments_lexer": "ipython3",
   "version": "3.8.5"
  }
 },
 "nbformat": 4,
 "nbformat_minor": 5
}
