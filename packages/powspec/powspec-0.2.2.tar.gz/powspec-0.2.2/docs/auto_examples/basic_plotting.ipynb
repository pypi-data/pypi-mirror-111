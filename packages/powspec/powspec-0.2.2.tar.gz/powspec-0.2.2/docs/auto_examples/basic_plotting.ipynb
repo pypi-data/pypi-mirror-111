{
  "cells": [
    {
      "cell_type": "code",
      "execution_count": null,
      "metadata": {
        "collapsed": false
      },
      "outputs": [],
      "source": [
        "%matplotlib inline"
      ]
    },
    {
      "cell_type": "markdown",
      "metadata": {},
      "source": [
        "\n# Basic Usage of powspec\n\n"
      ]
    },
    {
      "cell_type": "code",
      "execution_count": null,
      "metadata": {
        "collapsed": false
      },
      "outputs": [],
      "source": [
        "import matplotlib.pyplot as plt\n# sphinx_gallery_thumbnail_path = '_static/demo.png'\nimport astropy.units as u\nfrom astropy.convolution import Gaussian2DKernel\nfrom astropy.visualization import quantity_support\n\nimport numpy as np\nfrom powspec.powspec import power_spectral_density\nfrom powspec.utils.generator import gen_pkfield, gen_psffield\n\n\nquantity_support()"
      ]
    },
    {
      "cell_type": "markdown",
      "metadata": {},
      "source": [
        "Create fake Gaussian field images\n---------------------------------\n\nCreate a list of fake images with different P(k)\n\n\n"
      ]
    },
    {
      "cell_type": "code",
      "execution_count": null,
      "metadata": {
        "collapsed": false
      },
      "outputs": [],
      "source": [
        "res = 1 * u.arcmin\nalphas = [-1, -2, -3]\nimages = []\nfor alpha in alphas:\n    images.append(\n        gen_pkfield(npix=1024, alpha=alpha, fknee=0.1 / u.arcmin, res=res) * u.MJy\n    )"
      ]
    },
    {
      "cell_type": "markdown",
      "metadata": {},
      "source": [
        "Compute P(k)\n------------\n\nCompute power spectra of each images\n\n\n"
      ]
    },
    {
      "cell_type": "code",
      "execution_count": null,
      "metadata": {
        "collapsed": false
      },
      "outputs": [],
      "source": [
        "powspecs = []\nfor image in images:\n    powspec, k = power_spectral_density(image, res=res)\n    powspecs.append(powspec)\n\n\nk_mid = np.mean(u.Quantity([k[1:], k[:-1]]), axis=0)"
      ]
    },
    {
      "cell_type": "markdown",
      "metadata": {},
      "source": [
        "Plots\n-----\n\n"
      ]
    },
    {
      "cell_type": "code",
      "execution_count": null,
      "metadata": {
        "collapsed": false
      },
      "outputs": [],
      "source": [
        "fig = plt.figure()\ngs = fig.add_gridspec(ncols=2, nrows=len(alphas))\nax_pk = fig.add_subplot(gs[:, 0])\n\nfor i, (image, powspec, alpha) in enumerate(zip(images, powspecs, alphas)):\n\n    ax_pk.loglog(k_mid.to(u.arcmin ** -1), powspec.to(u.MJy ** 2 / u.arcmin ** 2), label=alpha)\n    ax = fig.add_subplot(gs[i, 1])\n    ax.imshow(image.value, origin=\"lower\")\n\nplt.show()"
      ]
    },
    {
      "cell_type": "markdown",
      "metadata": {},
      "source": [
        "Create PSF field image\n----------------------\n\nCreate a fake catalog of sources\n\n"
      ]
    },
    {
      "cell_type": "code",
      "execution_count": null,
      "metadata": {
        "collapsed": false
      },
      "outputs": [],
      "source": [
        "n_pix = 1024\nn_sources = 1024*5\npositions = np.random.uniform(0, n_pix, size=(2, n_sources))\nfluxes = np.random.uniform(1, 10, n_sources)\nsigma = 10 # pixels\n\nimage = gen_psffield(positions, fluxes, n_pix, kernel=Gaussian2DKernel(sigma), factor=4) * u.Jy / u.beam"
      ]
    },
    {
      "cell_type": "markdown",
      "metadata": {},
      "source": [
        "Compute P(k)\n------------\n\nCompute power spectra of each images\n\n\n"
      ]
    },
    {
      "cell_type": "code",
      "execution_count": null,
      "metadata": {
        "collapsed": false
      },
      "outputs": [],
      "source": [
        "powspec, k = power_spectral_density(image, res=res, range='tight', bins='auto')\n\nk_mid = np.mean(u.Quantity([k[1:], k[:-1]]), axis=0)"
      ]
    },
    {
      "cell_type": "markdown",
      "metadata": {},
      "source": [
        "Plots\n-----\n\n"
      ]
    },
    {
      "cell_type": "code",
      "execution_count": null,
      "metadata": {
        "collapsed": false
      },
      "outputs": [],
      "source": [
        "fig, axes = plt.subplots(ncols=2)\naxes[0].imshow(image.value, origin='lower')\naxes[1].loglog(k_mid, powspec)\n\ndef gaussian_pk(k, sigma):\n    return np.exp(- (np.pi * k)**2 * (2 * sigma**2) * 2 )\n\naxes[1].plot(k_mid, gaussian_pk(k_mid, sigma * res) * powspec.max())\naxes[1].set_ylim(np.min(powspec), np.max(powspec))\n\nfig.show()"
      ]
    }
  ],
  "metadata": {
    "kernelspec": {
      "display_name": "Python 3",
      "language": "python",
      "name": "python3"
    },
    "language_info": {
      "codemirror_mode": {
        "name": "ipython",
        "version": 3
      },
      "file_extension": ".py",
      "mimetype": "text/x-python",
      "name": "python",
      "nbconvert_exporter": "python",
      "pygments_lexer": "ipython3",
      "version": "3.8.3"
    }
  },
  "nbformat": 4,
  "nbformat_minor": 0
}