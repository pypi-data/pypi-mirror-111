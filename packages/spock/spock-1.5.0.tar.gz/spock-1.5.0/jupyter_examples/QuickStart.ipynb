{
 "cells": [
  {
   "cell_type": "markdown",
   "metadata": {},
   "source": [
    "# Stability of Planetary Orbital Configurations Klassifier\n",
    "\n",
    "The SPOCK package combines several different estimators for the stability of compact planetary configurations. \n",
    "When possible, we make them all use the same API so that they can be easily compared to one another and to N-body integrations.\n",
    "\n",
    "# Input Format\n",
    "\n",
    "The input is simply a full set of initial conditions including masses, positions and velocities for the star and all the planets. \n",
    "A useful way to think about it is that it's all the same information you'd have to put in to run an N-body integration. \n",
    "We therefore choose to format the input for all the SPOCK package estimators as a `Simulation` object from the REBOUND N-body package (https://github.com/hannorein/rebound). \n",
    "\n",
    "This gives you both a useful set of methods for specifying initial conditions (see https://github.com/hannorein/rebound/blob/master/ipython_examples/OrbitalElements.ipynb for details), and the option to visualize and run additional N-body tests. See https://github.com/hannorein/rebound/blob/master/ipython_examples/Units.ipynb for a discussion of units used in REBOUND.\n",
    "\n",
    "Let's make a simple compact system with small eccentricities and arbitrary pericenter longitudes and orbital phases:"
   ]
  },
  {
   "cell_type": "code",
   "execution_count": 1,
   "metadata": {},
   "outputs": [
    {
     "name": "stderr",
     "output_type": "stream",
     "text": [
      "findfont: Font family ['serif'] not found. Falling back to DejaVu Sans.\n"
     ]
    },
    {
     "data": {
      "image/png": "[encoded data removed]",
      "text/plain": [
       "<Figure size 360x360 with 1 Axes>"
      ]
     },
     "metadata": {
      "needs_background": "light"
     },
     "output_type": "display_data"
    }
   ],
   "source": [
    "import rebound\n",
    "%matplotlib inline\n",
    "\n",
    "sim = rebound.Simulation()\n",
    "sim.add(m=1.)\n",
    "sim.add(m=3.e-5, P=1., e=0.05, pomega = 2.1, l=0.3)\n",
    "sim.add(m=3.e-5, P=1.4, e=0.05, pomega = 4.2, l=2.8)\n",
    "sim.add(m=3.e-5, P=2, e=0.05, pomega = 2.8, l=4.2)\n",
    "sim.add(m=3.e-5, P=3.5, e=0.05, pomega = 0.3, l=2.1)\n",
    "sim.move_to_com()\n",
    "fig = rebound.OrbitPlot(sim)"
   ]
  },
  {
   "cell_type": "markdown",
   "metadata": {},
   "source": [
    "# Predict stability over 1 billion orbits\n",
    "\n",
    "We first predict the probability the system will survive for a billion orbits using the machine learning classifier from [Tamayo et al., 2020](http://arxiv.org/abs/2007.06521). \n",
    "\n",
    "We start by making a `FeatureClassifier` instance."
   ]
  },
  {
   "cell_type": "code",
   "execution_count": 2,
   "metadata": {},
   "outputs": [],
   "source": [
    "from spock import FeatureClassifier\n",
    "model = FeatureClassifier()"
   ]
  },
  {
   "cell_type": "markdown",
   "metadata": {},
   "source": [
    "Integrating for a billion orbits numerically would take several hours with direct N-body. The machine learning evaluation takes about half a second"
   ]
  },
  {
   "cell_type": "code",
   "execution_count": 3,
   "metadata": {},
   "outputs": [
    {
     "name": "stdout",
     "output_type": "stream",
     "text": [
      "CPU times: user 591 ms, sys: 5.22 ms, total: 596 ms\n",
      "Wall time: 597 ms\n"
     ]
    },
    {
     "data": {
      "text/plain": [
       "0.008615661"
      ]
     },
     "execution_count": 3,
     "metadata": {},
     "output_type": "execute_result"
    }
   ],
   "source": [
    "%%time\n",
    "model.predict_stable(sim)"
   ]
  },
  {
   "cell_type": "markdown",
   "metadata": {},
   "source": [
    "# Features\n",
    "\n",
    "Typically all we want is a probability of stability, but if you are interested you can also explore the short summary features measured in the short integration which we discuss in detail in our paper. There is a separate set of features for each adjacent trio of planets, in the order they were added to the `Simulation` above (first set is for the planets with indices 1,2,3, the second is for indices 2,3,4, and so on)."
   ]
  },
  {
   "cell_type": "code",
   "execution_count": 4,
   "metadata": {},
   "outputs": [
    {
     "data": {
      "text/plain": [
       "([OrderedDict([('EMcrossnear', 0.2514774632841199),\n",
       "               ('EMfracstdnear', 0.050747198892617716),\n",
       "               ('EPstdnear', 0.0125371045437882),\n",
       "               ('MMRstrengthnear', 0.609862725871568),\n",
       "               ('EMcrossfar', 0.26844697165875697),\n",
       "               ('EMfracstdfar', 0.08025175275345585),\n",
       "               ('EPstdfar', 0.013481778236205413),\n",
       "               ('MMRstrengthfar', 0.015537017584178569),\n",
       "               ('MEGNO', 6.129018954007963),\n",
       "               ('MEGNOstd', 1.5626539543066962)]),\n",
       "  OrderedDict([('EMcrossnear', 0.26844697165875697),\n",
       "               ('EMfracstdnear', 0.08025175275345585),\n",
       "               ('EPstdnear', 0.013481778236205413),\n",
       "               ('MMRstrengthnear', 0.015537017584178569),\n",
       "               ('EMcrossfar', 0.4522109539032094),\n",
       "               ('EMfracstdfar', 0.055607895744957586),\n",
       "               ('EPstdfar', 0.008676383142065626),\n",
       "               ('MMRstrengthfar', nan),\n",
       "               ('MEGNO', 6.129018954007963),\n",
       "               ('MEGNOstd', 1.5626539543066962)])],\n",
       " True)"
      ]
     },
     "execution_count": 4,
     "metadata": {},
     "output_type": "execute_result"
    }
   ],
   "source": [
    "model.generate_features(sim)"
   ]
  },
  {
   "cell_type": "markdown",
   "metadata": {},
   "source": [
    "# Predicting the instability time\n",
    "\n",
    "We might also be interested not just in whether or not the system will survive, but how long it will take an unstable system to undergo an instability. For that we can use the deep learning model of [Cranmer et al., 2021](https://arxiv.org/abs/2101.04117)"
   ]
  },
  {
   "cell_type": "code",
   "execution_count": 5,
   "metadata": {},
   "outputs": [],
   "source": [
    "from spock import DeepRegressor\n",
    "deepmodel = DeepRegressor()"
   ]
  },
  {
   "cell_type": "markdown",
   "metadata": {},
   "source": [
    "Because the dynamics are chaotic, there isn't a single answer to how long a system will take to go unstable [Hussain & Tamayo 2020](https://arxiv.org/abs/2001.04606).\n",
    "The model of [Cranmer et al., 2021](https://arxiv.org/abs/2101.04117) therefore estimates a distribution of possible instability times, and returns samples from that estimated distribution."
   ]
  },
  {
   "cell_type": "code",
   "execution_count": 6,
   "metadata": {},
   "outputs": [
    {
     "name": "stdout",
     "output_type": "stream",
     "text": [
      "CPU times: user 22.2 s, sys: 45.4 s, total: 1min 7s\n",
      "Wall time: 17.2 s\n"
     ]
    }
   ],
   "source": [
    "%%time\n",
    "median, lower, upper, samples = deepmodel.predict_instability_time(sim, return_samples=True)"
   ]
  },
  {
   "cell_type": "markdown",
   "metadata": {},
   "source": [
    "We can plot the distribution of estimated instability times"
   ]
  },
  {
   "cell_type": "code",
   "execution_count": 7,
   "metadata": {},
   "outputs": [
    {
     "data": {
      "text/plain": [
       "Text(0.5, 0, 'Instability time (log10(T))')"
      ]
     },
     "execution_count": 7,
     "metadata": {},
     "output_type": "execute_result"
    },
    {
     "data": {
      "image/png": "[encoded data removed]",
      "text/plain": [
       "<Figure size 432x288 with 1 Axes>"
      ]
     },
     "metadata": {
      "needs_background": "light"
     },
     "output_type": "display_data"
    }
   ],
   "source": [
    "import matplotlib.pyplot as plt\n",
    "import numpy as np\n",
    "%matplotlib inline\n",
    "\n",
    "fig, ax = plt.subplots()\n",
    "ax.hist(np.log10(samples), density=True,\n",
    "            histtype=u'step', bins=20,\n",
    "            range=(4, 12), lw=3);\n",
    "\n",
    "plt.ylabel('Probability')\n",
    "plt.xlabel('Instability time (log10(T))')"
   ]
  },
  {
   "cell_type": "markdown",
   "metadata": {},
   "source": [
    "We can also examine the median instability time, as well as the 16th percentile \"lower\" boundary, and 84th percentil \"upper\" boundary:"
   ]
  },
  {
   "cell_type": "code",
   "execution_count": 8,
   "metadata": {},
   "outputs": [
    {
     "name": "stdout",
     "output_type": "stream",
     "text": [
      "Median instability time = 1.721e+06 orbits\n",
      "16th percentile instability time = 1.005e+05 orbits\n",
      "84th percentile instability time = 4.911e+07 orbits\n"
     ]
    }
   ],
   "source": [
    "print(\"Median instability time = {0:.3e} orbits\\n16th percentile instability time = {1:.3e} orbits\\n84th percentile instability time = {2:.3e} orbits\".format(median, lower, upper))"
   ]
  },
  {
   "cell_type": "markdown",
   "metadata": {},
   "source": [
    "# Analytical Chaos Criterion\n",
    "\n",
    "We can also compare these results against the semi-analytic chaos criterion from [Tamayo et al., 2021](https://arxiv.org/abs/2106.14863).\n",
    "This is not a one-to-one comparison, but configurations that are chaotic through two-body MMR overlap are generally unstable on long timescales (see paper).\n",
    "\n",
    "To better match up with the above classifiers, the analytical classifier returns a probability the system is **regular**, i.e., not chaotic.\n",
    "Thus a value close to zero implies a low probability for regular motion (i.e., that the system chaotic, and thus likely to be unstable on long timescales), while a value close to unity implies confidence the system is regular.\n",
    "We import and initialize the model analogously:"
   ]
  },
  {
   "cell_type": "code",
   "execution_count": 9,
   "metadata": {},
   "outputs": [],
   "source": [
    "from spock import AnalyticalClassifier\n",
    "analyticalmodel = AnalyticalClassifier()"
   ]
  },
  {
   "cell_type": "code",
   "execution_count": 10,
   "metadata": {},
   "outputs": [
    {
     "name": "stdout",
     "output_type": "stream",
     "text": [
      "Probability of regular (non-chaotic) motion: 0.00\n",
      "CPU times: user 1.9 s, sys: 4.61 ms, total: 1.9 s\n",
      "Wall time: 1.9 s\n"
     ]
    }
   ],
   "source": [
    "%%time\n",
    "prob = analyticalmodel.predict_stable(sim)\n",
    "print(\"Probability of regular (non-chaotic) motion: {0:.2f}\".format(prob))"
   ]
  },
  {
   "cell_type": "markdown",
   "metadata": {},
   "source": [
    "Specifically, the model calculates the probability of regular motion as max(1-tau, 0), where tau is the optical depth or covering fraction of 2-body mean motion resonances (MMRs), estimated at their maximum width in the system's secular cycle (see paper).\n",
    "In this case it returns 0 because the covering fraction of 2-body MMRs exceeds unity.\n",
    "\n",
    "When this is not the case, the MMRs are not overlapped across the full range of period ratios in the neighborhood of the input configuration.\n",
    "However, the widths of individual MMRs are still expanding and contracting adiabatically, and can drive chaos depending on the exact period ratios, eccentricities and angles of the system in question.\n",
    "In this case, our simple estimated probability for regular motion (less than 1) corresponds to the fraction of period ratio space that is not covered by these MMRs (see discussion and figures in the paper)"
   ]
  },
  {
   "cell_type": "code",
   "execution_count": null,
   "metadata": {},
   "outputs": [],
   "source": []
  }
 ],
 "metadata": {
  "kernelspec": {
   "display_name": "Python 3",
   "language": "python",
   "name": "python3"
  },
  "language_info": {
   "codemirror_mode": {
    "name": "ipython",
    "version": 3
   },
   "file_extension": ".py",
   "mimetype": "text/x-python",
   "name": "python",
   "nbconvert_exporter": "python",
   "pygments_lexer": "ipython3",
   "version": "3.7.7"
  }
 },
 "nbformat": 4,
 "nbformat_minor": 2
}
